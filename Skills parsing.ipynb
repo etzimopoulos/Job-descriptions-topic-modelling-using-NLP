{
 "cells": [
  {
   "cell_type": "code",
   "execution_count": null,
   "metadata": {},
   "outputs": [],
   "source": [
    "primary_skills = ['java', 'python', 'sql', 'javascript']\n",
    "\n",
    "temp_dict = {'java': 1.0,\n",
    " 'python': 1.25,\n",
    " 'sql' 1.75:,\n",
    " 'javascript': 2.0}\n",
    "\n",
    "# for index, data in df['skills'].iterrows():\n",
    "for index, data in df[['skills']].iterrows():\n",
    "   # 1. Find the primary skills (from a list)\n",
    "   primary_skills = [data for skill in data if skill in primary_skills]\n",
    "   # 1.1. Find the highest ranking primary skill\n",
    "    if primary_skills:\n",
    "        skill_value = 0\n",
    "        best_skill = ''\n",
    "        for skill in primary_skills:\n",
    "            if temp_dict[skill] >= skill_value:\n",
    "                skill_value = temp_dict[skill]\n",
    "                best_skill = skill\n",
    "    else:\n",
    "        best_skill = 'N/A'\n",
    "        primary_skills = []\n",
    "    # 2. Secondary Skills:\n",
    "    # Get the list secondary skills:\n",
    "    if length(set(data) - set(primary_skills)) > 0:\n",
    "        # Then there are secondary skills: \n",
    "\n",
    "temp_dict['python']"
   ]
  }
 ],
 "metadata": {
  "kernelspec": {
   "display_name": "Python 3",
   "language": "python",
   "name": "python3"
  },
  "language_info": {
   "codemirror_mode": {
    "name": "ipython",
    "version": 3
   },
   "file_extension": ".py",
   "mimetype": "text/x-python",
   "name": "python",
   "nbconvert_exporter": "python",
   "pygments_lexer": "ipython3",
   "version": "3.7.9"
  }
 },
 "nbformat": 4,
 "nbformat_minor": 4
}
