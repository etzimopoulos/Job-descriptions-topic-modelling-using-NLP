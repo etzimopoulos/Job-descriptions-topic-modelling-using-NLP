{
 "cells": [
  {
   "cell_type": "code",
   "execution_count": null,
   "metadata": {},
   "outputs": [],
   "source": [
    "import re"
   ]
  },
  {
   "cell_type": "code",
   "execution_count": null,
   "metadata": {},
   "outputs": [],
   "source": [
    "# Function to extract \"e-mail\" from dataframe column\n",
    "# Input: Dataframe with column labelled \"Description\"\n",
    "# Output: Enriched dataframe with addional column labelled \"Email\"\n",
    "\n",
    "def extract_email(jobs):\n",
    "    info = []\n",
    "    for description in jobs['Description']:\n",
    "        email = re.findall(r'\\w+@\\w+.\\w{3}',description)[:1]\n",
    "        info.append(email)\n",
    "        \n",
    "    # Add extracted list of emails to dataframe as a column\n",
    "    jobs['Email'] = pd.DataFrame(info)\n",
    "    \n",
    "    return jobs"
   ]
  },
  {
   "cell_type": "code",
   "execution_count": null,
   "metadata": {},
   "outputs": [],
   "source": []
  },
  {
   "cell_type": "code",
   "execution_count": null,
   "metadata": {},
   "outputs": [],
   "source": []
  },
  {
   "cell_type": "code",
   "execution_count": null,
   "metadata": {},
   "outputs": [],
   "source": []
  },
  {
   "cell_type": "code",
   "execution_count": null,
   "metadata": {},
   "outputs": [],
   "source": []
  }
 ],
 "metadata": {
  "kernelspec": {
   "display_name": "Python 3",
   "language": "python",
   "name": "python3"
  },
  "language_info": {
   "codemirror_mode": {
    "name": "ipython",
    "version": 3
   },
   "file_extension": ".py",
   "mimetype": "text/x-python",
   "name": "python",
   "nbconvert_exporter": "python",
   "pygments_lexer": "ipython3",
   "version": "3.7.6"
  }
 },
 "nbformat": 4,
 "nbformat_minor": 4
}
