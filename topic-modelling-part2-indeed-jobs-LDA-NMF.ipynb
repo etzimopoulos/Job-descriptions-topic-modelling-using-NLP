{
 "cells": [
  {
   "cell_type": "markdown",
   "metadata": {},
   "source": [
    "# Topic Modelling using NLP - Kaggle Job Descriptions Data"
   ]
  },
  {
   "cell_type": "markdown",
   "metadata": {},
   "source": [
    "## Part 2 - EDA, Feature extraction and Topic Modelling using NLP \n"
   ]
  },
  {
   "cell_type": "code",
   "execution_count": 1,
   "metadata": {},
   "outputs": [],
   "source": [
    "import pandas as pd\n",
    "import support_functions as sf"
   ]
  },
  {
   "cell_type": "markdown",
   "metadata": {},
   "source": [
    "### Load Kaggle dataset"
   ]
  },
  {
   "cell_type": "code",
   "execution_count": 2,
   "metadata": {},
   "outputs": [],
   "source": [
    "i_jobs = pd.read_csv('../offline-datasets/Indeed-jobs/IndeedJobs.csv', na_filter=False)"
   ]
  },
  {
   "cell_type": "code",
   "execution_count": 3,
   "metadata": {},
   "outputs": [
    {
     "data": {
      "text/html": [
       "<div>\n",
       "<style scoped>\n",
       "    .dataframe tbody tr th:only-of-type {\n",
       "        vertical-align: middle;\n",
       "    }\n",
       "\n",
       "    .dataframe tbody tr th {\n",
       "        vertical-align: top;\n",
       "    }\n",
       "\n",
       "    .dataframe thead th {\n",
       "        text-align: right;\n",
       "    }\n",
       "</style>\n",
       "<table border=\"1\" class=\"dataframe\">\n",
       "  <thead>\n",
       "    <tr style=\"text-align: right;\">\n",
       "      <th></th>\n",
       "      <th>Unnamed: 0</th>\n",
       "      <th>Location</th>\n",
       "      <th>Company</th>\n",
       "      <th>Job Title</th>\n",
       "      <th>Job Description</th>\n",
       "      <th>Salary</th>\n",
       "    </tr>\n",
       "  </thead>\n",
       "  <tbody>\n",
       "    <tr>\n",
       "      <th>0</th>\n",
       "      <td>1</td>\n",
       "      <td>London</td>\n",
       "      <td>Mango Business Solutions</td>\n",
       "      <td>Data Consultant</td>\n",
       "      <td>A data consultant experienced in working in a ...</td>\n",
       "      <td>No salary information</td>\n",
       "    </tr>\n",
       "    <tr>\n",
       "      <th>1</th>\n",
       "      <td>2</td>\n",
       "      <td>London</td>\n",
       "      <td>Cambridge Healthcare Research</td>\n",
       "      <td>Associate Consultant</td>\n",
       "      <td>Where appropriate manages external contractors...</td>\n",
       "      <td>No salary information</td>\n",
       "    </tr>\n",
       "    <tr>\n",
       "      <th>2</th>\n",
       "      <td>3</td>\n",
       "      <td>London</td>\n",
       "      <td>Celonis</td>\n",
       "      <td>Intern/Working Student Data Science / Business...</td>\n",
       "      <td>... have already gained substantial know-how i...</td>\n",
       "      <td>No salary information</td>\n",
       "    </tr>\n",
       "    <tr>\n",
       "      <th>3</th>\n",
       "      <td>4</td>\n",
       "      <td>London</td>\n",
       "      <td>Celonis SE</td>\n",
       "      <td>Intern/Working Student Data Science / Business...</td>\n",
       "      <td>... have already gained substantial know-how i...</td>\n",
       "      <td>No salary information</td>\n",
       "    </tr>\n",
       "    <tr>\n",
       "      <th>4</th>\n",
       "      <td>5</td>\n",
       "      <td>London</td>\n",
       "      <td>managementsolutions</td>\n",
       "      <td>DATA SCIENCE CONSULTANT LONDON</td>\n",
       "      <td>You will be working in key projects for leadin...</td>\n",
       "      <td>No salary information</td>\n",
       "    </tr>\n",
       "  </tbody>\n",
       "</table>\n",
       "</div>"
      ],
      "text/plain": [
       "   Unnamed: 0 Location                        Company  \\\n",
       "0           1   London       Mango Business Solutions   \n",
       "1           2   London  Cambridge Healthcare Research   \n",
       "2           3   London                        Celonis   \n",
       "3           4   London                     Celonis SE   \n",
       "4           5   London            managementsolutions   \n",
       "\n",
       "                                           Job Title  \\\n",
       "0                                    Data Consultant   \n",
       "1                               Associate Consultant   \n",
       "2  Intern/Working Student Data Science / Business...   \n",
       "3  Intern/Working Student Data Science / Business...   \n",
       "4                     DATA SCIENCE CONSULTANT LONDON   \n",
       "\n",
       "                                     Job Description                 Salary  \n",
       "0  A data consultant experienced in working in a ...  No salary information  \n",
       "1  Where appropriate manages external contractors...  No salary information  \n",
       "2  ... have already gained substantial know-how i...  No salary information  \n",
       "3  ... have already gained substantial know-how i...  No salary information  \n",
       "4  You will be working in key projects for leadin...  No salary information  "
      ]
     },
     "execution_count": 3,
     "metadata": {},
     "output_type": "execute_result"
    }
   ],
   "source": [
    "i_jobs.head()"
   ]
  },
  {
   "cell_type": "code",
   "execution_count": 4,
   "metadata": {},
   "outputs": [],
   "source": [
    "# Drop 1st column\n",
    "i_jobs.drop('Unnamed: 0', axis=1, inplace=True)"
   ]
  },
  {
   "cell_type": "code",
   "execution_count": 5,
   "metadata": {},
   "outputs": [
    {
     "data": {
      "text/html": [
       "<div>\n",
       "<style scoped>\n",
       "    .dataframe tbody tr th:only-of-type {\n",
       "        vertical-align: middle;\n",
       "    }\n",
       "\n",
       "    .dataframe tbody tr th {\n",
       "        vertical-align: top;\n",
       "    }\n",
       "\n",
       "    .dataframe thead th {\n",
       "        text-align: right;\n",
       "    }\n",
       "</style>\n",
       "<table border=\"1\" class=\"dataframe\">\n",
       "  <thead>\n",
       "    <tr style=\"text-align: right;\">\n",
       "      <th></th>\n",
       "      <th>Location</th>\n",
       "      <th>Company</th>\n",
       "      <th>Job Title</th>\n",
       "      <th>Job Description</th>\n",
       "      <th>Salary</th>\n",
       "    </tr>\n",
       "  </thead>\n",
       "  <tbody>\n",
       "    <tr>\n",
       "      <th>0</th>\n",
       "      <td>London</td>\n",
       "      <td>Mango Business Solutions</td>\n",
       "      <td>Data Consultant</td>\n",
       "      <td>A data consultant experienced in working in a ...</td>\n",
       "      <td>No salary information</td>\n",
       "    </tr>\n",
       "    <tr>\n",
       "      <th>1</th>\n",
       "      <td>London</td>\n",
       "      <td>Cambridge Healthcare Research</td>\n",
       "      <td>Associate Consultant</td>\n",
       "      <td>Where appropriate manages external contractors...</td>\n",
       "      <td>No salary information</td>\n",
       "    </tr>\n",
       "    <tr>\n",
       "      <th>2</th>\n",
       "      <td>London</td>\n",
       "      <td>Celonis</td>\n",
       "      <td>Intern/Working Student Data Science / Business...</td>\n",
       "      <td>... have already gained substantial know-how i...</td>\n",
       "      <td>No salary information</td>\n",
       "    </tr>\n",
       "    <tr>\n",
       "      <th>3</th>\n",
       "      <td>London</td>\n",
       "      <td>Celonis SE</td>\n",
       "      <td>Intern/Working Student Data Science / Business...</td>\n",
       "      <td>... have already gained substantial know-how i...</td>\n",
       "      <td>No salary information</td>\n",
       "    </tr>\n",
       "    <tr>\n",
       "      <th>4</th>\n",
       "      <td>London</td>\n",
       "      <td>managementsolutions</td>\n",
       "      <td>DATA SCIENCE CONSULTANT LONDON</td>\n",
       "      <td>You will be working in key projects for leadin...</td>\n",
       "      <td>No salary information</td>\n",
       "    </tr>\n",
       "  </tbody>\n",
       "</table>\n",
       "</div>"
      ],
      "text/plain": [
       "  Location                        Company  \\\n",
       "0   London       Mango Business Solutions   \n",
       "1   London  Cambridge Healthcare Research   \n",
       "2   London                        Celonis   \n",
       "3   London                     Celonis SE   \n",
       "4   London            managementsolutions   \n",
       "\n",
       "                                           Job Title  \\\n",
       "0                                    Data Consultant   \n",
       "1                               Associate Consultant   \n",
       "2  Intern/Working Student Data Science / Business...   \n",
       "3  Intern/Working Student Data Science / Business...   \n",
       "4                     DATA SCIENCE CONSULTANT LONDON   \n",
       "\n",
       "                                     Job Description                 Salary  \n",
       "0  A data consultant experienced in working in a ...  No salary information  \n",
       "1  Where appropriate manages external contractors...  No salary information  \n",
       "2  ... have already gained substantial know-how i...  No salary information  \n",
       "3  ... have already gained substantial know-how i...  No salary information  \n",
       "4  You will be working in key projects for leadin...  No salary information  "
      ]
     },
     "execution_count": 5,
     "metadata": {},
     "output_type": "execute_result"
    }
   ],
   "source": [
    "i_jobs.head()"
   ]
  },
  {
   "cell_type": "markdown",
   "metadata": {},
   "source": [
    "### Import Spacy Library"
   ]
  },
  {
   "cell_type": "code",
   "execution_count": 6,
   "metadata": {},
   "outputs": [],
   "source": [
    "# Perform standard imports\n",
    "import spacy\n",
    "nlp = spacy.load('en_core_web_sm')"
   ]
  },
  {
   "cell_type": "code",
   "execution_count": 7,
   "metadata": {},
   "outputs": [],
   "source": [
    "# Import the displaCy library\n",
    "from spacy import displacy"
   ]
  },
  {
   "cell_type": "markdown",
   "metadata": {},
   "source": [
    "### Transforming Job Descriptions to NLP docs using Spacy"
   ]
  },
  {
   "cell_type": "markdown",
   "metadata": {},
   "source": [
    "#### Kaggle Job Descriptions"
   ]
  },
  {
   "cell_type": "code",
   "execution_count": 8,
   "metadata": {},
   "outputs": [
    {
     "data": {
      "text/plain": [
       "Location           0\n",
       "Company            0\n",
       "Job Title          0\n",
       "Job Description    0\n",
       "Salary             0\n",
       "dtype: int64"
      ]
     },
     "execution_count": 8,
     "metadata": {},
     "output_type": "execute_result"
    }
   ],
   "source": [
    "i_jobs.isnull().sum()"
   ]
  },
  {
   "cell_type": "code",
   "execution_count": 9,
   "metadata": {},
   "outputs": [
    {
     "data": {
      "text/plain": [
       "75"
      ]
     },
     "execution_count": 9,
     "metadata": {},
     "output_type": "execute_result"
    }
   ],
   "source": [
    "len(i_jobs['Job Description'])"
   ]
  },
  {
   "cell_type": "code",
   "execution_count": 10,
   "metadata": {},
   "outputs": [
    {
     "data": {
      "text/plain": [
       "75"
      ]
     },
     "execution_count": 10,
     "metadata": {},
     "output_type": "execute_result"
    }
   ],
   "source": [
    "len(i_jobs['Job Description'][:1000])"
   ]
  },
  {
   "cell_type": "code",
   "execution_count": 11,
   "metadata": {},
   "outputs": [],
   "source": [
    "nlp_jd_i = []\n",
    "for jd in i_jobs['Job Description'][:50]:\n",
    "    nlp_jd_i.append(nlp(jd))"
   ]
  },
  {
   "cell_type": "code",
   "execution_count": 12,
   "metadata": {},
   "outputs": [
    {
     "name": "stdout",
     "output_type": "stream",
     "text": [
      "\n",
      " - GPE - Countries, cities, states\n",
      "\n",
      "\n",
      "\n",
      "\n",
      " - GPE - Countries, cities, states\n",
      "\n",
      "\n",
      "\n",
      "Business Intelligence - ORG - Companies, agencies, institutions, etc.\n",
      "\n",
      " - GPE - Countries, cities, states\n",
      "\n",
      "\n",
      "\n",
      "Business Intelligence - ORG - Companies, agencies, institutions, etc.\n",
      "\n",
      " - GPE - Countries, cities, states\n",
      "\n",
      "\n",
      "\n",
      "Discovery - PRODUCT - Objects, vehicles, foods, etc. (not services)\n",
      "Simulation - WORK_OF_ART - Titles of books, songs, etc.\n",
      "\n",
      "\n",
      "\n",
      "No named entities found.\n",
      "\n",
      "\n",
      "\n",
      "\n",
      " - GPE - Countries, cities, states\n",
      "GreySpark - GPE - Countries, cities, states\n",
      "Data Practice - ORG - Companies, agencies, institutions, etc.\n",
      "\n",
      "\n",
      "\n",
      "100% - PERCENT - Percentage, including \"%\"\n",
      "HMRC - ORG - Companies, agencies, institutions, etc.\n",
      "\n",
      "\n",
      "\n",
      "Capgemini Invent - ORG - Companies, agencies, institutions, etc.\n",
      "\n",
      "\n",
      "\n",
      "No named entities found.\n",
      "\n",
      "\n",
      "\n",
      "No named entities found.\n",
      "\n",
      "\n",
      "\n",
      "OC&C - ORG - Companies, agencies, institutions, etc.\n",
      "\n",
      "\n",
      "\n",
      "2:1 - CARDINAL - Numerals that do not fall under another type\n",
      "STEM - ORG - Companies, agencies, institutions, etc.\n",
      "\n",
      " - GPE - Countries, cities, states\n",
      "\n",
      "\n",
      "\n",
      "No named entities found.\n",
      "\n",
      "\n",
      "\n",
      "No named entities found.\n",
      "\n",
      "\n",
      "\n",
      "OC&C - ORG - Companies, agencies, institutions, etc.\n",
      "\n",
      "\n",
      "\n",
      "2:1 - CARDINAL - Numerals that do not fall under another type\n",
      "STEM - ORG - Companies, agencies, institutions, etc.\n",
      "\n",
      " - GPE - Countries, cities, states\n",
      "\n",
      "\n",
      "\n",
      "No named entities found.\n",
      "\n",
      "\n",
      "\n",
      "No named entities found.\n",
      "\n",
      "\n",
      "\n",
      "BS - ORG - Companies, agencies, institutions, etc.\n",
      "\n",
      " - GPE - Countries, cities, states\n",
      "80% - PERCENT - Percentage, including \"%\"\n",
      "UK - GPE - Countries, cities, states\n",
      "\n",
      "\n",
      "\n",
      "No named entities found.\n",
      "\n",
      "\n",
      "\n",
      "\n",
      " - GPE - Countries, cities, states\n",
      "Assessing - GPE - Countries, cities, states\n",
      "\n",
      "\n",
      "\n",
      "No named entities found.\n",
      "\n",
      "\n",
      "\n",
      "Data Science & Analytics - ORG - Companies, agencies, institutions, etc.\n",
      "\n",
      "\n",
      "\n",
      "\n",
      " - GPE - Countries, cities, states\n",
      "1 year - DATE - Absolute or relative dates or periods\n",
      "\n",
      "\n",
      "\n",
      "No named entities found.\n",
      "\n",
      "\n",
      "\n",
      "\n",
      " - GPE - Countries, cities, states\n",
      "\n",
      "\n",
      "\n",
      "No named entities found.\n",
      "\n",
      "\n",
      "\n",
      "\n",
      " - GPE - Countries, cities, states\n",
      "1 year - DATE - Absolute or relative dates or periods\n",
      "\n",
      "\n",
      "\n",
      "last year - DATE - Absolute or relative dates or periods\n",
      "London - GPE - Countries, cities, states\n",
      "Data and Analytics, Cyber Security - ORG - Companies, agencies, institutions, etc.\n",
      "\n",
      "\n",
      "\n",
      "No named entities found.\n",
      "\n",
      "\n",
      "\n",
      "1st - DATE - Absolute or relative dates or periods\n",
      "2nd - DATE - Absolute or relative dates or periods\n",
      "3rd - ORDINAL - \"first\", \"second\", etc.\n",
      "\n",
      "\n",
      "\n",
      "No named entities found.\n",
      "\n",
      "\n",
      "\n",
      "\n",
      " - GPE - Countries, cities, states\n",
      "Verisk - ORG - Companies, agencies, institutions, etc.\n",
      "Nasdaq - ORG - Companies, agencies, institutions, etc.\n",
      "\n",
      "\n",
      "\n",
      "\n",
      " - GPE - Countries, cities, states\n",
      "Bachelor - PERSON - People, including fictional\n",
      "\n",
      "\n",
      "\n",
      "No named entities found.\n",
      "\n",
      "\n",
      "\n",
      "Informed Solutions - ORG - Companies, agencies, institutions, etc.\n",
      "\n",
      "\n",
      "\n",
      "\n",
      " - GPE - Countries, cities, states\n",
      "Assessing - GPE - Countries, cities, states\n",
      "\n",
      "\n",
      "\n",
      "\n",
      " - GPE - Countries, cities, states\n",
      "Data - PERSON - People, including fictional\n",
      "\n",
      "\n",
      "\n",
      "No named entities found.\n",
      "\n",
      "\n",
      "\n",
      "4+ years - DATE - Absolute or relative dates or periods\n",
      "\n",
      " - GPE - Countries, cities, states\n",
      "\n",
      "\n",
      "\n",
      "Ph.D. - WORK_OF_ART - Titles of books, songs, etc.\n",
      "\n",
      " - GPE - Countries, cities, states\n",
      "LIMS - ORG - Companies, agencies, institutions, etc.\n",
      "ELN - ORG - Companies, agencies, institutions, etc.\n",
      "\n",
      "\n",
      "\n",
      "\n",
      " - GPE - Countries, cities, states\n",
      "\n",
      "\n",
      "\n",
      "Customer Engagement - ORG - Companies, agencies, institutions, etc.\n",
      "Contact Centre - ORG - Companies, agencies, institutions, etc.\n",
      "the Government/Public Sector, Financial Services & - ORG - Companies, agencies, institutions, etc.\n",
      "\n",
      "\n",
      "\n",
      "London - GPE - Countries, cities, states\n",
      "at least 2 years PQE - DATE - Absolute or relative dates or periods\n",
      "\n",
      "\n",
      "\n",
      "London - GPE - Countries, cities, states\n",
      "at least 2 years PQE - DATE - Absolute or relative dates or periods\n",
      "\n",
      "\n",
      "\n",
      "MBA - WORK_OF_ART - Titles of books, songs, etc.\n",
      "\n",
      " - GPE - Countries, cities, states\n",
      "\n",
      "\n",
      "\n",
      "GDPR - PERSON - People, including fictional\n",
      "\n",
      "\n",
      "\n",
      "Customer Engagement - ORG - Companies, agencies, institutions, etc.\n",
      "Contact Centre - ORG - Companies, agencies, institutions, etc.\n",
      "the Government/Public Sector, Financial Services & - ORG - Companies, agencies, institutions, etc.\n",
      "\n",
      "\n",
      "\n",
      "\n",
      " - GPE - Countries, cities, states\n",
      "\n",
      "\n",
      "\n"
     ]
    }
   ],
   "source": [
    "for i in nlp_jd_i:\n",
    "    sf.show_entities(i)\n",
    "    print('\\n\\n')"
   ]
  },
  {
   "cell_type": "code",
   "execution_count": null,
   "metadata": {},
   "outputs": [],
   "source": []
  },
  {
   "cell_type": "code",
   "execution_count": 13,
   "metadata": {},
   "outputs": [
    {
     "data": {
      "text/html": [
       "<div class=\"entities\" style=\"line-height: 2.5\">A data consultant experienced in working in a commercial environment.\n",
       "<mark class=\"entity\" style=\"background: #feca74; padding: 0.45em 0.6em; margin: 0 0.25em; line-height: 1; border-radius: 0.35em; box-decoration-break: clone; -webkit-box-decoration-break: clone\">\n",
       "    \n",
       "\n",
       "    <span style=\"font-size: 0.8em; font-weight: bold; line-height: 1; border-radius: 0.35em; text-transform: uppercase; vertical-align: middle; margin-left: 0.5rem\">GPE</span>\n",
       "</mark>\n",
       "</div>"
      ],
      "text/plain": [
       "<IPython.core.display.HTML object>"
      ]
     },
     "metadata": {},
     "output_type": "display_data"
    },
    {
     "name": "stdout",
     "output_type": "stream",
     "text": [
      "\n",
      "\n",
      "Good knowledge of R and/or Python and the surrounding data environments.\n",
      "\n",
      "\n",
      "\n",
      "\n",
      "\n"
     ]
    },
    {
     "data": {
      "text/html": [
       "<div class=\"entities\" style=\"line-height: 2.5\">Where appropriate manages external contractors to ensure rigor and quality of data analysis, in line with the project objectives.\n",
       "<mark class=\"entity\" style=\"background: #feca74; padding: 0.45em 0.6em; margin: 0 0.25em; line-height: 1; border-radius: 0.35em; box-decoration-break: clone; -webkit-box-decoration-break: clone\">\n",
       "    \n",
       "\n",
       "    <span style=\"font-size: 0.8em; font-weight: bold; line-height: 1; border-radius: 0.35em; text-transform: uppercase; vertical-align: middle; margin-left: 0.5rem\">GPE</span>\n",
       "</mark>\n",
       "</div>"
      ],
      "text/plain": [
       "<IPython.core.display.HTML object>"
      ]
     },
     "metadata": {},
     "output_type": "display_data"
    },
    {
     "name": "stdout",
     "output_type": "stream",
     "text": [
      "\n",
      "\n"
     ]
    },
    {
     "data": {
      "text/html": [
       "<div class=\"entities\" style=\"line-height: 2.5\">Temporarily due to \n",
       "<mark class=\"entity\" style=\"background: #7aecec; padding: 0.45em 0.6em; margin: 0 0.25em; line-height: 1; border-radius: 0.35em; box-decoration-break: clone; -webkit-box-decoration-break: clone\">\n",
       "    COVID-19\n",
       "    <span style=\"font-size: 0.8em; font-weight: bold; line-height: 1; border-radius: 0.35em; text-transform: uppercase; vertical-align: middle; margin-left: 0.5rem\">ORG</span>\n",
       "</mark>\n",
       ".</div>"
      ],
      "text/plain": [
       "<IPython.core.display.HTML object>"
      ]
     },
     "metadata": {},
     "output_type": "display_data"
    },
    {
     "name": "stdout",
     "output_type": "stream",
     "text": [
      "\n",
      "\n",
      "\n",
      "\n",
      "\n"
     ]
    },
    {
     "data": {
      "text/html": [
       "<div class=\"entities\" style=\"line-height: 2.5\">... have already gained substantial know-how in \n",
       "<mark class=\"entity\" style=\"background: #7aecec; padding: 0.45em 0.6em; margin: 0 0.25em; line-height: 1; border-radius: 0.35em; box-decoration-break: clone; -webkit-box-decoration-break: clone\">\n",
       "    Business Intelligence\n",
       "    <span style=\"font-size: 0.8em; font-weight: bold; line-height: 1; border-radius: 0.35em; text-transform: uppercase; vertical-align: middle; margin-left: 0.5rem\">ORG</span>\n",
       "</mark>\n",
       " and data analytics.\n",
       "<mark class=\"entity\" style=\"background: #feca74; padding: 0.45em 0.6em; margin: 0 0.25em; line-height: 1; border-radius: 0.35em; box-decoration-break: clone; -webkit-box-decoration-break: clone\">\n",
       "    \n",
       "\n",
       "    <span style=\"font-size: 0.8em; font-weight: bold; line-height: 1; border-radius: 0.35em; text-transform: uppercase; vertical-align: middle; margin-left: 0.5rem\">GPE</span>\n",
       "</mark>\n",
       "</div>"
      ],
      "text/plain": [
       "<IPython.core.display.HTML object>"
      ]
     },
     "metadata": {},
     "output_type": "display_data"
    },
    {
     "name": "stdout",
     "output_type": "stream",
     "text": [
      "\n",
      "\n",
      "You extract and transform customers' data and design process- and…\n",
      "\n",
      "\n",
      "\n",
      "\n",
      "\n"
     ]
    },
    {
     "data": {
      "text/html": [
       "<div class=\"entities\" style=\"line-height: 2.5\">... have already gained substantial know-how in \n",
       "<mark class=\"entity\" style=\"background: #7aecec; padding: 0.45em 0.6em; margin: 0 0.25em; line-height: 1; border-radius: 0.35em; box-decoration-break: clone; -webkit-box-decoration-break: clone\">\n",
       "    Business Intelligence\n",
       "    <span style=\"font-size: 0.8em; font-weight: bold; line-height: 1; border-radius: 0.35em; text-transform: uppercase; vertical-align: middle; margin-left: 0.5rem\">ORG</span>\n",
       "</mark>\n",
       " and data analytics.\n",
       "<mark class=\"entity\" style=\"background: #feca74; padding: 0.45em 0.6em; margin: 0 0.25em; line-height: 1; border-radius: 0.35em; box-decoration-break: clone; -webkit-box-decoration-break: clone\">\n",
       "    \n",
       "\n",
       "    <span style=\"font-size: 0.8em; font-weight: bold; line-height: 1; border-radius: 0.35em; text-transform: uppercase; vertical-align: middle; margin-left: 0.5rem\">GPE</span>\n",
       "</mark>\n",
       "</div>"
      ],
      "text/plain": [
       "<IPython.core.display.HTML object>"
      ]
     },
     "metadata": {},
     "output_type": "display_data"
    },
    {
     "name": "stdout",
     "output_type": "stream",
     "text": [
      "\n",
      "\n",
      "You extract and transform customers’ data and design process- and…\n",
      "\n",
      "\n",
      "\n",
      "\n",
      "\n"
     ]
    },
    {
     "data": {
      "text/html": [
       "<div class=\"entities\" style=\"line-height: 2.5\">You will be working in key projects for leading organizations in data mining & knowledge \n",
       "<mark class=\"entity\" style=\"background: #bfeeb7; padding: 0.45em 0.6em; margin: 0 0.25em; line-height: 1; border-radius: 0.35em; box-decoration-break: clone; -webkit-box-decoration-break: clone\">\n",
       "    Discovery\n",
       "    <span style=\"font-size: 0.8em; font-weight: bold; line-height: 1; border-radius: 0.35em; text-transform: uppercase; vertical-align: middle; margin-left: 0.5rem\">PRODUCT</span>\n",
       "</mark>\n",
       ", predictive modeling, trend modeling, \n",
       "<mark class=\"entity\" style=\"background: #f0d0ff; padding: 0.45em 0.6em; margin: 0 0.25em; line-height: 1; border-radius: 0.35em; box-decoration-break: clone; -webkit-box-decoration-break: clone\">\n",
       "    Simulation\n",
       "    <span style=\"font-size: 0.8em; font-weight: bold; line-height: 1; border-radius: 0.35em; text-transform: uppercase; vertical-align: middle; margin-left: 0.5rem\">WORK_OF_ART</span>\n",
       "</mark>\n",
       " models …</div>"
      ],
      "text/plain": [
       "<IPython.core.display.HTML object>"
      ]
     },
     "metadata": {},
     "output_type": "display_data"
    },
    {
     "name": "stdout",
     "output_type": "stream",
     "text": [
      "\n",
      "\n",
      "\n",
      "\n",
      "\n",
      "Experience of the banking environment, products and front and back office operations/ functions;Experience of data analytics and visualisation products such as…\n",
      "\n",
      "\n",
      "\n",
      "\n",
      "\n"
     ]
    },
    {
     "data": {
      "text/html": [
       "<div class=\"entities\" style=\"line-height: 2.5\">Understanding of data best practices and basic data governance principles.\n",
       "<mark class=\"entity\" style=\"background: #feca74; padding: 0.45em 0.6em; margin: 0 0.25em; line-height: 1; border-radius: 0.35em; box-decoration-break: clone; -webkit-box-decoration-break: clone\">\n",
       "    \n",
       "\n",
       "    <span style=\"font-size: 0.8em; font-weight: bold; line-height: 1; border-radius: 0.35em; text-transform: uppercase; vertical-align: middle; margin-left: 0.5rem\">GPE</span>\n",
       "</mark>\n",
       "</div>"
      ],
      "text/plain": [
       "<IPython.core.display.HTML object>"
      ]
     },
     "metadata": {},
     "output_type": "display_data"
    },
    {
     "name": "stdout",
     "output_type": "stream",
     "text": [
      "\n",
      "\n"
     ]
    },
    {
     "data": {
      "text/html": [
       "<div class=\"entities\" style=\"line-height: 2.5\">As part of \n",
       "<mark class=\"entity\" style=\"background: #feca74; padding: 0.45em 0.6em; margin: 0 0.25em; line-height: 1; border-radius: 0.35em; box-decoration-break: clone; -webkit-box-decoration-break: clone\">\n",
       "    GreySpark\n",
       "    <span style=\"font-size: 0.8em; font-weight: bold; line-height: 1; border-radius: 0.35em; text-transform: uppercase; vertical-align: middle; margin-left: 0.5rem\">GPE</span>\n",
       "</mark>\n",
       "’s \n",
       "<mark class=\"entity\" style=\"background: #7aecec; padding: 0.45em 0.6em; margin: 0 0.25em; line-height: 1; border-radius: 0.35em; box-decoration-break: clone; -webkit-box-decoration-break: clone\">\n",
       "    Data Practice\n",
       "    <span style=\"font-size: 0.8em; font-weight: bold; line-height: 1; border-radius: 0.35em; text-transform: uppercase; vertical-align: middle; margin-left: 0.5rem\">ORG</span>\n",
       "</mark>\n",
       ", you will be part of a specialised team of data…</div>"
      ],
      "text/plain": [
       "<IPython.core.display.HTML object>"
      ]
     },
     "metadata": {},
     "output_type": "display_data"
    },
    {
     "name": "stdout",
     "output_type": "stream",
     "text": [
      "\n",
      "\n",
      "\n",
      "\n",
      "\n"
     ]
    },
    {
     "data": {
      "text/html": [
       "<div class=\"entities\" style=\"line-height: 2.5\">We have highly qualified teams of consultants in sales, science, tax, engineering and software who have helped deliver \n",
       "<mark class=\"entity\" style=\"background: #e4e7d2; padding: 0.45em 0.6em; margin: 0 0.25em; line-height: 1; border-radius: 0.35em; box-decoration-break: clone; -webkit-box-decoration-break: clone\">\n",
       "    100%\n",
       "    <span style=\"font-size: 0.8em; font-weight: bold; line-height: 1; border-radius: 0.35em; text-transform: uppercase; vertical-align: middle; margin-left: 0.5rem\">PERCENT</span>\n",
       "</mark>\n",
       " success rate for \n",
       "<mark class=\"entity\" style=\"background: #7aecec; padding: 0.45em 0.6em; margin: 0 0.25em; line-height: 1; border-radius: 0.35em; box-decoration-break: clone; -webkit-box-decoration-break: clone\">\n",
       "    HMRC\n",
       "    <span style=\"font-size: 0.8em; font-weight: bold; line-height: 1; border-radius: 0.35em; text-transform: uppercase; vertical-align: middle; margin-left: 0.5rem\">ORG</span>\n",
       "</mark>\n",
       " submissions.</div>"
      ],
      "text/plain": [
       "<IPython.core.display.HTML object>"
      ]
     },
     "metadata": {},
     "output_type": "display_data"
    },
    {
     "name": "stdout",
     "output_type": "stream",
     "text": [
      "\n",
      "\n",
      "\n",
      "\n",
      "\n"
     ]
    },
    {
     "data": {
      "text/html": [
       "<div class=\"entities\" style=\"line-height: 2.5\">\n",
       "<mark class=\"entity\" style=\"background: #7aecec; padding: 0.45em 0.6em; margin: 0 0.25em; line-height: 1; border-radius: 0.35em; box-decoration-break: clone; -webkit-box-decoration-break: clone\">\n",
       "    Capgemini Invent\n",
       "    <span style=\"font-size: 0.8em; font-weight: bold; line-height: 1; border-radius: 0.35em; text-transform: uppercase; vertical-align: middle; margin-left: 0.5rem\">ORG</span>\n",
       "</mark>\n",
       " combines strategy, technology, data science and creative design to solve the most complex business and technology challenges.</div>"
      ],
      "text/plain": [
       "<IPython.core.display.HTML object>"
      ]
     },
     "metadata": {},
     "output_type": "display_data"
    },
    {
     "name": "stdout",
     "output_type": "stream",
     "text": [
      "\n",
      "\n",
      "\n",
      "\n",
      "\n",
      "You will be working in key projects for leading organizations in the strategy, commercial effectiveness, transformation: organization and processes, risk…\n",
      "\n",
      "\n",
      "\n",
      "\n",
      "\n",
      "Strong analytical capabilities, familiarity and comfort with business, scientific and clinical data (essential).\n",
      "\n",
      "\n",
      "\n",
      "\n",
      "\n"
     ]
    },
    {
     "data": {
      "text/html": [
       "<div class=\"entities\" style=\"line-height: 2.5\">\n",
       "<mark class=\"entity\" style=\"background: #7aecec; padding: 0.45em 0.6em; margin: 0 0.25em; line-height: 1; border-radius: 0.35em; box-decoration-break: clone; -webkit-box-decoration-break: clone\">\n",
       "    OC&C\n",
       "    <span style=\"font-size: 0.8em; font-weight: bold; line-height: 1; border-radius: 0.35em; text-transform: uppercase; vertical-align: middle; margin-left: 0.5rem\">ORG</span>\n",
       "</mark>\n",
       " is regularly tasked with problems where the answers are hidden in large, messy and complex data sets such as transaction data, customer-behaviour data and…</div>"
      ],
      "text/plain": [
       "<IPython.core.display.HTML object>"
      ]
     },
     "metadata": {},
     "output_type": "display_data"
    },
    {
     "name": "stdout",
     "output_type": "stream",
     "text": [
      "\n",
      "\n",
      "\n",
      "\n",
      "\n"
     ]
    },
    {
     "data": {
      "text/html": [
       "<div class=\"entities\" style=\"line-height: 2.5\">\n",
       "<mark class=\"entity\" style=\"background: #e4e7d2; padding: 0.45em 0.6em; margin: 0 0.25em; line-height: 1; border-radius: 0.35em; box-decoration-break: clone; -webkit-box-decoration-break: clone\">\n",
       "    2:1\n",
       "    <span style=\"font-size: 0.8em; font-weight: bold; line-height: 1; border-radius: 0.35em; text-transform: uppercase; vertical-align: middle; margin-left: 0.5rem\">CARDINAL</span>\n",
       "</mark>\n",
       " minimum degree with an analytical focus & data handling such as \n",
       "<mark class=\"entity\" style=\"background: #7aecec; padding: 0.45em 0.6em; margin: 0 0.25em; line-height: 1; border-radius: 0.35em; box-decoration-break: clone; -webkit-box-decoration-break: clone\">\n",
       "    STEM\n",
       "    <span style=\"font-size: 0.8em; font-weight: bold; line-height: 1; border-radius: 0.35em; text-transform: uppercase; vertical-align: middle; margin-left: 0.5rem\">ORG</span>\n",
       "</mark>\n",
       ".\n",
       "<mark class=\"entity\" style=\"background: #feca74; padding: 0.45em 0.6em; margin: 0 0.25em; line-height: 1; border-radius: 0.35em; box-decoration-break: clone; -webkit-box-decoration-break: clone\">\n",
       "    \n",
       "\n",
       "    <span style=\"font-size: 0.8em; font-weight: bold; line-height: 1; border-radius: 0.35em; text-transform: uppercase; vertical-align: middle; margin-left: 0.5rem\">GPE</span>\n",
       "</mark>\n",
       "</div>"
      ],
      "text/plain": [
       "<IPython.core.display.HTML object>"
      ]
     },
     "metadata": {},
     "output_type": "display_data"
    },
    {
     "name": "stdout",
     "output_type": "stream",
     "text": [
      "\n",
      "\n",
      "An ambition to work with data and an understanding of how it can help organisations…\n",
      "\n",
      "\n",
      "\n",
      "\n",
      "\n",
      "You will creatively apply data science approaches to develop analytic results which turn data into information - information into knowledge and insights - and…\n",
      "\n",
      "\n",
      "\n",
      "\n",
      "\n",
      "Although you may have strengths in areas of data science, we encourage our consultants to cultivate a wide range of both technical and non-technical skills.\n",
      "\n",
      "\n",
      "\n",
      "\n",
      "\n"
     ]
    },
    {
     "data": {
      "text/html": [
       "<div class=\"entities\" style=\"line-height: 2.5\">\n",
       "<mark class=\"entity\" style=\"background: #7aecec; padding: 0.45em 0.6em; margin: 0 0.25em; line-height: 1; border-radius: 0.35em; box-decoration-break: clone; -webkit-box-decoration-break: clone\">\n",
       "    OC&C\n",
       "    <span style=\"font-size: 0.8em; font-weight: bold; line-height: 1; border-radius: 0.35em; text-transform: uppercase; vertical-align: middle; margin-left: 0.5rem\">ORG</span>\n",
       "</mark>\n",
       " is regularly tasked with problems where the answers are hidden in large, messy and complex data sets such as transaction data, customer-behaviour data and…</div>"
      ],
      "text/plain": [
       "<IPython.core.display.HTML object>"
      ]
     },
     "metadata": {},
     "output_type": "display_data"
    },
    {
     "name": "stdout",
     "output_type": "stream",
     "text": [
      "\n",
      "\n",
      "\n",
      "\n",
      "\n"
     ]
    },
    {
     "data": {
      "text/html": [
       "<div class=\"entities\" style=\"line-height: 2.5\">\n",
       "<mark class=\"entity\" style=\"background: #e4e7d2; padding: 0.45em 0.6em; margin: 0 0.25em; line-height: 1; border-radius: 0.35em; box-decoration-break: clone; -webkit-box-decoration-break: clone\">\n",
       "    2:1\n",
       "    <span style=\"font-size: 0.8em; font-weight: bold; line-height: 1; border-radius: 0.35em; text-transform: uppercase; vertical-align: middle; margin-left: 0.5rem\">CARDINAL</span>\n",
       "</mark>\n",
       " minimum degree with an analytical focus & data handling such as \n",
       "<mark class=\"entity\" style=\"background: #7aecec; padding: 0.45em 0.6em; margin: 0 0.25em; line-height: 1; border-radius: 0.35em; box-decoration-break: clone; -webkit-box-decoration-break: clone\">\n",
       "    STEM\n",
       "    <span style=\"font-size: 0.8em; font-weight: bold; line-height: 1; border-radius: 0.35em; text-transform: uppercase; vertical-align: middle; margin-left: 0.5rem\">ORG</span>\n",
       "</mark>\n",
       ".\n",
       "<mark class=\"entity\" style=\"background: #feca74; padding: 0.45em 0.6em; margin: 0 0.25em; line-height: 1; border-radius: 0.35em; box-decoration-break: clone; -webkit-box-decoration-break: clone\">\n",
       "    \n",
       "\n",
       "    <span style=\"font-size: 0.8em; font-weight: bold; line-height: 1; border-radius: 0.35em; text-transform: uppercase; vertical-align: middle; margin-left: 0.5rem\">GPE</span>\n",
       "</mark>\n",
       "</div>"
      ],
      "text/plain": [
       "<IPython.core.display.HTML object>"
      ]
     },
     "metadata": {},
     "output_type": "display_data"
    },
    {
     "name": "stdout",
     "output_type": "stream",
     "text": [
      "\n",
      "\n",
      "An ambition to work with data and an understanding of how it can help organisations…\n",
      "\n",
      "\n",
      "\n",
      "\n",
      "\n",
      "You will creatively apply data science approaches to develop analytic results which turn data into information - information into knowledge and insights - and…\n",
      "\n",
      "\n",
      "\n",
      "\n",
      "\n",
      "Although you may have strengths in areas of data science, we encourage our consultants to cultivate a wide range of both technical and non-technical skills.\n",
      "\n",
      "\n",
      "\n",
      "\n",
      "\n"
     ]
    },
    {
     "data": {
      "text/html": [
       "<div class=\"entities\" style=\"line-height: 2.5\">BA/\n",
       "<mark class=\"entity\" style=\"background: #7aecec; padding: 0.45em 0.6em; margin: 0 0.25em; line-height: 1; border-radius: 0.35em; box-decoration-break: clone; -webkit-box-decoration-break: clone\">\n",
       "    BS\n",
       "    <span style=\"font-size: 0.8em; font-weight: bold; line-height: 1; border-radius: 0.35em; text-transform: uppercase; vertical-align: middle; margin-left: 0.5rem\">ORG</span>\n",
       "</mark>\n",
       " preferred in computer science, computer engineering, mathematics or equivalent work experience.\n",
       "<mark class=\"entity\" style=\"background: #feca74; padding: 0.45em 0.6em; margin: 0 0.25em; line-height: 1; border-radius: 0.35em; box-decoration-break: clone; -webkit-box-decoration-break: clone\">\n",
       "    \n",
       "\n",
       "    <span style=\"font-size: 0.8em; font-weight: bold; line-height: 1; border-radius: 0.35em; text-transform: uppercase; vertical-align: middle; margin-left: 0.5rem\">GPE</span>\n",
       "</mark>\n",
       "</div>"
      ],
      "text/plain": [
       "<IPython.core.display.HTML object>"
      ]
     },
     "metadata": {},
     "output_type": "display_data"
    },
    {
     "name": "stdout",
     "output_type": "stream",
     "text": [
      "\n",
      "\n"
     ]
    },
    {
     "data": {
      "text/html": [
       "<div class=\"entities\" style=\"line-height: 2.5\">Happy to travel \n",
       "<mark class=\"entity\" style=\"background: #e4e7d2; padding: 0.45em 0.6em; margin: 0 0.25em; line-height: 1; border-radius: 0.35em; box-decoration-break: clone; -webkit-box-decoration-break: clone\">\n",
       "    80%\n",
       "    <span style=\"font-size: 0.8em; font-weight: bold; line-height: 1; border-radius: 0.35em; text-transform: uppercase; vertical-align: middle; margin-left: 0.5rem\">PERCENT</span>\n",
       "</mark>\n",
       " of the time in the \n",
       "<mark class=\"entity\" style=\"background: #feca74; padding: 0.45em 0.6em; margin: 0 0.25em; line-height: 1; border-radius: 0.35em; box-decoration-break: clone; -webkit-box-decoration-break: clone\">\n",
       "    UK\n",
       "    <span style=\"font-size: 0.8em; font-weight: bold; line-height: 1; border-radius: 0.35em; text-transform: uppercase; vertical-align: middle; margin-left: 0.5rem\">GPE</span>\n",
       "</mark>\n",
       " and sometimes in…</div>"
      ],
      "text/plain": [
       "<IPython.core.display.HTML object>"
      ]
     },
     "metadata": {},
     "output_type": "display_data"
    },
    {
     "name": "stdout",
     "output_type": "stream",
     "text": [
      "\n",
      "\n",
      "\n",
      "\n",
      "\n",
      "They are still looking to hire multiple data science quantitative consultants from strong banking, statistical and software programming backgrounds into the…\n",
      "\n",
      "\n",
      "\n",
      "\n",
      "\n"
     ]
    },
    {
     "data": {
      "text/html": [
       "<div class=\"entities\" style=\"line-height: 2.5\">Producing effective data privacy governance with clients.\n",
       "<mark class=\"entity\" style=\"background: #feca74; padding: 0.45em 0.6em; margin: 0 0.25em; line-height: 1; border-radius: 0.35em; box-decoration-break: clone; -webkit-box-decoration-break: clone\">\n",
       "    \n",
       "\n",
       "    <span style=\"font-size: 0.8em; font-weight: bold; line-height: 1; border-radius: 0.35em; text-transform: uppercase; vertical-align: middle; margin-left: 0.5rem\">GPE</span>\n",
       "</mark>\n",
       "</div>"
      ],
      "text/plain": [
       "<IPython.core.display.HTML object>"
      ]
     },
     "metadata": {},
     "output_type": "display_data"
    },
    {
     "name": "stdout",
     "output_type": "stream",
     "text": [
      "\n",
      "\n"
     ]
    },
    {
     "data": {
      "text/html": [
       "<div class=\"entities\" style=\"line-height: 2.5\">\n",
       "<mark class=\"entity\" style=\"background: #feca74; padding: 0.45em 0.6em; margin: 0 0.25em; line-height: 1; border-radius: 0.35em; box-decoration-break: clone; -webkit-box-decoration-break: clone\">\n",
       "    Assessing\n",
       "    <span style=\"font-size: 0.8em; font-weight: bold; line-height: 1; border-radius: 0.35em; text-transform: uppercase; vertical-align: middle; margin-left: 0.5rem\">GPE</span>\n",
       "</mark>\n",
       " data privacy compliance against the relevant legislative frameworks.</div>"
      ],
      "text/plain": [
       "<IPython.core.display.HTML object>"
      ]
     },
     "metadata": {},
     "output_type": "display_data"
    },
    {
     "name": "stdout",
     "output_type": "stream",
     "text": [
      "\n",
      "\n",
      "\n",
      "\n",
      "\n",
      "You will creatively apply data science approaches to develop analytic results which turn data into information - information into knowledge and insights - and…\n",
      "\n",
      "\n",
      "\n",
      "\n",
      "\n"
     ]
    },
    {
     "data": {
      "text/html": [
       "<div class=\"entities\" style=\"line-height: 2.5\">Working in our \n",
       "<mark class=\"entity\" style=\"background: #7aecec; padding: 0.45em 0.6em; margin: 0 0.25em; line-height: 1; border-radius: 0.35em; box-decoration-break: clone; -webkit-box-decoration-break: clone\">\n",
       "    Data Science & Analytics\n",
       "    <span style=\"font-size: 0.8em; font-weight: bold; line-height: 1; border-radius: 0.35em; text-transform: uppercase; vertical-align: middle; margin-left: 0.5rem\">ORG</span>\n",
       "</mark>\n",
       " team, your role will be to support project managers general statistical analysis (i.e. design, evaluation, development…</div>"
      ],
      "text/plain": [
       "<IPython.core.display.HTML object>"
      ]
     },
     "metadata": {},
     "output_type": "display_data"
    },
    {
     "name": "stdout",
     "output_type": "stream",
     "text": [
      "\n",
      "\n",
      "\n",
      "\n",
      "\n"
     ]
    },
    {
     "data": {
      "text/html": [
       "<div class=\"entities\" style=\"line-height: 2.5\">Optionally, knowledge of data processing and data modeling algorithms and techniques.\n",
       "<mark class=\"entity\" style=\"background: #feca74; padding: 0.45em 0.6em; margin: 0 0.25em; line-height: 1; border-radius: 0.35em; box-decoration-break: clone; -webkit-box-decoration-break: clone\">\n",
       "    \n",
       "\n",
       "    <span style=\"font-size: 0.8em; font-weight: bold; line-height: 1; border-radius: 0.35em; text-transform: uppercase; vertical-align: middle; margin-left: 0.5rem\">GPE</span>\n",
       "</mark>\n",
       "</div>"
      ],
      "text/plain": [
       "<IPython.core.display.HTML object>"
      ]
     },
     "metadata": {},
     "output_type": "display_data"
    },
    {
     "name": "stdout",
     "output_type": "stream",
     "text": [
      "\n",
      "\n"
     ]
    },
    {
     "data": {
      "text/html": [
       "<div class=\"entities\" style=\"line-height: 2.5\">A minimum of \n",
       "<mark class=\"entity\" style=\"background: #bfe1d9; padding: 0.45em 0.6em; margin: 0 0.25em; line-height: 1; border-radius: 0.35em; box-decoration-break: clone; -webkit-box-decoration-break: clone\">\n",
       "    1 year\n",
       "    <span style=\"font-size: 0.8em; font-weight: bold; line-height: 1; border-radius: 0.35em; text-transform: uppercase; vertical-align: middle; margin-left: 0.5rem\">DATE</span>\n",
       "</mark>\n",
       " of work experience in a data-driven working…</div>"
      ],
      "text/plain": [
       "<IPython.core.display.HTML object>"
      ]
     },
     "metadata": {},
     "output_type": "display_data"
    },
    {
     "name": "stdout",
     "output_type": "stream",
     "text": [
      "\n",
      "\n",
      "\n",
      "\n",
      "\n",
      "Previous experience working in a data analytics, data modelling or data scientist capacity either in a professional services environment or corporate inhouse…\n",
      "\n",
      "\n",
      "\n",
      "\n",
      "\n"
     ]
    },
    {
     "data": {
      "text/html": [
       "<div class=\"entities\" style=\"line-height: 2.5\">This role will involve working on the delivery of key data science driven services and transformation projects.\n",
       "<mark class=\"entity\" style=\"background: #feca74; padding: 0.45em 0.6em; margin: 0 0.25em; line-height: 1; border-radius: 0.35em; box-decoration-break: clone; -webkit-box-decoration-break: clone\">\n",
       "    \n",
       "\n",
       "    <span style=\"font-size: 0.8em; font-weight: bold; line-height: 1; border-radius: 0.35em; text-transform: uppercase; vertical-align: middle; margin-left: 0.5rem\">GPE</span>\n",
       "</mark>\n",
       "</div>"
      ],
      "text/plain": [
       "<IPython.core.display.HTML object>"
      ]
     },
     "metadata": {},
     "output_type": "display_data"
    },
    {
     "name": "stdout",
     "output_type": "stream",
     "text": [
      "\n",
      "\n",
      "The role can be worked on a full-time basis.\n",
      "\n",
      "\n",
      "\n",
      "\n",
      "\n",
      "Through our operations transformation and business analysis capabilities specifically, we create new solutions for our clients using leading techniques,…\n",
      "\n",
      "\n",
      "\n",
      "\n",
      "\n"
     ]
    },
    {
     "data": {
      "text/html": [
       "<div class=\"entities\" style=\"line-height: 2.5\">Optionally, knowledge of data processing and data modeling algorithms and techniques.\n",
       "<mark class=\"entity\" style=\"background: #feca74; padding: 0.45em 0.6em; margin: 0 0.25em; line-height: 1; border-radius: 0.35em; box-decoration-break: clone; -webkit-box-decoration-break: clone\">\n",
       "    \n",
       "\n",
       "    <span style=\"font-size: 0.8em; font-weight: bold; line-height: 1; border-radius: 0.35em; text-transform: uppercase; vertical-align: middle; margin-left: 0.5rem\">GPE</span>\n",
       "</mark>\n",
       "</div>"
      ],
      "text/plain": [
       "<IPython.core.display.HTML object>"
      ]
     },
     "metadata": {},
     "output_type": "display_data"
    },
    {
     "name": "stdout",
     "output_type": "stream",
     "text": [
      "\n",
      "\n"
     ]
    },
    {
     "data": {
      "text/html": [
       "<div class=\"entities\" style=\"line-height: 2.5\">A minimum of \n",
       "<mark class=\"entity\" style=\"background: #bfe1d9; padding: 0.45em 0.6em; margin: 0 0.25em; line-height: 1; border-radius: 0.35em; box-decoration-break: clone; -webkit-box-decoration-break: clone\">\n",
       "    1 year\n",
       "    <span style=\"font-size: 0.8em; font-weight: bold; line-height: 1; border-radius: 0.35em; text-transform: uppercase; vertical-align: middle; margin-left: 0.5rem\">DATE</span>\n",
       "</mark>\n",
       " of work experience in a data-driven working…</div>"
      ],
      "text/plain": [
       "<IPython.core.display.HTML object>"
      ]
     },
     "metadata": {},
     "output_type": "display_data"
    },
    {
     "name": "stdout",
     "output_type": "stream",
     "text": [
      "\n",
      "\n",
      "\n",
      "\n",
      "\n"
     ]
    },
    {
     "data": {
      "text/html": [
       "<div class=\"entities\" style=\"line-height: 2.5\">My client experienced considerable growth \n",
       "<mark class=\"entity\" style=\"background: #bfe1d9; padding: 0.45em 0.6em; margin: 0 0.25em; line-height: 1; border-radius: 0.35em; box-decoration-break: clone; -webkit-box-decoration-break: clone\">\n",
       "    last year\n",
       "    <span style=\"font-size: 0.8em; font-weight: bold; line-height: 1; border-radius: 0.35em; text-transform: uppercase; vertical-align: middle; margin-left: 0.5rem\">DATE</span>\n",
       "</mark>\n",
       " and is now looking to add to their team in \n",
       "<mark class=\"entity\" style=\"background: #feca74; padding: 0.45em 0.6em; margin: 0 0.25em; line-height: 1; border-radius: 0.35em; box-decoration-break: clone; -webkit-box-decoration-break: clone\">\n",
       "    London\n",
       "    <span style=\"font-size: 0.8em; font-weight: bold; line-height: 1; border-radius: 0.35em; text-transform: uppercase; vertical-align: middle; margin-left: 0.5rem\">GPE</span>\n",
       "</mark>\n",
       ", focusing on \n",
       "<mark class=\"entity\" style=\"background: #7aecec; padding: 0.45em 0.6em; margin: 0 0.25em; line-height: 1; border-radius: 0.35em; box-decoration-break: clone; -webkit-box-decoration-break: clone\">\n",
       "    Data and Analytics, Cyber Security\n",
       "    <span style=\"font-size: 0.8em; font-weight: bold; line-height: 1; border-radius: 0.35em; text-transform: uppercase; vertical-align: middle; margin-left: 0.5rem\">ORG</span>\n",
       "</mark>\n",
       " and…</div>"
      ],
      "text/plain": [
       "<IPython.core.display.HTML object>"
      ]
     },
     "metadata": {},
     "output_type": "display_data"
    },
    {
     "name": "stdout",
     "output_type": "stream",
     "text": [
      "\n",
      "\n",
      "\n",
      "\n",
      "\n",
      "Although you may have strengths in areas of data science, we encourage our consultants to cultivate a wide range of both technical and non-technical skills.\n",
      "\n",
      "\n",
      "\n",
      "\n",
      "\n"
     ]
    },
    {
     "data": {
      "text/html": [
       "<div class=\"entities\" style=\"line-height: 2.5\">We are looking for \n",
       "<mark class=\"entity\" style=\"background: #bfe1d9; padding: 0.45em 0.6em; margin: 0 0.25em; line-height: 1; border-radius: 0.35em; box-decoration-break: clone; -webkit-box-decoration-break: clone\">\n",
       "    1st\n",
       "    <span style=\"font-size: 0.8em; font-weight: bold; line-height: 1; border-radius: 0.35em; text-transform: uppercase; vertical-align: middle; margin-left: 0.5rem\">DATE</span>\n",
       "</mark>\n",
       ", \n",
       "<mark class=\"entity\" style=\"background: #bfe1d9; padding: 0.45em 0.6em; margin: 0 0.25em; line-height: 1; border-radius: 0.35em; box-decoration-break: clone; -webkit-box-decoration-break: clone\">\n",
       "    2nd\n",
       "    <span style=\"font-size: 0.8em; font-weight: bold; line-height: 1; border-radius: 0.35em; text-transform: uppercase; vertical-align: middle; margin-left: 0.5rem\">DATE</span>\n",
       "</mark>\n",
       " or \n",
       "<mark class=\"entity\" style=\"background: #e4e7d2; padding: 0.45em 0.6em; margin: 0 0.25em; line-height: 1; border-radius: 0.35em; box-decoration-break: clone; -webkit-box-decoration-break: clone\">\n",
       "    3rd\n",
       "    <span style=\"font-size: 0.8em; font-weight: bold; line-height: 1; border-radius: 0.35em; text-transform: uppercase; vertical-align: middle; margin-left: 0.5rem\">ORDINAL</span>\n",
       "</mark>\n",
       "</div>"
      ],
      "text/plain": [
       "<IPython.core.display.HTML object>"
      ]
     },
     "metadata": {},
     "output_type": "display_data"
    },
    {
     "name": "stdout",
     "output_type": "stream",
     "text": [
      "\n",
      "\n",
      "Under-graduates studying in an energy-related; science; engineering or analytical or business degree subject area.\n",
      "\n",
      "\n",
      "\n",
      "\n",
      "\n",
      "Created a data analytics database for computational chemistry as part of a wider data infrastructure for augmented drug discovery.\n",
      "\n",
      "\n",
      "\n",
      "\n",
      "\n"
     ]
    },
    {
     "data": {
      "text/html": [
       "<div class=\"entities\" style=\"line-height: 2.5\">A degree in science, engineering or mathematics , or the equivalent professional experience.\n",
       "<mark class=\"entity\" style=\"background: #feca74; padding: 0.45em 0.6em; margin: 0 0.25em; line-height: 1; border-radius: 0.35em; box-decoration-break: clone; -webkit-box-decoration-break: clone\">\n",
       "    \n",
       "\n",
       "    <span style=\"font-size: 0.8em; font-weight: bold; line-height: 1; border-radius: 0.35em; text-transform: uppercase; vertical-align: middle; margin-left: 0.5rem\">GPE</span>\n",
       "</mark>\n",
       "</div>"
      ],
      "text/plain": [
       "<IPython.core.display.HTML object>"
      ]
     },
     "metadata": {},
     "output_type": "display_data"
    },
    {
     "name": "stdout",
     "output_type": "stream",
     "text": [
      "\n",
      "\n"
     ]
    },
    {
     "data": {
      "text/html": [
       "<div class=\"entities\" style=\"line-height: 2.5\">\n",
       "<mark class=\"entity\" style=\"background: #7aecec; padding: 0.45em 0.6em; margin: 0 0.25em; line-height: 1; border-radius: 0.35em; box-decoration-break: clone; -webkit-box-decoration-break: clone\">\n",
       "    Verisk\n",
       "    <span style=\"font-size: 0.8em; font-weight: bold; line-height: 1; border-radius: 0.35em; text-transform: uppercase; vertical-align: middle; margin-left: 0.5rem\">ORG</span>\n",
       "</mark>\n",
       " (\n",
       "<mark class=\"entity\" style=\"background: #7aecec; padding: 0.45em 0.6em; margin: 0 0.25em; line-height: 1; border-radius: 0.35em; box-decoration-break: clone; -webkit-box-decoration-break: clone\">\n",
       "    Nasdaq\n",
       "    <span style=\"font-size: 0.8em; font-weight: bold; line-height: 1; border-radius: 0.35em; text-transform: uppercase; vertical-align: middle; margin-left: 0.5rem\">ORG</span>\n",
       "</mark>\n",
       ": VRSK) provides data and insights to our customers…</div>"
      ],
      "text/plain": [
       "<IPython.core.display.HTML object>"
      ]
     },
     "metadata": {},
     "output_type": "display_data"
    },
    {
     "name": "stdout",
     "output_type": "stream",
     "text": [
      "\n",
      "\n",
      "\n",
      "\n",
      "\n"
     ]
    },
    {
     "data": {
      "text/html": [
       "<div class=\"entities\" style=\"line-height: 2.5\">Analysing and presenting the generated data clearly and effectively.\n",
       "<mark class=\"entity\" style=\"background: #feca74; padding: 0.45em 0.6em; margin: 0 0.25em; line-height: 1; border-radius: 0.35em; box-decoration-break: clone; -webkit-box-decoration-break: clone\">\n",
       "    \n",
       "\n",
       "    <span style=\"font-size: 0.8em; font-weight: bold; line-height: 1; border-radius: 0.35em; text-transform: uppercase; vertical-align: middle; margin-left: 0.5rem\">GPE</span>\n",
       "</mark>\n",
       "</div>"
      ],
      "text/plain": [
       "<IPython.core.display.HTML object>"
      ]
     },
     "metadata": {},
     "output_type": "display_data"
    },
    {
     "name": "stdout",
     "output_type": "stream",
     "text": [
      "\n",
      "\n"
     ]
    },
    {
     "data": {
      "text/html": [
       "<div class=\"entities\" style=\"line-height: 2.5\">\n",
       "<mark class=\"entity\" style=\"background: #aa9cfc; padding: 0.45em 0.6em; margin: 0 0.25em; line-height: 1; border-radius: 0.35em; box-decoration-break: clone; -webkit-box-decoration-break: clone\">\n",
       "    Bachelor\n",
       "    <span style=\"font-size: 0.8em; font-weight: bold; line-height: 1; border-radius: 0.35em; text-transform: uppercase; vertical-align: middle; margin-left: 0.5rem\">PERSON</span>\n",
       "</mark>\n",
       "’s degree or above in a relevant background including immunology, biology, or other…</div>"
      ],
      "text/plain": [
       "<IPython.core.display.HTML object>"
      ]
     },
     "metadata": {},
     "output_type": "display_data"
    },
    {
     "name": "stdout",
     "output_type": "stream",
     "text": [
      "\n",
      "\n",
      "\n",
      "\n",
      "\n",
      "Ensure quality, reliability and integrity of data obtained from client sources and offline data sources (ensure that data contains required information for…\n",
      "\n",
      "\n",
      "\n",
      "\n",
      "\n"
     ]
    },
    {
     "data": {
      "text/html": [
       "<div class=\"entities\" style=\"line-height: 2.5\">The graduate programme at \n",
       "<mark class=\"entity\" style=\"background: #7aecec; padding: 0.45em 0.6em; margin: 0 0.25em; line-height: 1; border-radius: 0.35em; box-decoration-break: clone; -webkit-box-decoration-break: clone\">\n",
       "    Informed Solutions\n",
       "    <span style=\"font-size: 0.8em; font-weight: bold; line-height: 1; border-radius: 0.35em; text-transform: uppercase; vertical-align: middle; margin-left: 0.5rem\">ORG</span>\n",
       "</mark>\n",
       " will equip you with the necessary skills, experience and feedback needed to take ownership of your career…</div>"
      ],
      "text/plain": [
       "<IPython.core.display.HTML object>"
      ]
     },
     "metadata": {},
     "output_type": "display_data"
    },
    {
     "name": "stdout",
     "output_type": "stream",
     "text": [
      "\n",
      "\n",
      "\n",
      "\n",
      "\n"
     ]
    },
    {
     "data": {
      "text/html": [
       "<div class=\"entities\" style=\"line-height: 2.5\">Producing effective data privacy governance with clients.\n",
       "<mark class=\"entity\" style=\"background: #feca74; padding: 0.45em 0.6em; margin: 0 0.25em; line-height: 1; border-radius: 0.35em; box-decoration-break: clone; -webkit-box-decoration-break: clone\">\n",
       "    \n",
       "\n",
       "    <span style=\"font-size: 0.8em; font-weight: bold; line-height: 1; border-radius: 0.35em; text-transform: uppercase; vertical-align: middle; margin-left: 0.5rem\">GPE</span>\n",
       "</mark>\n",
       "</div>"
      ],
      "text/plain": [
       "<IPython.core.display.HTML object>"
      ]
     },
     "metadata": {},
     "output_type": "display_data"
    },
    {
     "name": "stdout",
     "output_type": "stream",
     "text": [
      "\n",
      "\n"
     ]
    },
    {
     "data": {
      "text/html": [
       "<div class=\"entities\" style=\"line-height: 2.5\">\n",
       "<mark class=\"entity\" style=\"background: #feca74; padding: 0.45em 0.6em; margin: 0 0.25em; line-height: 1; border-radius: 0.35em; box-decoration-break: clone; -webkit-box-decoration-break: clone\">\n",
       "    Assessing\n",
       "    <span style=\"font-size: 0.8em; font-weight: bold; line-height: 1; border-radius: 0.35em; text-transform: uppercase; vertical-align: middle; margin-left: 0.5rem\">GPE</span>\n",
       "</mark>\n",
       " data privacy compliance against the relevant legislative frameworks.</div>"
      ],
      "text/plain": [
       "<IPython.core.display.HTML object>"
      ]
     },
     "metadata": {},
     "output_type": "display_data"
    },
    {
     "name": "stdout",
     "output_type": "stream",
     "text": [
      "\n",
      "\n",
      "\n",
      "\n",
      "\n"
     ]
    },
    {
     "data": {
      "text/html": [
       "<div class=\"entities\" style=\"line-height: 2.5\">A great interest in data science from an engineering perspective.\n",
       "<mark class=\"entity\" style=\"background: #feca74; padding: 0.45em 0.6em; margin: 0 0.25em; line-height: 1; border-radius: 0.35em; box-decoration-break: clone; -webkit-box-decoration-break: clone\">\n",
       "    \n",
       "\n",
       "    <span style=\"font-size: 0.8em; font-weight: bold; line-height: 1; border-radius: 0.35em; text-transform: uppercase; vertical-align: middle; margin-left: 0.5rem\">GPE</span>\n",
       "</mark>\n",
       "</div>"
      ],
      "text/plain": [
       "<IPython.core.display.HTML object>"
      ]
     },
     "metadata": {},
     "output_type": "display_data"
    },
    {
     "name": "stdout",
     "output_type": "stream",
     "text": [
      "\n",
      "\n"
     ]
    },
    {
     "data": {
      "text/html": [
       "<div class=\"entities\" style=\"line-height: 2.5\">Keep up-to-date with the new solutions made available from other teams in the \n",
       "<mark class=\"entity\" style=\"background: #aa9cfc; padding: 0.45em 0.6em; margin: 0 0.25em; line-height: 1; border-radius: 0.35em; box-decoration-break: clone; -webkit-box-decoration-break: clone\">\n",
       "    Data\n",
       "    <span style=\"font-size: 0.8em; font-weight: bold; line-height: 1; border-radius: 0.35em; text-transform: uppercase; vertical-align: middle; margin-left: 0.5rem\">PERSON</span>\n",
       "</mark>\n",
       " and…</div>"
      ],
      "text/plain": [
       "<IPython.core.display.HTML object>"
      ]
     },
     "metadata": {},
     "output_type": "display_data"
    },
    {
     "name": "stdout",
     "output_type": "stream",
     "text": [
      "\n",
      "\n",
      "\n",
      "\n",
      "\n",
      "A strong academic background in social sciences (e.g. economics, political science, public administration, economic geography).\n",
      "\n",
      "\n",
      "\n",
      "\n",
      "\n"
     ]
    },
    {
     "data": {
      "text/html": [
       "<div class=\"entities\" style=\"line-height: 2.5\">\n",
       "<mark class=\"entity\" style=\"background: #bfe1d9; padding: 0.45em 0.6em; margin: 0 0.25em; line-height: 1; border-radius: 0.35em; box-decoration-break: clone; -webkit-box-decoration-break: clone\">\n",
       "    4+ years\n",
       "    <span style=\"font-size: 0.8em; font-weight: bold; line-height: 1; border-radius: 0.35em; text-transform: uppercase; vertical-align: middle; margin-left: 0.5rem\">DATE</span>\n",
       "</mark>\n",
       " of relevant life sciences industry or consulting experience.\n",
       "<mark class=\"entity\" style=\"background: #feca74; padding: 0.45em 0.6em; margin: 0 0.25em; line-height: 1; border-radius: 0.35em; box-decoration-break: clone; -webkit-box-decoration-break: clone\">\n",
       "    \n",
       "\n",
       "    <span style=\"font-size: 0.8em; font-weight: bold; line-height: 1; border-radius: 0.35em; text-transform: uppercase; vertical-align: middle; margin-left: 0.5rem\">GPE</span>\n",
       "</mark>\n",
       "</div>"
      ],
      "text/plain": [
       "<IPython.core.display.HTML object>"
      ]
     },
     "metadata": {},
     "output_type": "display_data"
    },
    {
     "name": "stdout",
     "output_type": "stream",
     "text": [
      "\n",
      "\n",
      "The candidate is expected to understand key data sources, perform and synthesize complex…\n",
      "\n",
      "\n",
      "\n",
      "\n",
      "\n"
     ]
    },
    {
     "data": {
      "text/html": [
       "<div class=\"entities\" style=\"line-height: 2.5\">Master's degree in life sciences or engineering, \n",
       "<mark class=\"entity\" style=\"background: #f0d0ff; padding: 0.45em 0.6em; margin: 0 0.25em; line-height: 1; border-radius: 0.35em; box-decoration-break: clone; -webkit-box-decoration-break: clone\">\n",
       "    Ph.D.\n",
       "    <span style=\"font-size: 0.8em; font-weight: bold; line-height: 1; border-radius: 0.35em; text-transform: uppercase; vertical-align: middle; margin-left: 0.5rem\">WORK_OF_ART</span>\n",
       "</mark>\n",
       " preferred.\n",
       "<mark class=\"entity\" style=\"background: #feca74; padding: 0.45em 0.6em; margin: 0 0.25em; line-height: 1; border-radius: 0.35em; box-decoration-break: clone; -webkit-box-decoration-break: clone\">\n",
       "    \n",
       "\n",
       "    <span style=\"font-size: 0.8em; font-weight: bold; line-height: 1; border-radius: 0.35em; text-transform: uppercase; vertical-align: middle; margin-left: 0.5rem\">GPE</span>\n",
       "</mark>\n",
       "</div>"
      ],
      "text/plain": [
       "<IPython.core.display.HTML object>"
      ]
     },
     "metadata": {},
     "output_type": "display_data"
    },
    {
     "name": "stdout",
     "output_type": "stream",
     "text": [
      "\n",
      "\n"
     ]
    },
    {
     "data": {
      "text/html": [
       "<div class=\"entities\" style=\"line-height: 2.5\">Experience with \n",
       "<mark class=\"entity\" style=\"background: #7aecec; padding: 0.45em 0.6em; margin: 0 0.25em; line-height: 1; border-radius: 0.35em; box-decoration-break: clone; -webkit-box-decoration-break: clone\">\n",
       "    LIMS\n",
       "    <span style=\"font-size: 0.8em; font-weight: bold; line-height: 1; border-radius: 0.35em; text-transform: uppercase; vertical-align: middle; margin-left: 0.5rem\">ORG</span>\n",
       "</mark>\n",
       ", \n",
       "<mark class=\"entity\" style=\"background: #7aecec; padding: 0.45em 0.6em; margin: 0 0.25em; line-height: 1; border-radius: 0.35em; box-decoration-break: clone; -webkit-box-decoration-break: clone\">\n",
       "    ELN\n",
       "    <span style=\"font-size: 0.8em; font-weight: bold; line-height: 1; border-radius: 0.35em; text-transform: uppercase; vertical-align: middle; margin-left: 0.5rem\">ORG</span>\n",
       "</mark>\n",
       ", or relevant scientific/informatics data management software…</div>"
      ],
      "text/plain": [
       "<IPython.core.display.HTML object>"
      ]
     },
     "metadata": {},
     "output_type": "display_data"
    },
    {
     "name": "stdout",
     "output_type": "stream",
     "text": [
      "\n",
      "\n",
      "\n",
      "\n",
      "\n"
     ]
    },
    {
     "data": {
      "text/html": [
       "<div class=\"entities\" style=\"line-height: 2.5\">Own the data science solution in production.\n",
       "<mark class=\"entity\" style=\"background: #feca74; padding: 0.45em 0.6em; margin: 0 0.25em; line-height: 1; border-radius: 0.35em; box-decoration-break: clone; -webkit-box-decoration-break: clone\">\n",
       "    \n",
       "\n",
       "    <span style=\"font-size: 0.8em; font-weight: bold; line-height: 1; border-radius: 0.35em; text-transform: uppercase; vertical-align: middle; margin-left: 0.5rem\">GPE</span>\n",
       "</mark>\n",
       "</div>"
      ],
      "text/plain": [
       "<IPython.core.display.HTML object>"
      ]
     },
     "metadata": {},
     "output_type": "display_data"
    },
    {
     "name": "stdout",
     "output_type": "stream",
     "text": [
      "\n",
      "\n",
      "Deep technical expertise in data science, statistical modelling and/or machine learning.\n",
      "\n",
      "\n",
      "\n",
      "\n",
      "\n"
     ]
    },
    {
     "data": {
      "text/html": [
       "<div class=\"entities\" style=\"line-height: 2.5\">You’ll bring deep \n",
       "<mark class=\"entity\" style=\"background: #7aecec; padding: 0.45em 0.6em; margin: 0 0.25em; line-height: 1; border-radius: 0.35em; box-decoration-break: clone; -webkit-box-decoration-break: clone\">\n",
       "    Customer Engagement\n",
       "    <span style=\"font-size: 0.8em; font-weight: bold; line-height: 1; border-radius: 0.35em; text-transform: uppercase; vertical-align: middle; margin-left: 0.5rem\">ORG</span>\n",
       "</mark>\n",
       " expertise within \n",
       "<mark class=\"entity\" style=\"background: #7aecec; padding: 0.45em 0.6em; margin: 0 0.25em; line-height: 1; border-radius: 0.35em; box-decoration-break: clone; -webkit-box-decoration-break: clone\">\n",
       "    Contact Centre\n",
       "    <span style=\"font-size: 0.8em; font-weight: bold; line-height: 1; border-radius: 0.35em; text-transform: uppercase; vertical-align: middle; margin-left: 0.5rem\">ORG</span>\n",
       "</mark>\n",
       " operations, with experience in \n",
       "<mark class=\"entity\" style=\"background: #7aecec; padding: 0.45em 0.6em; margin: 0 0.25em; line-height: 1; border-radius: 0.35em; box-decoration-break: clone; -webkit-box-decoration-break: clone\">\n",
       "    the Government/Public Sector, Financial Services &\n",
       "    <span style=\"font-size: 0.8em; font-weight: bold; line-height: 1; border-radius: 0.35em; text-transform: uppercase; vertical-align: middle; margin-left: 0.5rem\">ORG</span>\n",
       "</mark>\n",
       "…</div>"
      ],
      "text/plain": [
       "<IPython.core.display.HTML object>"
      ]
     },
     "metadata": {},
     "output_type": "display_data"
    },
    {
     "name": "stdout",
     "output_type": "stream",
     "text": [
      "\n",
      "\n",
      "\n",
      "\n",
      "\n"
     ]
    },
    {
     "data": {
      "text/html": [
       "<div class=\"entities\" style=\"line-height: 2.5\">This stellar data protection team in \n",
       "<mark class=\"entity\" style=\"background: #feca74; padding: 0.45em 0.6em; margin: 0 0.25em; line-height: 1; border-radius: 0.35em; box-decoration-break: clone; -webkit-box-decoration-break: clone\">\n",
       "    London\n",
       "    <span style=\"font-size: 0.8em; font-weight: bold; line-height: 1; border-radius: 0.35em; text-transform: uppercase; vertical-align: middle; margin-left: 0.5rem\">GPE</span>\n",
       "</mark>\n",
       " is looking to hire a data protection lawyer with \n",
       "<mark class=\"entity\" style=\"background: #bfe1d9; padding: 0.45em 0.6em; margin: 0 0.25em; line-height: 1; border-radius: 0.35em; box-decoration-break: clone; -webkit-box-decoration-break: clone\">\n",
       "    at least 2 years PQE\n",
       "    <span style=\"font-size: 0.8em; font-weight: bold; line-height: 1; border-radius: 0.35em; text-transform: uppercase; vertical-align: middle; margin-left: 0.5rem\">DATE</span>\n",
       "</mark>\n",
       ".</div>"
      ],
      "text/plain": [
       "<IPython.core.display.HTML object>"
      ]
     },
     "metadata": {},
     "output_type": "display_data"
    },
    {
     "name": "stdout",
     "output_type": "stream",
     "text": [
      "\n",
      "\n",
      "\n",
      "\n",
      "\n"
     ]
    },
    {
     "data": {
      "text/html": [
       "<div class=\"entities\" style=\"line-height: 2.5\">This stellar data protection team in \n",
       "<mark class=\"entity\" style=\"background: #feca74; padding: 0.45em 0.6em; margin: 0 0.25em; line-height: 1; border-radius: 0.35em; box-decoration-break: clone; -webkit-box-decoration-break: clone\">\n",
       "    London\n",
       "    <span style=\"font-size: 0.8em; font-weight: bold; line-height: 1; border-radius: 0.35em; text-transform: uppercase; vertical-align: middle; margin-left: 0.5rem\">GPE</span>\n",
       "</mark>\n",
       " is looking to hire a data protection lawyer with \n",
       "<mark class=\"entity\" style=\"background: #bfe1d9; padding: 0.45em 0.6em; margin: 0 0.25em; line-height: 1; border-radius: 0.35em; box-decoration-break: clone; -webkit-box-decoration-break: clone\">\n",
       "    at least 2 years PQE\n",
       "    <span style=\"font-size: 0.8em; font-weight: bold; line-height: 1; border-radius: 0.35em; text-transform: uppercase; vertical-align: middle; margin-left: 0.5rem\">DATE</span>\n",
       "</mark>\n",
       ".</div>"
      ],
      "text/plain": [
       "<IPython.core.display.HTML object>"
      ]
     },
     "metadata": {},
     "output_type": "display_data"
    },
    {
     "name": "stdout",
     "output_type": "stream",
     "text": [
      "\n",
      "\n",
      "\n",
      "\n",
      "\n"
     ]
    },
    {
     "data": {
      "text/html": [
       "<div class=\"entities\" style=\"line-height: 2.5\">A \n",
       "<mark class=\"entity\" style=\"background: #f0d0ff; padding: 0.45em 0.6em; margin: 0 0.25em; line-height: 1; border-radius: 0.35em; box-decoration-break: clone; -webkit-box-decoration-break: clone\">\n",
       "    MBA\n",
       "    <span style=\"font-size: 0.8em; font-weight: bold; line-height: 1; border-radius: 0.35em; text-transform: uppercase; vertical-align: middle; margin-left: 0.5rem\">WORK_OF_ART</span>\n",
       "</mark>\n",
       " or graduate degree in business or life sciences (highly preferred).\n",
       "<mark class=\"entity\" style=\"background: #feca74; padding: 0.45em 0.6em; margin: 0 0.25em; line-height: 1; border-radius: 0.35em; box-decoration-break: clone; -webkit-box-decoration-break: clone\">\n",
       "    \n",
       "\n",
       "    <span style=\"font-size: 0.8em; font-weight: bold; line-height: 1; border-radius: 0.35em; text-transform: uppercase; vertical-align: middle; margin-left: 0.5rem\">GPE</span>\n",
       "</mark>\n",
       "</div>"
      ],
      "text/plain": [
       "<IPython.core.display.HTML object>"
      ]
     },
     "metadata": {},
     "output_type": "display_data"
    },
    {
     "name": "stdout",
     "output_type": "stream",
     "text": [
      "\n",
      "\n",
      "Using research from competitive pipelines, company websites, prescribing information,…\n",
      "\n",
      "\n",
      "\n",
      "\n",
      "\n"
     ]
    },
    {
     "data": {
      "text/html": [
       "<div class=\"entities\" style=\"line-height: 2.5\">Up-to-date understanding of key developments in the data economy (big data, personal data management, privacy, regulation e.g. \n",
       "<mark class=\"entity\" style=\"background: #aa9cfc; padding: 0.45em 0.6em; margin: 0 0.25em; line-height: 1; border-radius: 0.35em; box-decoration-break: clone; -webkit-box-decoration-break: clone\">\n",
       "    GDPR\n",
       "    <span style=\"font-size: 0.8em; font-weight: bold; line-height: 1; border-radius: 0.35em; text-transform: uppercase; vertical-align: middle; margin-left: 0.5rem\">PERSON</span>\n",
       "</mark>\n",
       ") and developments in data…</div>"
      ],
      "text/plain": [
       "<IPython.core.display.HTML object>"
      ]
     },
     "metadata": {},
     "output_type": "display_data"
    },
    {
     "name": "stdout",
     "output_type": "stream",
     "text": [
      "\n",
      "\n",
      "\n",
      "\n",
      "\n"
     ]
    },
    {
     "data": {
      "text/html": [
       "<div class=\"entities\" style=\"line-height: 2.5\">You’ll bring deep \n",
       "<mark class=\"entity\" style=\"background: #7aecec; padding: 0.45em 0.6em; margin: 0 0.25em; line-height: 1; border-radius: 0.35em; box-decoration-break: clone; -webkit-box-decoration-break: clone\">\n",
       "    Customer Engagement\n",
       "    <span style=\"font-size: 0.8em; font-weight: bold; line-height: 1; border-radius: 0.35em; text-transform: uppercase; vertical-align: middle; margin-left: 0.5rem\">ORG</span>\n",
       "</mark>\n",
       " expertise within \n",
       "<mark class=\"entity\" style=\"background: #7aecec; padding: 0.45em 0.6em; margin: 0 0.25em; line-height: 1; border-radius: 0.35em; box-decoration-break: clone; -webkit-box-decoration-break: clone\">\n",
       "    Contact Centre\n",
       "    <span style=\"font-size: 0.8em; font-weight: bold; line-height: 1; border-radius: 0.35em; text-transform: uppercase; vertical-align: middle; margin-left: 0.5rem\">ORG</span>\n",
       "</mark>\n",
       " operations, with experience in \n",
       "<mark class=\"entity\" style=\"background: #7aecec; padding: 0.45em 0.6em; margin: 0 0.25em; line-height: 1; border-radius: 0.35em; box-decoration-break: clone; -webkit-box-decoration-break: clone\">\n",
       "    the Government/Public Sector, Financial Services &\n",
       "    <span style=\"font-size: 0.8em; font-weight: bold; line-height: 1; border-radius: 0.35em; text-transform: uppercase; vertical-align: middle; margin-left: 0.5rem\">ORG</span>\n",
       "</mark>\n",
       "…</div>"
      ],
      "text/plain": [
       "<IPython.core.display.HTML object>"
      ]
     },
     "metadata": {},
     "output_type": "display_data"
    },
    {
     "name": "stdout",
     "output_type": "stream",
     "text": [
      "\n",
      "\n",
      "\n",
      "\n",
      "\n"
     ]
    },
    {
     "data": {
      "text/html": [
       "<div class=\"entities\" style=\"line-height: 2.5\">And risk and regulatory management (cybersecurity, data quality and data governance, etc.).\n",
       "<mark class=\"entity\" style=\"background: #feca74; padding: 0.45em 0.6em; margin: 0 0.25em; line-height: 1; border-radius: 0.35em; box-decoration-break: clone; -webkit-box-decoration-break: clone\">\n",
       "    \n",
       "\n",
       "    <span style=\"font-size: 0.8em; font-weight: bold; line-height: 1; border-radius: 0.35em; text-transform: uppercase; vertical-align: middle; margin-left: 0.5rem\">GPE</span>\n",
       "</mark>\n",
       "</div>"
      ],
      "text/plain": [
       "<IPython.core.display.HTML object>"
      ]
     },
     "metadata": {},
     "output_type": "display_data"
    },
    {
     "name": "stdout",
     "output_type": "stream",
     "text": [
      "\n",
      "\n",
      "You will be working in key projects for leading organizations in IT…\n",
      "\n",
      "\n",
      "\n",
      "\n",
      "\n"
     ]
    }
   ],
   "source": [
    "for i in nlp_jd_i:\n",
    "    for sent in i.sents:\n",
    "        docx = nlp(sent.text)\n",
    "        if docx.ents:\n",
    "            displacy.render(docx, style='ent', jupyter=True)\n",
    "#            doc, style='ent', options=options\n",
    "        else:\n",
    "            print(docx.text)\n",
    "        print('\\n')\n",
    "    print('\\n\\n')"
   ]
  },
  {
   "cell_type": "code",
   "execution_count": 14,
   "metadata": {},
   "outputs": [],
   "source": [
    "import warnings\n",
    "warnings.filterwarnings('ignore')\n",
    "#warnings.filterwarnings(action='once')"
   ]
  },
  {
   "cell_type": "markdown",
   "metadata": {},
   "source": [
    "## Pre-processing using skicit-learn and Visualisation Libraries"
   ]
  },
  {
   "cell_type": "code",
   "execution_count": 15,
   "metadata": {},
   "outputs": [],
   "source": [
    "from time import time\n",
    "from sklearn.feature_extraction.text import TfidfVectorizer, CountVectorizer\n",
    "from sklearn.decomposition import NMF, LatentDirichletAllocation\n",
    "import pyLDAvis.sklearn\n",
    "from pylab import bone, pcolor, colorbar, plot, show, rcParams, savefig"
   ]
  },
  {
   "cell_type": "markdown",
   "metadata": {},
   "source": [
    "#### Configuration "
   ]
  },
  {
   "cell_type": "code",
   "execution_count": 16,
   "metadata": {},
   "outputs": [
    {
     "name": "stderr",
     "output_type": "stream",
     "text": [
      "/home/etzimopoulos/anaconda3/envs/nlp_course/lib/python3.7/site-packages/ipykernel/ipkernel.py:287: DeprecationWarning: `should_run_async` will not call `transform_cell` automatically in the future. Please pass the result to `transformed_cell` argument and any exception that happen during thetransform in `preprocessing_exc_tuple` in IPython 7.17 and above.\n",
      "  and should_run_async(code)\n"
     ]
    }
   ],
   "source": [
    "# Number of points to use from Dataset\n",
    "n_samples = 75\n",
    "\n",
    "# Number of features from vectorised featureset\n",
    "n_features = 1000\n",
    "\n",
    "# Number of Topics to extract\n",
    "n_components = 10\n",
    "\n",
    "# Number of Words per topic\n",
    "n_top_words = 15"
   ]
  },
  {
   "cell_type": "markdown",
   "metadata": {},
   "source": [
    "#### Use Count Vectorizer (Bag of Words) for extracting features"
   ]
  },
  {
   "cell_type": "code",
   "execution_count": 17,
   "metadata": {},
   "outputs": [
    {
     "name": "stderr",
     "output_type": "stream",
     "text": [
      "/home/etzimopoulos/anaconda3/envs/nlp_course/lib/python3.7/site-packages/ipykernel/ipkernel.py:287: DeprecationWarning: `should_run_async` will not call `transform_cell` automatically in the future. Please pass the result to `transformed_cell` argument and any exception that happen during thetransform in `preprocessing_exc_tuple` in IPython 7.17 and above.\n",
      "  and should_run_async(code)\n"
     ]
    }
   ],
   "source": [
    "tf_vectorizer = CountVectorizer(max_df=0.95, min_df=2, max_features=n_features, stop_words='english')"
   ]
  },
  {
   "cell_type": "code",
   "execution_count": 19,
   "metadata": {},
   "outputs": [
    {
     "name": "stderr",
     "output_type": "stream",
     "text": [
      "/home/etzimopoulos/anaconda3/envs/nlp_course/lib/python3.7/site-packages/ipykernel/ipkernel.py:287: DeprecationWarning: `should_run_async` will not call `transform_cell` automatically in the future. Please pass the result to `transformed_cell` argument and any exception that happen during thetransform in `preprocessing_exc_tuple` in IPython 7.17 and above.\n",
      "  and should_run_async(code)\n"
     ]
    }
   ],
   "source": [
    "tf = tf_vectorizer.fit_transform(i_jobs['Job Description'][:n_samples])"
   ]
  },
  {
   "cell_type": "code",
   "execution_count": 20,
   "metadata": {},
   "outputs": [
    {
     "name": "stderr",
     "output_type": "stream",
     "text": [
      "/home/etzimopoulos/anaconda3/envs/nlp_course/lib/python3.7/site-packages/ipykernel/ipkernel.py:287: DeprecationWarning: `should_run_async` will not call `transform_cell` automatically in the future. Please pass the result to `transformed_cell` argument and any exception that happen during thetransform in `preprocessing_exc_tuple` in IPython 7.17 and above.\n",
      "  and should_run_async(code)\n"
     ]
    },
    {
     "data": {
      "text/plain": [
       "<75x191 sparse matrix of type '<class 'numpy.int64'>'\n",
       "\twith 713 stored elements in Compressed Sparse Row format>"
      ]
     },
     "execution_count": 20,
     "metadata": {},
     "output_type": "execute_result"
    }
   ],
   "source": [
    "tf"
   ]
  },
  {
   "cell_type": "code",
   "execution_count": null,
   "metadata": {},
   "outputs": [],
   "source": []
  },
  {
   "cell_type": "markdown",
   "metadata": {},
   "source": [
    "#### Use Tf-IDF Vectorizer for extracting features"
   ]
  },
  {
   "cell_type": "code",
   "execution_count": 21,
   "metadata": {},
   "outputs": [
    {
     "name": "stderr",
     "output_type": "stream",
     "text": [
      "/home/etzimopoulos/anaconda3/envs/nlp_course/lib/python3.7/site-packages/ipykernel/ipkernel.py:287: DeprecationWarning: `should_run_async` will not call `transform_cell` automatically in the future. Please pass the result to `transformed_cell` argument and any exception that happen during thetransform in `preprocessing_exc_tuple` in IPython 7.17 and above.\n",
      "  and should_run_async(code)\n"
     ]
    }
   ],
   "source": [
    "tfidf_vectorizer = TfidfVectorizer(max_df=0.95, min_df=2, max_features=n_features, stop_words='english')"
   ]
  },
  {
   "cell_type": "code",
   "execution_count": 22,
   "metadata": {},
   "outputs": [
    {
     "name": "stderr",
     "output_type": "stream",
     "text": [
      "/home/etzimopoulos/anaconda3/envs/nlp_course/lib/python3.7/site-packages/ipykernel/ipkernel.py:287: DeprecationWarning: `should_run_async` will not call `transform_cell` automatically in the future. Please pass the result to `transformed_cell` argument and any exception that happen during thetransform in `preprocessing_exc_tuple` in IPython 7.17 and above.\n",
      "  and should_run_async(code)\n"
     ]
    }
   ],
   "source": [
    "tfidf = tfidf_vectorizer.fit_transform(i_jobs['Job Description'][:n_samples])"
   ]
  },
  {
   "cell_type": "code",
   "execution_count": 23,
   "metadata": {},
   "outputs": [
    {
     "name": "stderr",
     "output_type": "stream",
     "text": [
      "/home/etzimopoulos/anaconda3/envs/nlp_course/lib/python3.7/site-packages/ipykernel/ipkernel.py:287: DeprecationWarning: `should_run_async` will not call `transform_cell` automatically in the future. Please pass the result to `transformed_cell` argument and any exception that happen during thetransform in `preprocessing_exc_tuple` in IPython 7.17 and above.\n",
      "  and should_run_async(code)\n"
     ]
    },
    {
     "data": {
      "text/plain": [
       "<75x191 sparse matrix of type '<class 'numpy.float64'>'\n",
       "\twith 713 stored elements in Compressed Sparse Row format>"
      ]
     },
     "execution_count": 23,
     "metadata": {},
     "output_type": "execute_result"
    }
   ],
   "source": [
    "tfidf"
   ]
  },
  {
   "cell_type": "markdown",
   "metadata": {},
   "source": [
    "## LDA modelling"
   ]
  },
  {
   "cell_type": "markdown",
   "metadata": {},
   "source": [
    "#### Kaggle Job Descriptions"
   ]
  },
  {
   "cell_type": "code",
   "execution_count": 24,
   "metadata": {},
   "outputs": [
    {
     "name": "stderr",
     "output_type": "stream",
     "text": [
      "/home/etzimopoulos/anaconda3/envs/nlp_course/lib/python3.7/site-packages/ipykernel/ipkernel.py:287: DeprecationWarning: `should_run_async` will not call `transform_cell` automatically in the future. Please pass the result to `transformed_cell` argument and any exception that happen during thetransform in `preprocessing_exc_tuple` in IPython 7.17 and above.\n",
      "  and should_run_async(code)\n"
     ]
    }
   ],
   "source": [
    "LDA = LatentDirichletAllocation(n_components=n_components, max_iter=5,\n",
    "                                learning_method='online',\n",
    "                                learning_offset=50.,\n",
    "                                random_state=0)"
   ]
  },
  {
   "cell_type": "code",
   "execution_count": 25,
   "metadata": {},
   "outputs": [
    {
     "name": "stderr",
     "output_type": "stream",
     "text": [
      "/home/etzimopoulos/anaconda3/envs/nlp_course/lib/python3.7/site-packages/ipykernel/ipkernel.py:287: DeprecationWarning: `should_run_async` will not call `transform_cell` automatically in the future. Please pass the result to `transformed_cell` argument and any exception that happen during thetransform in `preprocessing_exc_tuple` in IPython 7.17 and above.\n",
      "  and should_run_async(code)\n"
     ]
    }
   ],
   "source": [
    "# Fit document using Bag of Words (Term Frequency)\n",
    "LDA1 = LDA.fit(tf)"
   ]
  },
  {
   "cell_type": "code",
   "execution_count": 129,
   "metadata": {},
   "outputs": [
    {
     "name": "stderr",
     "output_type": "stream",
     "text": [
      "/home/etzimopoulos/anaconda3/envs/nlp_course/lib/python3.7/site-packages/ipykernel/ipkernel.py:287: DeprecationWarning: `should_run_async` will not call `transform_cell` automatically in the future. Please pass the result to `transformed_cell` argument and any exception that happen during thetransform in `preprocessing_exc_tuple` in IPython 7.17 and above.\n",
      "  and should_run_async(code)\n"
     ]
    }
   ],
   "source": [
    "# Fit again using Inverse Document Frequency (TFIDF)\n",
    "#LDA2 = LDA.fit(tfidf)"
   ]
  },
  {
   "cell_type": "code",
   "execution_count": 26,
   "metadata": {},
   "outputs": [
    {
     "name": "stderr",
     "output_type": "stream",
     "text": [
      "/home/etzimopoulos/anaconda3/envs/nlp_course/lib/python3.7/site-packages/ipykernel/ipkernel.py:287: DeprecationWarning: `should_run_async` will not call `transform_cell` automatically in the future. Please pass the result to `transformed_cell` argument and any exception that happen during thetransform in `preprocessing_exc_tuple` in IPython 7.17 and above.\n",
      "  and should_run_async(code)\n"
     ]
    },
    {
     "data": {
      "text/plain": [
       "191"
      ]
     },
     "execution_count": 26,
     "metadata": {},
     "output_type": "execute_result"
    }
   ],
   "source": [
    "# Check features length\n",
    "len(tf_vectorizer.get_feature_names())"
   ]
  },
  {
   "cell_type": "code",
   "execution_count": 27,
   "metadata": {},
   "outputs": [
    {
     "name": "stderr",
     "output_type": "stream",
     "text": [
      "/home/etzimopoulos/anaconda3/envs/nlp_course/lib/python3.7/site-packages/ipykernel/ipkernel.py:287: DeprecationWarning: `should_run_async` will not call `transform_cell` automatically in the future. Please pass the result to `transformed_cell` argument and any exception that happen during thetransform in `preprocessing_exc_tuple` in IPython 7.17 and above.\n",
      "  and should_run_async(code)\n"
     ]
    }
   ],
   "source": [
    "# Check vectors length\n",
    "#len(tfidf_vectorizer.get_feature_names())"
   ]
  },
  {
   "cell_type": "code",
   "execution_count": 28,
   "metadata": {},
   "outputs": [
    {
     "name": "stderr",
     "output_type": "stream",
     "text": [
      "/home/etzimopoulos/anaconda3/envs/nlp_course/lib/python3.7/site-packages/ipykernel/ipkernel.py:287: DeprecationWarning: `should_run_async` will not call `transform_cell` automatically in the future. Please pass the result to `transformed_cell` argument and any exception that happen during thetransform in `preprocessing_exc_tuple` in IPython 7.17 and above.\n",
      "  and should_run_async(code)\n"
     ]
    }
   ],
   "source": [
    "import random"
   ]
  },
  {
   "cell_type": "code",
   "execution_count": 29,
   "metadata": {},
   "outputs": [
    {
     "name": "stderr",
     "output_type": "stream",
     "text": [
      "/home/etzimopoulos/anaconda3/envs/nlp_course/lib/python3.7/site-packages/ipykernel/ipkernel.py:287: DeprecationWarning: `should_run_async` will not call `transform_cell` automatically in the future. Please pass the result to `transformed_cell` argument and any exception that happen during thetransform in `preprocessing_exc_tuple` in IPython 7.17 and above.\n",
      "  and should_run_async(code)\n"
     ]
    },
    {
     "ename": "IndexError",
     "evalue": "list index out of range",
     "output_type": "error",
     "traceback": [
      "\u001b[0;31m---------------------------------------------------------------------------\u001b[0m",
      "\u001b[0;31mIndexError\u001b[0m                                Traceback (most recent call last)",
      "\u001b[0;32m<ipython-input-29-f64e91d44797>\u001b[0m in \u001b[0;36m<module>\u001b[0;34m\u001b[0m\n\u001b[1;32m      1\u001b[0m \u001b[0;32mfor\u001b[0m \u001b[0mi\u001b[0m \u001b[0;32min\u001b[0m \u001b[0mrange\u001b[0m\u001b[0;34m(\u001b[0m\u001b[0;36m10\u001b[0m\u001b[0;34m)\u001b[0m\u001b[0;34m:\u001b[0m\u001b[0;34m\u001b[0m\u001b[0;34m\u001b[0m\u001b[0m\n\u001b[1;32m      2\u001b[0m     \u001b[0mrandom_word_id\u001b[0m \u001b[0;34m=\u001b[0m \u001b[0mrandom\u001b[0m\u001b[0;34m.\u001b[0m\u001b[0mrandint\u001b[0m\u001b[0;34m(\u001b[0m\u001b[0;36m0\u001b[0m\u001b[0;34m,\u001b[0m\u001b[0mn_features\u001b[0m\u001b[0;34m)\u001b[0m\u001b[0;34m\u001b[0m\u001b[0;34m\u001b[0m\u001b[0m\n\u001b[0;32m----> 3\u001b[0;31m     \u001b[0mprint\u001b[0m\u001b[0;34m(\u001b[0m\u001b[0mtf_vectorizer\u001b[0m\u001b[0;34m.\u001b[0m\u001b[0mget_feature_names\u001b[0m\u001b[0;34m(\u001b[0m\u001b[0;34m)\u001b[0m\u001b[0;34m[\u001b[0m\u001b[0mrandom_word_id\u001b[0m\u001b[0;34m]\u001b[0m\u001b[0;34m)\u001b[0m\u001b[0;34m\u001b[0m\u001b[0;34m\u001b[0m\u001b[0m\n\u001b[0m",
      "\u001b[0;31mIndexError\u001b[0m: list index out of range"
     ]
    }
   ],
   "source": [
    "for i in range(10):\n",
    "    random_word_id = random.randint(0,n_features)\n",
    "    print(tf_vectorizer.get_feature_names()[random_word_id])"
   ]
  },
  {
   "cell_type": "code",
   "execution_count": null,
   "metadata": {},
   "outputs": [],
   "source": []
  },
  {
   "cell_type": "markdown",
   "metadata": {},
   "source": [
    "#### Check number of components"
   ]
  },
  {
   "cell_type": "code",
   "execution_count": 30,
   "metadata": {},
   "outputs": [
    {
     "name": "stderr",
     "output_type": "stream",
     "text": [
      "/home/etzimopoulos/anaconda3/envs/nlp_course/lib/python3.7/site-packages/ipykernel/ipkernel.py:287: DeprecationWarning: `should_run_async` will not call `transform_cell` automatically in the future. Please pass the result to `transformed_cell` argument and any exception that happen during thetransform in `preprocessing_exc_tuple` in IPython 7.17 and above.\n",
      "  and should_run_async(code)\n"
     ]
    },
    {
     "data": {
      "text/plain": [
       "10"
      ]
     },
     "execution_count": 30,
     "metadata": {},
     "output_type": "execute_result"
    }
   ],
   "source": [
    "len(LDA1.components_)"
   ]
  },
  {
   "cell_type": "code",
   "execution_count": 31,
   "metadata": {},
   "outputs": [
    {
     "name": "stderr",
     "output_type": "stream",
     "text": [
      "/home/etzimopoulos/anaconda3/envs/nlp_course/lib/python3.7/site-packages/ipykernel/ipkernel.py:287: DeprecationWarning: `should_run_async` will not call `transform_cell` automatically in the future. Please pass the result to `transformed_cell` argument and any exception that happen during thetransform in `preprocessing_exc_tuple` in IPython 7.17 and above.\n",
      "  and should_run_async(code)\n"
     ]
    }
   ],
   "source": [
    "#len(LDA2.components_)"
   ]
  },
  {
   "cell_type": "markdown",
   "metadata": {},
   "source": [
    "### Top 10 words per topic Using Bag of Words (TF - Document Term Frequency)"
   ]
  },
  {
   "cell_type": "code",
   "execution_count": 32,
   "metadata": {},
   "outputs": [
    {
     "name": "stdout",
     "output_type": "stream",
     "text": [
      "THE TOP 15 WORDS FOR TOPIC #0\n",
      "['know', 'analysis', 'statistical', 'non', 'principles', 'assessing', 'submissions', 'career', 'customer', 'solutions', 'providing', 'graduate', 'experience', 'equip', 'skills']\n",
      "\n",
      "\n",
      "THE TOP 15 WORDS FOR TOPIC #1\n",
      "['scientific', 'management', 'experience', 'preferred', 'science', 'strategy', 'life', 'sciences', 'engineering', 'delivering', 'customer', 'degree', 'marketing', 'business', 'data']\n",
      "\n",
      "\n",
      "THE TOP 15 WORDS FOR TOPIC #2\n",
      "['non', 'engineering', 'understanding', 'strengths', 'skills', 'range', 'encourage', 'cultivate', 'wide', 'areas', 'software', 'consultants', 'technical', 'science', 'data']\n",
      "\n",
      "\n",
      "THE TOP 15 WORDS FOR TOPIC #3\n",
      "['gained', 'customers', 'intelligence', 'creatively', 'turn', 'insights', 'apply', 'develop', 'analytic', 'knowledge', 'approaches', 'science', 'results', 'information', 'data']\n",
      "\n",
      "\n",
      "THE TOP 15 WORDS FOR TOPIC #4\n",
      "['minimum', 'structured', 'techniques', 'optionally', 'modeling', 'sources', 'processing', 'driven', 'work', 'consultant', 'ensure', 'experience', 'knowledge', 'working', 'data']\n",
      "\n",
      "\n",
      "THE TOP 15 WORDS FOR TOPIC #5\n",
      "['role', 'financial', 'business', 'complex', 'management', 'large', 'degree', 'working', 'customer', 'services', 'computer', 'analytics', 'experience', 'science', 'data']\n",
      "\n",
      "\n",
      "THE TOP 15 WORDS FOR TOPIC #6\n",
      "['techniques', 'analysis', 'solutions', 'operations', 'relevant', 'frameworks', 'legislative', 'compliance', 'producing', 'effective', 'governance', 'assessing', 'clients', 'data', 'privacy']\n",
      "\n",
      "\n",
      "THE TOP 15 WORDS FOR TOPIC #7\n",
      "['consultant', 'software', 'engagement', 'equivalent', 'computer', 'assessing', 'non', 'projects', 'producing', 'background', 'science', 'social', 'strong', 'sciences', 'public']\n",
      "\n",
      "\n",
      "THE TOP 15 WORDS FOR TOPIC #8\n",
      "['sciences', 'working', 'expected', 'models', 'organizations', 'understand', 'experience', 'complex', 'projects', 'knowledge', 'relevant', 'years', 'modeling', 'key', 'data']\n",
      "\n",
      "\n",
      "THE TOP 15 WORDS FOR TOPIC #9\n",
      "['behaviour', 'projects', 'risk', 'transformation', 'working', 'pqe', 'hire', 'looking', 'team', 'london', 'lawyer', 'stellar', 'years', 'protection', 'data']\n",
      "\n",
      "\n"
     ]
    },
    {
     "name": "stderr",
     "output_type": "stream",
     "text": [
      "/home/etzimopoulos/anaconda3/envs/nlp_course/lib/python3.7/site-packages/ipykernel/ipkernel.py:287: DeprecationWarning: `should_run_async` will not call `transform_cell` automatically in the future. Please pass the result to `transformed_cell` argument and any exception that happen during thetransform in `preprocessing_exc_tuple` in IPython 7.17 and above.\n",
      "  and should_run_async(code)\n"
     ]
    }
   ],
   "source": [
    "for index,topic in enumerate(LDA.components_):\n",
    "    print(f'THE TOP {n_top_words} WORDS FOR TOPIC #{index}')\n",
    "    print([tf_vectorizer.get_feature_names()[i] for i in topic.argsort()[-n_top_words:]])\n",
    "    print('\\n')"
   ]
  },
  {
   "cell_type": "code",
   "execution_count": 33,
   "metadata": {},
   "outputs": [
    {
     "name": "stderr",
     "output_type": "stream",
     "text": [
      "/home/etzimopoulos/anaconda3/envs/nlp_course/lib/python3.7/site-packages/ipykernel/ipkernel.py:287: DeprecationWarning: `should_run_async` will not call `transform_cell` automatically in the future. Please pass the result to `transformed_cell` argument and any exception that happen during thetransform in `preprocessing_exc_tuple` in IPython 7.17 and above.\n",
      "  and should_run_async(code)\n",
      "/home/etzimopoulos/anaconda3/envs/nlp_course/lib/python3.7/site-packages/pandas/core/common.py:471: DeprecationWarning: Using or importing the ABCs from 'collections' instead of from 'collections.abc' is deprecated since Python 3.3,and in 3.9 it will stop working\n",
      "  if not issubclass(into, collections.Mapping):\n"
     ]
    },
    {
     "data": {
      "text/html": [
       "\n",
       "<link rel=\"stylesheet\" type=\"text/css\" href=\"https://cdn.rawgit.com/bmabey/pyLDAvis/files/ldavis.v1.0.0.css\">\n",
       "\n",
       "\n",
       "<div id=\"ldavis_el7471403279212772645859853890\"></div>\n",
       "<script type=\"text/javascript\">\n",
       "\n",
       "var ldavis_el7471403279212772645859853890_data = {\"mdsDat\": {\"x\": [32.42095184326172, 0.648955225944519, 71.01968383789062, 3.7859814167022705, -42.666500091552734, -3.6216893196105957, -3.632401704788208, -36.58440017700195, 44.391380310058594, 40.235809326171875], \"y\": [8.115229606628418, 71.70709991455078, 9.971006393432617, 33.18513488769531, -9.22206974029541, -43.52651596069336, -4.171707630157471, 35.804412841796875, 50.61538314819336, -31.591665267944336], \"topics\": [1, 2, 3, 4, 5, 6, 7, 8, 9, 10], \"cluster\": [1, 1, 1, 1, 1, 1, 1, 1, 1, 1], \"Freq\": [37.92839778279868, 17.25845482977843, 8.976490103897374, 8.339635911493758, 8.129065919380704, 7.578808584568275, 4.8666225390269195, 3.702746474678653, 1.6952410171504135, 1.5245368372268027]}, \"tinfo\": {\"Category\": [\"Default\", \"Default\", \"Default\", \"Default\", \"Default\", \"Default\", \"Default\", \"Default\", \"Default\", \"Default\", \"Default\", \"Default\", \"Default\", \"Default\", \"Default\", \"Default\", \"Default\", \"Default\", \"Default\", \"Default\", \"Default\", \"Default\", \"Default\", \"Default\", \"Default\", \"Default\", \"Default\", \"Default\", \"Default\", \"Default\", \"Topic1\", \"Topic1\", \"Topic1\", \"Topic1\", \"Topic1\", \"Topic1\", \"Topic1\", \"Topic1\", \"Topic1\", \"Topic1\", \"Topic1\", \"Topic1\", \"Topic1\", \"Topic1\", \"Topic1\", \"Topic1\", \"Topic1\", \"Topic1\", \"Topic1\", \"Topic1\", \"Topic1\", \"Topic1\", \"Topic1\", \"Topic1\", \"Topic1\", \"Topic1\", \"Topic1\", \"Topic1\", \"Topic1\", \"Topic1\", \"Topic1\", \"Topic1\", \"Topic1\", \"Topic1\", \"Topic1\", \"Topic2\", \"Topic2\", \"Topic2\", \"Topic2\", \"Topic2\", \"Topic2\", \"Topic2\", \"Topic2\", \"Topic2\", \"Topic2\", \"Topic2\", \"Topic2\", \"Topic2\", \"Topic2\", \"Topic2\", \"Topic2\", \"Topic2\", \"Topic2\", \"Topic2\", \"Topic2\", \"Topic2\", \"Topic2\", \"Topic2\", \"Topic2\", \"Topic2\", \"Topic2\", \"Topic2\", \"Topic2\", \"Topic2\", \"Topic2\", \"Topic2\", \"Topic2\", \"Topic2\", \"Topic2\", \"Topic2\", \"Topic2\", \"Topic2\", \"Topic2\", \"Topic2\", \"Topic3\", \"Topic3\", \"Topic3\", \"Topic3\", \"Topic3\", \"Topic3\", \"Topic3\", \"Topic3\", \"Topic3\", \"Topic3\", \"Topic3\", \"Topic3\", \"Topic3\", \"Topic3\", \"Topic3\", \"Topic3\", \"Topic3\", \"Topic3\", \"Topic3\", \"Topic3\", \"Topic3\", \"Topic3\", \"Topic3\", \"Topic3\", \"Topic3\", \"Topic3\", \"Topic3\", \"Topic3\", \"Topic3\", \"Topic3\", \"Topic3\", \"Topic3\", \"Topic3\", \"Topic3\", \"Topic3\", \"Topic3\", \"Topic3\", \"Topic3\", \"Topic3\", \"Topic3\", \"Topic4\", \"Topic4\", \"Topic4\", \"Topic4\", \"Topic4\", \"Topic4\", \"Topic4\", \"Topic4\", \"Topic4\", \"Topic4\", \"Topic4\", \"Topic4\", \"Topic4\", \"Topic4\", \"Topic4\", \"Topic4\", \"Topic4\", \"Topic4\", \"Topic4\", \"Topic4\", \"Topic4\", \"Topic4\", \"Topic4\", \"Topic4\", \"Topic4\", \"Topic4\", \"Topic4\", \"Topic4\", \"Topic4\", \"Topic4\", \"Topic4\", \"Topic4\", \"Topic4\", \"Topic4\", \"Topic4\", \"Topic4\", \"Topic4\", \"Topic4\", \"Topic4\", \"Topic5\", \"Topic5\", \"Topic5\", \"Topic5\", \"Topic5\", \"Topic5\", \"Topic5\", \"Topic5\", \"Topic5\", \"Topic5\", \"Topic5\", \"Topic5\", \"Topic5\", \"Topic5\", \"Topic5\", \"Topic5\", \"Topic5\", \"Topic5\", \"Topic5\", \"Topic5\", \"Topic5\", \"Topic5\", \"Topic5\", \"Topic5\", \"Topic5\", \"Topic5\", \"Topic5\", \"Topic5\", \"Topic5\", \"Topic5\", \"Topic5\", \"Topic5\", \"Topic5\", \"Topic5\", \"Topic5\", \"Topic5\", \"Topic5\", \"Topic5\", \"Topic5\", \"Topic6\", \"Topic6\", \"Topic6\", \"Topic6\", \"Topic6\", \"Topic6\", \"Topic6\", \"Topic6\", \"Topic6\", \"Topic6\", \"Topic6\", \"Topic6\", \"Topic6\", \"Topic6\", \"Topic6\", \"Topic6\", \"Topic6\", \"Topic6\", \"Topic6\", \"Topic6\", \"Topic6\", \"Topic6\", \"Topic6\", \"Topic6\", \"Topic6\", \"Topic6\", \"Topic6\", \"Topic6\", \"Topic6\", \"Topic6\", \"Topic6\", \"Topic6\", \"Topic6\", \"Topic6\", \"Topic6\", \"Topic6\", \"Topic6\", \"Topic7\", \"Topic7\", \"Topic7\", \"Topic7\", \"Topic7\", \"Topic7\", \"Topic7\", \"Topic7\", \"Topic7\", \"Topic7\", \"Topic7\", \"Topic7\", \"Topic7\", \"Topic7\", \"Topic7\", \"Topic7\", \"Topic7\", \"Topic7\", \"Topic7\", \"Topic7\", \"Topic7\", \"Topic7\", \"Topic7\", \"Topic7\", \"Topic7\", \"Topic7\", \"Topic7\", \"Topic7\", \"Topic7\", \"Topic7\", \"Topic7\", \"Topic7\", \"Topic7\", \"Topic7\", \"Topic7\", \"Topic7\", \"Topic7\", \"Topic7\", \"Topic8\", \"Topic8\", \"Topic8\", \"Topic8\", \"Topic8\", \"Topic8\", \"Topic8\", \"Topic8\", \"Topic8\", \"Topic8\", \"Topic8\", \"Topic8\", \"Topic8\", \"Topic8\", \"Topic8\", \"Topic8\", \"Topic8\", \"Topic8\", \"Topic8\", \"Topic8\", \"Topic8\", \"Topic8\", \"Topic8\", \"Topic8\", \"Topic8\", \"Topic8\", \"Topic8\", \"Topic8\", \"Topic8\", \"Topic8\", \"Topic8\", \"Topic8\", \"Topic8\", \"Topic8\", \"Topic8\", \"Topic8\", \"Topic8\", \"Topic8\", \"Topic8\", \"Topic9\", \"Topic9\", \"Topic9\", \"Topic9\", \"Topic9\", \"Topic9\", \"Topic9\", \"Topic9\", \"Topic9\", \"Topic9\", \"Topic9\", \"Topic9\", \"Topic9\", \"Topic9\", \"Topic9\", \"Topic9\", \"Topic9\", \"Topic9\", \"Topic9\", \"Topic9\", \"Topic9\", \"Topic9\", \"Topic9\", \"Topic9\", \"Topic9\", \"Topic9\", \"Topic9\", \"Topic9\", \"Topic9\", \"Topic9\", \"Topic9\", \"Topic9\", \"Topic9\", \"Topic9\", \"Topic9\", \"Topic9\", \"Topic9\", \"Topic9\", \"Topic9\", \"Topic9\", \"Topic9\", \"Topic9\", \"Topic9\", \"Topic9\", \"Topic10\", \"Topic10\", \"Topic10\", \"Topic10\", \"Topic10\", \"Topic10\", \"Topic10\", \"Topic10\", \"Topic10\", \"Topic10\", \"Topic10\", \"Topic10\", \"Topic10\", \"Topic10\", \"Topic10\", \"Topic10\", \"Topic10\", \"Topic10\", \"Topic10\", \"Topic10\", \"Topic10\", \"Topic10\", \"Topic10\", \"Topic10\", \"Topic10\", \"Topic10\", \"Topic10\", \"Topic10\", \"Topic10\", \"Topic10\", \"Topic10\", \"Topic10\", \"Topic10\", \"Topic10\", \"Topic10\", \"Topic10\", \"Topic10\", \"Topic10\", \"Topic10\", \"Topic10\", \"Topic10\", \"Topic10\", \"Topic10\", \"Topic10\", \"Topic10\", \"Topic10\"], \"Freq\": [4.0, 3.0, 6.0, 3.0, 4.0, 3.0, 3.0, 4.0, 3.0, 4.0, 5.0, 3.0, 3.0, 3.0, 4.0, 3.0, 4.0, 3.0, 5.0, 3.0, 4.0, 3.0, 3.0, 3.0, 4.0, 4.0, 3.0, 4.0, 3.0, 4.0, 18.20591571195613, 4.092985455514432, 2.987784390453937, 2.923823714956692, 3.1885828780334906, 2.8405912782640583, 2.488320887449235, 2.2237008490172987, 2.25219525704107, 2.1242304045797327, 2.159654339314619, 4.64182576499115, 2.192883477211917, 2.33890507894731, 2.0075188987536294, 2.5733344610435873, 2.1022783501837927, 2.4869289131848276, 1.9669414987180103, 1.9763889231421463, 1.7723668793608989, 2.0961514406634287, 1.852994145727546, 2.032011682825223, 1.8900807132186266, 1.909962252725284, 2.0976225620991014, 1.9048173975178897, 2.5632288389131115, 2.039408672241397, 1.995943783472702, 2.1625524214285208, 2.324449654364514, 2.129373882156998, 2.154951311651674, 1.9926152809917868, 1.7967539595371163, 1.3238080031981163, 1.2383184490848258, 1.3731365997108627, 1.2557329819485585, 1.2036121456323534, 1.2434818090280362, 1.274025842972497, 1.1320369914186326, 1.085654127305969, 1.095240571643128, 1.1626510649888644, 1.0926857367396101, 1.2424222258138027, 0.9571374992004981, 1.0093155520393635, 1.0473917665099612, 0.997359432038754, 0.9537455800636516, 0.9363274334058744, 0.97716084379766, 0.9523193477831331, 0.9743901745463148, 0.9796641949705354, 2.35644780321303, 0.9134841940794549, 0.9632212511711346, 0.8266260244792695, 0.9234377613642583, 1.1721991748378313, 1.0522148367482174, 1.1678959029748481, 3.256912462597192, 1.0366943327540563, 0.9729689110276986, 0.9811966641537916, 1.0034362675035908, 0.9954902520174388, 1.0545671925892048, 0.7400575376676021, 0.7003532599169086, 0.6956038706602532, 0.7123049384061608, 0.680469976958679, 0.6778977236820024, 0.6987245242146444, 0.6934859212563891, 0.5828089728061442, 0.5979929984677942, 0.5775387937199602, 0.5753241932835977, 0.7082089147679631, 0.6186399103608877, 0.5393196443654622, 0.5693074630086045, 0.6029820762051112, 0.5742068267122564, 0.3541603612566259, 0.5614690472997953, 0.35894198212379136, 0.34719643702705794, 0.36570297889074804, 0.3321012658140452, 0.3899715604380659, 0.32535270670058547, 0.3466232029611347, 0.3966847441426382, 0.3326217466664748, 0.3396271995333804, 0.5711008924786426, 0.3892699182570955, 0.36369121926797066, 0.7361386953650966, 1.5419705134950659, 0.3955721727147827, 0.3798904682102749, 0.3757680305243554, 0.3768223048802315, 1.203164813922361, 0.914567540298161, 0.8386573999538959, 0.7519521470565207, 0.7753987339675547, 0.7580449152876512, 0.757086028619116, 0.759262989469414, 0.7284574891673152, 0.777199920392374, 0.43626140147225184, 0.4214547870619935, 0.3818996164621878, 0.4225834385208485, 0.3488392406391587, 0.37438616973021344, 0.4270046239065186, 0.46082088869431975, 0.3724250622705924, 0.3366308766546897, 0.3581118805607636, 0.4408623785565724, 0.3635278536272341, 0.3172804656896275, 0.4399543154985898, 0.33675883015164626, 0.34527847072367085, 0.3812954557404668, 0.32902449165666203, 0.3288475812021167, 0.3502412370161812, 0.34589184999113937, 0.34836477127463467, 1.20273234583891, 0.42796107432551683, 0.3551533425819328, 0.35607082000108264, 0.35446927157872327, 0.37532397377044063, 0.6709015098218056, 0.5565849794688131, 0.560745406176925, 0.550398254616918, 0.4365091798462822, 0.5754908525360454, 0.4771290338075067, 0.5297054735731833, 0.6828668092581297, 0.494089665530695, 0.40387125574820143, 0.42079943550688803, 0.40919112461414353, 0.6705866006440196, 0.4154527258082406, 0.3851579512656143, 0.5744741952679789, 0.6285913599253813, 0.41832016247580467, 0.3920327359047502, 0.4107259366149682, 0.40737613242219434, 0.3755685379504008, 0.37117524140955566, 0.4129045158755185, 0.39950587838975027, 0.4086146115414874, 0.3788556016555402, 0.3300210161489495, 0.4139387459922279, 0.3839018729370875, 0.5187316230063362, 0.41880989997599805, 0.4054539746391924, 0.5268578575810812, 0.8368045996573725, 0.5334274750596826, 0.4122583492834191, 0.4261670243655717, 0.5225277958964297, 0.5255149603067533, 0.4878961793326294, 0.5026710935441493, 0.48181468813911654, 0.4737782408999901, 0.46609742156949663, 0.4470670684903063, 0.5088011636394535, 0.5565035457398188, 0.4180785869463629, 0.6655855523312119, 0.44762224492235214, 0.4507569252262743, 0.5203613329428329, 0.45014625970753697, 0.39237453571435843, 0.39940898553924215, 0.3618367610710727, 0.43317944794170293, 0.38450078474401156, 0.35269410556189373, 0.3538297830591047, 0.35324151856157293, 0.3448022050678292, 0.3455202571679557, 0.3092293543855056, 0.3070339619925235, 0.27769758705102787, 0.297489971629258, 0.31940924674988963, 0.5312652673982711, 1.5198781328733384, 0.3724628908402384, 0.3482927894422842, 0.3699158009693991, 0.35171103134346826, 0.4726640788597497, 0.3513611330193318, 0.35053213079845613, 0.35170399626639853, 0.3105039318939481, 0.3057049315409659, 0.3293652186317461, 0.32086862544093747, 0.28283865591118573, 0.24643211791684533, 0.2553954982698269, 0.32252976345623724, 0.2547300825889171, 0.2553984208369977, 0.2692166963903818, 0.23361582566364156, 0.22679278887955476, 0.26352356865774906, 0.2624429470345997, 0.2199590698375351, 0.24209670934891683, 0.2533521804349629, 0.23012883734758693, 0.2309844402099721, 0.2203471523233114, 0.19801908123053222, 0.20555817332965642, 0.20762988843157937, 0.21962910038854994, 0.19833288906442614, 0.2034004584578694, 0.29977749232414796, 0.24088516314961225, 0.21837260264427097, 0.2172629669811818, 0.5039359478697987, 0.24034444479918288, 0.2219210246952013, 0.25782153692994325, 0.24494171263827344, 0.24415389848100652, 0.2603900295349519, 0.20411983367884315, 0.17608236715397468, 0.20614228536803092, 0.20700800037511874, 0.1956976210574551, 0.18782559616006142, 0.22282621575522538, 0.1835317875907183, 0.1901517893725061, 0.22693772119872843, 0.16643412518802758, 0.20593097270970523, 0.15670066402766705, 0.17595384606743833, 0.16504044005694193, 0.15818927651656742, 0.15392545311967212, 0.16589584130894436, 0.18826158763535492, 0.16848546532025963, 0.16028683611475772, 0.1605757352958505, 0.21707726060656138, 0.15962884691077683, 0.15707030265831015, 0.16426149907424467, 0.18058823863954387, 0.1904031303114501, 0.1669811566717179, 0.1811675490315752, 0.18487493729738688, 0.19844917632279865, 0.1741807080783026, 0.2132153237154241, 0.32377833238468473, 0.10541443575810557, 0.09520727771291651, 0.09695602501838194, 0.10606768433510658, 0.08961543402115794, 0.08067702230069879, 0.08393887969451952, 0.08054219405811323, 0.0738279915757969, 0.07823469148974824, 0.08368033350410714, 0.08113489972694597, 0.08360143996234165, 0.07826036468722165, 0.07025960491567435, 0.07954536785130789, 0.06700035909608602, 0.0760162343859576, 0.07777759076479394, 0.07991628816221322, 0.07041852327225057, 0.07308338186920427, 0.07089540635029694, 0.07028090644978413, 0.06954502828218434, 0.07682641967821725, 0.07288241095200111, 0.07242499049351128, 0.072322084311034, 0.07515039330108231, 0.07607163743401249, 0.08287760713607241, 0.09168037850534762, 0.08213827149848459, 0.07795533465271884, 0.07499673981249143, 0.07675419728265231, 0.09120817971605102, 0.10098981163634586, 0.08171560654625906, 0.0759360919694697, 0.07604052293288419, 0.07552085917915417, 0.07587418708968915, 0.08788177508765467, 0.08893294406211105, 0.08838626828739658, 0.09022710655567612, 0.07809677001533671, 0.07190714684794207, 0.0664283759428526, 0.07365302004578289, 0.06874331332228965, 0.06852275914754728, 0.07423297160862237, 0.06847826536400486, 0.06721052474694078, 0.06862776431759546, 0.06330722364006527, 0.07027916404494307, 0.06960657697806212, 0.05828427795758476, 0.062384428033518464, 0.06942248379676727, 0.06435719732973366, 0.06549197514233528, 0.06910491360866373, 0.06451980506938332, 0.07317986293168792, 0.06394651247666307, 0.0738801388325635, 0.05907848392150054, 0.06724532808456497, 0.06323530346290741, 0.06463162754963146, 0.07397822362240486, 0.07167867019619885, 0.06799584289316464, 0.07295071393337894, 0.06630144982461737, 0.06927564945704402, 0.07349734601620604, 0.06915866388660508, 0.06671243442530186, 0.06955659045866702, 0.06903255206501045, 0.07354252676386604, 0.08361345514342318, 0.07050207143030122, 0.06980333897156984], \"Term\": [\"privacy\", \"assessing\", \"experience\", \"relevant\", \"information\", \"years\", \"protection\", \"knowledge\", \"sciences\", \"projects\", \"working\", \"effective\", \"skills\", \"clients\", \"complex\", \"producing\", \"key\", \"equip\", \"customer\", \"background\", \"non\", \"public\", \"marketing\", \"social\", \"technical\", \"governance\", \"looking\", \"team\", \"compliance\", \"solutions\", \"data\", \"experience\", \"computer\", \"services\", \"analytics\", \"customer\", \"large\", \"role\", \"financial\", \"ability\", \"sets\", \"science\", \"equivalent\", \"complex\", \"mathematics\", \"working\", \"professional\", \"management\", \"bachelor\", \"project\", \"problems\", \"operations\", \"centre\", \"quality\", \"high\", \"big\", \"analysis\", \"behaviour\", \"degree\", \"solutions\", \"team\", \"deep\", \"business\", \"governance\", \"understanding\", \"technical\", \"consultants\", \"areas\", \"skills\", \"software\", \"cultivate\", \"strengths\", \"encourage\", \"wide\", \"sales\", \"hmrc\", \"ambition\", \"non\", \"qualified\", \"range\", \"helped\", \"organisations\", \"rate\", \"teams\", \"stem\", \"submissions\", \"success\", \"deliver\", \"minimum\", \"focus\", \"science\", \"handling\", \"highly\", \"providing\", \"100\", \"understanding\", \"work\", \"engineering\", \"data\", \"expertise\", \"statistical\", \"tax\", \"management\", \"degree\", \"information\", \"results\", \"analytic\", \"apply\", \"approaches\", \"turn\", \"creatively\", \"develop\", \"insights\", \"extract\", \"gained\", \"substantial\", \"process\", \"knowledge\", \"intelligence\", \"know\", \"transform\", \"customers\", \"design\", \"hire\", \"business\", \"life\", \"position\", \"effective\", \"pqe\", \"rate\", \"commercial\", \"optionally\", \"statistical\", \"processes\", \"new\", \"analytics\", \"looking\", \"best\", \"science\", \"data\", \"software\", \"preferred\", \"risk\", \"help\", \"privacy\", \"clients\", \"assessing\", \"frameworks\", \"effective\", \"compliance\", \"legislative\", \"producing\", \"relevant\", \"governance\", \"techniques\", \"new\", \"using\", \"capabilities\", \"consulting\", \"gained\", \"leading\", \"operations\", \"transformation\", \"extract\", \"london\", \"solutions\", \"success\", \"stellar\", \"analysis\", \"related\", \"date\", \"development\", \"optionally\", \"apply\", \"100\", \"machine\", \"ambition\", \"data\", \"business\", \"contact\", \"intelligence\", \"team\", \"science\", \"marketing\", \"life\", \"sciences\", \"strategy\", \"consulting\", \"delivering\", \"good\", \"preferred\", \"business\", \"scientific\", \"commercial\", \"background\", \"social\", \"degree\", \"related\", \"position\", \"engineering\", \"customer\", \"pipelines\", \"sources\", \"engagements\", \"best\", \"graduate\", \"new\", \"relevant\", \"evaluation\", \"highly\", \"know\", \"using\", \"clients\", \"practices\", \"management\", \"including\", \"driven\", \"experience\", \"data\", \"science\", \"software\", \"deep\", \"consultant\", \"ensure\", \"sources\", \"processing\", \"modeling\", \"optionally\", \"techniques\", \"algorithms\", \"driven\", \"knowledge\", \"analysing\", \"working\", \"year\", \"structured\", \"work\", \"minimum\", \"processes\", \"client\", \"commercial\", \"environment\", \"experienced\", \"handling\", \"presenting\", \"banking\", \"good\", \"company\", \"process\", \"substantial\", \"using\", \"social\", \"perform\", \"experience\", \"data\", \"information\", \"projects\", \"complex\", \"quality\", \"protection\", \"stellar\", \"lawyer\", \"years\", \"hire\", \"pqe\", \"london\", \"looking\", \"transformation\", \"commercial\", \"processes\", \"team\", \"strategy\", \"organizations\", \"risk\", \"related\", \"equip\", \"projects\", \"behaviour\", \"sources\", \"highly\", \"leading\", \"best\", \"analyse\", \"perform\", \"position\", \"gained\", \"results\", \"learning\", \"background\", \"modeling\", \"working\", \"key\", \"bring\", \"regularly\", \"data\", \"engineering\", \"role\", \"modeling\", \"years\", \"relevant\", \"key\", \"expected\", \"consulting\", \"organizations\", \"understand\", \"sciences\", \"sources\", \"projects\", \"life\", \"discovery\", \"knowledge\", \"substantial\", \"models\", \"commercial\", \"perform\", \"stem\", \"algorithms\", \"analysing\", \"know\", \"leading\", \"presenting\", \"optionally\", \"effective\", \"complex\", \"techniques\", \"analytic\", \"date\", \"including\", \"quality\", \"analyse\", \"work\", \"analysis\", \"working\", \"tax\", \"experience\", \"data\", \"equip\", \"providing\", \"graduate\", \"skills\", \"career\", \"algorithms\", \"submissions\", \"gained\", \"pqe\", \"background\", \"assessing\", \"know\", \"principles\", \"stem\", \"commercial\", \"hmrc\", \"using\", \"discovery\", \"banking\", \"100\", \"analysing\", \"expected\", \"process\", \"social\", \"position\", \"oc\", \"years\", \"effective\", \"results\", \"organisations\", \"best\", \"non\", \"solutions\", \"statistical\", \"answers\", \"transformation\", \"focus\", \"customer\", \"experience\", \"analysis\", \"strengths\", \"support\", \"rate\", \"big\", \"social\", \"sciences\", \"strong\", \"public\", \"background\", \"consultant\", \"using\", \"assessing\", \"expected\", \"client\", \"producing\", \"ensure\", \"effective\", \"london\", \"providing\", \"engagements\", \"year\", \"consulting\", \"analysing\", \"hmrc\", \"protection\", \"stem\", \"principles\", \"turn\", \"engagement\", \"analytic\", \"non\", \"commercial\", \"oc\", \"sources\", \"marketing\", \"projects\", \"development\", \"relevant\", \"software\", \"best\", \"looking\", \"equivalent\", \"statistical\", \"100\", \"tax\", \"customers\", \"computer\", \"science\", \"privacy\", \"professional\"], \"Total\": [4.0, 3.0, 6.0, 3.0, 4.0, 3.0, 3.0, 4.0, 3.0, 4.0, 5.0, 3.0, 3.0, 3.0, 4.0, 3.0, 4.0, 3.0, 5.0, 3.0, 4.0, 3.0, 3.0, 3.0, 4.0, 4.0, 3.0, 4.0, 3.0, 4.0, 27.52052164018277, 6.918624185589826, 5.096736306631056, 5.17090051312794, 6.0209739206200075, 5.467221152842573, 4.837197995103973, 4.409229330433788, 4.481908357526935, 4.252092890654544, 4.342707013895574, 9.37902348928554, 4.461212367872573, 4.759049432654239, 4.151332929521833, 5.346874297106371, 4.413216123390741, 5.266928234607087, 4.190666487113388, 4.250914223611045, 3.839376015270595, 4.544317170470963, 4.018618997716382, 4.41798231761198, 4.11186088469399, 4.156161892441895, 4.583135447422473, 4.164577431816966, 5.623175456443183, 4.47979402175896, 4.385175905011712, 4.811798876103946, 5.24390625203762, 4.748218541763649, 4.8731989879399045, 4.408021798185112, 5.146735329496236, 3.8638685441259253, 3.7625095553106043, 4.223361990299895, 3.8674123797940414, 3.8672755840417157, 4.002370470000211, 4.151838084745995, 3.8409103076659328, 3.7127634953862994, 3.766665164766232, 4.036407131782329, 3.8030269130170367, 4.3300874979295045, 3.3588785187996915, 3.6551436873337173, 3.8534777858439435, 3.6974680871186143, 3.5426347335406283, 3.5635524038387745, 3.7610485801289215, 3.6964506359682328, 3.816124565304308, 3.8772110472806647, 9.37902348928554, 3.6400122770116417, 3.855477569115134, 3.3393475816315994, 3.756121446656736, 4.8731989879399045, 4.386300594184086, 4.988033112899311, 27.52052164018277, 4.341913153824439, 4.008666919022602, 4.17778753418587, 5.266928234607087, 5.623175456443183, 4.502517009025632, 3.5174877196321575, 3.4780793459613815, 3.491429233066348, 3.6098356276847943, 3.501749658187991, 3.5761392910753997, 3.8061621684231097, 3.9659628823367337, 3.3558915791592674, 3.452501311475821, 3.3692642583962895, 3.3784549700213375, 4.364273410587541, 3.965465686066409, 3.5873221494661998, 3.798060446598148, 4.161021042069674, 4.151468394115411, 3.275388198577381, 5.24390625203762, 3.426410455612812, 3.3214626907681755, 3.5099684996792555, 3.2429921084920568, 3.8534777858439435, 3.2377901092272747, 3.4918782112146256, 4.008666919022602, 3.3631963268147174, 3.4345617956008643, 6.0209739206200075, 3.998899593406065, 3.7011022174945727, 9.37902348928554, 27.52052164018277, 4.223361990299895, 4.041071474450813, 4.030727083342643, 4.084082040150841, 4.505318076936223, 3.9660560269415006, 3.691669906492455, 3.3985379388589063, 3.5099684996792555, 3.4648605337265725, 3.5269609326605806, 3.8462494733087755, 3.822725649113326, 4.748218541763649, 3.530296987594268, 3.4345617956008643, 3.130671255457676, 3.692385154949698, 3.0997264595110536, 3.452501311475821, 4.072521439121479, 4.544317170470963, 3.70166824496159, 3.3558915791592674, 3.617147347639098, 4.47979402175896, 3.7610485801289215, 3.2851726974762716, 4.583135447422473, 3.5178754214792005, 3.642652830379564, 4.030899172773066, 3.4918782112146256, 3.491429233066348, 3.756121446656736, 3.7234202945696864, 3.766665164766232, 27.52052164018277, 5.24390625203762, 3.9347147251534764, 3.965465686066409, 4.385175905011712, 9.37902348928554, 3.575269868493675, 3.426410455612812, 3.559626655084124, 3.6382958794599696, 3.0997264595110536, 4.251691325509419, 3.6212436730348907, 4.041071474450813, 5.24390625203762, 3.939999895035486, 3.2377901092272747, 3.448409614410402, 3.3539765205303773, 5.623175456443183, 3.5178754214792005, 3.3214626907681755, 4.988033112899311, 5.467221152842573, 3.727981045416385, 3.495327201580621, 3.71607443888872, 3.7011022174945727, 3.422425368958672, 3.4345617956008643, 3.822725649113326, 3.7572020749256567, 3.855477569115134, 3.5873221494661998, 3.130671255457676, 3.9660560269415006, 3.6834113872730065, 5.266928234607087, 4.090244712439399, 3.9575913268631764, 6.918624185589826, 27.52052164018277, 9.37902348928554, 4.223361990299895, 4.811798876103946, 3.325350556668266, 3.572292506757575, 3.495327201580621, 3.672261125874221, 3.536986701895448, 3.4918782112146256, 3.530296987594268, 3.413531549620222, 3.9575913268631764, 4.364273410587541, 3.3282249159419077, 5.346874297106371, 3.691164184654853, 3.749611450795124, 4.386300594184086, 3.816124565304308, 3.3631963268147174, 3.5463973940513136, 3.2377901092272747, 3.8973976112111286, 3.6694467715355357, 3.6400122770116417, 3.652043785703546, 3.6536160928566574, 3.6212436730348907, 3.6522807871658056, 3.3784549700213375, 3.3692642583962895, 3.130671255457676, 3.3539765205303773, 3.6763347928171015, 6.918624185589826, 27.52052164018277, 4.502517009025632, 4.156073920217638, 4.759049432654239, 4.41798231761198, 3.4792193472394737, 3.2851726974762716, 3.4714378549712848, 3.5221460694337634, 3.275388198577381, 3.2429921084920568, 3.617147347639098, 3.998899593406065, 3.70166824496159, 3.2377901092272747, 3.3631963268147174, 4.385175905011712, 3.6382958794599696, 3.7049529552286087, 4.030727083342643, 3.5178754214792005, 3.57020947746404, 4.156073920217638, 4.164577431816966, 3.495327201580621, 3.855477569115134, 4.072521439121479, 3.7011022174945727, 3.8006460304515626, 3.6763347928171015, 3.3214626907681755, 3.452501311475821, 3.5174877196321575, 3.7288887670630326, 3.448409614410402, 3.536986701895448, 5.346874297106371, 4.380642970468003, 3.81641778326274, 3.8892719482837403, 27.52052164018277, 4.988033112899311, 4.409229330433788, 3.536986701895448, 3.5221460694337634, 3.822725649113326, 4.380642970468003, 3.4749126808194126, 3.0997264595110536, 3.7049529552286087, 3.7563488794586126, 3.559626655084124, 3.495327201580621, 4.156073920217638, 3.426410455612812, 3.559665350841752, 4.364273410587541, 3.3692642583962895, 4.181794146016822, 3.2377901092272747, 3.6763347928171015, 3.5426347335406283, 3.413531549620222, 3.3282249159419077, 3.5873221494661998, 4.072521439121479, 3.652043785703546, 3.4918782112146256, 3.5099684996792555, 4.759049432654239, 3.530296987594268, 3.4780793459613815, 3.642652830379564, 4.090244712439399, 4.41798231761198, 3.8006460304515626, 4.386300594184086, 4.583135447422473, 5.346874297106371, 4.17778753418587, 6.918624185589826, 27.52052164018277, 3.57020947746404, 3.3393475816315994, 3.422425368958672, 3.7625095553106043, 3.775416211904072, 3.413531549620222, 3.5635524038387745, 3.452501311475821, 3.2429921084920568, 3.448409614410402, 3.691669906492455, 3.5873221494661998, 3.7424893351610495, 3.5426347335406283, 3.2377901092272747, 3.7127634953862994, 3.130671255457676, 3.559665350841752, 3.6536160928566574, 3.756121446656736, 3.3282249159419077, 3.4749126808194126, 3.3784549700213375, 3.3539765205303773, 3.3214626907681755, 3.6918819893812542, 3.5221460694337634, 3.5099684996792555, 3.5174877196321575, 3.6551436873337173, 3.7011022174945727, 4.036407131782329, 4.47979402175896, 4.008666919022602, 3.8078193360800303, 3.70166824496159, 3.8772110472806647, 5.467221152842573, 6.918624185589826, 4.583135447422473, 3.8672755840417157, 3.9706548854226527, 3.8534777858439435, 4.156161892441895, 3.3539765205303773, 3.559626655084124, 3.7524253562255687, 3.8668562038591423, 3.448409614410402, 3.325350556668266, 3.130671255457676, 3.691669906492455, 3.4749126808194126, 3.5463973940513136, 3.8462494733087755, 3.572292506757575, 3.5099684996792555, 3.617147347639098, 3.3393475816315994, 3.71607443888872, 3.691164184654853, 3.0997264595110536, 3.3282249159419077, 3.7127634953862994, 3.4792193472394737, 3.5426347335406283, 3.7424893351610495, 3.501749658187991, 3.979828074051443, 3.4780793459613815, 4.036407131782329, 3.2377901092272747, 3.6918819893812542, 3.495327201580621, 3.575269868493675, 4.156073920217638, 4.030899172773066, 3.822725649113326, 4.223361990299895, 3.7011022174945727, 3.998899593406065, 4.461212367872573, 4.008666919022602, 3.756121446656736, 4.17778753418587, 4.161021042069674, 5.096736306631056, 9.37902348928554, 4.505318076936223, 4.413216123390741], \"loglift\": [30.0, 29.0, 28.0, 27.0, 26.0, 25.0, 24.0, 23.0, 22.0, 21.0, 20.0, 19.0, 18.0, 17.0, 16.0, 15.0, 14.0, 13.0, 12.0, 11.0, 10.0, 9.0, 8.0, 7.0, 6.0, 5.0, 4.0, 3.0, 2.0, 1.0, 0.5563, 0.4445, 0.4354, 0.3993, 0.3338, 0.3147, 0.3047, 0.2849, 0.2813, 0.2755, 0.2709, 0.2661, 0.2593, 0.2591, 0.2429, 0.2382, 0.2279, 0.2191, 0.2131, 0.2036, 0.1965, 0.1957, 0.1953, 0.1928, 0.1922, 0.192, 0.1879, 0.1872, 0.1838, 0.1826, 0.1824, 0.1697, 0.1559, 0.1675, 0.1535, 0.9629, 0.7045, 0.6857, 0.6455, 0.6333, 0.632, 0.5896, 0.5879, 0.5755, 0.5352, 0.5273, 0.5217, 0.5122, 0.5097, 0.5083, 0.5015, 0.47, 0.4542, 0.4466, 0.4446, 0.4203, 0.4091, 0.4006, 0.3917, 0.3812, 0.3755, 0.3744, 0.3699, 0.3607, 0.3538, 0.332, 0.3293, 0.305, -0.3773, 0.3246, 0.341, 0.3081, 0.0989, 0.0255, 0.9591, 0.8518, 0.8079, 0.7973, 0.7876, 0.7723, 0.7475, 0.7154, 0.6668, 0.6599, 0.6573, 0.6469, 0.6403, 0.5921, 0.5527, 0.5157, 0.5127, 0.4789, 0.4323, 0.1861, 0.1763, 0.1545, 0.1523, 0.149, 0.1317, 0.1199, 0.1128, 0.1006, 0.0975, 0.0969, 0.0968, 0.0551, 0.0811, 0.0905, -0.1343, -0.4713, 0.0425, 0.0462, 0.0378, 0.0275, 1.1638, 1.0171, 1.0021, 0.9757, 0.9742, 0.9645, 0.9454, 0.8616, 0.8264, 0.6743, 0.3933, 0.3862, 0.3803, 0.3165, 0.2997, 0.2626, 0.2289, 0.1955, 0.1876, 0.1847, 0.1716, 0.1656, 0.1476, 0.1468, 0.1407, 0.1379, 0.128, 0.126, 0.1221, 0.1217, 0.1116, 0.1079, 0.1035, -0.6462, -0.0216, 0.0791, 0.0739, -0.0312, -0.7343, 0.8366, 0.6923, 0.6616, 0.6211, 0.5495, 0.5099, 0.4829, 0.4778, 0.4712, 0.4335, 0.4282, 0.4062, 0.406, 0.3832, 0.3735, 0.3552, 0.3484, 0.3467, 0.3223, 0.3219, 0.3072, 0.3031, 0.3001, 0.2848, 0.2842, 0.2685, 0.2652, 0.2617, 0.2599, 0.2499, 0.2485, 0.1919, 0.2308, 0.2313, -0.0653, -0.9834, -0.3572, 0.183, 0.0857, 0.7292, 0.6632, 0.6107, 0.5912, 0.5863, 0.5824, 0.5551, 0.547, 0.5285, 0.5203, 0.5053, 0.4962, 0.4701, 0.4613, 0.4481, 0.4424, 0.4314, 0.3961, 0.3884, 0.3829, 0.324, 0.2457, 0.2456, 0.2435, 0.2282, 0.2218, 0.1887, 0.1843, 0.1573, 0.1573, 0.1366, 0.0131, -0.3165, 0.0876, 0.1005, 0.0253, 0.0492, 1.0266, 0.7874, 0.7299, 0.7187, 0.6668, 0.6611, 0.6265, 0.5, 0.4511, 0.4472, 0.4449, 0.413, 0.3637, 0.3482, 0.3166, 0.3108, 0.2664, 0.2646, 0.2584, 0.257, 0.2549, 0.2455, 0.245, 0.2222, 0.2083, 0.203, 0.2016, 0.193, 0.1908, 0.167, 0.1669, 0.1415, 0.1221, 0.1619, 0.1379, -0.9775, -0.01, 0.0336, 0.6773, 0.6303, 0.5452, 0.4733, 0.4615, 0.428, 0.4072, 0.3977, 0.3953, 0.3724, 0.3702, 0.3692, 0.3665, 0.3396, 0.2882, 0.2851, 0.2678, 0.2566, 0.2297, 0.2244, 0.2224, 0.2223, 0.2219, 0.2199, 0.2149, 0.2115, 0.2085, 0.1998, 0.1986, 0.1971, 0.176, 0.1518, 0.171, 0.1093, 0.0856, 0.0024, 0.1187, -0.1836, -1.1465, 0.5549, 0.5199, 0.5135, 0.5086, 0.3366, 0.3323, 0.3289, 0.3193, 0.2948, 0.2914, 0.2905, 0.2883, 0.2759, 0.2648, 0.2469, 0.2341, 0.233, 0.2309, 0.2277, 0.2272, 0.2216, 0.2156, 0.2134, 0.2119, 0.2112, 0.205, 0.1994, 0.1965, 0.193, 0.1929, 0.1926, 0.1916, 0.1883, 0.1895, 0.1887, 0.1783, 0.1551, -0.016, -0.1496, 0.0505, 0.1469, 0.1219, 0.145, 0.0741, 0.5416, 0.494, 0.435, 0.4256, 0.3958, 0.3495, 0.3306, 0.269, 0.2605, 0.237, 0.2358, 0.229, 0.2279, 0.2187, 0.2179, 0.2155, 0.2126, 0.2097, 0.2066, 0.2042, 0.1934, 0.1928, 0.1916, 0.1894, 0.1874, 0.1873, 0.1828, 0.1797, 0.1779, 0.1712, 0.1704, 0.1549, 0.1539, 0.1542, 0.1249, 0.1613, 0.1278, 0.0776, 0.1237, 0.1527, 0.0881, 0.0845, -0.055, -0.5365, 0.0261, 0.0368], \"logprob\": [30.0, 29.0, 28.0, 27.0, 26.0, 25.0, 24.0, 23.0, 22.0, 21.0, 20.0, 19.0, 18.0, 17.0, 16.0, 15.0, 14.0, 13.0, 12.0, 11.0, 10.0, 9.0, 8.0, 7.0, 6.0, 5.0, 4.0, 3.0, 2.0, 1.0, -2.7894, -4.2818, -4.5966, -4.6182, -4.5315, -4.6471, -4.7795, -4.8919, -4.8792, -4.9377, -4.9212, -4.156, -4.9059, -4.8414, -4.9942, -4.7459, -4.9481, -4.7801, -5.0146, -5.0098, -5.1188, -4.951, -5.0743, -4.9821, -5.0545, -5.044, -4.9503, -5.0467, -4.7498, -4.9784, -5.0, -4.9198, -4.8476, -4.9353, -4.9233, -4.2143, -4.3177, -4.6232, -4.69, -4.5866, -4.676, -4.7184, -4.6858, -4.6615, -4.7797, -4.8215, -4.8127, -4.753, -4.8151, -4.6866, -4.9475, -4.8944, -4.8574, -4.9064, -4.9511, -4.9695, -4.9268, -4.9526, -4.9297, -4.9243, -4.0466, -4.9942, -4.9412, -5.0941, -4.9834, -4.7448, -4.8528, -4.7485, -3.7229, -4.8677, -4.9311, -4.9227, -4.9003, -4.9082, -4.1969, -4.551, -4.6062, -4.613, -4.5893, -4.635, -4.6388, -4.6085, -4.616, -4.7899, -4.7642, -4.799, -4.8028, -4.595, -4.7302, -4.8675, -4.8133, -4.7559, -4.8048, -5.288, -4.8272, -5.2746, -5.3079, -5.2559, -5.3523, -5.1917, -5.3729, -5.3095, -5.1746, -5.3508, -5.3299, -4.8102, -5.1935, -5.2615, -4.5564, -3.817, -5.1774, -5.2179, -5.2288, -5.226, -3.9915, -4.2657, -4.3524, -4.4615, -4.4308, -4.4534, -4.4547, -4.4518, -4.4933, -4.4285, -5.0059, -5.0405, -5.139, -5.0378, -5.2296, -5.1589, -5.0274, -4.9512, -5.1641, -5.2652, -5.2033, -4.9954, -5.1883, -5.3244, -4.9975, -5.2648, -5.2398, -5.1406, -5.288, -5.2886, -5.2256, -5.2381, -5.2309, -3.9918, -5.0251, -5.2116, -5.2091, -5.2136, -5.1564, -4.55, -4.7368, -4.7293, -4.748, -4.9798, -4.7034, -4.8908, -4.7863, -4.5323, -4.8559, -5.0575, -5.0164, -5.0444, -4.5505, -5.0292, -5.105, -4.7052, -4.6151, -5.0224, -5.0873, -5.0407, -5.0489, -5.1302, -5.1419, -5.0354, -5.0684, -5.0458, -5.1215, -5.2594, -5.0329, -5.1082, -4.8072, -5.0212, -5.0536, -4.7917, -4.329, -4.7793, -5.037, -5.0038, -4.7298, -4.7241, -4.7984, -4.7686, -4.811, -4.8278, -4.8441, -4.8858, -4.7565, -4.6668, -4.9528, -4.4878, -4.8846, -4.8776, -4.734, -4.8789, -5.0163, -4.9985, -5.0973, -4.9174, -5.0366, -5.1229, -5.1197, -5.1214, -5.1455, -5.1435, -5.2544, -5.2616, -5.362, -5.2931, -5.222, -4.7133, -3.6621, -5.0684, -5.1355, -5.0752, -5.1257, -4.3872, -4.6837, -4.6861, -4.6828, -4.8074, -4.8229, -4.7484, -4.7745, -4.9007, -5.0385, -5.0027, -4.7694, -5.0054, -5.0027, -4.95, -5.0919, -5.1215, -4.9714, -4.9755, -5.1521, -5.0562, -5.0108, -5.1069, -5.1032, -5.1504, -5.2572, -5.2198, -5.2098, -5.1536, -5.2556, -5.2304, -4.8425, -5.0612, -5.1594, -5.1645, -4.3231, -5.0635, -5.1432, -4.72, -4.7712, -4.7744, -4.7101, -4.9535, -5.1013, -4.9437, -4.9395, -4.9957, -5.0367, -4.8658, -5.0598, -5.0244, -4.8476, -5.1576, -4.9447, -5.2179, -5.102, -5.166, -5.2084, -5.2358, -5.1609, -5.0344, -5.1454, -5.1953, -5.1935, -4.892, -5.1994, -5.2155, -5.1708, -5.076, -5.0231, -5.1544, -5.0728, -5.0526, -4.9817, -5.1121, -4.9099, -4.4922, -4.8331, -4.9349, -4.9167, -4.8269, -4.9955, -5.1005, -5.0609, -5.1022, -5.1892, -5.1313, -5.064, -5.0949, -5.0649, -5.1309, -5.2388, -5.1147, -5.2863, -5.16, -5.1371, -5.11, -5.2365, -5.1994, -5.2298, -5.2385, -5.249, -5.1494, -5.2021, -5.2084, -5.2099, -5.1715, -5.1593, -5.0736, -4.9727, -5.0826, -5.1348, -5.1735, -5.1504, -4.9778, -4.876, -5.0877, -5.1611, -5.1597, -5.1666, -5.1619, -4.9089, -4.897, -4.9031, -4.8825, -5.0269, -5.1095, -5.1887, -5.0855, -5.1545, -5.1577, -5.0776, -5.1583, -5.177, -5.1562, -5.2369, -5.1324, -5.142, -5.3195, -5.2515, -5.1446, -5.2204, -5.2029, -5.1492, -5.2179, -5.0919, -5.2268, -5.0824, -5.306, -5.1765, -5.238, -5.2161, -5.0811, -5.1127, -5.1654, -5.0951, -5.1906, -5.1468, -5.0876, -5.1484, -5.1845, -5.1427, -5.1503, -5.087, -4.9586, -5.1292, -5.1392]}, \"token.table\": {\"Topic\": [1, 2, 1, 1, 2, 1, 2, 1, 1, 1, 2, 1, 2, 3, 1, 2, 3, 1, 2, 1, 2, 3, 1, 2, 3, 1, 2, 1, 2, 4, 1, 2, 1, 2, 1, 2, 1, 2, 1, 2, 1, 2, 1, 2, 1, 2, 3, 5, 1, 2, 1, 2, 1, 2, 1, 2, 1, 2, 4, 1, 1, 2, 1, 1, 4, 1, 1, 2, 6, 1, 2, 1, 1, 2, 1, 2, 3, 1, 2, 1, 2, 5, 1, 2, 3, 1, 2, 3, 4, 5, 6, 7, 1, 1, 2, 1, 2, 5, 1, 2, 1, 2, 5, 1, 2, 3, 1, 2, 3, 1, 2, 1, 2, 1, 2, 6, 1, 2, 4, 1, 2, 1, 2, 1, 2, 1, 2, 5, 1, 6, 1, 2, 1, 2, 1, 2, 1, 2, 1, 2, 1, 2, 5, 6, 1, 2, 1, 2, 1, 2, 3, 1, 2, 1, 2, 1, 4, 1, 2, 3, 1, 2, 1, 2, 4, 1, 2, 1, 2, 1, 2, 1, 2, 1, 2, 1, 2, 1, 2, 1, 2, 1, 2, 1, 2, 3, 1, 2, 3, 1, 2, 3, 1, 2, 1, 2, 3, 1, 2, 3, 6, 1, 2, 1, 2, 1, 2, 1, 2, 1, 2, 4, 1, 2, 5, 1, 1, 2, 1, 2, 1, 2, 5, 1, 2, 5, 1, 2, 1, 2, 1, 2, 1, 2, 1, 1, 2, 1, 1, 2, 1, 2, 1, 2, 1, 2, 1, 2, 1, 2, 1, 1, 2, 1, 1, 2, 5, 1, 2, 1, 2, 1, 2, 4, 1, 2, 1, 3, 1, 2, 1, 6, 1, 4, 1, 2, 1, 2, 1, 2, 1, 1, 2, 1, 2, 1, 2, 1, 2, 1, 2, 1, 2, 1, 2, 1, 2, 1, 2, 4, 1, 2, 3, 1, 2, 1, 2, 1, 2, 1, 2, 3, 5, 1, 2, 5, 1, 2, 1, 2, 1, 2, 1, 2, 1, 2, 1, 2, 1, 2, 1, 2, 1, 2, 1, 2, 1, 2, 1, 2, 5, 1, 2, 1, 2, 1, 2, 1, 2, 1, 2, 3, 1, 2, 1, 2, 1, 2, 1, 2, 1, 2, 1, 2, 1, 2, 1, 3, 1, 2, 1, 2, 3, 1, 2, 1, 2, 1, 2, 1, 2, 1, 2, 6, 1, 2, 6, 1, 2, 1, 2], \"Freq\": [0.2662320732174632, 0.2662320732174632, 0.47035661059891165, 0.292951737947539, 0.292951737947539, 0.26548683152251, 0.26548683152251, 0.5262263267811804, 0.3004604632367503, 0.4363824772241431, 0.21819123861207154, 0.2875150048434529, 0.2875150048434529, 0.2875150048434529, 0.4982582617948088, 0.16608608726493626, 0.16608608726493626, 0.5252350028924705, 0.26261750144623525, 0.2864156576708702, 0.2864156576708702, 0.2864156576708702, 0.2770209237037644, 0.2770209237037644, 0.2770209237037644, 0.2588079766637655, 0.2588079766637655, 0.2708801234480155, 0.2708801234480155, 0.2708801234480155, 0.4772510544922029, 0.23862552724610145, 0.2899887518643799, 0.2899887518643799, 0.27370144388052786, 0.27370144388052786, 0.48024080059604485, 0.24012040029802242, 0.2701897816475171, 0.2701897816475171, 0.4812132086666451, 0.24060660433332254, 0.5240516404601164, 0.2620258202300582, 0.38139507151236, 0.19069753575618, 0.19069753575618, 0.19069753575618, 0.2708276515139502, 0.2708276515139502, 0.5297429177990766, 0.2648714588995383, 0.4976834084386996, 0.2488417042193498, 0.2819762956281743, 0.2819762956281743, 0.25213965541761874, 0.25213965541761874, 0.25213965541761874, 0.3088526328961633, 0.27380151151412613, 0.27380151151412613, 0.4202519911386066, 0.2886119052314255, 0.2886119052314255, 0.5886119703891451, 0.3007201745977482, 0.3007201745977482, 0.3007201745977482, 0.388595851925372, 0.388595851925372, 0.32260911182393126, 0.5082960620282296, 0.2541480310141148, 0.27963116607219307, 0.27963116607219307, 0.27963116607219307, 0.25857082250257857, 0.25857082250257857, 0.548724830426918, 0.18290827680897268, 0.18290827680897268, 0.4806512583760472, 0.2403256291880236, 0.2403256291880236, 0.6540573698180983, 0.10900956163634971, 0.07267304109089981, 0.036336520545449905, 0.036336520545449905, 0.07267304109089981, 0.036336520545449905, 0.5490504017621685, 0.41564497010302626, 0.20782248505151313, 0.5335063832238279, 0.1778354610746093, 0.1778354610746093, 0.27052978613308715, 0.27052978613308715, 0.47040103499526015, 0.23520051749763007, 0.23520051749763007, 0.4817572507199967, 0.24087862535999835, 0.24087862535999835, 0.26273184266720284, 0.26273184266720284, 0.26273184266720284, 0.4961672109064677, 0.24808360545323385, 0.2809252841038921, 0.2809252841038921, 0.2526789446935162, 0.2526789446935162, 0.2526789446935162, 0.284902841746694, 0.284902841746694, 0.284902841746694, 0.24985193337186182, 0.24985193337186182, 0.5025342710254342, 0.2512671355127171, 0.2691011755671522, 0.2691011755671522, 0.40095964776735277, 0.20047982388367638, 0.20047982388367638, 0.2799322838508707, 0.2799322838508707, 0.5131629357617669, 0.25658146788088343, 0.2800956096028044, 0.2800956096028044, 0.4483086289285403, 0.22415431446427014, 0.26615550083762446, 0.26615550083762446, 0.2877770153822086, 0.2877770153822086, 0.578149628119885, 0.14453740702997125, 0.14453740702997125, 0.14453740702997125, 0.27252064473510124, 0.27252064473510124, 0.4606264402682403, 0.23031322013412014, 0.2979834051285186, 0.2979834051285186, 0.2979834051285186, 0.4462384860326722, 0.2231192430163361, 0.2579173503339117, 0.2579173503339117, 0.29424417734637975, 0.29424417734637975, 0.2896450746234578, 0.2896450746234578, 0.2896450746234578, 0.2761482215202382, 0.2761482215202382, 0.4212106040210046, 0.2106053020105023, 0.2106053020105023, 0.2921904474732976, 0.2921904474732976, 0.27472434813351093, 0.27472434813351093, 0.2448530637163856, 0.2448530637163856, 0.2977184183360564, 0.2977184183360564, 0.4863977785446996, 0.2431988892723498, 0.25937124054634525, 0.25937124054634525, 0.3053073221776692, 0.3053073221776692, 0.2693411528212501, 0.2693411528212501, 0.48896829911362716, 0.24448414955681358, 0.22209799496491078, 0.22209799496491078, 0.22209799496491078, 0.25214557716959846, 0.25214557716959846, 0.25214557716959846, 0.2521771915751872, 0.2521771915751872, 0.2521771915751872, 0.45655398385190277, 0.22827699192595138, 0.2787594641169324, 0.2787594641169324, 0.2787594641169324, 0.22913321552541663, 0.22913321552541663, 0.22913321552541663, 0.22913321552541663, 0.4134625049510736, 0.2067312524755368, 0.28806507325716535, 0.28806507325716535, 0.4910962483309697, 0.24554812416548485, 0.26817640923830116, 0.26817640923830116, 0.28353021740040796, 0.28353021740040796, 0.28353021740040796, 0.29185061537560314, 0.29185061537560314, 0.29185061537560314, 0.27646095220663247, 0.25006879433755663, 0.25006879433755663, 0.268570271655451, 0.268570271655451, 0.37972797632948957, 0.18986398816474478, 0.18986398816474478, 0.2796991658762022, 0.2796991658762022, 0.2796991658762022, 0.48177297122502, 0.24088648561251, 0.26204595339781767, 0.26204595339781767, 0.2827265365357768, 0.2827265365357768, 0.47826361847701404, 0.23913180923850702, 0.29115795828185226, 0.24774507807353835, 0.24774507807353835, 0.5417291250783433, 0.44011012545427686, 0.22005506272713843, 0.28637883096505734, 0.28637883096505734, 0.27358705581543374, 0.27358705581543374, 0.2699089602713448, 0.2699089602713448, 0.2720100470593213, 0.2720100470593213, 0.2682417071914882, 0.2682417071914882, 0.30107217605648423, 0.3083572104234892, 0.3083572104234892, 0.5429749190954989, 0.49491824449153116, 0.24745912224576558, 0.24745912224576558, 0.27381928001921685, 0.27381928001921685, 0.2672018302376718, 0.2672018302376718, 0.22195991113684824, 0.22195991113684824, 0.22195991113684824, 0.5209179804336102, 0.2604589902168051, 0.2959932894987451, 0.2959932894987451, 0.29733619534102546, 0.29733619534102546, 0.27231178985452437, 0.27231178985452437, 0.2599935357650474, 0.2599935357650474, 0.4531842411704436, 0.2265921205852218, 0.47048702815298166, 0.23524351407649083, 0.48122339457698277, 0.24061169728849138, 0.2874207976549201, 0.2994596925161656, 0.2994596925161656, 0.5172160262913293, 0.2586080131456647, 0.2629484415630062, 0.2629484415630062, 0.4526953383283448, 0.2263476691641724, 0.23094221548136493, 0.23094221548136493, 0.25950584266336746, 0.25950584266336746, 0.514235061624467, 0.2571175308122335, 0.28426248237622886, 0.28426248237622886, 0.26159345236610115, 0.26159345236610115, 0.26159345236610115, 0.28429381413862487, 0.28429381413862487, 0.28429381413862487, 0.49618839446242524, 0.24809419723121262, 0.45359400705139474, 0.22679700352569737, 0.26035494710827706, 0.26035494710827706, 0.5331045396902916, 0.21324181587611662, 0.10662090793805831, 0.10662090793805831, 0.2809283379681758, 0.2809283379681758, 0.2809283379681758, 0.5076142267211879, 0.25380711336059397, 0.5801697387879667, 0.19338991292932226, 0.4605422363517735, 0.23027111817588675, 0.2657800559173457, 0.2657800559173457, 0.2981535481476376, 0.2981535481476376, 0.23677818815833765, 0.23677818815833765, 0.44644909794640825, 0.22322454897320412, 0.28609624859949884, 0.28609624859949884, 0.24945948870299786, 0.24945948870299786, 0.3043980003755108, 0.3043980003755108, 0.2822757848931737, 0.2822757848931737, 0.2748539517210539, 0.2748539517210539, 0.2748539517210539, 0.2585799688355525, 0.2585799688355525, 0.2664943083653673, 0.2664943083653673, 0.2666942996954911, 0.2666942996954911, 0.28061885631954436, 0.28061885631954436, 0.29680070285611326, 0.29680070285611326, 0.29680070285611326, 0.2658832978875593, 0.2658832978875593, 0.5036952486962644, 0.2518476243481322, 0.47872228629016245, 0.23936114314508122, 0.45608204626734544, 0.22804102313367272, 0.2704553430721524, 0.2704553430721524, 0.22685913223290408, 0.45371826446580815, 0.2832622874262636, 0.2832622874262636, 0.2632922814316137, 0.2632922814316137, 0.27014846653562724, 0.27014846653562724, 0.28557152783944534, 0.28557152783944534, 0.28557152783944534, 0.26621595386638475, 0.26621595386638475, 0.4104080307308526, 0.2052040153654263, 0.31942031545366106, 0.31942031545366106, 0.24085717689089, 0.24085717689089, 0.227982551247383, 0.227982551247383, 0.227982551247383, 0.5610754682644296, 0.18702515608814319, 0.18702515608814319, 0.27091723639855003, 0.27091723639855003, 0.28391781041629677, 0.28391781041629677], \"Term\": [\"100\", \"100\", \"ability\", \"algorithms\", \"algorithms\", \"ambition\", \"ambition\", \"analyse\", \"analysing\", \"analysis\", \"analysis\", \"analytic\", \"analytic\", \"analytic\", \"analytics\", \"analytics\", \"analytics\", \"answers\", \"answers\", \"apply\", \"apply\", \"apply\", \"approaches\", \"approaches\", \"approaches\", \"areas\", \"areas\", \"assessing\", \"assessing\", \"assessing\", \"bachelor\", \"bachelor\", \"background\", \"background\", \"banking\", \"banking\", \"behaviour\", \"behaviour\", \"best\", \"best\", \"big\", \"big\", \"bring\", \"bring\", \"business\", \"business\", \"business\", \"business\", \"capabilities\", \"capabilities\", \"career\", \"career\", \"centre\", \"centre\", \"client\", \"client\", \"clients\", \"clients\", \"clients\", \"commercial\", \"company\", \"company\", \"complex\", \"compliance\", \"compliance\", \"computer\", \"consultant\", \"consultant\", \"consultant\", \"consultants\", \"consultants\", \"consulting\", \"contact\", \"contact\", \"creatively\", \"creatively\", \"creatively\", \"cultivate\", \"cultivate\", \"customer\", \"customer\", \"customer\", \"customers\", \"customers\", \"customers\", \"data\", \"data\", \"data\", \"data\", \"data\", \"data\", \"data\", \"date\", \"deep\", \"deep\", \"degree\", \"degree\", \"degree\", \"deliver\", \"deliver\", \"delivering\", \"delivering\", \"delivering\", \"design\", \"design\", \"design\", \"develop\", \"develop\", \"develop\", \"development\", \"development\", \"discovery\", \"discovery\", \"driven\", \"driven\", \"driven\", \"effective\", \"effective\", \"effective\", \"encourage\", \"encourage\", \"engagement\", \"engagement\", \"engagements\", \"engagements\", \"engineering\", \"engineering\", \"engineering\", \"ensure\", \"ensure\", \"environment\", \"environment\", \"equip\", \"equip\", \"equivalent\", \"equivalent\", \"evaluation\", \"evaluation\", \"expected\", \"expected\", \"experience\", \"experience\", \"experience\", \"experience\", \"experienced\", \"experienced\", \"expertise\", \"expertise\", \"extract\", \"extract\", \"extract\", \"financial\", \"financial\", \"focus\", \"focus\", \"frameworks\", \"frameworks\", \"gained\", \"gained\", \"gained\", \"good\", \"good\", \"governance\", \"governance\", \"governance\", \"graduate\", \"graduate\", \"handling\", \"handling\", \"help\", \"help\", \"helped\", \"helped\", \"high\", \"high\", \"highly\", \"highly\", \"hire\", \"hire\", \"hmrc\", \"hmrc\", \"including\", \"including\", \"information\", \"information\", \"information\", \"insights\", \"insights\", \"insights\", \"intelligence\", \"intelligence\", \"intelligence\", \"key\", \"key\", \"know\", \"know\", \"know\", \"knowledge\", \"knowledge\", \"knowledge\", \"knowledge\", \"large\", \"large\", \"lawyer\", \"lawyer\", \"leading\", \"leading\", \"learning\", \"learning\", \"legislative\", \"legislative\", \"legislative\", \"life\", \"life\", \"life\", \"london\", \"looking\", \"looking\", \"machine\", \"machine\", \"management\", \"management\", \"management\", \"marketing\", \"marketing\", \"marketing\", \"mathematics\", \"mathematics\", \"minimum\", \"minimum\", \"modeling\", \"modeling\", \"models\", \"models\", \"new\", \"non\", \"non\", \"oc\", \"operations\", \"operations\", \"optionally\", \"optionally\", \"organisations\", \"organisations\", \"organizations\", \"organizations\", \"perform\", \"perform\", \"pipelines\", \"pipelines\", \"position\", \"pqe\", \"pqe\", \"practices\", \"preferred\", \"preferred\", \"preferred\", \"presenting\", \"presenting\", \"principles\", \"principles\", \"privacy\", \"privacy\", \"privacy\", \"problems\", \"problems\", \"process\", \"process\", \"processes\", \"processes\", \"processing\", \"processing\", \"producing\", \"producing\", \"professional\", \"professional\", \"project\", \"project\", \"projects\", \"projects\", \"protection\", \"providing\", \"providing\", \"public\", \"public\", \"qualified\", \"qualified\", \"quality\", \"quality\", \"range\", \"range\", \"rate\", \"rate\", \"regularly\", \"regularly\", \"related\", \"related\", \"relevant\", \"relevant\", \"relevant\", \"results\", \"results\", \"results\", \"risk\", \"risk\", \"role\", \"role\", \"sales\", \"sales\", \"science\", \"science\", \"science\", \"science\", \"sciences\", \"sciences\", \"sciences\", \"scientific\", \"scientific\", \"services\", \"services\", \"sets\", \"sets\", \"skills\", \"skills\", \"social\", \"social\", \"software\", \"software\", \"solutions\", \"solutions\", \"sources\", \"sources\", \"statistical\", \"statistical\", \"stellar\", \"stellar\", \"stem\", \"stem\", \"strategy\", \"strategy\", \"strategy\", \"strengths\", \"strengths\", \"strong\", \"strong\", \"structured\", \"structured\", \"submissions\", \"submissions\", \"substantial\", \"substantial\", \"substantial\", \"success\", \"success\", \"support\", \"support\", \"tax\", \"tax\", \"team\", \"team\", \"teams\", \"teams\", \"technical\", \"technical\", \"techniques\", \"techniques\", \"transform\", \"transform\", \"transformation\", \"transformation\", \"turn\", \"turn\", \"turn\", \"understand\", \"understand\", \"understanding\", \"understanding\", \"using\", \"using\", \"wide\", \"wide\", \"work\", \"work\", \"work\", \"working\", \"working\", \"working\", \"year\", \"year\", \"years\", \"years\"]}, \"R\": 30, \"lambda.step\": 0.01, \"plot.opts\": {\"xlab\": \"PC1\", \"ylab\": \"PC2\"}, \"topic.order\": [6, 3, 4, 7, 2, 5, 10, 9, 1, 8]};\n",
       "\n",
       "function LDAvis_load_lib(url, callback){\n",
       "  var s = document.createElement('script');\n",
       "  s.src = url;\n",
       "  s.async = true;\n",
       "  s.onreadystatechange = s.onload = callback;\n",
       "  s.onerror = function(){console.warn(\"failed to load library \" + url);};\n",
       "  document.getElementsByTagName(\"head\")[0].appendChild(s);\n",
       "}\n",
       "\n",
       "if(typeof(LDAvis) !== \"undefined\"){\n",
       "   // already loaded: just create the visualization\n",
       "   !function(LDAvis){\n",
       "       new LDAvis(\"#\" + \"ldavis_el7471403279212772645859853890\", ldavis_el7471403279212772645859853890_data);\n",
       "   }(LDAvis);\n",
       "}else if(typeof define === \"function\" && define.amd){\n",
       "   // require.js is available: use it to load d3/LDAvis\n",
       "   require.config({paths: {d3: \"https://cdnjs.cloudflare.com/ajax/libs/d3/3.5.5/d3.min\"}});\n",
       "   require([\"d3\"], function(d3){\n",
       "      window.d3 = d3;\n",
       "      LDAvis_load_lib(\"https://cdn.rawgit.com/bmabey/pyLDAvis/files/ldavis.v1.0.0.js\", function(){\n",
       "        new LDAvis(\"#\" + \"ldavis_el7471403279212772645859853890\", ldavis_el7471403279212772645859853890_data);\n",
       "      });\n",
       "    });\n",
       "}else{\n",
       "    // require.js not available: dynamically load d3 & LDAvis\n",
       "    LDAvis_load_lib(\"https://cdnjs.cloudflare.com/ajax/libs/d3/3.5.5/d3.min.js\", function(){\n",
       "         LDAvis_load_lib(\"https://cdn.rawgit.com/bmabey/pyLDAvis/files/ldavis.v1.0.0.js\", function(){\n",
       "                 new LDAvis(\"#\" + \"ldavis_el7471403279212772645859853890\", ldavis_el7471403279212772645859853890_data);\n",
       "            })\n",
       "         });\n",
       "}\n",
       "</script>"
      ],
      "text/plain": [
       "PreparedData(topic_coordinates=               x          y  topics  cluster       Freq\n",
       "topic                                                  \n",
       "5      32.420952   8.115230       1        1  37.928398\n",
       "2       0.648955  71.707100       2        1  17.258455\n",
       "3      71.019684   9.971006       3        1   8.976490\n",
       "6       3.785981  33.185135       4        1   8.339636\n",
       "1     -42.666500  -9.222070       5        1   8.129066\n",
       "4      -3.621689 -43.526516       6        1   7.578809\n",
       "9      -3.632402  -4.171708       7        1   4.866623\n",
       "8     -36.584400  35.804413       8        1   3.702746\n",
       "0      44.391380  50.615383       9        1   1.695241\n",
       "7      40.235809 -31.591665      10        1   1.524537, topic_info=     Category      Freq          Term     Total  loglift  logprob\n",
       "term                                                             \n",
       "125   Default  4.000000       privacy  4.000000  30.0000  30.0000\n",
       "14    Default  3.000000     assessing  3.000000  29.0000  29.0000\n",
       "64    Default  6.000000    experience  6.000000  28.0000  28.0000\n",
       "143   Default  3.000000      relevant  3.000000  27.0000  27.0000\n",
       "85    Default  4.000000   information  4.000000  26.0000  26.0000\n",
       "190   Default  3.000000         years  3.000000  25.0000  25.0000\n",
       "134   Default  3.000000    protection  3.000000  24.0000  24.0000\n",
       "90    Default  4.000000     knowledge  4.000000  23.0000  23.0000\n",
       "149   Default  3.000000      sciences  3.000000  22.0000  22.0000\n",
       "133   Default  4.000000      projects  4.000000  21.0000  21.0000\n",
       "188   Default  5.000000       working  5.000000  20.0000  20.0000\n",
       "53    Default  3.000000     effective  3.000000  19.0000  19.0000\n",
       "154   Default  3.000000        skills  3.000000  18.0000  18.0000\n",
       "28    Default  3.000000       clients  3.000000  17.0000  17.0000\n",
       "31    Default  4.000000       complex  4.000000  16.0000  16.0000\n",
       "130   Default  3.000000     producing  3.000000  15.0000  15.0000\n",
       "88    Default  4.000000           key  4.000000  14.0000  14.0000\n",
       "60    Default  3.000000         equip  3.000000  13.0000  13.0000\n",
       "40    Default  5.000000      customer  5.000000  12.0000  12.0000\n",
       "16    Default  3.000000    background  3.000000  11.0000  11.0000\n",
       "110   Default  4.000000           non  4.000000  10.0000  10.0000\n",
       "136   Default  3.000000        public  3.000000   9.0000   9.0000\n",
       "102   Default  3.000000     marketing  3.000000   8.0000   8.0000\n",
       "155   Default  3.000000        social  3.000000   7.0000   7.0000\n",
       "174   Default  4.000000     technical  4.000000   6.0000   6.0000\n",
       "73    Default  4.000000    governance  4.000000   5.0000   5.0000\n",
       "99    Default  3.000000       looking  3.000000   4.0000   4.0000\n",
       "172   Default  4.000000          team  4.000000   3.0000   3.0000\n",
       "32    Default  3.000000    compliance  3.000000   2.0000   2.0000\n",
       "157   Default  4.000000     solutions  4.000000   1.0000   1.0000\n",
       "...       ...       ...           ...       ...      ...      ...\n",
       "189   Topic10  0.069607          year  3.691164   0.2126  -5.1420\n",
       "36    Topic10  0.058284    consulting  3.099726   0.2097  -5.3195\n",
       "5     Topic10  0.062384     analysing  3.328225   0.2066  -5.2515\n",
       "83    Topic10  0.069422          hmrc  3.712763   0.2042  -5.1446\n",
       "134   Topic10  0.064357    protection  3.479219   0.1934  -5.2204\n",
       "161   Topic10  0.065492          stem  3.542635   0.1928  -5.2029\n",
       "124   Topic10  0.069105    principles  3.742489   0.1916  -5.1492\n",
       "180   Topic10  0.064520          turn  3.501750   0.1894  -5.2179\n",
       "55    Topic10  0.073180    engagement  3.979828   0.1874  -5.0919\n",
       "7     Topic10  0.063947      analytic  3.478079   0.1873  -5.2268\n",
       "110   Topic10  0.073880           non  4.036407   0.1828  -5.0824\n",
       "29    Topic10  0.059078    commercial  3.237790   0.1797  -5.3060\n",
       "111   Topic10  0.067245            oc  3.691882   0.1779  -5.1765\n",
       "158   Topic10  0.063235       sources  3.495327   0.1712  -5.2380\n",
       "102   Topic10  0.064632     marketing  3.575270   0.1704  -5.2161\n",
       "133   Topic10  0.073978      projects  4.156074   0.1549  -5.0811\n",
       "50    Topic10  0.071679   development  4.030899   0.1539  -5.1127\n",
       "143   Topic10  0.067996      relevant  3.822726   0.1542  -5.1654\n",
       "156   Topic10  0.072951      software  4.223362   0.1249  -5.0951\n",
       "20    Topic10  0.066301          best  3.701102   0.1613  -5.1906\n",
       "99    Topic10  0.069276       looking  3.998900   0.1278  -5.1468\n",
       "61    Topic10  0.073497    equivalent  4.461212   0.0776  -5.0876\n",
       "159   Topic10  0.069159   statistical  4.008667   0.1237  -5.1484\n",
       "0     Topic10  0.066712           100  3.756121   0.1527  -5.1845\n",
       "171   Topic10  0.069557           tax  4.177788   0.0881  -5.1427\n",
       "41    Topic10  0.069033     customers  4.161021   0.0845  -5.1503\n",
       "33    Topic10  0.073543      computer  5.096736  -0.0550  -5.0870\n",
       "148   Topic10  0.083613       science  9.379023  -0.5365  -4.9586\n",
       "125   Topic10  0.070502       privacy  4.505318   0.0261  -5.1292\n",
       "131   Topic10  0.069803  professional  4.413216   0.0368  -5.1392\n",
       "\n",
       "[426 rows x 6 columns], token_table=      Topic      Freq            Term\n",
       "term                                 \n",
       "0         1  0.266232             100\n",
       "0         2  0.266232             100\n",
       "1         1  0.470357         ability\n",
       "2         1  0.292952      algorithms\n",
       "2         2  0.292952      algorithms\n",
       "3         1  0.265487        ambition\n",
       "3         2  0.265487        ambition\n",
       "4         1  0.526226         analyse\n",
       "5         1  0.300460       analysing\n",
       "6         1  0.436382        analysis\n",
       "6         2  0.218191        analysis\n",
       "7         1  0.287515        analytic\n",
       "7         2  0.287515        analytic\n",
       "7         3  0.287515        analytic\n",
       "9         1  0.498258       analytics\n",
       "9         2  0.166086       analytics\n",
       "9         3  0.166086       analytics\n",
       "10        1  0.525235         answers\n",
       "10        2  0.262618         answers\n",
       "11        1  0.286416           apply\n",
       "11        2  0.286416           apply\n",
       "11        3  0.286416           apply\n",
       "12        1  0.277021      approaches\n",
       "12        2  0.277021      approaches\n",
       "12        3  0.277021      approaches\n",
       "13        1  0.258808           areas\n",
       "13        2  0.258808           areas\n",
       "14        1  0.270880       assessing\n",
       "14        2  0.270880       assessing\n",
       "14        4  0.270880       assessing\n",
       "...     ...       ...             ...\n",
       "173       2  0.270455           teams\n",
       "174       1  0.226859       technical\n",
       "174       2  0.453718       technical\n",
       "175       1  0.283262      techniques\n",
       "175       2  0.283262      techniques\n",
       "178       1  0.263292       transform\n",
       "178       3  0.263292       transform\n",
       "179       1  0.270148  transformation\n",
       "179       2  0.270148  transformation\n",
       "180       1  0.285572            turn\n",
       "180       2  0.285572            turn\n",
       "180       3  0.285572            turn\n",
       "181       1  0.266216      understand\n",
       "181       2  0.266216      understand\n",
       "182       1  0.410408   understanding\n",
       "182       2  0.205204   understanding\n",
       "183       1  0.319420           using\n",
       "183       2  0.319420           using\n",
       "186       1  0.240857            wide\n",
       "186       2  0.240857            wide\n",
       "187       1  0.227983            work\n",
       "187       2  0.227983            work\n",
       "187       6  0.227983            work\n",
       "188       1  0.561075         working\n",
       "188       2  0.187025         working\n",
       "188       6  0.187025         working\n",
       "189       1  0.270917            year\n",
       "189       2  0.270917            year\n",
       "190       1  0.283918           years\n",
       "190       2  0.283918           years\n",
       "\n",
       "[391 rows x 3 columns], R=30, lambda_step=0.01, plot_opts={'xlab': 'PC1', 'ylab': 'PC2'}, topic_order=[6, 3, 4, 7, 2, 5, 10, 9, 1, 8])"
      ]
     },
     "execution_count": 33,
     "metadata": {},
     "output_type": "execute_result"
    }
   ],
   "source": [
    "pyLDAvis.enable_notebook()\n",
    "dash = pyLDAvis.sklearn.prepare(LDA, tf, tf_vectorizer, mds='tsne')\n",
    "dash"
   ]
  },
  {
   "cell_type": "markdown",
   "metadata": {},
   "source": [
    "### Top 10 words per topic Using TFIDF"
   ]
  },
  {
   "cell_type": "code",
   "execution_count": 94,
   "metadata": {
    "scrolled": true
   },
   "outputs": [
    {
     "name": "stdout",
     "output_type": "stream",
     "text": [
      "THE TOP 15 WORDS FOR TOPIC #0\n",
      "['position', 'skills', 'work', 'looking', 'career', 'time', 'project', 'management', 'business', 'manager', 'experience', 'team', 'customer', 'aflac', 'sales']\n",
      "\n",
      "\n",
      "THE TOP 15 WORDS FOR TOPIC #1\n",
      "['strong', 'continually', 'retailer', 'skills', 'verizon', 'excellent', 'management', 'experience', 'time', 'store', 'products', 'retail', 'sales', 'wireless', 'gowireless']\n",
      "\n",
      "\n",
      "THE TOP 15 WORDS FOR TOPIC #2\n",
      "['central', 'technicians', 'distributor', 'business', 'mechanics', 'reliably', 'inventory', 'mobile', 'customers', 'tools', 'payment', 'outside', 'equipment', 'sales', 'matco']\n",
      "\n",
      "\n",
      "THE TOP 15 WORDS FOR TOPIC #3\n",
      "['controlling', 'relocation', 'stepping', 'plenty', 'men', 'women', 'home', 'tools', 'growth', 'calls', 'list', 'protected', 'business', 'snap', 'franchise']\n",
      "\n",
      "\n",
      "THE TOP 15 WORDS FOR TOPIC #4\n",
      "['characteristic', 'veteran', 'disability', 'age', 'marital', 'regard', 'religion', 'sex', 'race', 'origin', 'color', 'maintenance', 'hands', 'status', 'aerotek']\n",
      "\n",
      "\n",
      "THE TOP 15 WORDS FOR TOPIC #5\n",
      "['encourage', 'wealth', 'environmentstrong', 'appraising', 'insurancemust', 'mvrvalid', 'titlebucks', 'equityauto', 'liens', 'competitively', 'titlemax', 'sundays', 'vehicles', 'tmx', 'vehicle']\n",
      "\n",
      "\n",
      "THE TOP 15 WORDS FOR TOPIC #6\n",
      "['taxes', 'training', 'marketing', 'industry', 'market', 'year', 'community', 'franchisees', 'seasonal', 'support', 'learn', 'ongoing', 'preparation', 'liberty', 'tax']\n",
      "\n",
      "\n"
     ]
    },
    {
     "name": "stderr",
     "output_type": "stream",
     "text": [
      "/home/etzimopoulos/anaconda3/envs/nlp_course/lib/python3.7/site-packages/ipykernel/ipkernel.py:287: DeprecationWarning: `should_run_async` will not call `transform_cell` automatically in the future. Please pass the result to `transformed_cell` argument and any exception that happen during thetransform in `preprocessing_exc_tuple` in IPython 7.17 and above.\n",
      "  and should_run_async(code)\n"
     ]
    }
   ],
   "source": [
    "for index,topic in enumerate(LDA2.components_):\n",
    "    print(f'THE TOP {n_top_words} WORDS FOR TOPIC #{index}')\n",
    "    print([tfidf_vectorizer.get_feature_names()[i] for i in topic.argsort()[-n_top_words:]])\n",
    "    print('\\n')"
   ]
  },
  {
   "cell_type": "code",
   "execution_count": 95,
   "metadata": {},
   "outputs": [
    {
     "name": "stderr",
     "output_type": "stream",
     "text": [
      "/home/etzimopoulos/anaconda3/envs/nlp_course/lib/python3.7/site-packages/ipykernel/ipkernel.py:287: DeprecationWarning: `should_run_async` will not call `transform_cell` automatically in the future. Please pass the result to `transformed_cell` argument and any exception that happen during thetransform in `preprocessing_exc_tuple` in IPython 7.17 and above.\n",
      "  and should_run_async(code)\n",
      "/home/etzimopoulos/anaconda3/envs/nlp_course/lib/python3.7/site-packages/pyLDAvis/_prepare.py:257: FutureWarning: Sorting because non-concatenation axis is not aligned. A future version\n",
      "of pandas will change to not sort by default.\n",
      "\n",
      "To accept the future behavior, pass 'sort=False'.\n",
      "\n",
      "To retain the current behavior and silence the warning, pass 'sort=True'.\n",
      "\n",
      "  return pd.concat([default_term_info] + list(topic_dfs))\n"
     ]
    },
    {
     "data": {
      "text/html": [
       "\n",
       "<link rel=\"stylesheet\" type=\"text/css\" href=\"https://cdn.rawgit.com/bmabey/pyLDAvis/files/ldavis.v1.0.0.css\">\n",
       "\n",
       "\n",
       "<div id=\"ldavis_el6161403685138779687413160851\"></div>\n",
       "<script type=\"text/javascript\">\n",
       "\n",
       "var ldavis_el6161403685138779687413160851_data = {\"mdsDat\": {\"x\": [-29.59400177001953, -45.996585845947266, 20.36885643005371, 53.928768157958984, -12.437127113342285, 3.9659712314605713, 37.52428436279297], \"y\": [60.11271286010742, 11.891684532165527, 70.01932525634766, 31.704309463500977, -26.423267364501953, 21.797719955444336, -16.517805099487305], \"topics\": [1, 2, 3, 4, 5, 6, 7], \"cluster\": [1, 1, 1, 1, 1, 1, 1], \"Freq\": [60.97043108248966, 10.729470186875826, 9.971675191871169, 7.025037874238657, 5.589067137054736, 3.769257493450656, 1.9450610340192913]}, \"tinfo\": {\"Category\": [\"Default\", \"Default\", \"Default\", \"Default\", \"Default\", \"Default\", \"Default\", \"Default\", \"Default\", \"Default\", \"Default\", \"Default\", \"Default\", \"Default\", \"Default\", \"Default\", \"Default\", \"Default\", \"Default\", \"Default\", \"Default\", \"Default\", \"Default\", \"Default\", \"Default\", \"Default\", \"Default\", \"Default\", \"Default\", \"Default\", \"Topic1\", \"Topic1\", \"Topic1\", \"Topic1\", \"Topic1\", \"Topic1\", \"Topic1\", \"Topic1\", \"Topic1\", \"Topic1\", \"Topic1\", \"Topic1\", \"Topic1\", \"Topic1\", \"Topic1\", \"Topic1\", \"Topic1\", \"Topic1\", \"Topic1\", \"Topic1\", \"Topic1\", \"Topic1\", \"Topic1\", \"Topic1\", \"Topic1\", \"Topic1\", \"Topic1\", \"Topic1\", \"Topic1\", \"Topic1\", \"Topic1\", \"Topic1\", \"Topic1\", \"Topic1\", \"Topic1\", \"Topic1\", \"Topic1\", \"Topic1\", \"Topic1\", \"Topic1\", \"Topic1\", \"Topic1\", \"Topic1\", \"Topic1\", \"Topic1\", \"Topic1\", \"Topic1\", \"Topic1\", \"Topic1\", \"Topic1\", \"Topic1\", \"Topic1\", \"Topic1\", \"Topic1\", \"Topic1\", \"Topic1\", \"Topic2\", \"Topic2\", \"Topic2\", \"Topic2\", \"Topic2\", \"Topic2\", \"Topic2\", \"Topic2\", \"Topic2\", \"Topic2\", \"Topic2\", \"Topic2\", \"Topic2\", \"Topic2\", \"Topic2\", \"Topic2\", \"Topic2\", \"Topic2\", \"Topic2\", \"Topic2\", \"Topic2\", \"Topic2\", \"Topic2\", \"Topic2\", \"Topic2\", \"Topic2\", \"Topic2\", \"Topic2\", \"Topic2\", \"Topic2\", \"Topic2\", \"Topic2\", \"Topic2\", \"Topic2\", \"Topic2\", \"Topic2\", \"Topic2\", \"Topic2\", \"Topic2\", \"Topic2\", \"Topic3\", \"Topic3\", \"Topic3\", \"Topic3\", \"Topic3\", \"Topic3\", \"Topic3\", \"Topic3\", \"Topic3\", \"Topic3\", \"Topic3\", \"Topic3\", \"Topic3\", \"Topic3\", \"Topic3\", \"Topic3\", \"Topic3\", \"Topic3\", \"Topic3\", \"Topic3\", \"Topic3\", \"Topic3\", \"Topic3\", \"Topic3\", \"Topic3\", \"Topic3\", \"Topic3\", \"Topic3\", \"Topic3\", \"Topic3\", \"Topic3\", \"Topic3\", \"Topic3\", \"Topic3\", \"Topic3\", \"Topic3\", \"Topic3\", \"Topic3\", \"Topic3\", \"Topic3\", \"Topic3\", \"Topic3\", \"Topic3\", \"Topic3\", \"Topic3\", \"Topic3\", \"Topic3\", \"Topic3\", \"Topic3\", \"Topic3\", \"Topic3\", \"Topic3\", \"Topic3\", \"Topic3\", \"Topic3\", \"Topic3\", \"Topic3\", \"Topic4\", \"Topic4\", \"Topic4\", \"Topic4\", \"Topic4\", \"Topic4\", \"Topic4\", \"Topic4\", \"Topic4\", \"Topic4\", \"Topic4\", \"Topic4\", \"Topic4\", \"Topic4\", \"Topic4\", \"Topic4\", \"Topic4\", \"Topic4\", \"Topic4\", \"Topic4\", \"Topic4\", \"Topic4\", \"Topic4\", \"Topic4\", \"Topic4\", \"Topic4\", \"Topic4\", \"Topic4\", \"Topic4\", \"Topic4\", \"Topic4\", \"Topic4\", \"Topic4\", \"Topic4\", \"Topic4\", \"Topic4\", \"Topic4\", \"Topic4\", \"Topic4\", \"Topic4\", \"Topic4\", \"Topic4\", \"Topic4\", \"Topic4\", \"Topic4\", \"Topic4\", \"Topic4\", \"Topic4\", \"Topic4\", \"Topic4\", \"Topic4\", \"Topic4\", \"Topic4\", \"Topic4\", \"Topic4\", \"Topic4\", \"Topic4\", \"Topic5\", \"Topic5\", \"Topic5\", \"Topic5\", \"Topic5\", \"Topic5\", \"Topic5\", \"Topic5\", \"Topic5\", \"Topic5\", \"Topic5\", \"Topic5\", \"Topic5\", \"Topic5\", \"Topic5\", \"Topic5\", \"Topic5\", \"Topic5\", \"Topic5\", \"Topic5\", \"Topic5\", \"Topic5\", \"Topic5\", \"Topic5\", \"Topic5\", \"Topic5\", \"Topic5\", \"Topic5\", \"Topic5\", \"Topic5\", \"Topic5\", \"Topic5\", \"Topic5\", \"Topic5\", \"Topic5\", \"Topic5\", \"Topic5\", \"Topic5\", \"Topic5\", \"Topic5\", \"Topic5\", \"Topic5\", \"Topic5\", \"Topic5\", \"Topic5\", \"Topic6\", \"Topic6\", \"Topic6\", \"Topic6\", \"Topic6\", \"Topic6\", \"Topic6\", \"Topic6\", \"Topic6\", \"Topic6\", \"Topic6\", \"Topic6\", \"Topic6\", \"Topic6\", \"Topic6\", \"Topic6\", \"Topic6\", \"Topic6\", \"Topic6\", \"Topic6\", \"Topic6\", \"Topic6\", \"Topic6\", \"Topic6\", \"Topic6\", \"Topic6\", \"Topic6\", \"Topic6\", \"Topic6\", \"Topic6\", \"Topic6\", \"Topic6\", \"Topic6\", \"Topic6\", \"Topic6\", \"Topic6\", \"Topic6\", \"Topic6\", \"Topic6\", \"Topic6\", \"Topic6\", \"Topic6\", \"Topic6\", \"Topic6\", \"Topic7\", \"Topic7\", \"Topic7\", \"Topic7\", \"Topic7\", \"Topic7\", \"Topic7\", \"Topic7\", \"Topic7\", \"Topic7\", \"Topic7\", \"Topic7\", \"Topic7\", \"Topic7\", \"Topic7\", \"Topic7\", \"Topic7\", \"Topic7\", \"Topic7\", \"Topic7\", \"Topic7\", \"Topic7\", \"Topic7\", \"Topic7\", \"Topic7\", \"Topic7\", \"Topic7\", \"Topic7\", \"Topic7\", \"Topic7\", \"Topic7\", \"Topic7\", \"Topic7\", \"Topic7\", \"Topic7\", \"Topic7\", \"Topic7\"], \"Freq\": [191.0, 166.0, 159.0, 337.0, 227.0, 117.0, 93.0, 78.0, 70.0, 99.0, 86.0, 89.0, 106.0, 76.0, 92.0, 83.0, 137.0, 82.0, 43.0, 126.0, 78.0, 117.0, 60.0, 80.0, 52.0, 123.0, 79.0, 67.0, 80.0, 56.0, 150.45218299697711, 96.43243274603286, 74.51055135228856, 70.65749863919807, 67.57148260955753, 66.61962828072578, 68.39078076936941, 62.37100243956368, 60.26459752136974, 59.499254676308034, 53.35800186144354, 53.34175504500142, 52.89657595026803, 49.87353950866696, 49.3349099652432, 47.01484527177903, 46.62331658489248, 45.34147431166646, 44.992467023033015, 44.916067734317075, 43.3434124210913, 42.160792111515114, 42.2563226258274, 41.803346770059356, 39.711389906462216, 39.35679968995534, 39.99767426914489, 38.162595108271056, 37.45071176530617, 37.61886166907719, 52.97919993508796, 37.88982367005405, 48.49972798842382, 87.77450742084986, 67.20205913226475, 97.09770710891249, 108.07870849420316, 88.77881363060771, 96.01124136395232, 57.30685200278632, 123.04795077448948, 102.29824321638876, 93.5002908450304, 93.26074165670529, 81.95447006094034, 96.1211623745513, 96.60677077173783, 157.05457839088194, 83.99095367750782, 72.02774144711061, 83.15651930554226, 65.79061960495206, 96.91915988863892, 62.728622276767524, 69.12928109580787, 65.91141296433986, 165.42007486766832, 55.3641567410801, 55.4609616155383, 27.712657896253297, 27.71062190798951, 27.814609376946628, 27.709345624595635, 27.70835814015675, 27.717164503988514, 27.70584596700808, 27.758312904303054, 27.74245581105419, 28.043658163867008, 27.717641031541472, 27.823522025892228, 27.759427176118063, 28.012121241676557, 27.793953151711907, 28.00082324633166, 27.881794177678902, 27.78660694715111, 184.4909801591416, 27.53656467510202, 27.839858702294297, 28.036630462324815, 27.52779080028414, 27.513528608064263, 27.44279943068389, 27.480528374227553, 27.463354215854864, 73.45184420112537, 64.63860847448281, 68.96511451834608, 59.892096338131985, 45.17771183014473, 36.67903123127649, 37.49638787745997, 36.129510857111676, 33.90458242748133, 32.8284505982618, 116.7874990483109, 46.78926884904664, 46.7274786368559, 74.21697400087324, 23.461916911044614, 23.45677430114416, 23.474575910604578, 23.551545476502614, 23.45017109526102, 23.520053842662445, 23.48772806802144, 23.591728150878797, 18.87579713116922, 23.386787966324835, 23.595254494093528, 23.338413420662572, 23.216977429505487, 43.478010037574165, 23.29318518134425, 45.51001613077731, 23.14255906078492, 26.9328996964613, 45.68657996551398, 23.030750298819704, 23.114835543056632, 22.98073741942118, 9.320070655515119, 9.048675078204788, 9.006947461248753, 9.041511469216282, 22.722293640165958, 75.68990455145844, 22.706502176573522, 22.71620246499872, 79.67836461852589, 25.980459714733716, 26.3691694317068, 38.80263925100438, 64.21161766177154, 49.217842847484114, 48.62482975802543, 30.452771260159537, 104.78727216258532, 38.11300718269181, 26.785281265387834, 26.418926091230478, 51.321283208256396, 25.823447049812618, 27.384611645600128, 46.272793671249424, 24.772747621581544, 29.40079650717373, 29.73774270311873, 27.67828834091383, 24.77698787604338, 25.213723300299403, 24.803525780728602, 92.9668573779146, 77.50514732928357, 17.615242188669864, 16.878959089184747, 16.802969209378837, 10.714245198704951, 16.60913024547283, 17.25366811249575, 9.271123667871155, 9.081373103239002, 9.04576287556646, 8.911933682449371, 9.061234573499068, 8.774876910953145, 8.775152548194471, 8.774812879607168, 8.791043483124415, 8.766767477512841, 8.805952264945502, 8.700567095477616, 8.646948390089156, 8.609315189599775, 8.609205930026066, 8.609063172237935, 8.609123404017792, 8.608903082235894, 8.488085520870417, 8.795850844214264, 8.632770910245732, 8.754323380694807, 16.804099427462333, 17.210376717176313, 16.14567633309166, 16.622592341640203, 16.323095425352555, 15.670671734833094, 15.795204936082703, 15.174955849807173, 15.107496636679201, 30.61402319979012, 14.79385533130704, 15.105797957132284, 14.976111118880048, 14.532178187356285, 22.983772584557677, 17.908668165786217, 13.856799379633108, 16.60117408223612, 13.995996942234106, 21.7014151041796, 30.880120844651113, 20.119641378896628, 19.583487521772554, 19.098765311355066, 17.010079659987316, 17.56159965812703, 16.187033476734115, 69.94281317048404, 24.72950207054519, 24.75010369597806, 23.5002104174572, 23.40280276211686, 24.753062068549337, 23.401846269323343, 23.40106474768463, 24.791538279049302, 23.455849234421795, 23.364323988971133, 23.302222571091214, 23.979811567225386, 12.81855113641881, 9.610573374198365, 7.375413989803678, 22.642808515258736, 24.10986632140561, 22.525620198634094, 4.270504256150622, 3.980925343188877, 23.391244623433444, 24.3223621997983, 3.711415733779872, 3.636115563259463, 3.6359623673348556, 22.18752308973911, 3.286503340568352, 41.50774096593034, 9.896612795826906, 25.130049254940968, 15.92850449372267, 21.772499462173815, 20.90579077074253, 21.53699235625691, 20.951835516422822, 38.133608999737305, 85.87092500429198, 21.667681952706612, 21.364326498827758, 19.656139920430903, 55.018192972708796, 29.30853255087851, 30.420708312983447, 29.14297484412787, 43.04488145598147, 13.49530886484992, 13.410101596471874, 13.289850948659973, 13.55754666689415, 13.441530076023183, 12.580900549960312, 12.532149819689009, 12.165464849487565, 13.624453112530562, 11.5809087004319, 9.673672485842358, 13.292275700601596, 9.669400237748695, 9.619343616420702, 9.614977395683729, 11.021318385983538, 13.099769026383848, 10.16922675190717, 3.934801616848812, 3.8236702239302267, 11.89237139098616, 3.6804163372632788, 9.15261170670086, 12.460815060267691, 4.366790943220136, 2.663822719700424, 6.87265786321584, 2.5811061761761676, 2.5628608014838834, 12.640433266562875, 21.551747328741293, 12.097640084296142, 10.782606773524558, 11.120914716454553, 10.749230679937279, 5.084746868411664, 14.75143044618536, 14.932689469416601, 11.358458358745985, 9.880993098670999, 9.89541874374496, 9.824700231959595, 9.772050830987512, 15.229615498691633, 5.730517880900661, 4.9385121026647525, 4.743111996729362, 4.742166401735194, 4.741208814675005, 4.735075694773942, 4.733537366283008, 4.733492193632585, 4.710134577512479, 8.519818804728766, 4.0999844150681195, 15.269387410640181, 3.6447368586260867, 3.0037841898791133, 2.7557701428442574, 7.382295501621627, 2.755368987090007, 2.7546251209163546, 2.753833690391328, 2.753993967871119, 2.7539037208689776, 2.752297151512679, 2.750682008445427, 2.7506761253336514, 2.7761479666672755, 2.7752946332371784, 2.772990005606071, 2.7726202083941365, 2.6594621616006906, 4.362778328297719, 4.44691786476719, 4.443052066149269, 3.2100235737601945, 3.8547614956097283, 3.663719188662697, 2.8276473266182336], \"Term\": [\"tax\", \"liberty\", \"franchise\", \"sales\", \"business\", \"matco\", \"gowireless\", \"wireless\", \"snap\", \"equipment\", \"outside\", \"preparation\", \"tools\", \"payment\", \"ongoing\", \"learn\", \"customers\", \"retail\", \"aerotek\", \"support\", \"calls\", \"store\", \"list\", \"community\", \"protected\", \"need\", \"mobile\", \"growth\", \"inventory\", \"seasonal\", \"aflac\", \"project\", \"financial\", \"income\", \"administrative\", \"accountant\", \"ll\", \"companies\", \"entry\", \"representative\", \"vector\", \"regular\", \"insurance\", \"account\", \"schedule\", \"role\", \"general\", \"assistant\", \"data\", \"information\", \"senior\", \"different\", \"projects\", \"make\", \"000\", \"extra\", \"com\", \"analysis\", \"key\", \"degree\", \"duties\", \"plus\", \"00\", \"position\", \"level\", \"manager\", \"team\", \"skills\", \"career\", \"development\", \"customer\", \"experience\", \"looking\", \"work\", \"company\", \"time\", \"management\", \"sales\", \"need\", \"opportunities\", \"service\", \"staff\", \"business\", \"accounting\", \"customers\", \"store\", \"liberty\", \"franchisees\", \"seasonal\", \"guerrilla\", \"2020\", \"dog\", \"lady\", \"sluggish\", \"mcdonald\", \"wavers\", \"subway\", \"volunteer\", \"taxes\", \"trainers\", \"wish\", \"basics\", \"freedom\", \"trainings\", \"hot\", \"overhead\", \"conventions\", \"tax\", \"compared\", \"settings\", \"38\", \"classes\", \"backgrounds\", \"spend\", \"mind\", \"economic\", \"preparation\", \"learn\", \"ongoing\", \"support\", \"community\", \"market\", \"year\", \"industry\", \"marketing\", \"training\", \"matco\", \"reliably\", \"mechanics\", \"payment\", \"layaway\", \"stops\", \"assortment\", \"finalize\", \"laptop\", \"catalog\", \"reverse\", \"aviation\", \"merchant\", \"onboard\", \"marine\", \"paycheck\", \"drawer\", \"central\", \"remaining\", \"technicians\", \"getting\", \"visits\", \"distributor\", \"normal\", \"easy\", \"fulfill\", \"terminal\", \"programmed\", \"reprogram\", \"bundled\", \"secure\", \"outside\", \"documenting\", \"district\", \"equipment\", \"media\", \"helping\", \"automotive\", \"tools\", \"mobile\", \"inventory\", \"rep\", \"sales\", \"tool\", \"card\", \"businesses\", \"customers\", \"conduct\", \"credit\", \"business\", \"way\", \"store\", \"service\", \"franchise\", \"meet\", \"use\", \"need\", \"gowireless\", \"wireless\", \"verizon\", \"patrons\", \"academia\", \"costco\", \"substituted\", \"retailer\", \"anytime\", \"yr\", \"1995\", \"dealer\", \"seen\", \"aflacbenefits\", \"opportunityobviously\", \"booming\", \"cellular\", \"instant\", \"commonly\", \"bridge\", \"paging\", \"strived\", \"sourrounding\", \"powers\", \"steadfast\", \"victory\", \"usgowireless\", \"accessories\", \"incorporating\", \"flex\", \"force\", \"continually\", \"minimal\", \"driving\", \"offering\", \"relevant\", \"supervision\", \"interpersonal\", \"independently\", \"retail\", \"works\", \"locations\", \"advancement\", \"field\", \"products\", \"excellent\", \"areas\", \"communication\", \"package\", \"store\", \"sales\", \"time\", \"experience\", \"management\", \"strong\", \"skills\", \"services\", \"snap\", \"stepping\", \"plenty\", \"2009\", \"90th\", \"men\", \"franchises\", \"celebrating\", \"women\", \"anniversary\", \"recently\", \"category\", \"rated\", \"therapy\", \"therapist\", \"treatment\", \"given\", \"controlling\", \"model\", \"amedisys\", \"therapists\", \"motivation\", \"relocation\", \"colonial\", \"woodbridge\", \"rehabilitation\", \"unique\", \"captech\", \"protected\", \"patients\", \"home\", \"physical\", \"north\", \"ranked\", \"america\", \"independence\", \"list\", \"franchise\", \"control\", \"abilities\", \"entrepreneur\", \"business\", \"growth\", \"calls\", \"tools\", \"aerotek\", \"race\", \"religion\", \"marital\", \"origin\", \"sex\", \"veteran\", \"characteristic\", \"optical\", \"color\", \"optional\", \"rejuvenate\", \"regard\", \"seekers\", \"personalized\", \"salaries\", \"electrical\", \"age\", \"customized\", \"plc\", \"machinery\", \"specialist\", \"apartment\", \"repair\", \"law\", \"plumbing\", \"hydraulic\", \"mechanical\", \"painting\", \"james\", \"disability\", \"status\", \"allegis\", \"tjoin\", \"subsidiaries\", \"employers\", \"machines\", \"maintenance\", \"hands\", \"contract\", \"applications\", \"medical\", \"equal\", \"protected\", \"tmx\", \"titlemax\", \"competitively\", \"liens\", \"equityauto\", \"titlebucks\", \"mvrvalid\", \"insurancemust\", \"appraising\", \"environmentstrong\", \"vehicles\", \"25k\", \"vehicle\", \"ageuse\", \"lobster\", \"mannerspecific\", \"sundays\", \"accountpaid\", \"trainingaccelerated\", \"preferredretail\", \"requiredproficiency\", \"sundayscompany\", \"contributionflexible\", \"advancementessential\", \"offclosed\", \"proceduresability\", \"sourcesdetermine\", \"lawseffectively\", \"appraisalmake\", \"skillsminimum\", \"sunday\", \"wealth\", \"encourage\", \"red\", \"saturdays\", \"privacy\", \"teammates\"], \"Total\": [191.0, 166.0, 159.0, 337.0, 227.0, 117.0, 93.0, 78.0, 70.0, 99.0, 86.0, 89.0, 106.0, 76.0, 92.0, 83.0, 137.0, 82.0, 43.0, 126.0, 78.0, 117.0, 60.0, 80.0, 52.0, 123.0, 79.0, 67.0, 80.0, 56.0, 151.31317480359792, 97.31126746956664, 75.39016869453337, 71.51711974818298, 68.45321630048977, 67.49523978919012, 69.32572704289794, 63.23896228528246, 61.132227552349235, 60.38400025399624, 54.222751980084254, 54.21076693831985, 53.79153107010169, 50.754341220864305, 50.216806497236604, 47.884541174435405, 47.49605488214035, 46.21820397634051, 45.865593678308684, 45.8195990900625, 44.215995903351676, 43.02242433908906, 43.13331704255598, 42.67512449975151, 40.57695694705386, 40.21497259152962, 40.90733541549295, 39.03353719256499, 38.319340343324235, 38.49380391492449, 54.23680672473574, 38.77171431492195, 49.869582734747716, 97.1367157266073, 72.79240930179562, 116.24792278576061, 132.2085004260602, 107.0569570592146, 118.31593810594558, 63.32287672471393, 171.81551414120906, 135.6698887599878, 120.63578890825563, 129.03265290348995, 107.30551413951733, 135.90756800221422, 137.96847181244692, 337.52750114251506, 123.29195967808987, 98.18519502530754, 134.13557946389284, 86.55441607282992, 227.132745320517, 84.04967242488549, 137.34548720774367, 117.57525709905636, 166.30225163462998, 56.20179800725671, 56.33182360479459, 28.540704008156393, 28.540435081214387, 28.647728251076874, 28.53979555010611, 28.539732328934775, 28.54971807520959, 28.538442582628292, 28.59321485683833, 28.57810293619029, 28.889441914728053, 28.55417897313489, 28.664223609023615, 28.598907836984598, 28.880617518353468, 28.67746564636281, 28.94299529694314, 28.85685315077368, 28.772381824692047, 191.30233161887367, 28.613177657638474, 29.02052791378115, 29.23580119961038, 28.826602336128882, 28.999148469573377, 28.99791935634443, 29.048883468817234, 29.044447567348538, 89.79059042531885, 83.31993696425502, 92.30958047286428, 126.13961068370087, 80.94485852801641, 72.59178277436904, 93.43683104087951, 82.8870723637576, 93.11332054800297, 112.35580173133908, 117.71812778895803, 47.67617251654344, 47.83894042611529, 76.84286594958395, 24.32907606468063, 24.328863750621935, 24.35616941393028, 24.459056634693397, 24.380848744724993, 24.470147308475344, 24.48452756820466, 24.652546675163954, 19.73303961859165, 24.529999582562915, 24.764185386343446, 24.500595923231227, 24.492342106808213, 45.902077219417436, 24.601311908004945, 48.5616490119674, 24.780214984205926, 28.987731687018467, 49.25363169518511, 24.85070782176896, 25.054536008025256, 24.957436631870866, 10.176744912381665, 9.903214865216954, 9.85992909001144, 9.90063669428907, 25.24949723348553, 86.36081185608312, 25.300037741788888, 25.666447165742238, 99.83223859673669, 29.679833083684233, 30.55833431488472, 50.70587064178812, 106.88056321633321, 79.5292565959456, 80.65797513829766, 39.2690923504439, 337.52750114251506, 59.56600807167187, 32.339069273745835, 31.476912879333835, 137.34548720774367, 31.289281412867442, 39.53843875389861, 227.132745320517, 33.90015176095474, 117.57525709905636, 134.13557946389284, 159.38477768324907, 53.324904009883156, 80.1949051975504, 123.29195967808987, 93.7754454091907, 78.32736674501221, 18.423495182640927, 17.687459267017054, 17.611315500666773, 11.528549811696394, 17.960063134147603, 18.665540892700328, 10.090743111486061, 9.89346161610211, 9.869059419776555, 9.723788888870706, 9.88783191067049, 9.583039355920276, 9.583631461598028, 9.583553940102828, 9.602523143377924, 9.582922638377344, 9.627434791078283, 9.51348112657724, 9.457945044238574, 9.417773911710789, 9.417657281126873, 9.417568551364624, 9.417711373905682, 9.41764909359541, 9.29674760081955, 9.651593497925665, 9.627847915331317, 9.890014055342764, 19.258668902562256, 20.921944467145135, 19.52758238336402, 20.27909807382704, 20.746354264857892, 20.637655293976106, 21.551123556400913, 22.388601066052754, 22.654318327208934, 82.78243668663467, 24.126949483223914, 25.760887089253806, 28.377669797133624, 27.23835460415339, 92.36040334770591, 54.494327725695705, 30.34970628322315, 50.92774698912127, 32.83058933428611, 117.57525709905636, 337.52750114251506, 135.90756800221422, 135.6698887599878, 137.96847181244692, 85.2422217200442, 107.0569570592146, 94.02968858878526, 70.81114116167521, 25.581117485245603, 25.62128311013919, 24.355100852925553, 24.258294950471452, 25.658455542141795, 24.258003018716877, 24.25765185598975, 25.79145094296524, 24.50703458653257, 24.585575515417343, 24.646219440464954, 25.388034728117887, 13.664784933713571, 10.455724440622548, 8.240759800075685, 25.515825530807188, 27.883244757597403, 26.91323409282345, 5.117207943999432, 4.825867724362368, 28.482623306857185, 29.748322858436147, 4.56082924642388, 4.483042066835116, 4.483271851880966, 27.54891761236935, 4.139126633899132, 52.36144396478279, 12.496666084903124, 32.13451444138021, 20.36586752686078, 28.723035971373292, 27.984611784797735, 30.65005282219768, 30.121859334348294, 60.32376175160481, 159.38477768324907, 32.18324029914871, 31.60659709159506, 28.977554702605367, 227.132745320517, 67.44317067730353, 78.09554608525181, 106.88056321633321, 43.920964046102995, 14.359326169777288, 14.269147556751657, 14.144596306377418, 14.431354599586033, 14.324872986791997, 13.437014714016327, 13.394707229117312, 13.018870035747911, 14.618948566653755, 12.44078553108314, 10.52765883577926, 14.53101388208341, 10.883420167422077, 10.936919275336527, 11.270536793560801, 12.926981475760426, 15.456613467862299, 12.27341589412138, 4.7832768746529855, 4.684715352063702, 14.759493302457148, 4.708134689051875, 11.823191055832217, 16.236318222504472, 5.721635764120973, 3.5300337140819016, 9.123283496968112, 3.4338726456212676, 3.4144646586630865, 17.191957805423264, 31.928832101284108, 17.544813862737932, 16.28523188064926, 17.09767488358668, 18.343373666445036, 7.250122447037903, 46.83108135823679, 56.11335481426215, 31.33139426546921, 23.653946939236125, 30.30517454056429, 24.183488215117837, 52.36144396478279, 16.286837707853866, 6.649766448877148, 5.835693030953404, 5.6469193537221845, 5.64598199099503, 5.645319406811817, 5.645590279691271, 5.6451329885753205, 5.64535248622472, 5.690052346731892, 10.371850787310432, 5.002328005309652, 18.89025502279989, 4.525714562926712, 3.870262956122146, 3.613312246424973, 9.680588762223792, 3.6137817609360665, 3.613482592795441, 3.613011311696163, 3.613458010921182, 3.6138439332791013, 3.6135528602199685, 3.6132323649698317, 3.6135003380151742, 3.650903102058604, 3.6508167309834505, 3.6509186612068953, 3.650674964046563, 3.5222991240348476, 6.0162994146885245, 6.640464607056207, 6.723886051700162, 4.509291250076106, 6.376637958869224, 6.075589370652012, 4.3343717380863955], \"loglift\": [30.0, 29.0, 28.0, 27.0, 26.0, 25.0, 24.0, 23.0, 22.0, 21.0, 20.0, 19.0, 18.0, 17.0, 16.0, 15.0, 14.0, 13.0, 12.0, 11.0, 10.0, 9.0, 8.0, 7.0, 6.0, 5.0, 4.0, 3.0, 2.0, 1.0, 0.4891, 0.4857, 0.483, 0.4827, 0.4818, 0.4817, 0.4812, 0.481, 0.4805, 0.48, 0.4787, 0.4786, 0.478, 0.4773, 0.4771, 0.4765, 0.4762, 0.4756, 0.4756, 0.4749, 0.4748, 0.4746, 0.4742, 0.4741, 0.4732, 0.4732, 0.4723, 0.4722, 0.4719, 0.4718, 0.4713, 0.4718, 0.4669, 0.3934, 0.4149, 0.3148, 0.2933, 0.3076, 0.2859, 0.395, 0.1609, 0.2124, 0.24, 0.1701, 0.2253, 0.1484, 0.1384, -0.2703, 0.1109, 0.185, 0.0167, 0.2205, -0.3569, 0.2022, -0.1917, -0.084, 2.2269, 2.2172, 2.2166, 2.2027, 2.2027, 2.2027, 2.2026, 2.2026, 2.2026, 2.2026, 2.2025, 2.2025, 2.2025, 2.2024, 2.2024, 2.2024, 2.2016, 2.2009, 2.1991, 2.1978, 2.1973, 2.1959, 2.1938, 2.1906, 2.1903, 2.1861, 2.1796, 2.1771, 2.1767, 2.1762, 2.0313, 1.9783, 1.9406, 1.4873, 1.649, 1.5495, 1.3191, 1.4018, 1.2219, 1.0018, 2.2975, 2.2866, 2.2819, 2.2707, 2.2691, 2.2689, 2.2686, 2.2676, 2.2665, 2.2658, 2.2639, 2.2614, 2.261, 2.2577, 2.2571, 2.2568, 2.2519, 2.2512, 2.2508, 2.2405, 2.237, 2.2319, 2.2302, 2.2294, 2.2248, 2.2229, 2.2175, 2.2152, 2.2149, 2.2146, 2.2, 2.1735, 2.1973, 2.1833, 2.0799, 2.1723, 2.158, 2.0379, 1.7959, 1.8256, 1.7993, 2.0512, 1.1357, 1.8589, 2.117, 2.1302, 1.321, 2.1134, 1.9381, 0.7144, 1.9917, 0.9194, 0.799, 0.5547, 1.5389, 1.1484, 0.7019, 2.647, 2.6451, 2.6108, 2.6089, 2.6087, 2.5824, 2.5775, 2.577, 2.571, 2.57, 2.5686, 2.5685, 2.5684, 2.5676, 2.5676, 2.5675, 2.5674, 2.5667, 2.5665, 2.5664, 2.566, 2.5659, 2.5659, 2.5659, 2.5659, 2.5659, 2.5647, 2.5628, 2.5466, 2.5337, 2.5194, 2.4604, 2.4655, 2.4569, 2.4159, 2.3804, 2.345, 2.2668, 2.2505, 1.6609, 2.1666, 2.1219, 2.0165, 2.0274, 1.2648, 1.5429, 1.8717, 1.5348, 1.8031, 0.966, 0.2642, 0.7454, 0.7202, 0.6783, 1.044, 0.848, 0.8963, 2.872, 2.8505, 2.8498, 2.8486, 2.8485, 2.8484, 2.8484, 2.8484, 2.8448, 2.8405, 2.8334, 2.8283, 2.8273, 2.8204, 2.8001, 2.7734, 2.7649, 2.739, 2.7064, 2.7035, 2.6919, 2.6874, 2.683, 2.6783, 2.675, 2.6749, 2.6679, 2.6537, 2.6521, 2.6511, 2.6385, 2.6386, 2.6073, 2.5927, 2.5315, 2.5213, 2.4257, 2.2659, 2.4887, 2.4927, 2.4962, 1.4665, 2.051, 1.9415, 1.5849, 3.2581, 3.2162, 3.2162, 3.216, 3.2158, 3.2146, 3.2125, 3.2117, 3.2105, 3.2078, 3.2067, 3.1937, 3.1892, 3.16, 3.1499, 3.1194, 3.1188, 3.1128, 3.0902, 3.083, 3.0752, 3.0623, 3.032, 3.0223, 3.0136, 3.0081, 2.9967, 2.995, 2.9928, 2.9914, 2.9708, 2.8852, 2.9065, 2.866, 2.8482, 2.7439, 2.9235, 2.1231, 1.9545, 2.2636, 2.4054, 2.159, 2.3775, 1.5996, 3.8728, 3.7911, 3.7729, 3.7655, 3.7654, 3.7653, 3.764, 3.7638, 3.7637, 3.7509, 3.7432, 3.741, 3.7271, 3.7234, 3.6864, 3.6689, 3.6688, 3.6687, 3.6685, 3.6683, 3.6683, 3.6681, 3.6676, 3.6671, 3.667, 3.666, 3.6657, 3.6648, 3.6648, 3.6589, 3.6185, 3.5389, 3.5256, 3.6, 3.4365, 3.4341, 3.5127], \"logprob\": [30.0, 29.0, 28.0, 27.0, 26.0, 25.0, 24.0, 23.0, 22.0, 21.0, 20.0, 19.0, 18.0, 17.0, 16.0, 15.0, 14.0, 13.0, 12.0, 11.0, 10.0, 9.0, 8.0, 7.0, 6.0, 5.0, 4.0, 3.0, 2.0, 1.0, -5.1802, -5.625, -5.883, -5.936, -5.9807, -5.9949, -5.9687, -6.0608, -6.0951, -6.1079, -6.2169, -6.2172, -6.2256, -6.2844, -6.2953, -6.3434, -6.3518, -6.3797, -6.3874, -6.3891, -6.4247, -6.4524, -6.4501, -6.4609, -6.5123, -6.5212, -6.5051, -6.552, -6.5709, -6.5664, -6.224, -6.5592, -6.3123, -5.7191, -5.9862, -5.6182, -5.511, -5.7077, -5.6294, -6.1455, -5.3813, -5.566, -5.6559, -5.6585, -5.7877, -5.6283, -5.6232, -5.1373, -5.7632, -5.9168, -5.7732, -6.0074, -5.62, -6.0551, -5.9579, -6.0056, -3.348, -4.4426, -4.4408, -5.1346, -5.1347, -5.1309, -5.1347, -5.1348, -5.1344, -5.1349, -5.133, -5.1335, -5.1227, -5.1344, -5.1306, -5.1329, -5.1239, -5.1317, -5.1243, -5.1285, -5.1319, -3.2389, -5.141, -5.13, -5.123, -5.1413, -5.1418, -5.1444, -5.143, -5.1436, -4.1599, -4.2877, -4.2229, -4.364, -4.6459, -4.8543, -4.8323, -4.8694, -4.9329, -4.9652, -3.6229, -4.5376, -4.5389, -4.0763, -5.2279, -5.2281, -5.2273, -5.2241, -5.2284, -5.2254, -5.2268, -5.2224, -5.4454, -5.2311, -5.2222, -5.2332, -5.2384, -4.611, -5.2351, -4.5653, -5.2416, -5.0899, -4.5614, -5.2464, -5.2428, -5.2486, -6.1511, -6.1806, -6.1853, -6.1814, -5.2599, -4.0566, -5.2606, -5.2602, -4.0053, -5.1259, -5.1111, -4.7248, -4.2211, -4.487, -4.4991, -4.9671, -3.7313, -4.7427, -5.0954, -5.1092, -4.4451, -5.132, -5.0733, -4.5487, -5.1735, -5.0022, -4.9908, -5.0626, -5.1733, -5.1559, -5.1723, -3.5007, -3.6826, -5.1642, -5.2069, -5.2114, -5.6614, -5.223, -5.185, -5.8061, -5.8268, -5.8307, -5.8456, -5.829, -5.8611, -5.8611, -5.8611, -5.8593, -5.862, -5.8576, -5.8696, -5.8758, -5.8801, -5.8802, -5.8802, -5.8802, -5.8802, -5.8943, -5.8587, -5.8774, -5.8634, -5.2114, -5.1875, -5.2513, -5.2222, -5.2404, -5.2812, -5.2733, -5.3133, -5.3178, -4.6115, -5.3388, -5.3179, -5.3265, -5.3566, -4.8982, -5.1477, -5.4042, -5.2235, -5.3942, -4.9556, -4.6029, -5.0313, -5.0583, -5.0834, -5.1992, -5.1673, -5.2488, -3.5566, -4.5963, -4.5955, -4.6473, -4.6515, -4.5954, -4.6515, -4.6515, -4.5938, -4.6492, -4.6531, -4.6558, -4.6271, -5.2534, -5.5415, -5.8062, -4.6845, -4.6217, -4.6897, -6.3526, -6.4228, -4.652, -4.6129, -6.4929, -6.5134, -6.5134, -4.7048, -6.6145, -4.0784, -5.5121, -4.5803, -5.0362, -4.7237, -4.7643, -4.7345, -4.7621, -4.1632, -3.3515, -4.7285, -4.7426, -4.8259, -3.7967, -4.4264, -4.3892, -4.4321, -3.6481, -4.808, -4.8144, -4.8234, -4.8034, -4.812, -4.8782, -4.8821, -4.9118, -4.7985, -4.961, -5.141, -4.8232, -5.1414, -5.1466, -5.1471, -5.0106, -4.8378, -5.091, -6.0405, -6.0692, -4.9345, -6.1074, -5.1963, -4.8878, -5.9364, -6.4306, -5.4828, -6.4622, -6.4693, -4.8735, -4.3399, -4.9174, -5.0324, -5.0016, -5.0355, -5.7841, -4.719, -4.7068, -4.9804, -5.1198, -5.1183, -5.1255, -5.1309, -4.0256, -5.003, -5.1517, -5.1921, -5.1923, -5.1925, -5.1938, -5.1941, -5.1941, -5.1991, -4.6064, -5.3378, -4.0229, -5.4555, -5.6489, -5.7351, -4.7497, -5.7352, -5.7355, -5.7358, -5.7357, -5.7358, -5.7364, -5.7369, -5.737, -5.7277, -5.728, -5.7289, -5.729, -5.7707, -5.2757, -5.2566, -5.2575, -5.5825, -5.3995, -5.4503, -5.7094]}, \"token.table\": {\"Topic\": [1, 6, 1, 4, 5, 2, 7, 2, 5, 1, 5, 4, 4, 1, 1, 1, 2, 7, 1, 1, 4, 7, 6, 1, 4, 1, 6, 7, 1, 6, 5, 1, 5, 1, 5, 4, 6, 1, 6, 7, 7, 1, 4, 1, 3, 1, 3, 3, 1, 2, 2, 4, 4, 3, 1, 2, 3, 4, 5, 1, 3, 1, 2, 5, 6, 5, 1, 3, 1, 4, 5, 6, 3, 1, 5, 5, 4, 1, 3, 6, 1, 2, 5, 6, 1, 4, 1, 4, 1, 2, 1, 1, 2, 3, 4, 2, 7, 1, 3, 1, 4, 1, 6, 7, 1, 5, 1, 5, 2, 4, 1, 3, 1, 2, 3, 4, 1, 2, 3, 1, 6, 1, 4, 1, 1, 3, 1, 1, 6, 1, 3, 1, 3, 1, 3, 2, 1, 3, 1, 4, 1, 1, 3, 1, 2, 1, 6, 1, 6, 1, 7, 1, 5, 1, 7, 1, 6, 1, 3, 6, 7, 1, 3, 4, 1, 3, 4, 6, 1, 1, 4, 3, 1, 4, 1, 4, 1, 2, 3, 5, 2, 5, 2, 1, 3, 1, 1, 3, 1, 5, 4, 1, 3, 4, 5, 2, 1, 2, 3, 6, 1, 3, 1, 5, 2, 6, 1, 4, 1, 5, 1, 4, 1, 2, 3, 4, 1, 4, 1, 7, 1, 4, 1, 2, 3, 6, 1, 2, 3, 1, 6, 7, 3, 1, 2, 1, 4, 2, 7, 1, 3, 5, 1, 7, 1, 4, 1, 3, 4, 5, 6, 1, 6, 1, 6, 1, 1, 3, 4, 5, 1, 3, 4, 7, 3, 6, 1, 2, 3, 4, 1, 2, 3, 4, 3, 2, 1, 6, 3, 1, 3, 1, 6, 1, 3, 5, 3, 1, 2, 1, 4, 1, 3, 4, 1, 5, 1, 5, 7, 1, 3, 5, 1, 3, 1, 5, 6, 7, 1, 4, 3, 1, 2, 5, 1, 2, 4, 4, 6, 6, 6, 1, 3, 2, 1, 4, 4, 6, 1, 5, 4, 3, 1, 3, 1, 6, 1, 5, 6, 5, 1, 6, 1, 1, 4, 4, 7, 1, 2, 1, 7, 7, 1, 3, 4, 3, 1, 1, 5, 6, 6, 1, 5, 1, 5, 1, 5, 1, 7, 1, 6, 1, 5, 6, 1, 4, 3, 6, 1, 5, 1, 3, 1, 3, 1, 6, 1, 3, 7, 1, 4, 1, 4, 3, 1, 5, 6, 1, 2, 3, 4, 5, 1, 7, 1, 2, 1, 3, 6, 4, 1, 1, 2, 3, 4, 1, 2, 3, 4, 6, 2, 6, 1, 4, 7, 2, 5, 7, 4, 1, 6, 1, 2, 1, 2, 1, 6, 4, 5, 3, 1, 3, 4, 4, 1, 2, 3, 4, 5, 1, 6, 1, 4, 2, 1, 7, 1, 7, 7, 1, 4, 1, 2, 3, 5, 1, 2, 2, 1, 2, 3, 4, 1, 7, 1, 3, 6, 3, 5, 5, 5, 1, 2, 3, 4, 7, 7, 1, 6, 7, 1, 3, 5, 1, 3, 4, 5, 2, 1, 2, 4, 5, 7, 2, 5, 1, 5, 1, 2, 3, 4, 1, 1, 7, 1, 7, 4, 6, 4, 1, 3, 2, 2, 1, 3, 1, 7, 4, 2, 5, 5, 1, 2, 3, 4, 1, 4, 1, 2, 4, 4], \"Freq\": [0.962510559899972, 0.020052303331249417, 0.9857811676758637, 0.9119410084779659, 0.9854198570118876, 0.9810642311626809, 0.7996276924972244, 0.9577298671867133, 0.9481292913190917, 0.2847506795470023, 0.6644182522763388, 0.9652884816785192, 0.9324885058549444, 0.9851374049446985, 0.9926625967885007, 0.7495567583122063, 0.24985225277073542, 0.8301552773410754, 0.9933791817976779, 0.4581066765853025, 0.5285846268291952, 0.830281503366598, 0.979031333530469, 0.9913214774238767, 0.9391592443414017, 0.12939445009467565, 0.8410639256153918, 0.8838383297008594, 0.28498449964288947, 0.6839627991429347, 0.7816762663886859, 0.2610109694233924, 0.717780165914329, 0.9735218156769595, 0.9385060407365347, 0.8919065623378626, 0.849593366413551, 0.549591154211823, 0.42276242631678695, 0.8217658459176198, 0.8856842884834116, 0.527187968499206, 0.46128947243680524, 0.9736423341555176, 0.9443192650337441, 0.21693740509278614, 0.7691417089653326, 0.9735302529283371, 0.034483771171737156, 0.9655455928086403, 0.979058366830006, 0.9391088166508962, 0.9460259478370374, 0.9090324468921702, 0.4270630369175481, 0.11006779301998662, 0.20252473915677538, 0.013208135162398394, 0.24214914464397058, 0.12707726502068123, 0.826002222634428, 0.32012068873568195, 0.26890137853797286, 0.38414482648281834, 0.025609655098854555, 0.7247905815275687, 0.1546117470999452, 0.8349034343397042, 0.8113868810644695, 0.04225973338877445, 0.1014233601330587, 0.04225973338877445, 0.9807869032193155, 0.04057417416150113, 0.933206005714526, 0.9481544271697836, 0.9372536640233525, 0.043571012929104716, 0.9367767779757513, 0.9705325975128967, 0.034690179173377036, 0.9713250168545571, 0.8770334919107916, 0.9576612118284898, 0.9778197380426467, 0.9348284558977512, 0.6676124904418563, 0.33380624522092817, 0.43239312090323684, 0.555934012589876, 0.9804082445297999, 0.7641732175420602, 0.1211494125371559, 0.083872670218031, 0.027957556739343668, 0.9785700957448611, 0.8567962662667894, 0.15979913165867063, 0.8309554846250873, 0.14339011389266723, 0.8125439787251143, 0.6064205071441771, 0.35108555676768144, 0.8302078635754011, 0.31072073250077664, 0.6835856115017086, 0.10759149539734195, 0.8607319631787356, 0.9731554436682333, 0.954152966302826, 0.27821027705388, 0.6828797709504328, 0.7158841308062011, 0.08148274659582777, 0.13968470844999045, 0.06402215803957896, 0.5023827240543635, 0.1164945447082582, 0.371326361257573, 0.08147690982092214, 0.8147690982092213, 0.9811276033102336, 0.9255651375052873, 0.9871718597617463, 0.900148618449512, 0.07896040512715018, 0.9762350831038568, 0.23266692748269693, 0.7561675143187649, 0.060909214138076866, 0.933941283450512, 0.0779227443161459, 0.8961115596356779, 0.07905126547287855, 0.9090895529381032, 0.9773898912542035, 0.040829088359092734, 0.9390690322591329, 0.14793557332176976, 0.8383015821566954, 0.9771961736056324, 0.03991293232010717, 0.9179974433624648, 0.03442998864692436, 0.9296096934669578, 0.07735757971612435, 0.8509333768773679, 0.38160919181431074, 0.599671587136774, 0.29744703949798373, 0.5948940789959675, 0.310585213016294, 0.6901893622584311, 0.9814790398177512, 0.8787265380558007, 0.5789073881925839, 0.4135052772804171, 0.11018484764659547, 0.8013443465206943, 0.09015123898357812, 0.885585538171158, 0.5505160124372743, 0.11010320248745487, 0.3303096074623646, 0.7518248959461237, 0.0810791554451702, 0.14741664626394582, 0.022112496939591872, 0.9697880537214258, 0.44055524551289166, 0.5506940568911146, 0.9812316295943214, 0.9948246740750208, 0.9100088179488519, 0.10384933715402893, 0.8827193658092459, 0.15685312213242456, 0.12548249770593964, 0.17567549678831548, 0.5395747401355404, 0.9786163779475251, 0.94814070153482, 0.9695083556369998, 0.04006821753172324, 0.9215690032296344, 0.9895558718851221, 0.04035477499438025, 0.9281598248707457, 0.07838272751885877, 0.901401366466876, 0.9917308267019471, 0.40033705012457604, 0.07413649076381038, 0.07413649076381038, 0.4299916464301002, 0.9810549870107664, 0.05346320871261648, 0.39206353055918747, 0.28513711313395457, 0.26731604356308236, 0.09817289021995954, 0.8508317152396493, 0.18671512871137982, 0.7779797029640826, 0.967418876751753, 0.8498502402491207, 0.9927692872699041, 0.9347883430593521, 0.26558785469386714, 0.6971681185714013, 0.3089918619000185, 0.6621254183571824, 0.27748597391716734, 0.4343258722181749, 0.1568398983010076, 0.1206460756161597, 0.9821124779278075, 0.9391706830604187, 0.985285210248614, 0.8857187262229345, 0.31265910627233945, 0.669983799155013, 0.11158227050168856, 0.285154691282093, 0.6075034727314155, 0.8786150392239328, 0.9655698576357648, 0.981086215240806, 0.9433633849591166, 0.18477095354301612, 0.7390838141720645, 0.8217109934211135, 0.9453708779919474, 0.21603472897155643, 0.7801254101750649, 0.9204256411162265, 0.06868848068031541, 0.9921693685934508, 0.885438535031359, 0.04973164658320053, 0.31496709502693665, 0.6299341900538733, 0.9808768389536312, 0.7751411296884809, 0.38818538994223983, 0.5822780849133598, 0.7792049179658257, 0.033157656083652155, 0.09118355423004343, 0.09118355423004343, 0.853840564344625, 0.13792870497084614, 0.6896435248542307, 0.6619535381398497, 0.3203000990999273, 0.984179905561718, 0.7030591752285328, 0.0724803273431477, 0.13771262195198064, 0.07972836007746248, 0.8344235120550617, 0.12043225947186458, 0.04301152123995163, 0.8302631478827254, 0.9691415092230384, 0.9190788989954171, 0.35816726089802237, 0.5096995635856472, 0.06887831940346584, 0.06887831940346584, 0.44032368042189146, 0.3651464666913246, 0.15035442746113367, 0.053698009807547735, 0.9938995989619758, 0.9807452363010575, 0.21921931952072393, 0.7672676183225338, 0.9824632314461272, 0.10107873556907492, 0.8760157082653159, 0.6599533018108661, 0.32997665090543304, 0.5250829892691513, 0.4688240975617422, 0.9743376782339709, 0.9628521691153444, 0.034424731025323514, 0.9294677376837349, 0.15362884872813373, 0.8193538598833798, 0.3017757367195549, 0.6161254624690912, 0.07544393417988872, 0.14862576478932424, 0.8545981475386143, 0.1404365025266827, 0.8075098895284254, 0.885646983272301, 0.6813096346211097, 0.20277072458961598, 0.11355160577018496, 0.04024030249649511, 0.9255269574193875, 0.20889156724170377, 0.7659357465529137, 0.03481526120695062, 0.8302199306415015, 0.1928049597984342, 0.7712198391937368, 0.9376274109824889, 0.06499867044422096, 0.747484710108541, 0.1841628995919594, 0.7333081120981811, 0.17314219313429277, 0.09166351401227264, 0.9391012202486436, 0.9217389809599263, 0.9645693167861593, 0.9701099022541927, 0.11579326068245635, 0.8800287811866683, 0.970306770932481, 0.5482691710685188, 0.42643157749773686, 0.951580915082866, 0.873649173863648, 0.1600426854980261, 0.8002134274901306, 0.9611329554664189, 0.9387526765498639, 0.026027139608668235, 0.9630041655207247, 0.09143342607045349, 0.9143342607045348, 0.19640705188346894, 0.7856282075338757, 0.8362468041932425, 0.975751288197845, 0.17477519388262425, 0.699100775530497, 0.9800959454964068, 0.905939626862383, 0.09265291638365282, 0.9556606836374854, 0.8303323021127275, 0.17819239103130313, 0.8130027840803206, 0.32918617075422374, 0.6583723415084475, 0.8217144953281328, 0.6063204357085665, 0.14075295828948867, 0.2490244646660184, 0.9087957923250444, 0.9865250191096655, 0.973725251840988, 0.8021169169484387, 0.19098021832105683, 0.905334961146135, 0.2144035459966402, 0.7504124109882406, 0.039388633689415704, 0.9453272085459768, 0.04067425630825323, 0.9355078950898242, 0.2217643404566344, 0.6652930213699032, 0.06881832252827104, 0.8946381928675236, 0.9776655633797352, 0.8922055436637847, 0.9498788055340509, 0.19382046763653205, 0.7752818705461282, 0.9858173909344587, 0.9110565258573459, 0.1680767021318676, 0.8067681702329644, 0.040648238750008, 0.9349094912501842, 0.20372255942680498, 0.7639595978505187, 0.16915906970930894, 0.7612158136918903, 0.9770800170877276, 0.9127854691285167, 0.8302296556187759, 0.6160727086719594, 0.374475568016289, 0.053574659622699576, 0.9107692135858927, 0.9393687477093717, 0.9815276255605505, 0.08872691854138928, 0.8872691854138929, 0.46514728272085154, 0.07406803864981712, 0.3110857623292319, 0.09184436792577323, 0.056291709373861014, 0.3136449039290702, 0.6272898078581404, 0.975768939084098, 0.9763575272453768, 0.07920949797557267, 0.9109092267190857, 0.9188288098931928, 0.910209647707261, 0.972498733127947, 0.6187769146093135, 0.10437200969313722, 0.22365430648529402, 0.05218600484656861, 0.4679373149093657, 0.15952408462819284, 0.12761926770255427, 0.1701590236034057, 0.06380963385127714, 0.964834274661953, 0.9075124094982502, 0.8313331748330278, 0.1681347994044326, 0.8517164199738534, 0.981088388541487, 0.9885450065008383, 0.8217339354615769, 0.9556516797480129, 0.13550600681305514, 0.8130360408783308, 0.0344852328096847, 0.931101285861487, 0.7625260846825572, 0.23106851050986582, 0.3131965481317377, 0.689032405889823, 0.9556461907440629, 0.9772833424661462, 0.9453791280906835, 0.5613425956142749, 0.24665053443657534, 0.18711419853809164, 0.9556398448691472, 0.34020699384446973, 0.19943168604675812, 0.10558148084828371, 0.19943168604675812, 0.1525065834475209, 0.2924374240382749, 0.6433623328842047, 0.05567909157839721, 0.9465445568327525, 0.9792532997842858, 0.1662151317732866, 0.6648605270931464, 0.2065990043709456, 0.7230965152983095, 0.8301409954020575, 0.23200646532022443, 0.7424206890247181, 0.3091812301355024, 0.4756634309776961, 0.11891585774442402, 0.08720496234591095, 0.03136396691679448, 0.9618283187816974, 0.9692122154054278, 0.8168914982921298, 0.09832953220183044, 0.03025524067748629, 0.05294667118560101, 0.2307139443562114, 0.6921418330686342, 0.02059238144391602, 0.9472495464201368, 0.02059238144391602, 0.8843692239008601, 0.9564138818681975, 0.8288664813183441, 0.9513505015308786, 0.7063624300777419, 0.11036912969964718, 0.029431767919905913, 0.14715883959952958, 0.8856894782546485, 0.9022873278524143, 0.30702663840735317, 0.6754586044961769, 0.9209890998524947, 0.03357619663875295, 0.6379477361363061, 0.31897386806815303, 0.07484990497109825, 0.598799239768786, 0.046781190606936404, 0.27133090552023115, 0.9805920186444063, 0.5162172233765675, 0.29370979950735737, 0.08010267259291565, 0.10680356345722086, 0.830224007715271, 0.9763763766743896, 0.8494362376556238, 0.18149533387674804, 0.7985794690576914, 0.4613759428838403, 0.22445316140294932, 0.31174050194854075, 0.860515993711044, 0.977449466590457, 0.15881204337258034, 0.7940602168629017, 0.09641480778179554, 0.8677332700361599, 0.9770133094484723, 0.9674768002180968, 0.9556525105740628, 0.034497352562699084, 0.9314285191928753, 0.9797711227550306, 0.9811327271602394, 0.23598714414058108, 0.7374598254393159, 0.15059187258334192, 0.6023674903333677, 0.9958205317168656, 0.9768274341533355, 0.9693134385996568, 0.8922512749972635, 0.7207477945102734, 0.09299971542068043, 0.13174959684596396, 0.046499857710340216, 0.37302685141600395, 0.6217114190266733, 0.43879912817315164, 0.3959894571318685, 0.14983384864449079, 0.9096917084463181], \"Term\": [\"00\", \"00\", \"000\", \"1995\", \"2009\", \"2020\", \"25k\", \"38\", \"90th\", \"abilities\", \"abilities\", \"academia\", \"accessories\", \"account\", \"accountant\", \"accounting\", \"accounting\", \"accountpaid\", \"administrative\", \"advancement\", \"advancement\", \"advancementessential\", \"aerotek\", \"aflac\", \"aflacbenefits\", \"age\", \"age\", \"ageuse\", \"allegis\", \"allegis\", \"amedisys\", \"america\", \"america\", \"analysis\", \"anniversary\", \"anytime\", \"apartment\", \"applications\", \"applications\", \"appraisalmake\", \"appraising\", \"areas\", \"areas\", \"assistant\", \"assortment\", \"automotive\", \"automotive\", \"aviation\", \"backgrounds\", \"backgrounds\", \"basics\", \"booming\", \"bridge\", \"bundled\", \"business\", \"business\", \"business\", \"business\", \"business\", \"businesses\", \"businesses\", \"calls\", \"calls\", \"calls\", \"calls\", \"captech\", \"card\", \"card\", \"career\", \"career\", \"career\", \"career\", \"catalog\", \"category\", \"category\", \"celebrating\", \"cellular\", \"central\", \"central\", \"characteristic\", \"classes\", \"classes\", \"colonial\", \"color\", \"com\", \"commonly\", \"communication\", \"communication\", \"community\", \"community\", \"companies\", \"company\", \"company\", \"company\", \"company\", \"compared\", \"competitively\", \"conduct\", \"conduct\", \"continually\", \"continually\", \"contract\", \"contract\", \"contributionflexible\", \"control\", \"control\", \"controlling\", \"controlling\", \"conventions\", \"costco\", \"credit\", \"credit\", \"customer\", \"customer\", \"customer\", \"customer\", \"customers\", \"customers\", \"customers\", \"customized\", \"customized\", \"data\", \"dealer\", \"degree\", \"development\", \"development\", \"different\", \"disability\", \"disability\", \"distributor\", \"distributor\", \"district\", \"district\", \"documenting\", \"documenting\", \"dog\", \"drawer\", \"drawer\", \"driving\", \"driving\", \"duties\", \"easy\", \"easy\", \"economic\", \"economic\", \"electrical\", \"electrical\", \"employers\", \"employers\", \"encourage\", \"encourage\", \"entrepreneur\", \"entrepreneur\", \"entry\", \"environmentstrong\", \"equal\", \"equal\", \"equipment\", \"equipment\", \"equipment\", \"equityauto\", \"excellent\", \"excellent\", \"excellent\", \"experience\", \"experience\", \"experience\", \"experience\", \"extra\", \"field\", \"field\", \"finalize\", \"financial\", \"flex\", \"force\", \"force\", \"franchise\", \"franchise\", \"franchise\", \"franchise\", \"franchisees\", \"franchises\", \"freedom\", \"fulfill\", \"fulfill\", \"general\", \"getting\", \"getting\", \"given\", \"given\", \"gowireless\", \"growth\", \"growth\", \"growth\", \"growth\", \"guerrilla\", \"hands\", \"hands\", \"hands\", \"hands\", \"helping\", \"helping\", \"home\", \"home\", \"hot\", \"hydraulic\", \"income\", \"incorporating\", \"independence\", \"independence\", \"independently\", \"independently\", \"industry\", \"industry\", \"industry\", \"industry\", \"information\", \"instant\", \"insurance\", \"insurancemust\", \"interpersonal\", \"interpersonal\", \"inventory\", \"inventory\", \"inventory\", \"james\", \"key\", \"lady\", \"laptop\", \"law\", \"law\", \"lawseffectively\", \"layaway\", \"learn\", \"learn\", \"level\", \"level\", \"liberty\", \"liens\", \"list\", \"list\", \"list\", \"ll\", \"lobster\", \"locations\", \"locations\", \"looking\", \"looking\", \"looking\", \"looking\", \"machinery\", \"machines\", \"machines\", \"maintenance\", \"maintenance\", \"make\", \"management\", \"management\", \"management\", \"management\", \"manager\", \"manager\", \"manager\", \"mannerspecific\", \"marine\", \"marital\", \"market\", \"market\", \"market\", \"market\", \"marketing\", \"marketing\", \"marketing\", \"marketing\", \"matco\", \"mcdonald\", \"mechanical\", \"mechanical\", \"mechanics\", \"media\", \"media\", \"medical\", \"medical\", \"meet\", \"meet\", \"men\", \"merchant\", \"mind\", \"mind\", \"minimal\", \"minimal\", \"mobile\", \"mobile\", \"mobile\", \"model\", \"model\", \"motivation\", \"motivation\", \"mvrvalid\", \"need\", \"need\", \"need\", \"normal\", \"normal\", \"north\", \"north\", \"north\", \"offclosed\", \"offering\", \"offering\", \"onboard\", \"ongoing\", \"ongoing\", \"ongoing\", \"opportunities\", \"opportunities\", \"opportunities\", \"opportunityobviously\", \"optical\", \"optional\", \"origin\", \"outside\", \"outside\", \"overhead\", \"package\", \"package\", \"paging\", \"painting\", \"patients\", \"patients\", \"patrons\", \"paycheck\", \"payment\", \"payment\", \"personalized\", \"personalized\", \"physical\", \"physical\", \"plc\", \"plenty\", \"plumbing\", \"plumbing\", \"plus\", \"position\", \"position\", \"powers\", \"preferredretail\", \"preparation\", \"preparation\", \"privacy\", \"privacy\", \"proceduresability\", \"products\", \"products\", \"products\", \"programmed\", \"project\", \"projects\", \"protected\", \"protected\", \"race\", \"ranked\", \"ranked\", \"rated\", \"rated\", \"recently\", \"recently\", \"red\", \"red\", \"regard\", \"regard\", \"regular\", \"rehabilitation\", \"rejuvenate\", \"relevant\", \"relevant\", \"reliably\", \"religion\", \"relocation\", \"relocation\", \"remaining\", \"remaining\", \"rep\", \"rep\", \"repair\", \"repair\", \"representative\", \"reprogram\", \"requiredproficiency\", \"retail\", \"retail\", \"retailer\", \"retailer\", \"reverse\", \"role\", \"salaries\", \"salaries\", \"sales\", \"sales\", \"sales\", \"sales\", \"sales\", \"saturdays\", \"saturdays\", \"schedule\", \"seasonal\", \"secure\", \"secure\", \"seekers\", \"seen\", \"senior\", \"service\", \"service\", \"service\", \"service\", \"services\", \"services\", \"services\", \"services\", \"services\", \"settings\", \"sex\", \"skills\", \"skills\", \"skillsminimum\", \"sluggish\", \"snap\", \"sourcesdetermine\", \"sourrounding\", \"specialist\", \"specialist\", \"spend\", \"spend\", \"staff\", \"staff\", \"status\", \"status\", \"steadfast\", \"stepping\", \"stops\", \"store\", \"store\", \"store\", \"strived\", \"strong\", \"strong\", \"strong\", \"strong\", \"strong\", \"subsidiaries\", \"subsidiaries\", \"substituted\", \"substituted\", \"subway\", \"sunday\", \"sunday\", \"sundays\", \"sundays\", \"sundayscompany\", \"supervision\", \"supervision\", \"support\", \"support\", \"support\", \"support\", \"tax\", \"tax\", \"taxes\", \"team\", \"team\", \"team\", \"team\", \"teammates\", \"teammates\", \"technicians\", \"technicians\", \"technicians\", \"terminal\", \"therapist\", \"therapists\", \"therapy\", \"time\", \"time\", \"time\", \"time\", \"titlebucks\", \"titlemax\", \"tjoin\", \"tjoin\", \"tmx\", \"tool\", \"tool\", \"tool\", \"tools\", \"tools\", \"tools\", \"tools\", \"trainers\", \"training\", \"training\", \"training\", \"training\", \"trainingaccelerated\", \"trainings\", \"treatment\", \"unique\", \"unique\", \"use\", \"use\", \"use\", \"usgowireless\", \"vector\", \"vehicle\", \"vehicle\", \"vehicles\", \"vehicles\", \"verizon\", \"veteran\", \"victory\", \"visits\", \"visits\", \"volunteer\", \"wavers\", \"way\", \"way\", \"wealth\", \"wealth\", \"wireless\", \"wish\", \"women\", \"woodbridge\", \"work\", \"work\", \"work\", \"work\", \"works\", \"works\", \"year\", \"year\", \"year\", \"yr\"]}, \"R\": 30, \"lambda.step\": 0.01, \"plot.opts\": {\"xlab\": \"PC1\", \"ylab\": \"PC2\"}, \"topic.order\": [1, 7, 3, 2, 4, 5, 6]};\n",
       "\n",
       "function LDAvis_load_lib(url, callback){\n",
       "  var s = document.createElement('script');\n",
       "  s.src = url;\n",
       "  s.async = true;\n",
       "  s.onreadystatechange = s.onload = callback;\n",
       "  s.onerror = function(){console.warn(\"failed to load library \" + url);};\n",
       "  document.getElementsByTagName(\"head\")[0].appendChild(s);\n",
       "}\n",
       "\n",
       "if(typeof(LDAvis) !== \"undefined\"){\n",
       "   // already loaded: just create the visualization\n",
       "   !function(LDAvis){\n",
       "       new LDAvis(\"#\" + \"ldavis_el6161403685138779687413160851\", ldavis_el6161403685138779687413160851_data);\n",
       "   }(LDAvis);\n",
       "}else if(typeof define === \"function\" && define.amd){\n",
       "   // require.js is available: use it to load d3/LDAvis\n",
       "   require.config({paths: {d3: \"https://cdnjs.cloudflare.com/ajax/libs/d3/3.5.5/d3.min\"}});\n",
       "   require([\"d3\"], function(d3){\n",
       "      window.d3 = d3;\n",
       "      LDAvis_load_lib(\"https://cdn.rawgit.com/bmabey/pyLDAvis/files/ldavis.v1.0.0.js\", function(){\n",
       "        new LDAvis(\"#\" + \"ldavis_el6161403685138779687413160851\", ldavis_el6161403685138779687413160851_data);\n",
       "      });\n",
       "    });\n",
       "}else{\n",
       "    // require.js not available: dynamically load d3 & LDAvis\n",
       "    LDAvis_load_lib(\"https://cdnjs.cloudflare.com/ajax/libs/d3/3.5.5/d3.min.js\", function(){\n",
       "         LDAvis_load_lib(\"https://cdn.rawgit.com/bmabey/pyLDAvis/files/ldavis.v1.0.0.js\", function(){\n",
       "                 new LDAvis(\"#\" + \"ldavis_el6161403685138779687413160851\", ldavis_el6161403685138779687413160851_data);\n",
       "            })\n",
       "         });\n",
       "}\n",
       "</script>"
      ],
      "text/plain": [
       "PreparedData(topic_coordinates=               x          y  topics  cluster       Freq\n",
       "topic                                                  \n",
       "0     -29.594002  60.112713       1        1  60.970431\n",
       "6     -45.996586  11.891685       2        1  10.729470\n",
       "2      20.368856  70.019325       3        1   9.971675\n",
       "1      53.928768  31.704309       4        1   7.025038\n",
       "3     -12.437127 -26.423267       5        1   5.589067\n",
       "4       3.965971  21.797720       6        1   3.769257\n",
       "5      37.524284 -16.517805       7        1   1.945061, topic_info=     Category        Freq                  Term       Total  loglift  logprob\n",
       "term                                                                         \n",
       "4334  Default  191.000000                   tax  191.000000  30.0000  30.0000\n",
       "2527  Default  166.000000               liberty  166.000000  29.0000  29.0000\n",
       "1900  Default  159.000000             franchise  159.000000  28.0000  28.0000\n",
       "3847  Default  337.000000                 sales  337.000000  27.0000  27.0000\n",
       "654   Default  227.000000              business  227.000000  26.0000  26.0000\n",
       "2692  Default  117.000000                 matco  117.000000  25.0000  25.0000\n",
       "2000  Default   93.000000            gowireless   93.000000  24.0000  24.0000\n",
       "4784  Default   78.000000              wireless   78.000000  23.0000  23.0000\n",
       "4042  Default   70.000000                  snap   70.000000  22.0000  22.0000\n",
       "1620  Default   99.000000             equipment   99.000000  21.0000  21.0000\n",
       "3049  Default   86.000000               outside   86.000000  20.0000  20.0000\n",
       "3310  Default   89.000000           preparation   89.000000  19.0000  19.0000\n",
       "4462  Default  106.000000                 tools  106.000000  18.0000  18.0000\n",
       "3133  Default   76.000000               payment   76.000000  17.0000  17.0000\n",
       "2978  Default   92.000000               ongoing   92.000000  16.0000  16.0000\n",
       "2493  Default   83.000000                 learn   83.000000  15.0000  15.0000\n",
       "1187  Default  137.000000             customers  137.000000  14.0000  14.0000\n",
       "3764  Default   82.000000                retail   82.000000  13.0000  13.0000\n",
       "259   Default   43.000000               aerotek   43.000000  12.0000  12.0000\n",
       "4280  Default  126.000000               support  126.000000  11.0000  11.0000\n",
       "676   Default   78.000000                 calls   78.000000  10.0000  10.0000\n",
       "4185  Default  117.000000                 store  117.000000   9.0000   9.0000\n",
       "2559  Default   60.000000                  list   60.000000   8.0000   8.0000\n",
       "910   Default   80.000000             community   80.000000   7.0000   7.0000\n",
       "3448  Default   52.000000             protected   52.000000   6.0000   6.0000\n",
       "2884  Default  123.000000                  need  123.000000   5.0000   5.0000\n",
       "2814  Default   79.000000                mobile   79.000000   4.0000   4.0000\n",
       "2032  Default   67.000000                growth   67.000000   3.0000   3.0000\n",
       "2351  Default   80.000000             inventory   80.000000   2.0000   2.0000\n",
       "3901  Default   56.000000              seasonal   56.000000   1.0000   1.0000\n",
       "...       ...         ...                   ...         ...      ...      ...\n",
       "2290   Topic7    4.733537         insurancemust    5.645133   3.7638  -5.1941\n",
       "381    Topic7    4.733492            appraising    5.645352   3.7637  -5.1941\n",
       "1615   Topic7    4.710135     environmentstrong    5.690052   3.7509  -5.1991\n",
       "4668   Topic7    8.519819              vehicles   10.371851   3.7432  -4.6064\n",
       "47     Topic7    4.099984                   25k    5.002328   3.7410  -5.3378\n",
       "4667   Topic7   15.269387               vehicle   18.890255   3.7271  -4.0229\n",
       "283    Topic7    3.644737                ageuse    4.525715   3.7234  -5.4555\n",
       "2581   Topic7    3.003784               lobster    3.870263   3.6864  -5.6489\n",
       "2656   Topic7    2.755770        mannerspecific    3.613312   3.6689  -5.7351\n",
       "4262   Topic7    7.382296               sundays    9.680589   3.6688  -4.7497\n",
       "167    Topic7    2.755369           accountpaid    3.613782   3.6687  -5.7352\n",
       "4495   Topic7    2.754625   trainingaccelerated    3.613483   3.6685  -5.7355\n",
       "3303   Topic7    2.753834       preferredretail    3.613011   3.6683  -5.7358\n",
       "3706   Topic7    2.753994   requiredproficiency    3.613458   3.6683  -5.7357\n",
       "4263   Topic7    2.753904        sundayscompany    3.613844   3.6681  -5.7358\n",
       "1071   Topic7    2.752297  contributionflexible    3.613553   3.6676  -5.7364\n",
       "245    Topic7    2.750682  advancementessential    3.613232   3.6671  -5.7369\n",
       "2957   Topic7    2.750676             offclosed    3.613500   3.6670  -5.7370\n",
       "3370   Topic7    2.776148     proceduresability    3.650903   3.6660  -5.7277\n",
       "4074   Topic7    2.775295      sourcesdetermine    3.650817   3.6657  -5.7280\n",
       "2479   Topic7    2.772990       lawseffectively    3.650919   3.6648  -5.7289\n",
       "379    Topic7    2.772620         appraisalmake    3.650675   3.6648  -5.7290\n",
       "4030   Topic7    2.659462         skillsminimum    3.522299   3.6589  -5.7707\n",
       "4261   Topic7    4.362778                sunday    6.016299   3.6185  -5.2757\n",
       "4746   Topic7    4.446918                wealth    6.640465   3.5389  -5.2566\n",
       "1549   Topic7    4.443052             encourage    6.723886   3.5256  -5.2575\n",
       "3594   Topic7    3.210024                   red    4.509291   3.6000  -5.5825\n",
       "3863   Topic7    3.854761             saturdays    6.376638   3.4365  -5.3995\n",
       "3359   Topic7    3.663719               privacy    6.075589   3.4341  -5.4503\n",
       "4349   Topic7    2.827647             teammates    4.334372   3.5127  -5.7094\n",
       "\n",
       "[366 rows x 6 columns], token_table=      Topic      Freq                  Term\n",
       "term                                       \n",
       "0         1  0.962511                    00\n",
       "0         6  0.020052                    00\n",
       "1         1  0.985781                   000\n",
       "27        4  0.911941                  1995\n",
       "33        5  0.985420                  2009\n",
       "37        2  0.981064                  2020\n",
       "47        7  0.799628                   25k\n",
       "65        2  0.957730                    38\n",
       "114       5  0.948129                  90th\n",
       "124       1  0.284751             abilities\n",
       "124       5  0.664418             abilities\n",
       "131       4  0.965288              academia\n",
       "144       4  0.932489           accessories\n",
       "158       1  0.985137               account\n",
       "162       1  0.992663            accountant\n",
       "165       1  0.749557            accounting\n",
       "165       2  0.249852            accounting\n",
       "167       7  0.830155           accountpaid\n",
       "235       1  0.993379        administrative\n",
       "244       1  0.458107           advancement\n",
       "244       4  0.528585           advancement\n",
       "245       7  0.830282  advancementessential\n",
       "259       6  0.979031               aerotek\n",
       "272       1  0.991321                 aflac\n",
       "273       4  0.939159         aflacbenefits\n",
       "275       1  0.129394                   age\n",
       "275       6  0.841064                   age\n",
       "283       7  0.883838                ageuse\n",
       "309       1  0.284984               allegis\n",
       "309       6  0.683963               allegis\n",
       "...     ...       ...                   ...\n",
       "4666      1  0.977449                vector\n",
       "4667      1  0.158812               vehicle\n",
       "4667      7  0.794060               vehicle\n",
       "4668      1  0.096415              vehicles\n",
       "4668      7  0.867733              vehicles\n",
       "4680      4  0.977013               verizon\n",
       "4686      6  0.967477               veteran\n",
       "4690      4  0.955653               victory\n",
       "4708      1  0.034497                visits\n",
       "4708      3  0.931429                visits\n",
       "4719      2  0.979771             volunteer\n",
       "4742      2  0.981133                wavers\n",
       "4743      1  0.235987                   way\n",
       "4743      3  0.737460                   way\n",
       "4746      1  0.150592                wealth\n",
       "4746      7  0.602367                wealth\n",
       "4784      4  0.995821              wireless\n",
       "4787      2  0.976827                  wish\n",
       "4788      5  0.969313                 women\n",
       "4790      5  0.892251            woodbridge\n",
       "4793      1  0.720748                  work\n",
       "4793      2  0.093000                  work\n",
       "4793      3  0.131750                  work\n",
       "4793      4  0.046500                  work\n",
       "4803      1  0.373027                 works\n",
       "4803      4  0.621711                 works\n",
       "4822      1  0.438799                  year\n",
       "4822      2  0.395989                  year\n",
       "4822      4  0.149834                  year\n",
       "4828      4  0.909692                    yr\n",
       "\n",
       "[541 rows x 3 columns], R=30, lambda_step=0.01, plot_opts={'xlab': 'PC1', 'ylab': 'PC2'}, topic_order=[1, 7, 3, 2, 4, 5, 6])"
      ]
     },
     "execution_count": 95,
     "metadata": {},
     "output_type": "execute_result"
    }
   ],
   "source": [
    "pyLDAvis.enable_notebook()\n",
    "dash = pyLDAvis.sklearn.prepare(LDA2, tfidf, tfidf_vectorizer, mds='tsne')\n",
    "dash"
   ]
  },
  {
   "cell_type": "markdown",
   "metadata": {},
   "source": [
    "## NMF modelling"
   ]
  },
  {
   "cell_type": "markdown",
   "metadata": {},
   "source": [
    "##### Fit NMF Model  - Frobenius norm"
   ]
  },
  {
   "cell_type": "code",
   "execution_count": 139,
   "metadata": {},
   "outputs": [
    {
     "name": "stderr",
     "output_type": "stream",
     "text": [
      "/home/etzimopoulos/anaconda3/envs/nlp_course/lib/python3.7/site-packages/ipykernel/ipkernel.py:287: DeprecationWarning: `should_run_async` will not call `transform_cell` automatically in the future. Please pass the result to `transformed_cell` argument and any exception that happen during thetransform in `preprocessing_exc_tuple` in IPython 7.17 and above.\n",
      "  and should_run_async(code)\n"
     ]
    },
    {
     "name": "stdout",
     "output_type": "stream",
     "text": [
      "Fitting the NMF model (Frobenius norm) with tf-idf features, n_samples=5000 and n_features=5000...\n",
      "done in 1.397s.\n",
      "\n",
      "Topics in NMF model (Frobenius norm):\n",
      "\n",
      "The top 15 words for topic #0 are:tax liberty preparation ongoing learn support franchisees seasonal community year market industry marketing training sluggish\n",
      "\n",
      "The top 15 words for topic #1 are:matco equipment sales tools outside inventory customers reliably mechanics distributor technicians automotive payment tool business\n",
      "\n",
      "The top 15 words for topic #2 are:vector regular time opportunities income looking growing need people merit cutco needing tenure cut doesn\n",
      "\n",
      "The top 15 words for topic #3 are:franchise snap business protected list calls tools growth stepping plenty men women controlling franchises celebrating\n",
      "\n",
      "The top 15 words for topic #4 are:aflac career sales programs nation need representative balance insurance provides community companies employees team level\n",
      "\n",
      "The top 15 words for topic #5 are:gowireless wireless sales retail products store experience time management skills excellent strong verizon communication patrons\n",
      "\n",
      "The top 15 words for topic #6 are:manager cleaning commercial driver franchise janitorial operator jani king investment bilingual engineer facilities construction keeping\n",
      "\n",
      "The top 15 words for topic #7 are:ll retail customers sales store mobile customer technology connected interactive really shine team structure talent\n",
      "\n",
      "The top 15 words for topic #8 are:central payment sales media card businesses credit outside social merchant mobile terms working customer processing\n",
      "\n",
      "The top 15 words for topic #9 are:ll business skills management day far promotions enterprise project customer service performance program sales year\n",
      "\n"
     ]
    }
   ],
   "source": [
    "# Fit the NMF model\n",
    "print(\"Fitting the NMF model (Frobenius norm) with tf-idf features, \"\n",
    "      \"n_samples=%d and n_features=%d...\"\n",
    "      % (n_samples, n_features))\n",
    "t0 = time()\n",
    "nmf = NMF(n_components=n_components, random_state=1,\n",
    "          alpha=.1, l1_ratio=.5).fit(tfidf)\n",
    "print(\"done in %0.3fs.\" % (time() - t0))\n",
    "\n",
    "print(\"\\nTopics in NMF model (Frobenius norm):\")\n",
    "tfidf_feature_names = tfidf_vectorizer.get_feature_names()\n",
    "sf.print_top_words(nmf, tfidf_feature_names, n_top_words)"
   ]
  },
  {
   "cell_type": "markdown",
   "metadata": {},
   "source": [
    "##### Fit NMF Model  - Generalized Kullback-Leibler divergence"
   ]
  },
  {
   "cell_type": "code",
   "execution_count": 140,
   "metadata": {},
   "outputs": [
    {
     "name": "stderr",
     "output_type": "stream",
     "text": [
      "/home/etzimopoulos/anaconda3/envs/nlp_course/lib/python3.7/site-packages/ipykernel/ipkernel.py:287: DeprecationWarning: `should_run_async` will not call `transform_cell` automatically in the future. Please pass the result to `transformed_cell` argument and any exception that happen during thetransform in `preprocessing_exc_tuple` in IPython 7.17 and above.\n",
      "  and should_run_async(code)\n"
     ]
    },
    {
     "name": "stdout",
     "output_type": "stream",
     "text": [
      "Fitting the NMF model (generalized Kullback-Leibler divergence) with tf-idf features, n_samples=5000 and n_features=5000...\n",
      "done in 4.372s.\n",
      "\n",
      "Topics in NMF model (generalized Kullback-Leibler divergence):\n",
      "\n",
      "The top 15 words for topic #0 are:tax liberty preparation ongoing support learn seasonal franchisees industry community year market knowledge weekly stands\n",
      "\n",
      "The top 15 words for topic #1 are:sales matco store equipment customers tools outside use inventory business distributor technicians success mechanics reliably\n",
      "\n",
      "The top 15 words for topic #2 are:time looking opportunities training income growing regular vector management need team people professional want year\n",
      "\n",
      "The top 15 words for topic #3 are:franchise snap business protected list calls growth tools relocation home plenty men controlling women stepping\n",
      "\n",
      "The top 15 words for topic #4 are:aflac career sales programs nation insurance need balance representative provides employees community companies team work\n",
      "\n",
      "The top 15 words for topic #5 are:gowireless wireless strong retail products excellent field experience skills independently works interpersonal store communication locations\n",
      "\n",
      "The top 15 words for topic #6 are:manager commercial cleaning 000 driver maintenance manufacturing construction franchise property investment facilities operator janitorial time\n",
      "\n",
      "The top 15 words for topic #7 are:ll customer customers mobile team technology retail sales plus associates create pay working role talent\n",
      "\n",
      "The top 15 words for topic #8 are:central sales payment credit businesses media card outside processing social working merchant terms accounts marketing\n",
      "\n",
      "The top 15 words for topic #9 are:project experience skills accountant position duties client financial administrative 00 aerotek accounting classification projects information\n",
      "\n"
     ]
    }
   ],
   "source": [
    "# Fit the NMF model\n",
    "print(\"Fitting the NMF model (generalized Kullback-Leibler divergence) with \"\n",
    "      \"tf-idf features, n_samples=%d and n_features=%d...\"\n",
    "      % (n_samples, n_features))\n",
    "t0 = time()\n",
    "nmf = NMF(n_components=n_components, random_state=1,\n",
    "          beta_loss='kullback-leibler', solver='mu', max_iter=1000, alpha=.1,\n",
    "          l1_ratio=.5).fit(tfidf)\n",
    "print(\"done in %0.3fs.\" % (time() - t0))\n",
    "\n",
    "print(\"\\nTopics in NMF model (generalized Kullback-Leibler divergence):\")\n",
    "\n",
    "# User TFIDF vectorizer\n",
    "tfidf_feature_names = tfidf_vectorizer.get_feature_names()\n",
    "\n",
    "# Print top words\n",
    "sf.print_top_words(nmf, tfidf_feature_names, n_top_words)\n"
   ]
  },
  {
   "cell_type": "markdown",
   "metadata": {},
   "source": [
    "### LDA"
   ]
  },
  {
   "cell_type": "markdown",
   "metadata": {},
   "source": [
    "##### Fit Model with TF (DTM) vectorizer"
   ]
  },
  {
   "cell_type": "code",
   "execution_count": 141,
   "metadata": {},
   "outputs": [
    {
     "name": "stderr",
     "output_type": "stream",
     "text": [
      "/home/etzimopoulos/anaconda3/envs/nlp_course/lib/python3.7/site-packages/ipykernel/ipkernel.py:287: DeprecationWarning: `should_run_async` will not call `transform_cell` automatically in the future. Please pass the result to `transformed_cell` argument and any exception that happen during thetransform in `preprocessing_exc_tuple` in IPython 7.17 and above.\n",
      "  and should_run_async(code)\n"
     ]
    },
    {
     "name": "stdout",
     "output_type": "stream",
     "text": [
      "Fitting LDA models with tf features, n_samples=5000 and n_features=5000...\n",
      "done in 6.965s.\n",
      "\n",
      "Topics in LDA model:\n",
      "\n",
      "The top 15 words for topic #0 are:tool list tools snap protected future calls place takes start people equipment available independent benefits\n",
      "\n",
      "The top 15 words for topic #1 are:time looking opportunities need training team people growing management regular vector income career want options\n",
      "\n",
      "The top 15 words for topic #2 are:gowireless sales wireless products retail experience management time store services skills strong excellent year customer\n",
      "\n",
      "The top 15 words for topic #3 are:business franchise management sales training opportunity ll based manager service skills plan aspects ranked day\n",
      "\n",
      "The top 15 words for topic #4 are:customer experience company service skills work years position required opportunity store benefits career office compensation\n",
      "\n",
      "The top 15 words for topic #5 are:manager time sales business franchise commercial operations extra customer management service driver cleaning income maintenance\n",
      "\n",
      "The top 15 words for topic #6 are:sales business customers matco outside need tools payment work service equipment customer mobile inventory programs\n",
      "\n",
      "The top 15 words for topic #7 are:project business work customer management financial responsibilities team experience information support company accounting requirements client\n",
      "\n",
      "The top 15 words for topic #8 are:tax liberty support ongoing learn preparation industry sales training market marketing year business community seasonal\n",
      "\n",
      "The top 15 words for topic #9 are:aflac team sales customers position store customer retail career ll companies employees experience associate role\n",
      "\n"
     ]
    }
   ],
   "source": [
    "print(\"Fitting LDA models with tf features, \"\n",
    "      \"n_samples=%d and n_features=%d...\"\n",
    "      % (n_samples, n_features))\n",
    "lda = LatentDirichletAllocation(n_components=n_components, max_iter=5,\n",
    "                                learning_method='online',\n",
    "                                learning_offset=50.,\n",
    "                                random_state=0)\n",
    "t0 = time()\n",
    "# Fit using TF vectorizer\n",
    "lda.fit(tf)\n",
    "print(\"done in %0.3fs.\" % (time() - t0))\n",
    "\n",
    "print(\"\\nTopics in LDA model:\")\n",
    "tf_feature_names = tf_vectorizer.get_feature_names()\n",
    "sf.print_top_words(lda, tf_feature_names, n_top_words)"
   ]
  },
  {
   "cell_type": "code",
   "execution_count": 142,
   "metadata": {},
   "outputs": [
    {
     "name": "stderr",
     "output_type": "stream",
     "text": [
      "/home/etzimopoulos/anaconda3/envs/nlp_course/lib/python3.7/site-packages/ipykernel/ipkernel.py:287: DeprecationWarning: `should_run_async` will not call `transform_cell` automatically in the future. Please pass the result to `transformed_cell` argument and any exception that happen during thetransform in `preprocessing_exc_tuple` in IPython 7.17 and above.\n",
      "  and should_run_async(code)\n",
      "/home/etzimopoulos/anaconda3/envs/nlp_course/lib/python3.7/site-packages/pyLDAvis/_prepare.py:257: FutureWarning: Sorting because non-concatenation axis is not aligned. A future version\n",
      "of pandas will change to not sort by default.\n",
      "\n",
      "To accept the future behavior, pass 'sort=False'.\n",
      "\n",
      "To retain the current behavior and silence the warning, pass 'sort=True'.\n",
      "\n",
      "  return pd.concat([default_term_info] + list(topic_dfs))\n"
     ]
    },
    {
     "data": {
      "text/html": [
       "\n",
       "<link rel=\"stylesheet\" type=\"text/css\" href=\"https://cdn.rawgit.com/bmabey/pyLDAvis/files/ldavis.v1.0.0.css\">\n",
       "\n",
       "\n",
       "<div id=\"ldavis_el6161403683902617126948708104\"></div>\n",
       "<script type=\"text/javascript\">\n",
       "\n",
       "var ldavis_el6161403683902617126948708104_data = {\"mdsDat\": {\"x\": [32.42095184326172, 0.648955225944519, 71.01968383789062, 3.7859814167022705, -42.666500091552734, -3.6216893196105957, -3.632401704788208, -36.58440017700195, 44.391380310058594, 40.235809326171875], \"y\": [8.115229606628418, 71.70709991455078, 9.971006393432617, 33.18513488769531, -9.22206974029541, -43.52651596069336, -4.171707630157471, 35.804412841796875, 50.61538314819336, -31.591665267944336], \"topics\": [1, 2, 3, 4, 5, 6, 7, 8, 9, 10], \"cluster\": [1, 1, 1, 1, 1, 1, 1, 1, 1, 1], \"Freq\": [25.35780128296123, 14.174462472329253, 11.549103186555733, 11.013259820826422, 10.98908245230904, 8.184466114856413, 6.701833702424996, 4.15251408717608, 4.023278791071206, 3.8541980894896195]}, \"tinfo\": {\"Category\": [\"Default\", \"Default\", \"Default\", \"Default\", \"Default\", \"Default\", \"Default\", \"Default\", \"Default\", \"Default\", \"Default\", \"Default\", \"Default\", \"Default\", \"Default\", \"Default\", \"Default\", \"Default\", \"Default\", \"Default\", \"Default\", \"Default\", \"Default\", \"Default\", \"Default\", \"Default\", \"Default\", \"Default\", \"Default\", \"Default\", \"Topic1\", \"Topic1\", \"Topic1\", \"Topic1\", \"Topic1\", \"Topic1\", \"Topic1\", \"Topic1\", \"Topic1\", \"Topic1\", \"Topic1\", \"Topic1\", \"Topic1\", \"Topic1\", \"Topic1\", \"Topic1\", \"Topic1\", \"Topic1\", \"Topic1\", \"Topic1\", \"Topic1\", \"Topic1\", \"Topic1\", \"Topic1\", \"Topic1\", \"Topic1\", \"Topic1\", \"Topic1\", \"Topic1\", \"Topic1\", \"Topic1\", \"Topic1\", \"Topic1\", \"Topic1\", \"Topic1\", \"Topic1\", \"Topic1\", \"Topic1\", \"Topic1\", \"Topic1\", \"Topic1\", \"Topic1\", \"Topic1\", \"Topic1\", \"Topic1\", \"Topic1\", \"Topic1\", \"Topic1\", \"Topic1\", \"Topic1\", \"Topic1\", \"Topic1\", \"Topic1\", \"Topic1\", \"Topic1\", \"Topic1\", \"Topic1\", \"Topic1\", \"Topic1\", \"Topic1\", \"Topic1\", \"Topic1\", \"Topic1\", \"Topic1\", \"Topic1\", \"Topic1\", \"Topic1\", \"Topic1\", \"Topic1\", \"Topic1\", \"Topic1\", \"Topic1\", \"Topic1\", \"Topic1\", \"Topic1\", \"Topic1\", \"Topic1\", \"Topic1\", \"Topic2\", \"Topic2\", \"Topic2\", \"Topic2\", \"Topic2\", \"Topic2\", \"Topic2\", \"Topic2\", \"Topic2\", \"Topic2\", \"Topic2\", \"Topic2\", \"Topic2\", \"Topic2\", \"Topic2\", \"Topic2\", \"Topic2\", \"Topic2\", \"Topic2\", \"Topic2\", \"Topic2\", \"Topic2\", \"Topic2\", \"Topic2\", \"Topic2\", \"Topic2\", \"Topic2\", \"Topic2\", \"Topic2\", \"Topic2\", \"Topic2\", \"Topic2\", \"Topic2\", \"Topic2\", \"Topic2\", \"Topic2\", \"Topic2\", \"Topic2\", \"Topic2\", \"Topic2\", \"Topic2\", \"Topic2\", \"Topic2\", \"Topic2\", \"Topic2\", \"Topic2\", \"Topic2\", \"Topic2\", \"Topic2\", \"Topic2\", \"Topic2\", \"Topic2\", \"Topic2\", \"Topic2\", \"Topic2\", \"Topic2\", \"Topic2\", \"Topic2\", \"Topic2\", \"Topic2\", \"Topic2\", \"Topic2\", \"Topic2\", \"Topic2\", \"Topic2\", \"Topic2\", \"Topic2\", \"Topic2\", \"Topic2\", \"Topic2\", \"Topic2\", \"Topic2\", \"Topic2\", \"Topic3\", \"Topic3\", \"Topic3\", \"Topic3\", \"Topic3\", \"Topic3\", \"Topic3\", \"Topic3\", \"Topic3\", \"Topic3\", \"Topic3\", \"Topic3\", \"Topic3\", \"Topic3\", \"Topic3\", \"Topic3\", \"Topic3\", \"Topic3\", \"Topic3\", \"Topic3\", \"Topic3\", \"Topic3\", \"Topic3\", \"Topic3\", \"Topic3\", \"Topic3\", \"Topic3\", \"Topic3\", \"Topic3\", \"Topic3\", \"Topic3\", \"Topic3\", \"Topic3\", \"Topic3\", \"Topic3\", \"Topic3\", \"Topic3\", \"Topic3\", \"Topic3\", \"Topic3\", \"Topic3\", \"Topic3\", \"Topic3\", \"Topic3\", \"Topic3\", \"Topic3\", \"Topic3\", \"Topic3\", \"Topic3\", \"Topic3\", \"Topic3\", \"Topic3\", \"Topic3\", \"Topic3\", \"Topic3\", \"Topic3\", \"Topic3\", \"Topic3\", \"Topic3\", \"Topic3\", \"Topic3\", \"Topic3\", \"Topic3\", \"Topic3\", \"Topic3\", \"Topic3\", \"Topic3\", \"Topic3\", \"Topic3\", \"Topic3\", \"Topic3\", \"Topic3\", \"Topic3\", \"Topic3\", \"Topic3\", \"Topic3\", \"Topic3\", \"Topic3\", \"Topic3\", \"Topic3\", \"Topic3\", \"Topic3\", \"Topic3\", \"Topic3\", \"Topic3\", \"Topic3\", \"Topic4\", \"Topic4\", \"Topic4\", \"Topic4\", \"Topic4\", \"Topic4\", \"Topic4\", \"Topic4\", \"Topic4\", \"Topic4\", \"Topic4\", \"Topic4\", \"Topic4\", \"Topic4\", \"Topic4\", \"Topic4\", \"Topic4\", \"Topic4\", \"Topic4\", \"Topic4\", \"Topic4\", \"Topic4\", \"Topic4\", \"Topic4\", \"Topic4\", \"Topic4\", \"Topic4\", \"Topic4\", \"Topic4\", \"Topic4\", \"Topic4\", \"Topic4\", \"Topic4\", \"Topic4\", \"Topic4\", \"Topic4\", \"Topic4\", \"Topic4\", \"Topic4\", \"Topic4\", \"Topic4\", \"Topic4\", \"Topic4\", \"Topic4\", \"Topic4\", \"Topic4\", \"Topic4\", \"Topic4\", \"Topic4\", \"Topic4\", \"Topic4\", \"Topic4\", \"Topic4\", \"Topic4\", \"Topic4\", \"Topic4\", \"Topic4\", \"Topic4\", \"Topic4\", \"Topic4\", \"Topic4\", \"Topic4\", \"Topic4\", \"Topic4\", \"Topic4\", \"Topic4\", \"Topic4\", \"Topic4\", \"Topic4\", \"Topic4\", \"Topic4\", \"Topic4\", \"Topic4\", \"Topic4\", \"Topic4\", \"Topic4\", \"Topic5\", \"Topic5\", \"Topic5\", \"Topic5\", \"Topic5\", \"Topic5\", \"Topic5\", \"Topic5\", \"Topic5\", \"Topic5\", \"Topic5\", \"Topic5\", \"Topic5\", \"Topic5\", \"Topic5\", \"Topic5\", \"Topic5\", \"Topic5\", \"Topic5\", \"Topic5\", \"Topic5\", \"Topic5\", \"Topic5\", \"Topic5\", \"Topic5\", \"Topic5\", \"Topic5\", \"Topic5\", \"Topic5\", \"Topic5\", \"Topic5\", \"Topic5\", \"Topic5\", \"Topic5\", \"Topic5\", \"Topic5\", \"Topic5\", \"Topic5\", \"Topic5\", \"Topic5\", \"Topic5\", \"Topic5\", \"Topic5\", \"Topic5\", \"Topic5\", \"Topic5\", \"Topic5\", \"Topic5\", \"Topic5\", \"Topic5\", \"Topic5\", \"Topic5\", \"Topic5\", \"Topic5\", \"Topic5\", \"Topic5\", \"Topic5\", \"Topic5\", \"Topic5\", \"Topic5\", \"Topic5\", \"Topic5\", \"Topic5\", \"Topic6\", \"Topic6\", \"Topic6\", \"Topic6\", \"Topic6\", \"Topic6\", \"Topic6\", \"Topic6\", \"Topic6\", \"Topic6\", \"Topic6\", \"Topic6\", \"Topic6\", \"Topic6\", \"Topic6\", \"Topic6\", \"Topic6\", \"Topic6\", \"Topic6\", \"Topic6\", \"Topic6\", \"Topic6\", \"Topic6\", \"Topic6\", \"Topic6\", \"Topic6\", \"Topic6\", \"Topic6\", \"Topic6\", \"Topic6\", \"Topic6\", \"Topic6\", \"Topic6\", \"Topic6\", \"Topic6\", \"Topic6\", \"Topic6\", \"Topic6\", \"Topic6\", \"Topic6\", \"Topic6\", \"Topic6\", \"Topic6\", \"Topic6\", \"Topic6\", \"Topic6\", \"Topic6\", \"Topic6\", \"Topic6\", \"Topic6\", \"Topic6\", \"Topic6\", \"Topic6\", \"Topic6\", \"Topic6\", \"Topic6\", \"Topic6\", \"Topic6\", \"Topic6\", \"Topic6\", \"Topic6\", \"Topic6\", \"Topic6\", \"Topic6\", \"Topic6\", \"Topic6\", \"Topic6\", \"Topic6\", \"Topic6\", \"Topic6\", \"Topic6\", \"Topic6\", \"Topic6\", \"Topic6\", \"Topic6\", \"Topic6\", \"Topic6\", \"Topic6\", \"Topic6\", \"Topic7\", \"Topic7\", \"Topic7\", \"Topic7\", \"Topic7\", \"Topic7\", \"Topic7\", \"Topic7\", \"Topic7\", \"Topic7\", \"Topic7\", \"Topic7\", \"Topic7\", \"Topic7\", \"Topic7\", \"Topic7\", \"Topic7\", \"Topic7\", \"Topic7\", \"Topic7\", \"Topic7\", \"Topic7\", \"Topic7\", \"Topic7\", \"Topic7\", \"Topic7\", \"Topic7\", \"Topic7\", \"Topic7\", \"Topic7\", \"Topic7\", \"Topic7\", \"Topic7\", \"Topic7\", \"Topic7\", \"Topic7\", \"Topic7\", \"Topic7\", \"Topic7\", \"Topic7\", \"Topic7\", \"Topic7\", \"Topic7\", \"Topic7\", \"Topic7\", \"Topic7\", \"Topic7\", \"Topic7\", \"Topic7\", \"Topic7\", \"Topic7\", \"Topic7\", \"Topic7\", \"Topic7\", \"Topic7\", \"Topic7\", \"Topic7\", \"Topic7\", \"Topic7\", \"Topic7\", \"Topic7\", \"Topic7\", \"Topic7\", \"Topic7\", \"Topic7\", \"Topic7\", \"Topic8\", \"Topic8\", \"Topic8\", \"Topic8\", \"Topic8\", \"Topic8\", \"Topic8\", \"Topic8\", \"Topic8\", \"Topic8\", \"Topic8\", \"Topic8\", \"Topic8\", \"Topic8\", \"Topic8\", \"Topic8\", \"Topic8\", \"Topic8\", \"Topic8\", \"Topic8\", \"Topic8\", \"Topic8\", \"Topic8\", \"Topic8\", \"Topic8\", \"Topic8\", \"Topic8\", \"Topic8\", \"Topic8\", \"Topic8\", \"Topic8\", \"Topic8\", \"Topic8\", \"Topic8\", \"Topic8\", \"Topic8\", \"Topic8\", \"Topic8\", \"Topic8\", \"Topic8\", \"Topic8\", \"Topic8\", \"Topic8\", \"Topic8\", \"Topic8\", \"Topic8\", \"Topic8\", \"Topic8\", \"Topic8\", \"Topic8\", \"Topic8\", \"Topic8\", \"Topic8\", \"Topic8\", \"Topic8\", \"Topic8\", \"Topic8\", \"Topic8\", \"Topic8\", \"Topic8\", \"Topic8\", \"Topic8\", \"Topic8\", \"Topic8\", \"Topic8\", \"Topic8\", \"Topic8\", \"Topic8\", \"Topic8\", \"Topic8\", \"Topic9\", \"Topic9\", \"Topic9\", \"Topic9\", \"Topic9\", \"Topic9\", \"Topic9\", \"Topic9\", \"Topic9\", \"Topic9\", \"Topic9\", \"Topic9\", \"Topic9\", \"Topic9\", \"Topic9\", \"Topic9\", \"Topic9\", \"Topic9\", \"Topic9\", \"Topic9\", \"Topic9\", \"Topic9\", \"Topic9\", \"Topic9\", \"Topic9\", \"Topic9\", \"Topic9\", \"Topic9\", \"Topic9\", \"Topic9\", \"Topic9\", \"Topic9\", \"Topic9\", \"Topic9\", \"Topic9\", \"Topic9\", \"Topic9\", \"Topic9\", \"Topic9\", \"Topic9\", \"Topic9\", \"Topic9\", \"Topic9\", \"Topic9\", \"Topic9\", \"Topic9\", \"Topic9\", \"Topic9\", \"Topic9\", \"Topic9\", \"Topic9\", \"Topic9\", \"Topic9\", \"Topic9\", \"Topic9\", \"Topic9\", \"Topic9\", \"Topic9\", \"Topic9\", \"Topic9\", \"Topic9\", \"Topic10\", \"Topic10\", \"Topic10\", \"Topic10\", \"Topic10\", \"Topic10\", \"Topic10\", \"Topic10\", \"Topic10\", \"Topic10\", \"Topic10\", \"Topic10\", \"Topic10\", \"Topic10\", \"Topic10\", \"Topic10\", \"Topic10\", \"Topic10\", \"Topic10\", \"Topic10\", \"Topic10\", \"Topic10\", \"Topic10\", \"Topic10\", \"Topic10\", \"Topic10\", \"Topic10\", \"Topic10\", \"Topic10\", \"Topic10\", \"Topic10\", \"Topic10\", \"Topic10\", \"Topic10\", \"Topic10\", \"Topic10\", \"Topic10\", \"Topic10\", \"Topic10\", \"Topic10\", \"Topic10\", \"Topic10\", \"Topic10\", \"Topic10\", \"Topic10\", \"Topic10\", \"Topic10\", \"Topic10\", \"Topic10\", \"Topic10\", \"Topic10\", \"Topic10\", \"Topic10\", \"Topic10\", \"Topic10\", \"Topic10\", \"Topic10\", \"Topic10\", \"Topic10\", \"Topic10\", \"Topic10\", \"Topic10\", \"Topic10\", \"Topic10\", \"Topic10\", \"Topic10\", \"Topic10\", \"Topic10\", \"Topic10\"], \"Freq\": [8731.0, 14516.0, 3492.0, 3313.0, 3775.0, 5060.0, 2713.0, 2617.0, 2434.0, 4477.0, 2061.0, 3257.0, 5304.0, 2357.0, 3567.0, 2825.0, 4393.0, 2796.0, 2623.0, 3923.0, 2088.0, 3420.0, 4930.0, 3503.0, 1723.0, 1797.0, 1543.0, 3580.0, 1602.0, 1700.0, 653.71431664403, 518.2330392264596, 419.1804787283546, 456.2896930217235, 368.4027784417612, 301.3305251098168, 807.303990118859, 277.1753913935437, 278.4475904270676, 268.2883057332067, 377.92825781369197, 242.68555245960152, 231.68235623609814, 253.50916150980953, 219.84675642122932, 266.5332048750477, 245.630350194322, 206.88527735654515, 443.79707844023096, 217.9127212429094, 186.9938957976085, 208.5452932520657, 195.91346336853027, 164.70708102686032, 221.92246625915158, 200.43433133880248, 304.00841698944856, 219.43731919022554, 576.8241967533341, 178.12695065815683, 984.1926654806482, 600.4192460161073, 386.5717549370682, 334.42051539260956, 221.75128158760825, 497.5388914302728, 425.078713995895, 501.04653797608023, 344.4676654703276, 274.897144164764, 268.192593787848, 443.4869754553294, 539.7997361136069, 1913.5083714956404, 459.9126638508129, 878.5820497012976, 378.88880583994444, 877.3845913881801, 629.6920118895172, 746.6155184957548, 910.3773244628587, 346.4373507172703, 659.4205832972211, 790.2164166960094, 1137.1438037616392, 1085.0290680497549, 552.2034627105546, 780.6726991082647, 860.5106881390209, 910.6010090395166, 635.7549086632905, 1913.3166155177576, 1355.6524480336898, 1234.1776933194444, 767.9064731229902, 1352.9952495082152, 784.7657482586148, 703.3836267779151, 866.9312317603053, 1029.8456693475714, 956.0788423327441, 1040.4442033734563, 928.8104162540011, 846.9791863897884, 828.6558746924256, 811.8309153210478, 728.2984409884425, 695.6782058024928, 321.97258226721146, 323.5006866555175, 327.3753116421098, 269.86914713722547, 125.45698932326874, 132.9304565209693, 126.36967864402449, 317.7753301457368, 354.7958719167054, 634.3154692546859, 1584.1217688253505, 126.04332439569393, 671.0765843407426, 316.25935733792244, 61.58125439710248, 184.67838441897254, 131.32836811463537, 318.2126625161252, 322.8376406373936, 638.7973828141255, 1288.4486290724733, 315.40365631819463, 460.1657424734797, 127.69706106958893, 36.85448872354893, 320.1310294545348, 298.38718690501275, 314.4161678073129, 28.6139066368974, 317.4216158055308, 313.42006903748097, 1515.2866069463964, 410.05329518121016, 633.0433165038776, 466.4239103340448, 404.9215352625376, 466.8442624906118, 318.93681584308894, 320.7880799758144, 734.9459544851791, 463.9343383096061, 567.692001232228, 423.4047313825261, 7145.718982312059, 842.2861558789136, 1119.6706161961101, 668.9984562093669, 542.8217967098104, 594.5875239155929, 1295.6815631322913, 982.2832739335655, 461.69804332543, 839.2092837125953, 1374.5160637073718, 587.0503695901189, 1032.3919072095098, 950.585261957248, 1689.7125046226438, 835.4765031070135, 2168.681174457142, 865.2386018576622, 654.6163507258941, 592.9655182777091, 1188.9271530989154, 1193.5504506753427, 875.1134792113944, 799.7172636316816, 914.8581834927461, 1081.4190245250957, 882.7598626758765, 702.1646595977312, 721.1713890588555, 700.7390875597215, 253.65829402712754, 120.21686920469536, 121.36475177412414, 149.80832458580315, 108.23212420811312, 106.13885443868732, 87.15816725617957, 119.39268625696982, 71.5947590094952, 204.80722790959024, 214.46697520941711, 68.96638799493, 191.2753293966371, 62.82153520107943, 72.04715023383314, 62.825855765532374, 62.76858193018616, 103.25996958565189, 51.631772815920996, 35.99290571854676, 76.28345808653793, 63.39291915110973, 62.580783871617314, 37.12680771523033, 31.21523606690443, 32.10766694664324, 35.64930456150367, 32.073075974003885, 38.32383062380468, 72.89625244717566, 90.78976642104618, 119.41835500051936, 62.38857052736598, 62.30337127918146, 114.93053862934704, 153.2730230315723, 103.96199689153195, 305.88285844496414, 132.62468408220445, 320.77385073702544, 395.4934705568983, 421.93345600807635, 287.38364484309113, 296.929017585082, 246.53673040821954, 497.5437611850395, 110.91879341689919, 214.76669272721634, 242.69155468782841, 456.6096839525387, 198.3978438377815, 415.1715809138941, 311.04882746178293, 172.92294382646836, 306.15138152169897, 243.95039000881437, 715.7866711430017, 545.9145904245187, 379.64297122447795, 1489.082333189315, 190.86497525985047, 191.5311291614245, 250.0597718803501, 1493.541858874221, 1055.2515427289316, 914.4719581634841, 555.0684137999025, 547.7100585032434, 312.4459727448814, 972.903619206858, 714.2733477810015, 496.06835071039063, 473.281048560735, 624.7073436478435, 850.5514422303573, 600.5054751129716, 591.0631456095767, 518.1948708762508, 534.5155445725754, 550.5953900677807, 533.0672171687395, 411.2741446716086, 492.31409767400254, 463.7067639936553, 372.6302270702292, 403.34744457689567, 2429.2509933590695, 432.2698631911802, 436.9659805235193, 453.1525226299946, 2051.6578955212462, 228.13647486855407, 226.02579259613074, 221.10481641761606, 221.08307733057933, 221.05777291637742, 225.9311482103252, 236.39781853338772, 221.01799198120156, 236.37218731211917, 225.87628149461636, 223.58554066788895, 220.99125416982722, 216.08399217208594, 225.24259516872385, 448.4122019530299, 239.88631775485482, 223.17829550511308, 227.5388580221576, 458.9895184232527, 221.24867792066996, 227.92921708768674, 237.44254849258226, 484.97155604220563, 222.65514526376137, 228.1087257456472, 483.20365509102334, 512.9353126798953, 257.183575473873, 503.2456879243079, 240.0214866895943, 250.06482889162294, 504.2820599221786, 233.9165407757076, 490.0351715852875, 462.0956864819966, 483.9394389334147, 234.44640172803358, 522.6980122079109, 461.1582897748391, 230.37798492999124, 503.7914375811428, 254.45080418939807, 268.69427289058564, 455.6365275412894, 1232.171337882846, 1280.6686141045675, 468.30226963028565, 732.4039606476674, 272.6936670461743, 708.3379207430663, 477.0817210630672, 946.3156983218726, 1197.3396168424695, 697.7248144653812, 1040.9834292161288, 2234.2886563437896, 1202.1920820893133, 1200.6634383388791, 956.1173795482326, 962.6603081697626, 722.5910958187635, 705.1143994842317, 687.7961104359823, 693.197186873804, 721.3739142888703, 490.37204996714433, 519.7037221648363, 514.3998527144365, 501.2568597818409, 503.37238000012724, 491.6241283696332, 2710.3229527907774, 3308.07508096156, 913.1016857425633, 905.4898250317553, 460.0643182648117, 475.78653205805807, 458.0505848981829, 451.71918269906547, 453.01109091586443, 457.9041341276048, 451.6884139816651, 452.7404936605768, 451.6633453428764, 451.64603161834145, 457.8610120901658, 454.67541033368406, 451.6320611125941, 453.4179652216745, 455.87698229470897, 453.9927158178758, 452.1497671201887, 466.7029612920558, 461.77566633523764, 476.58538165713725, 469.52862832449495, 466.70579038701095, 470.5487182283828, 458.9525931283385, 465.77812029039285, 461.61854495763447, 472.1315746418708, 1405.8089573292466, 1472.204337223292, 1433.4952386778498, 506.69246790220984, 465.9272847467967, 1902.9386935733455, 465.3171651080985, 505.2155472558245, 922.1063562526049, 946.615909121498, 499.0257463930989, 955.4588647721552, 939.0040208576752, 939.6608151469334, 471.3271291972475, 948.2920289892293, 474.39985324173114, 590.9841739436378, 934.9008429377227, 948.5593464603096, 536.6661683960159, 477.98560054056225, 476.5386993996856, 485.5935719405712, 485.25213995878397, 505.79913058304146, 500.654846250521, 477.3289017276423, 478.3288291482774, 485.3792147762398, 482.56275157547964, 478.49423930573596, 336.1045001186007, 341.8274142562479, 342.94479224778087, 322.37201229973084, 497.4822693899404, 233.41667023980764, 190.8266481901065, 169.51484489326612, 174.87006611150795, 176.30919647168403, 181.7703362214891, 166.32294273631993, 164.74871662960032, 173.53417602219002, 180.8755939976895, 166.0587512072009, 177.61645437102933, 164.69621070236346, 165.54058761271406, 164.67646223792073, 166.44850555718995, 173.11282989885754, 170.76477949724057, 170.62312346940524, 168.9452561916931, 196.6219161989012, 181.47504437593128, 188.38144607212143, 170.05217039985317, 169.03018210876968, 188.9027799398794, 193.02518501508268, 196.5266235329047, 172.67077791629683, 2389.8937055839356, 191.56587506724676, 191.32244904400628, 320.8979594740253, 739.2994124146753, 314.61256370439173, 538.5461507660644, 332.52444645906803, 303.58976895600665, 334.61320252692417, 361.4060291563101, 206.61598983864238, 324.24590630389685, 329.7799141309363, 707.5041379944173, 843.3132240191894, 859.6419277241156, 357.0205155138857, 803.7341877501519, 418.80974431530285, 1731.9518733172908, 283.29760403128205, 265.4214924600367, 267.8528629080404, 1305.7352969063102, 501.7242944056957, 1012.0014864982104, 897.6596076706586, 524.8817360170978, 963.8457208954629, 674.5889727587158, 1591.3695032592736, 859.7208944069401, 427.29179197842814, 930.301120814636, 777.2962956754963, 526.5659944421183, 571.7142226286743, 522.5862299895342, 540.9320968113577, 509.1652740052333, 519.2733206595082, 561.7606124085298, 484.9172572752827, 459.19656943389367, 683.2336025666292, 618.566382228044, 525.3286969628855, 403.0943738312285, 383.88192239430435, 399.3277476281964, 285.82448289374906, 312.85647776980574, 401.9230534421428, 395.72010994232096, 283.3227768685755, 386.18780249891233, 238.6263043018071, 210.1605265771409, 208.8605476688679, 219.64021097170834, 196.22170055310664, 201.51437633021845, 196.19350594539407, 222.47060351609306, 197.67664471488447, 192.87427304106552, 181.39787396549235, 196.15798102888817, 198.28967156033332, 213.80729199991202, 196.13402359191184, 196.129180415421, 197.81739203630096, 199.70357543159707, 756.2204419951212, 628.4902694024855, 502.4949730865146, 384.75382803473354, 297.3314978805405, 231.2956610447274, 471.93785290939627, 463.2280414422929, 272.225077456061, 240.03798066087518, 402.3969948296962, 483.2852056485299, 433.3597563877269, 503.35926421461033, 467.62456169115177, 2314.6880371431494, 441.03429378080585, 443.9128111009489, 549.3945106947817, 457.6204007164006, 611.8873316272071, 684.0390800696065, 448.9288848844604, 453.7716677098965, 936.4633025745591, 781.9147112376011, 833.1028083801323, 878.6880422206506, 657.4185496589593, 653.7838260672555, 658.0752237334423, 477.3362890125735, 461.68555655127807, 461.95777733528683, 447.37612565182735, 446.7815969408571, 57.23122408854274, 215.94888836330986, 226.87088295566082, 605.6664262930104, 46.36056101821679, 215.38136982166662, 643.160065906517, 223.27110647157676, 43.34755899043664, 231.62672111283382, 51.913566915821825, 214.52694209562495, 45.41651933607623, 37.204328875171974, 40.37964168471875, 49.48661651343546, 222.72912990447765, 38.16997071026151, 221.97739190094057, 217.18060339676697, 36.50527873017955, 31.32618894260243, 107.57522960447575, 45.7984748573313, 28.91565496496024, 233.43051698806062, 25.25829012087863, 25.25789229402893, 27.04788307316598, 27.35881714396701, 221.93892004914778, 216.2647275749177, 523.223298122111, 243.65934083395305, 753.9230518990815, 798.5279221593369, 133.62234467803162, 596.8852460257652, 164.14839680771567, 148.8891304210315, 349.72413446362725, 271.4180810864558, 327.5985545043962, 258.81065598547985, 157.55671529581392, 245.15175960182935, 221.0772469427006, 484.8955192202271, 525.2908688957356, 218.5892427092944, 228.8274996481449, 377.4242404683476, 526.2111627009738, 653.4391026794133, 280.01601501006627, 437.7493579732359, 451.44977853733127, 403.84455576025624, 340.31918515676136, 256.20652743917464, 351.1812769583611, 309.6302181768887, 299.89020370012065, 296.91930441553797, 259.7270772673454, 290.04263069441527, 260.2584321488457, 264.38841740751405, 272.37250683225477, 258.2432602107724, 362.8754802675219, 223.30374690859978, 115.26595043302298, 99.71673548626077, 92.37006435656957, 191.4450597375964, 111.40796734466082, 92.04336830295134, 191.7474634920699, 90.57971498286445, 90.36205484091712, 93.08898396553992, 97.48566103137483, 90.10430304920293, 93.71367028998014, 89.83791038372118, 96.61444585779591, 116.10280241151668, 91.57182005751362, 111.5160426969222, 106.05597146234483, 88.77302596334161, 105.55389627421492, 96.10596095605254, 32.83388386482215, 13.74445265824688, 116.67460178632759, 102.8031350513721, 11.409972042494026, 8.935384994890725, 109.93348530026452, 393.39349051717346, 2234.9248277709694, 197.06264701679942, 2595.2339699752547, 546.5616842849744, 1156.0881889026368, 521.0890630191752, 289.91855829141167, 426.9549843700626, 271.0702192103088, 215.30084111228186, 606.3704719961661, 350.19852521005254, 559.7454562572391, 227.51917495426088, 1096.1087313867306, 257.6631745224672, 344.8538181696882, 500.9755132204694, 444.4509738092939, 483.7944822058345, 289.1554806442821, 202.23047178545934, 297.89273171704167, 321.02653492092924, 271.7241474048594, 251.00689350550377, 258.869145306538, 233.75388836687617, 213.44279641336252, 241.94347254125302, 241.79423331113978, 483.3313630344579, 244.6754798812811, 250.3414117034704, 254.85886754459972, 245.17771724495734, 242.21234510763392, 242.34632774589673, 243.20392105683308, 252.5043608590962, 247.54815938368785, 241.43591073862189, 70.48561503736964, 69.78965811248484, 159.47048793583406, 266.68208963471915, 22.56067295139988, 252.5858025590041, 69.27955323814908, 15.70825294198489, 32.867293316490645, 69.58445544852175, 239.60400328816098, 249.51092803204074, 247.1063599349046, 12.066862855188292, 13.755647963362337, 11.494888691371335, 11.478229227246132, 254.15769743244675, 320.17548940089125, 245.61512800018167, 486.6635909496794, 65.37114091818873, 261.60286518523014, 256.11515383261053, 256.965963570186, 242.5772209693169, 266.8588154998794, 252.5511057307272, 267.857027629026, 316.0420952157245, 325.3539980910664, 753.3973782779707, 945.708488165657, 822.6713328211727, 506.7151582163561, 528.0574765233454, 587.3033663311494, 564.0335352536041, 377.70704652256853, 540.696706954545, 503.4751357268523, 314.3829113014417, 272.40111551328454, 300.6140408638677, 344.82386252438545, 314.0948917984389, 295.7550004006897, 268.541290866195, 290.0230142786872, 283.5833026166047, 268.88987073789764, 287.40449385814276, 281.72793855611144, 273.13058216083635, 270.5762368971327, 269.22418633594], \"Term\": [\"business\", \"sales\", \"franchise\", \"tax\", \"manager\", \"management\", \"liberty\", \"aflac\", \"gowireless\", \"time\", \"wireless\", \"training\", \"team\", \"tools\", \"looking\", \"need\", \"customers\", \"opportunities\", \"retail\", \"support\", \"people\", \"skills\", \"experience\", \"opportunity\", \"equipment\", \"ongoing\", \"ll\", \"career\", \"matco\", \"preparation\", \"analysis\", \"reporting\", \"issues\", \"internal\", \"design\", \"processes\", \"projects\", \"application\", \"external\", \"documentation\", \"activities\", \"functional\", \"complex\", \"understanding\", \"global\", \"problems\", \"budget\", \"participate\", \"software\", \"specific\", \"specifications\", \"compliance\", \"changes\", \"manages\", \"communicate\", \"implementation\", \"expertise\", \"coordinate\", \"systems\", \"scope\", \"information\", \"assigned\", \"meetings\", \"end\", \"resources\", \"functions\", \"order\", \"perform\", \"policies\", \"java\", \"levels\", \"procedures\", \"assist\", \"project\", \"related\", \"client\", \"firm\", \"duties\", \"process\", \"technical\", \"requirements\", \"plans\", \"data\", \"maintain\", \"financial\", \"responsibilities\", \"clients\", \"reports\", \"development\", \"accounting\", \"solutions\", \"business\", \"work\", \"management\", \"staff\", \"customer\", \"including\", \"provide\", \"job\", \"experience\", \"support\", \"team\", \"company\", \"position\", \"skills\", \"services\", \"knowledge\", \"customers\", \"laptop\", \"catalog\", \"marine\", \"merchant\", \"reprogram\", \"explaining\", \"bundled\", \"layaway\", \"prospect\", \"reliably\", \"matco\", \"programmed\", \"distributor\", \"stops\", \"costco\", \"reps\", \"terminal\", \"reverse\", \"drawer\", \"central\", \"payment\", \"assortment\", \"visits\", \"underwriting\", \"kiosk\", \"aviation\", \"makers\", \"onboard\", \"colonial\", \"remaining\", \"finalize\", \"outside\", \"starting\", \"technicians\", \"card\", \"media\", \"businesses\", \"getting\", \"fulfill\", \"closely\", \"helping\", \"mechanics\", \"owners\", \"sales\", \"balance\", \"equipment\", \"social\", \"credit\", \"rep\", \"tools\", \"inventory\", \"conduct\", \"meet\", \"need\", \"determine\", \"mobile\", \"programs\", \"customers\", \"potential\", \"business\", \"needs\", \"representative\", \"automotive\", \"service\", \"work\", \"new\", \"use\", \"career\", \"customer\", \"opportunity\", \"help\", \"looking\", \"store\", \"vehicle\", \"sundays\", \"monday\", \"accept\", \"friday\", \"40\", \"criminal\", \"officeteam\", \"saturdays\", \"tmx\", \"bonus\", \"sunday\", \"receptionist\", \"titlebucks\", \"holidays\", \"mvrvalid\", \"appraising\", \"tremendous\", \"25k\", \"jump\", \"titlemax\", \"environmentstrong\", \"liens\", \"tuition\", \"45\", \"apartment\", \"electronically\", \"nights\", \"saturday\", \"700\", \"money\", \"cards\", \"insurancemust\", \"equityauto\", \"created\", \"specialist\", \"greeting\", \"hour\", \"license\", \"401k\", \"00\", \"medical\", \"salary\", \"resume\", \"paid\", \"aerotek\", \"deposits\", \"check\", \"employment\", \"classification\", \"loan\", \"com\", \"equal\", \"temporary\", \"apply\", \"person\", \"years\", \"compensation\", \"dental\", \"experience\", \"disability\", \"email\", \"microsoft\", \"customer\", \"company\", \"skills\", \"benefits\", \"office\", \"phone\", \"service\", \"position\", \"high\", \"competitive\", \"required\", \"work\", \"opportunity\", \"store\", \"professional\", \"opportunities\", \"career\", \"looking\", \"environment\", \"time\", \"services\", \"administrative\", \"ability\", \"gowireless\", \"academia\", \"patrons\", \"verizon\", \"wireless\", \"dealer\", \"aflacbenefits\", \"powers\", \"sourrounding\", \"strived\", \"booming\", \"retailers\", \"victory\", \"emerging\", \"opportunityobviously\", \"bridge\", \"steadfast\", \"usgowireless\", \"instant\", \"substituted\", \"gives\", \"yr\", \"thinker\", \"retailer\", \"paging\", \"accessories\", \"southern\", \"force\", \"cellular\", \"incorporating\", \"minimal\", \"driving\", \"exists\", \"offering\", \"300\", \"earnings\", \"supervision\", \"flex\", \"continually\", \"relevant\", \"interpersonal\", \"prioritizes\", \"locations\", \"independently\", \"anytime\", \"field\", \"overview\", \"workplace\", \"works\", \"retail\", \"products\", \"advancement\", \"excellent\", \"generation\", \"communication\", \"areas\", \"strong\", \"time\", \"motivated\", \"store\", \"sales\", \"experience\", \"management\", \"skills\", \"services\", \"year\", \"professional\", \"required\", \"looking\", \"customer\", \"compensation\", \"opportunities\", \"industry\", \"environment\", \"training\", \"seeking\", \"liberty\", \"tax\", \"seasonal\", \"franchisees\", \"conventions\", \"bookkeeping\", \"trainings\", \"sluggish\", \"dog\", \"taxes\", \"guerrilla\", \"mcdonald\", \"2020\", \"lady\", \"freedom\", \"subway\", \"wavers\", \"volunteer\", \"wish\", \"basics\", \"trainers\", \"roadside\", \"38\", \"turn\", \"choose\", \"compared\", \"economic\", \"overhead\", \"mind\", \"classes\", \"teach\", \"preparation\", \"ongoing\", \"learn\", \"weeks\", \"territories\", \"support\", \"backgrounds\", \"coaching\", \"community\", \"market\", \"obtain\", \"industry\", \"year\", \"marketing\", \"employ\", \"training\", \"running\", \"offices\", \"business\", \"sales\", \"staffing\", \"brand\", \"focused\", \"designed\", \"hard\", \"accounting\", \"finance\", \"proven\", \"annual\", \"seeking\", \"job\", \"weekly\", \"connected\", \"interactive\", \"really\", \"shine\", \"affords\", \"therapy\", \"shopping\", \"hone\", \"fantastic\", \"connection\", \"promise\", \"unspoken\", \"appeal\", \"suitability\", \"asked\", \"opposed\", \"abreast\", \"reassuring\", \"staying\", \"pros\", \"kick\", \"inviting\", \"intuitive\", \"spoken\", \"momentum\", \"visual\", \"reward\", \"displays\", \"therapist\", \"kinds\", \"stay\", \"evolving\", \"structured\", \"engaging\", \"aflac\", \"hear\", \"incentives\", \"welcomed\", \"associate\", \"customizing\", \"passionate\", \"joining\", \"achievable\", \"presence\", \"structure\", \"entire\", \"flexibility\", \"applying\", \"role\", \"companies\", \"ll\", \"talent\", \"employees\", \"associates\", \"team\", \"physical\", \"dreamed\", \"impeccable\", \"customers\", \"offers\", \"position\", \"retail\", \"schedule\", \"store\", \"mobile\", \"sales\", \"career\", \"nation\", \"customer\", \"experience\", \"technology\", \"best\", \"working\", \"use\", \"financial\", \"products\", \"work\", \"professional\", \"help\", \"extra\", \"cleaning\", \"property\", \"bilingual\", \"jani\", \"janitorial\", \"secretary\", \"estate\", \"operator\", \"collections\", \"recruiter\", \"king\", \"plant\", \"printing\", \"environmental\", \"spanish\", \"franchising\", \"officer\", \"janitor\", \"housekeeping\", \"careerbuilder\", \"mechanic\", \"instructor\", \"proprietor\", \"sole\", \"invest\", \"proprietorship\", \"franchisor\", \"investor\", \"franchisee\", \"commercial\", \"driver\", \"facilities\", \"engineer\", \"fastest\", \"purchasing\", \"investment\", \"transportation\", \"jobs\", \"house\", \"warehouse\", \"manufacturing\", \"keeping\", \"succeed\", \"construction\", \"manager\", \"100\", \"director\", \"maintenance\", \"supervisor\", \"income\", \"operations\", \"owner\", \"000\", \"time\", \"franchise\", \"business\", \"sales\", \"management\", \"service\", \"customer\", \"entry\", \"administrative\", \"provide\", \"food\", \"general\", \"garden\", \"celebrating\", \"men\", \"protected\", \"plc\", \"franchises\", \"snap\", \"stepping\", \"machinery\", \"women\", \"olive\", \"90th\", \"italian\", \"lawn\", \"lobster\", \"red\", \"plenty\", \"vitality\", \"anniversary\", \"2009\", \"beverages\", \"attract\", \"mechanical\", \"amedisys\", \"hydraulic\", \"rated\", \"cracker\", \"barrel\", \"painting\", \"vested\", \"category\", \"recently\", \"takes\", \"given\", \"list\", \"tool\", \"repair\", \"future\", \"marital\", \"electrical\", \"home\", \"north\", \"america\", \"motivation\", \"race\", \"relocation\", \"controlling\", \"start\", \"place\", \"model\", \"unique\", \"independent\", \"calls\", \"tools\", \"interested\", \"equipment\", \"people\", \"available\", \"hands\", \"abilities\", \"benefits\", \"currently\", \"family\", \"growth\", \"right\", \"opportunity\", \"drive\", \"plan\", \"strong\", \"product\", \"ranked\", \"promotions\", \"talents\", \"alike\", \"dictate\", \"rapid\", \"thanks\", \"took\", \"far\", \"shoes\", \"marketable\", \"evaluated\", \"depends\", \"businessweek\", \"taught\", \"honing\", \"feet\", \"profits\", \"absolutely\", \"nearly\", \"places\", \"trainees\", \"valuable\", \"mentors\", \"680\", \"estimator\", \"increases\", \"expect\", \"vegas\", \"sony\", \"philosophy\", \"aspects\", \"franchise\", \"enterprise\", \"business\", \"ll\", \"management\", \"based\", \"program\", \"plan\", \"existing\", \"entrepreneur\", \"training\", \"day\", \"opportunity\", \"performance\", \"sales\", \"real\", \"finance\", \"manager\", \"skills\", \"service\", \"growth\", \"restaurant\", \"year\", \"career\", \"use\", \"marketing\", \"team\", \"customer\", \"looking\", \"cutco\", \"merit\", \"vector\", \"tenure\", \"graduates\", \"lay\", \"economy\", \"needing\", \"cut\", \"doesn\", \"choice\", \"bills\", \"rough\", \"executions\", \"blending\", \"teksystems\", \"lot\", \"tcommunicate\", \"expanding\", \"provisions\", \"taerotek\", \"thave\", \"deploying\", \"sounds\", \"old\", \"promotes\", \"externship\", \"corinthian\", \"220\", \"aerotekcareers\", \"clear\", \"options\", \"cover\", \"regular\", \"precise\", \"students\", \"add\", \"college\", \"recent\", \"promotion\", \"started\", \"continued\", \"ve\", \"want\", \"opportunities\", \"time\", \"looking\", \"growing\", \"people\", \"need\", \"training\", \"income\", \"team\", \"management\", \"different\", \"approach\", \"like\", \"career\", \"professional\", \"high\", \"key\", \"offer\", \"grow\", \"make\", \"work\", \"company\", \"market\", \"companies\", \"year\"], \"Total\": [8731.0, 14516.0, 3492.0, 3313.0, 3775.0, 5060.0, 2713.0, 2617.0, 2434.0, 4477.0, 2061.0, 3257.0, 5304.0, 2357.0, 3567.0, 2825.0, 4393.0, 2796.0, 2623.0, 3923.0, 2088.0, 3420.0, 4930.0, 3503.0, 1723.0, 1797.0, 1543.0, 3580.0, 1602.0, 1700.0, 655.378128076104, 519.7931339409174, 420.49074906007695, 457.76437046421535, 369.7932362889819, 302.56619430730376, 810.8069460899196, 278.38558505534985, 279.6899572168479, 269.4978868048359, 379.663744304496, 243.8385705947678, 232.81664518559333, 254.7764367064869, 220.99137262193585, 267.93852091353324, 246.93921573015567, 207.99987867151845, 446.28422579246563, 219.16316220676237, 188.09639160405257, 209.77932639334074, 197.14688149868908, 165.77408580626098, 223.3615873573052, 201.73869912010468, 306.0077086564602, 220.94468265490096, 580.8057275262566, 179.36544169011154, 994.5078855427049, 607.6129823538369, 389.6145703072864, 337.45255880634465, 223.31955993701325, 505.4902484586582, 432.04223697486157, 513.7885369974567, 352.29680529580605, 278.75465365407973, 272.2772986164518, 469.01474184018986, 580.2839565984051, 2323.9206715379123, 497.170061484152, 1071.622970119652, 407.2501958029109, 1103.6396924026667, 744.0972461935805, 914.2503789356191, 1163.7217198078033, 372.68336765857686, 885.77183613278, 1131.5729400453583, 1874.261678616624, 2074.8874277721234, 753.0309603272872, 1339.6767207577357, 1631.2383714993075, 1851.7777369461112, 1010.557435129729, 8731.92189759354, 5581.150182343915, 5060.059676848445, 1708.4061109539023, 6936.952179685824, 1887.6279890367705, 1416.2944641460508, 2594.306037844982, 4930.164393961962, 3923.112469641968, 5304.6569096390585, 4030.144143306369, 3078.6130650558316, 3420.7899745981763, 3560.1099184493214, 1900.2973411984372, 4393.510304661022, 323.14250549532574, 324.76615208528375, 329.37831045175847, 271.5216149365675, 126.64198686723766, 134.20273452828644, 127.60322229310984, 321.18667536081335, 358.6726501030139, 641.5444010023028, 1602.8268026802973, 127.53403621421137, 681.1885944240362, 321.3449838811901, 62.589324977489525, 187.79929509227034, 133.5851494434455, 324.01427107297485, 329.68051124328184, 652.656855998096, 1317.0821073992497, 322.4971464390696, 472.4729272136794, 131.16541872836095, 37.86243647778299, 329.2394915257865, 307.18889105452786, 324.12470798266645, 29.6179129142178, 328.88329964029873, 324.8941192016007, 1610.0197460874297, 432.33336209532905, 675.3540290719762, 495.65170200865595, 428.7615207836595, 498.04838376793157, 334.8077523143679, 337.22796617177937, 815.1926619625054, 505.8946093244949, 653.5879866850892, 467.4849266456297, 14516.88720697846, 1086.4445853580285, 1723.3449179359088, 877.3683306761725, 672.2788168059852, 780.9728884960963, 2357.680963671343, 1616.4774538308177, 551.1556584251123, 1348.3487721379988, 2825.3752007720936, 801.1514175147701, 1942.9240744428644, 1726.5471551952573, 4393.510304661022, 1500.0853667835224, 8731.92189759354, 1706.1114933387473, 1066.7274554254193, 896.5491218735725, 5372.126853570733, 5581.150182343915, 2623.099036127093, 2301.566459092852, 3580.268323490265, 6936.952179685824, 3503.258256034931, 2141.599781739545, 3567.1232505824382, 3523.491613521863, 255.06015284907514, 121.28366329884788, 122.52138489684765, 151.24772023882437, 109.37906877544027, 107.43962479988238, 88.24146588767981, 121.28088327382518, 72.96564755005393, 209.56399162750736, 219.6755208170188, 70.86511801336715, 196.69032260365066, 64.61983324036382, 74.12074015591614, 64.6382429280774, 64.61591449656915, 106.31353875755308, 53.1990459429201, 37.0861834869187, 78.68126566265346, 65.4322310946181, 64.65093121474793, 38.36120203140342, 32.25481996618335, 33.19295571796406, 36.854688513069576, 33.162239743350575, 39.66383731123718, 75.45835614229884, 94.00307073542385, 124.03226130468143, 64.69821820345405, 64.71355106899335, 120.22160836370331, 161.41394855568686, 109.18953279415688, 330.8194869170545, 141.53354318684498, 358.3339554200086, 462.73626989703945, 497.5340706494645, 333.5802525814499, 346.65675301810467, 283.2393003904104, 616.9649746586881, 119.8493646716061, 252.66129818328778, 290.5669671254268, 605.6269594240614, 239.33129839795677, 579.462593609138, 423.52117124854226, 205.96540958852992, 421.9065363269517, 333.0121154904319, 1511.3381343703022, 1060.5805001892393, 641.2124731440969, 4930.164393961962, 242.53458707332967, 247.74549754673447, 376.87826693097037, 6936.952179685824, 4030.144143306369, 3420.7899745981763, 1580.5711462507397, 1625.9172270450792, 577.2672229265635, 5372.126853570733, 3078.6130650558316, 1492.9688632108764, 1444.3472587759309, 2701.1382644281866, 5581.150182343915, 3503.258256034931, 3523.491613521863, 2468.3912709179226, 2796.5440039755836, 3580.268323490265, 3567.1232505824382, 1658.371617566405, 4477.848152551, 3560.1099184493214, 1185.2767509461057, 2499.2080008454823, 2434.04772468708, 433.7179890712231, 438.56430313431053, 455.0329295284088, 2061.6707077801125, 229.30892771467649, 227.23893327819638, 222.31862717520485, 222.31145354479582, 222.30181937205592, 227.20505874178303, 237.7332367561832, 222.2894244232433, 237.73578700940487, 227.18772361111976, 224.88748059764194, 222.27991590736914, 217.36417884792374, 226.58674619609852, 451.1173781605221, 241.4883451656766, 224.71112859037495, 229.21863247076107, 462.4049927941896, 222.9681569774804, 229.79280107050127, 239.450997794152, 489.2769457685651, 224.65051011193583, 230.29106235197463, 494.4514439274932, 527.9560733725518, 260.3939882418064, 532.564321188003, 243.19113747956274, 254.5775712772672, 555.3396695508833, 236.87304510919867, 545.3740721164658, 517.0273082901514, 567.4869293146027, 238.0062758215156, 653.9661206597852, 564.1647320707091, 233.13081945063422, 683.0161431141553, 268.0396721350467, 289.46022300440706, 611.9253458264785, 2623.957018668596, 3110.559692786767, 694.9343958521347, 1424.1510558707882, 300.04738761698894, 1484.635189661477, 774.0022972902502, 2664.2054530528712, 4477.848152551, 1669.4564193161953, 3523.491613521863, 14516.88720697846, 4930.164393961962, 5060.059676848445, 3420.7899745981763, 3560.1099184493214, 2532.7248144243617, 2468.3912709179226, 2701.1382644281866, 3567.1232505824382, 6936.952179685824, 1060.5805001892393, 2796.5440039755836, 2400.858025708223, 1658.371617566405, 3257.060987881912, 1701.6142639809163, 2713.2146079293657, 3313.431765897495, 914.8961968462492, 907.3017065010662, 461.11263121623074, 476.9192485127187, 459.2098699687928, 452.9970055107461, 454.30010987268804, 459.2214117767647, 452.994775271112, 454.0499614917449, 452.990100754206, 452.98291505295964, 459.2212164081802, 456.02705684676584, 452.9808087147722, 454.7746262231747, 457.2850264670806, 455.5048818655206, 453.6685587253631, 468.3611813297186, 463.41782570871413, 478.62882926407394, 471.7596538191488, 469.2112420700278, 473.46366556845715, 461.9823739701252, 470.1936179546325, 467.7801198637823, 478.8917662367241, 1700.1952585725357, 1797.1669457098078, 1878.0064645440614, 526.4738597491606, 473.85625284287914, 3923.112469641968, 473.4773201221626, 551.552811354912, 1692.7544766697845, 1848.6787467124436, 552.1649678174588, 2400.858025708223, 2532.7248144243617, 2736.3766725307196, 493.4624863580799, 3257.060987881912, 503.457836327503, 1159.0137738626768, 8731.92189759354, 14516.88720697846, 1013.6873503842824, 541.7033916897432, 559.3804538802775, 679.8122461762085, 695.8197968376476, 1851.7777369461112, 1524.8058728945234, 606.1762844413252, 672.2984066511359, 1701.6142639809163, 2594.306037844982, 997.458665172358, 337.6502769499418, 343.47758455595, 344.6186597112849, 323.9530661190923, 500.1945920259397, 234.84286269332915, 192.04698217650053, 170.74182955797963, 176.1525574218688, 177.61984266674506, 183.15494558544123, 167.58990525733776, 166.01381561122517, 174.87701699255382, 182.28408557189115, 167.3752558722223, 179.0291901118767, 166.00789939570706, 166.86171652644214, 166.00530376788015, 167.79222229657927, 174.51745632280833, 172.19015213600488, 172.0559595274931, 170.37292646683193, 198.31931664472432, 183.05134846625643, 190.0908062126515, 171.59576208875933, 170.6014417376708, 190.73213707638342, 195.07662997999162, 198.92721701167773, 174.2881002872132, 2617.8217905589454, 194.02449316652104, 194.08192044033083, 335.0805982764919, 823.836019638379, 332.21917540703805, 610.6781077423872, 359.1926387626888, 332.98259093526815, 375.17002868859527, 412.1859552171203, 216.34271605344966, 380.1103245735454, 391.16432205692183, 1048.9517520488735, 1385.354259265051, 1543.4199770590421, 484.60544653074214, 1577.4560428272737, 611.5812300886648, 5304.6569096390585, 350.9382450310455, 323.4401894912772, 328.59089297290825, 4393.510304661022, 931.0721724061983, 3078.6130650558316, 2623.957018668596, 1103.1808160480193, 3523.491613521863, 1942.9240744428644, 14516.88720697846, 3580.268323490265, 782.6821683778716, 6936.952179685824, 4930.164393961962, 1579.5081686329863, 2166.6214419609105, 1799.1574531664662, 2301.566459092852, 1874.261678616624, 3110.559692786767, 5581.150182343915, 2468.3912709179226, 2141.599781739545, 684.5678363419479, 620.0200543345203, 526.5862330080821, 404.31047529759655, 385.10126174243766, 400.61158304909316, 286.90599227996483, 314.1307042937839, 403.61191277476104, 397.39243290779933, 284.5765312426121, 388.00429310595047, 239.7587104771987, 211.20992520386437, 209.9166087815421, 220.79359004125007, 197.2791608439238, 202.6045809993798, 197.28095120456524, 223.7236409929368, 198.79039203906257, 193.96468684853846, 182.43717656719178, 197.28264942227852, 199.427268976381, 215.05050219518338, 197.28364402966656, 197.2845018958715, 198.9851028186914, 200.90051399775245, 761.0476336175469, 633.6797909860096, 506.35205108004556, 388.9006765479226, 299.9527232016307, 233.00377259460578, 482.8397730994829, 476.5925207507172, 276.57857671691437, 243.33878813540656, 422.34880249164576, 532.0861336705232, 478.77256611878295, 573.1664468231684, 546.665263729613, 3775.247898711109, 627.0172561761904, 668.4778622752642, 971.8190001604145, 733.6802018199788, 1306.2855107501377, 1805.1796259779544, 759.0456695733607, 792.1933203482521, 4477.848152551, 3492.6746275928876, 8731.92189759354, 14516.88720697846, 5060.059676848445, 5372.126853570733, 6936.952179685824, 1260.0481799529384, 1185.2767509461057, 1416.2944641460508, 1028.2389397394945, 997.0683207440501, 58.31643383276713, 220.21527549976457, 231.82523311975615, 619.173518414066, 47.40634942576123, 220.2906913811554, 658.9486549593773, 228.81363299615742, 44.42457385876884, 237.53719005330197, 53.32347400609014, 220.38653893103216, 46.69493617831955, 38.25499926373569, 41.630263707031745, 51.03764016959974, 229.73375449667398, 39.37433786974037, 229.01254376870193, 224.092659869982, 37.69265800955635, 32.38055319609126, 111.21569605331173, 47.390255432473744, 29.92517106800722, 241.96872250784162, 26.263833557639863, 26.26390396742173, 28.15685108590648, 28.500825385828986, 232.7213837359347, 227.5103122173729, 564.2700957234256, 260.8670521942081, 858.8043627329178, 936.7850810070496, 145.55137376574558, 700.5280850610648, 181.4080398095845, 164.57836005963054, 416.77294176168823, 322.202777765208, 396.14947694251106, 322.08470786404007, 185.2249302120117, 308.62765489940756, 276.4813125243732, 726.3191823652883, 802.7450543785155, 280.89254150461204, 299.0947685747861, 641.0754667108499, 1469.2736252749924, 2357.680963671343, 448.092391394362, 1723.3449179359088, 2088.222121108931, 1511.483770671378, 1134.5846249706246, 419.23741106297683, 1580.5711462507397, 1343.3307371771225, 1223.831103758282, 1556.6027465320126, 809.4495640613037, 3503.258256034931, 996.2921552453558, 1366.302237511428, 2664.2054530528712, 1030.1252076879975, 366.2147959771285, 226.39828614682742, 118.05949890530778, 102.17441311545419, 95.092712124597, 197.18406116516408, 114.85210424598044, 94.97891286185316, 197.94044441843923, 93.52187041794323, 93.47707655816927, 96.41057149592193, 101.04993876202273, 93.425486178559, 97.21655301247281, 93.37565600013701, 100.46633915865262, 120.9052875705921, 95.61140110504034, 116.51555713133473, 111.28800791980142, 93.16454922633783, 111.04377321510125, 101.5169384201957, 34.9047784040267, 14.749878372014784, 126.66504940283069, 112.69518760288946, 12.562449567315449, 9.940814954294032, 123.80312976074275, 480.1507555638108, 3492.6746275928876, 265.5991746558052, 8731.92189759354, 1543.4199770590421, 5060.059676848445, 1633.0530994619603, 646.6660482414469, 1366.302237511428, 626.7743020347941, 441.6843190216884, 3257.060987881912, 1214.1554296823501, 3503.258256034931, 573.4627661135451, 14516.88720697846, 800.4806532441249, 1524.8058728945234, 3775.247898711109, 3420.7899745981763, 5372.126853570733, 1556.6027465320126, 591.9615580288731, 2532.7248144243617, 3580.268323490265, 2301.566459092852, 2736.3766725307196, 5304.6569096390585, 6936.952179685824, 3567.1232505824382, 243.55380265499664, 243.5855239258258, 487.1798193809124, 246.64592666342642, 252.48255814379183, 257.3971733089589, 247.63332509387402, 245.38775525176982, 246.31768249137366, 247.30058276800014, 257.77959729729616, 253.46083353932673, 248.30909546729177, 73.43547692674765, 73.43153615242622, 167.80115283032117, 281.51312423779876, 24.103374720563895, 270.2340539536813, 74.5041063832707, 17.013016684736836, 35.61575469411097, 75.48400707896552, 260.70422128437065, 271.936983392227, 269.39758583577907, 13.16105013008998, 15.067049703372813, 12.600184215221185, 12.599675743156942, 288.02294221615614, 369.0711673184478, 284.19949046470174, 572.6097852627864, 73.98369848136502, 314.1890255217792, 319.39364063499954, 324.59625804898053, 305.7798282835602, 359.15234139968413, 340.91064195896735, 373.3844464360666, 473.5249625578689, 514.475329741841, 2796.5440039755836, 4477.848152551, 3567.1232505824382, 1594.6638462156188, 2088.222121108931, 2825.3752007720936, 3257.060987881912, 1306.2855107501377, 5304.6569096390585, 5060.059676848445, 737.3044738809834, 422.92739805333446, 954.2860849844373, 3580.268323490265, 2468.3912709179226, 1492.9688632108764, 559.5624285080562, 1494.770682533282, 1608.3494616090197, 805.0059601589464, 5581.150182343915, 4030.144143306369, 1848.6787467124436, 1385.354259265051, 2532.7248144243617], \"loglift\": [30.0, 29.0, 28.0, 27.0, 26.0, 25.0, 24.0, 23.0, 22.0, 21.0, 20.0, 19.0, 18.0, 17.0, 16.0, 15.0, 14.0, 13.0, 12.0, 11.0, 10.0, 9.0, 8.0, 7.0, 6.0, 5.0, 4.0, 3.0, 2.0, 1.0, 1.3695, 1.3691, 1.369, 1.3689, 1.3683, 1.368, 1.3678, 1.3677, 1.3676, 1.3676, 1.3675, 1.3673, 1.3672, 1.3671, 1.3669, 1.3668, 1.3668, 1.3667, 1.3665, 1.3664, 1.3662, 1.3662, 1.3658, 1.3656, 1.3656, 1.3656, 1.3655, 1.3652, 1.3652, 1.3652, 1.3617, 1.3602, 1.3642, 1.3631, 1.365, 1.3562, 1.3558, 1.347, 1.3496, 1.3581, 1.357, 1.3161, 1.2998, 1.1778, 1.2942, 1.1735, 1.2999, 1.1427, 1.2051, 1.1695, 1.1266, 1.2991, 1.077, 1.013, 0.8724, 0.7238, 1.0619, 0.8321, 0.7325, 0.6623, 0.9086, -0.1461, -0.043, -0.0389, 0.5724, -0.2625, 0.4944, 0.6722, 0.276, -0.1939, -0.0397, -0.2569, -0.0956, 0.0815, -0.0457, -0.1062, 0.413, -0.4709, 1.9501, 1.9498, 1.9476, 1.9476, 1.9443, 1.9442, 1.944, 1.9431, 1.9429, 1.9424, 1.942, 1.942, 1.9388, 1.9378, 1.9375, 1.937, 1.9367, 1.9357, 1.9328, 1.9323, 1.9317, 1.9315, 1.9273, 1.9269, 1.9267, 1.9257, 1.9247, 1.9233, 1.9192, 1.9183, 1.9178, 1.8931, 1.9008, 1.889, 1.8929, 1.8965, 1.889, 1.9052, 1.9037, 1.8501, 1.8671, 1.8128, 1.8547, 1.2449, 1.6992, 1.5225, 1.6826, 1.7398, 1.6811, 1.3551, 1.4556, 1.7766, 1.4796, 1.2332, 1.6428, 1.3214, 1.3569, 0.9982, 1.3685, 0.5609, 1.2748, 1.4654, 1.5403, 0.4456, 0.4113, 0.856, 0.8966, 0.5893, 0.0951, 0.5753, 0.8386, 0.3551, 0.3387, 2.1531, 2.1497, 2.1491, 2.149, 2.148, 2.1464, 2.1462, 2.1429, 2.1396, 2.1356, 2.1346, 2.1314, 2.1306, 2.1303, 2.1302, 2.1301, 2.1296, 2.1294, 2.1287, 2.1286, 2.1276, 2.1269, 2.126, 2.1259, 2.1258, 2.1253, 2.1253, 2.1252, 2.1242, 2.124, 2.1238, 2.1207, 2.1222, 2.1206, 2.1136, 2.1068, 2.1095, 2.0802, 2.0935, 2.0478, 2.0015, 1.9937, 2.0095, 2.0037, 2.0198, 1.9434, 2.0811, 1.9961, 1.9785, 1.8761, 1.971, 1.8252, 1.8499, 1.9837, 1.8379, 1.8473, 1.4112, 1.4945, 1.6344, 0.9614, 1.919, 1.9012, 1.7483, 0.6229, 0.8185, 0.8393, 1.1121, 1.0705, 1.5447, 0.4499, 0.6976, 1.0568, 1.0428, 0.6944, 0.2773, 0.3949, 0.3733, 0.5976, 0.5038, 0.2864, 0.2577, 0.7642, -0.0492, 0.1203, 1.0014, 0.3346, 2.2041, 2.2027, 2.2024, 2.2019, 2.2012, 2.2009, 2.2007, 2.2006, 2.2005, 2.2005, 2.2004, 2.2004, 2.2003, 2.2003, 2.2003, 2.2003, 2.2003, 2.2002, 2.2001, 2.2001, 2.1994, 2.1992, 2.1987, 2.1987, 2.1983, 2.1979, 2.1976, 2.1972, 2.1971, 2.1965, 2.1831, 2.1772, 2.1937, 2.1494, 2.193, 2.1882, 2.1096, 2.1935, 2.0991, 2.0937, 2.0468, 2.191, 1.982, 2.0045, 2.1942, 1.9017, 2.154, 2.1316, 1.9112, 1.4502, 1.3186, 1.8114, 1.5411, 2.1105, 1.4661, 1.7222, 1.171, 0.887, 1.3336, 0.9868, 0.3347, 0.7948, 0.7676, 0.9313, 0.8982, 0.9519, 0.9531, 0.8381, 0.5679, -0.0574, 1.4347, 0.5232, 0.6655, 1.0096, 0.3388, 0.9645, 2.2072, 2.2066, 2.2063, 2.2063, 2.206, 2.2059, 2.2057, 2.2054, 2.2054, 2.2054, 2.2054, 2.2054, 2.2053, 2.2053, 2.2053, 2.2053, 2.2053, 2.2053, 2.2052, 2.2049, 2.2049, 2.2047, 2.2047, 2.204, 2.2035, 2.2029, 2.2021, 2.2017, 2.1988, 2.195, 2.1941, 2.0181, 2.0088, 1.9382, 2.17, 2.1914, 1.4848, 2.1909, 2.1205, 1.6008, 1.5389, 2.1071, 1.2869, 1.216, 1.1394, 2.1624, 0.9743, 2.1488, 1.5347, -0.026, -0.5199, 1.5723, 2.0831, 2.048, 1.8718, 1.8478, 0.9105, 1.0946, 1.9693, 1.8679, 0.9539, 0.5263, 1.4737, 2.4983, 2.4981, 2.4981, 2.498, 2.4975, 2.4968, 2.4966, 2.4957, 2.4956, 2.4955, 2.4953, 2.4953, 2.4953, 2.4952, 2.4952, 2.495, 2.495, 2.495, 2.495, 2.4949, 2.4949, 2.4949, 2.4946, 2.4946, 2.4945, 2.4943, 2.4943, 2.4939, 2.4939, 2.4937, 2.4933, 2.4924, 2.4908, 2.4936, 2.4118, 2.4902, 2.4886, 2.4597, 2.3947, 2.4485, 2.3772, 2.4258, 2.4105, 2.3885, 2.3715, 2.4569, 2.344, 2.3322, 2.1091, 2.0066, 1.9177, 2.1974, 1.8286, 2.1243, 1.3836, 2.2888, 2.3052, 2.2986, 1.2896, 1.8846, 1.3904, 1.4303, 1.7602, 1.2067, 1.4451, 0.2922, 1.0763, 1.8977, 0.4938, 0.6556, 1.4044, 1.1706, 1.2666, 1.0549, 1.1997, 0.7128, 0.2069, 0.8756, 0.9631, 2.7008, 2.7004, 2.7004, 2.6998, 2.6996, 2.6996, 2.699, 2.6987, 2.6986, 2.6986, 2.6984, 2.6981, 2.6981, 2.6978, 2.6977, 2.6976, 2.6974, 2.6974, 2.6973, 2.6972, 2.6972, 2.6972, 2.6971, 2.6971, 2.6971, 2.697, 2.6969, 2.6969, 2.6969, 2.6968, 2.6964, 2.6946, 2.6951, 2.6921, 2.694, 2.6954, 2.68, 2.6743, 2.6869, 2.6891, 2.6544, 2.6066, 2.6031, 2.5729, 2.5466, 2.2136, 2.3509, 2.2934, 2.1324, 2.2308, 1.9444, 1.7324, 2.1776, 2.1456, 1.138, 1.2061, 0.3532, -0.1018, 0.662, 0.5966, 0.3475, 1.7321, 1.7599, 1.5825, 1.8706, 1.9, 3.1627, 3.1619, 3.1599, 3.1594, 3.1591, 3.1589, 3.1572, 3.1569, 3.1569, 3.1563, 3.1547, 3.1545, 3.1537, 3.1536, 3.151, 3.1506, 3.1505, 3.1504, 3.1503, 3.1501, 3.1494, 3.1484, 3.1482, 3.1473, 3.1471, 3.1455, 3.1424, 3.1424, 3.1413, 3.1406, 3.134, 3.1308, 3.1059, 3.1132, 3.0512, 3.0218, 3.0959, 3.0213, 3.0815, 3.0813, 3.0061, 3.0099, 2.9915, 2.9627, 3.0197, 2.9512, 2.9578, 2.7774, 2.7574, 2.9307, 2.9137, 2.6517, 2.1546, 1.8983, 2.7113, 1.8111, 1.6499, 1.8616, 1.9773, 2.689, 1.6772, 1.7139, 1.7751, 1.5247, 2.0447, 0.69, 1.8391, 1.539, 0.901, 1.7979, 3.2039, 3.1993, 3.1891, 3.1887, 3.184, 3.1835, 3.1826, 3.1817, 3.1813, 3.1811, 3.1792, 3.178, 3.1772, 3.1769, 3.1764, 3.1744, 3.174, 3.1725, 3.1699, 3.1692, 3.1649, 3.1648, 3.1624, 3.1583, 3.1519, 3.1425, 3.1309, 3.1212, 3.1168, 3.1064, 3.0943, 3.0138, 2.7666, 2.9146, 1.9998, 2.175, 1.7367, 2.0708, 2.4108, 2.0499, 2.3749, 2.4945, 1.532, 1.9698, 1.3791, 2.2886, 0.6295, 2.0795, 1.7266, 1.1934, 1.1723, 0.8058, 1.5298, 2.139, 1.0728, 0.8014, 1.0765, 0.8242, 0.1931, -0.1773, 0.3969, 3.2494, 3.2486, 3.2481, 3.248, 3.2475, 3.2461, 3.246, 3.243, 3.2398, 3.2393, 3.2353, 3.2324, 3.2279, 3.215, 3.2051, 3.2051, 3.2019, 3.1899, 3.1885, 3.1833, 3.1762, 3.1757, 3.1746, 3.1716, 3.1699, 3.1696, 3.1692, 3.1649, 3.1642, 3.1628, 3.1309, 3.1139, 3.1101, 3.0934, 3.1322, 3.0728, 3.0352, 3.0224, 3.0245, 2.959, 2.956, 2.9239, 2.8517, 2.7978, 1.9445, 1.701, 1.789, 2.1095, 1.8811, 1.6852, 1.5025, 2.0152, 0.9725, 0.9484, 2.4036, 2.8161, 2.1009, 0.9158, 1.1944, 1.637, 2.5219, 1.6162, 1.5205, 2.1595, 0.2897, 0.5954, 1.3437, 1.6228, 1.0145], \"logprob\": [30.0, 29.0, 28.0, 27.0, 26.0, 25.0, 24.0, 23.0, 22.0, 21.0, 20.0, 19.0, 18.0, 17.0, 16.0, 15.0, 14.0, 13.0, 12.0, 11.0, 10.0, 9.0, 8.0, 7.0, 6.0, 5.0, 4.0, 3.0, 2.0, 1.0, -5.6672, -5.8995, -6.1116, -6.0268, -6.2407, -6.4417, -5.4562, -6.5253, -6.5207, -6.5579, -6.2152, -6.6581, -6.7045, -6.6145, -6.757, -6.5644, -6.6461, -6.8178, -6.0545, -6.7658, -6.9188, -6.8098, -6.8722, -7.0457, -6.7476, -6.8494, -6.4329, -6.7588, -5.7924, -6.9674, -5.2581, -5.7523, -6.1926, -6.3375, -6.7484, -5.9402, -6.0976, -5.9332, -6.3079, -6.5335, -6.5582, -6.0552, -5.8587, -4.5932, -6.0189, -5.3716, -6.2127, -5.373, -5.7047, -5.5344, -5.3361, -6.3022, -5.6586, -5.4776, -5.1136, -5.1606, -5.836, -5.4898, -5.3924, -5.3358, -5.6951, -4.5933, -4.9379, -5.0318, -5.5062, -4.9398, -5.4845, -5.594, -5.385, -5.2128, -5.2871, -5.2025, -5.316, -5.4082, -5.4301, -5.4506, -5.5592, -5.605, -5.7938, -5.7891, -5.7772, -5.9703, -6.7363, -6.6784, -6.7291, -5.8069, -5.6967, -5.1157, -4.2005, -6.7316, -5.0594, -5.8117, -7.4479, -6.3497, -6.6906, -5.8056, -5.7911, -5.1087, -4.4071, -5.8144, -5.4367, -6.7186, -7.9613, -5.7995, -5.8699, -5.8176, -8.2144, -5.808, -5.8207, -4.2449, -5.552, -5.1177, -5.4232, -5.5646, -5.4223, -5.8033, -5.7975, -4.9685, -5.4285, -5.2267, -5.5199, -2.694, -4.8322, -4.5475, -5.0625, -5.2715, -5.1804, -4.4015, -4.6784, -5.4334, -4.8358, -4.3424, -5.1932, -4.6286, -4.7112, -4.136, -4.8403, -3.8864, -4.8053, -5.0842, -5.1831, -4.4875, -4.4836, -4.7939, -4.884, -4.7495, -4.5822, -4.7852, -5.0141, -4.9874, -5.0161, -5.8274, -6.5741, -6.5646, -6.3541, -6.6792, -6.6987, -6.8957, -6.581, -7.0924, -6.0414, -5.9953, -7.1298, -6.1097, -7.2231, -7.0861, -7.2231, -7.224, -6.7262, -7.4193, -7.7801, -7.029, -7.2141, -7.227, -7.7491, -7.9225, -7.8943, -7.7897, -7.8954, -7.7174, -7.0744, -6.8549, -6.5808, -7.2301, -7.2314, -6.6191, -6.3312, -6.7194, -5.6402, -6.4759, -5.5927, -5.3833, -5.3186, -5.7026, -5.6699, -5.8559, -5.1538, -6.6546, -5.9939, -5.8716, -5.2396, -6.0732, -5.3347, -5.6235, -6.2106, -5.6394, -5.8665, -4.7901, -5.061, -5.4242, -4.0575, -6.1119, -6.1084, -5.8417, -4.0545, -4.4019, -4.5451, -5.0443, -5.0577, -5.619, -4.4832, -4.7922, -5.1567, -5.2037, -4.9262, -4.6176, -4.9657, -4.9815, -5.1131, -5.0821, -5.0524, -5.0848, -5.3442, -5.1643, -5.2242, -5.4428, -5.3636, -3.5206, -5.2469, -5.2361, -5.1997, -3.6895, -5.886, -5.8953, -5.9173, -5.9174, -5.9175, -5.8957, -5.8504, -5.9177, -5.8505, -5.8959, -5.9061, -5.9178, -5.9403, -5.8987, -5.2102, -5.8358, -5.908, -5.8886, -5.1869, -5.9166, -5.8869, -5.846, -5.1318, -5.9103, -5.8861, -5.1355, -5.0758, -5.7661, -5.0948, -5.8352, -5.7942, -5.0928, -5.861, -5.1215, -5.1802, -5.134, -5.8587, -5.0569, -5.1822, -5.8762, -5.0938, -5.7768, -5.7224, -5.1942, -4.1994, -4.1608, -5.1668, -4.7196, -5.7076, -4.753, -5.1482, -4.4634, -4.2281, -4.7681, -4.368, -3.6042, -4.224, -4.2253, -4.453, -4.4462, -4.7331, -4.7576, -4.7824, -4.7746, -4.7348, -5.1208, -5.0627, -5.0729, -5.0988, -5.0946, -5.1182, -3.4089, -3.2096, -4.4969, -4.5053, -5.1824, -5.1488, -5.1868, -5.2007, -5.1978, -5.1871, -5.2007, -5.1984, -5.2008, -5.2008, -5.1872, -5.1941, -5.2009, -5.1969, -5.1915, -5.1956, -5.1997, -5.168, -5.1787, -5.1471, -5.162, -5.168, -5.1598, -5.1848, -5.17, -5.179, -5.1565, -4.0654, -4.0192, -4.0459, -5.0858, -5.1697, -3.7626, -5.171, -5.0887, -4.4871, -4.4608, -5.1011, -4.4515, -4.4689, -4.4682, -5.1582, -4.4591, -5.1517, -4.9319, -4.4733, -4.4588, -5.0284, -5.1441, -5.1472, -5.1284, -5.1291, -5.0876, -5.0978, -5.1455, -5.1434, -5.1288, -5.1346, -5.1431, -5.2016, -5.1848, -5.1815, -5.2434, -4.8095, -5.5662, -5.7677, -5.8861, -5.855, -5.8468, -5.8163, -5.9051, -5.9146, -5.8627, -5.8213, -5.9067, -5.8394, -5.915, -5.9098, -5.9151, -5.9044, -5.8651, -5.8788, -5.8796, -5.8895, -5.7378, -5.8179, -5.7806, -5.883, -5.889, -5.7778, -5.7562, -5.7383, -5.8677, -3.2401, -5.7638, -5.7651, -5.2479, -4.4134, -5.2677, -4.7302, -5.2124, -5.3034, -5.2061, -5.1291, -5.6882, -5.2376, -5.2206, -4.4573, -4.2817, -4.2626, -5.1413, -4.3298, -4.9816, -3.5621, -5.3726, -5.4377, -5.4286, -3.8445, -4.801, -4.0994, -4.2193, -4.7559, -4.1481, -4.505, -3.6467, -4.2625, -4.9616, -4.1836, -4.3632, -4.7527, -4.6704, -4.7603, -4.7258, -4.7863, -4.7666, -4.688, -4.8351, -4.8896, -4.2924, -4.3918, -4.5552, -4.82, -4.8689, -4.8294, -5.1638, -5.0735, -4.8229, -4.8385, -5.1726, -4.8629, -5.3443, -5.4713, -5.4775, -5.4272, -5.54, -5.5133, -5.5401, -5.4144, -5.5326, -5.5572, -5.6185, -5.5403, -5.5295, -5.4541, -5.5404, -5.5404, -5.5319, -5.5224, -4.1909, -4.3759, -4.5996, -4.8666, -5.1244, -5.3755, -4.6624, -4.681, -5.2126, -5.3384, -4.8218, -4.6386, -4.7476, -4.5979, -4.6715, -3.0722, -4.7301, -4.7236, -4.5104, -4.6932, -4.4027, -4.2912, -4.7123, -4.7016, -3.9771, -4.1575, -4.0941, -4.0408, -4.3309, -4.3364, -4.3299, -4.651, -4.6843, -4.6837, -4.7158, -4.7171, -6.2934, -4.9655, -4.9162, -3.9342, -6.5041, -4.9681, -3.8741, -4.9322, -6.5713, -4.8954, -6.391, -4.9721, -6.5247, -6.7241, -6.6422, -6.4388, -4.9346, -6.6985, -4.938, -4.9598, -6.7431, -6.8961, -5.6624, -6.5163, -6.9762, -4.8877, -7.1114, -7.1114, -7.0429, -7.0315, -4.9381, -4.964, -4.0805, -4.8448, -3.7153, -3.6578, -5.4455, -3.9488, -5.2398, -5.3373, -4.4834, -4.7369, -4.5488, -4.7844, -5.2808, -4.8387, -4.942, -4.1566, -4.0766, -4.9533, -4.9076, -4.4072, -4.0748, -3.8583, -4.7057, -4.2589, -4.2281, -4.3395, -4.5107, -4.7946, -4.4792, -4.6052, -4.6371, -4.6471, -4.7809, -4.6705, -4.7789, -4.7631, -4.7334, -4.7866, -4.4149, -4.9004, -5.5617, -5.7066, -5.7831, -5.0543, -5.5957, -5.7867, -5.0527, -5.8027, -5.8051, -5.7754, -5.7292, -5.808, -5.7687, -5.8109, -5.7382, -5.5544, -5.7918, -5.5948, -5.645, -5.8228, -5.6497, -5.7435, -6.8175, -7.6883, -5.5495, -5.6761, -7.8744, -8.1189, -5.609, -4.3341, -2.597, -5.0254, -2.4475, -4.0053, -3.2561, -4.053, -4.6393, -4.2522, -4.7065, -4.9369, -3.9014, -4.4504, -3.9814, -4.8817, -3.3094, -4.7573, -4.4658, -4.0924, -4.2121, -4.1273, -4.642, -4.9995, -4.6122, -4.5374, -4.7041, -4.7834, -4.7526, -4.8547, -4.9456, -4.7773, -4.7779, -4.0853, -4.7661, -4.7432, -4.7253, -4.764, -4.7762, -4.7756, -4.7721, -4.7346, -4.7544, -4.7794, -6.0106, -6.0205, -5.1941, -4.6799, -7.1498, -4.7342, -6.0278, -7.5118, -6.7735, -6.0234, -4.787, -4.7465, -4.7562, -7.7755, -7.6445, -7.8241, -7.8255, -4.728, -4.4971, -4.7622, -4.0784, -6.0859, -4.6992, -4.7204, -4.717, -4.7747, -4.6793, -4.7344, -4.6755, -4.5101, -4.4811, -3.6414, -3.4141, -3.5534, -4.038, -3.9968, -3.8904, -3.9309, -4.3319, -3.9731, -4.0445, -4.5154, -4.6587, -4.5602, -4.423, -4.5163, -4.5765, -4.673, -4.596, -4.6185, -4.6717, -4.6051, -4.625, -4.656, -4.6654, -4.6704]}, \"token.table\": {\"Topic\": [1, 3, 7, 1, 2, 3, 7, 9, 7, 9, 10, 1, 8, 9, 5, 10, 3, 3, 4, 5, 3, 1, 3, 10, 3, 8, 9, 1, 3, 1, 8, 9, 1, 2, 3, 8, 9, 1, 2, 3, 4, 5, 6, 8, 9, 10, 6, 9, 10, 3, 4, 3, 3, 4, 1, 3, 5, 7, 1, 2, 6, 1, 3, 1, 3, 8, 10, 1, 3, 7, 2, 3, 4, 1, 3, 8, 10, 10, 2, 6, 8, 1, 2, 6, 8, 4, 9, 10, 8, 1, 8, 1, 5, 1, 8, 9, 1, 3, 5, 7, 8, 9, 3, 4, 3, 6, 1, 1, 3, 8, 1, 2, 6, 3, 1, 3, 7, 8, 10, 1, 3, 4, 5, 8, 6, 1, 8, 9, 1, 2, 3, 7, 1, 2, 3, 7, 1, 2, 3, 6, 8, 10, 1, 2, 5, 6, 8, 1, 2, 7, 9, 8, 2, 7, 8, 9, 1, 2, 3, 4, 5, 8, 9, 1, 2, 7, 8, 5, 8, 1, 2, 3, 6, 8, 8, 1, 2, 3, 5, 8, 9, 10, 5, 1, 2, 3, 4, 6, 7, 8, 9, 1, 2, 3, 4, 5, 6, 8, 9, 10, 8, 7, 1, 8, 10, 1, 10, 1, 2, 3, 5, 4, 1, 2, 5, 8, 9, 4, 1, 2, 1, 2, 3, 4, 5, 7, 8, 9, 10, 1, 2, 9, 10, 1, 3, 5, 7, 8, 9, 1, 2, 1, 2, 3, 1, 2, 3, 4, 6, 8, 9, 10, 7, 2, 1, 8, 9, 1, 8, 9, 3, 4, 1, 2, 6, 1, 1, 2, 3, 8, 9, 1, 4, 10, 1, 5, 1, 5, 8, 1, 3, 8, 10, 7, 9, 1, 8, 10, 1, 2, 3, 5, 1, 2, 3, 5, 1, 2, 1, 2, 3, 5, 7, 9, 1, 3, 10, 2, 1, 3, 7, 1, 7, 8, 9, 1, 1, 2, 3, 4, 9, 10, 1, 2, 3, 5, 6, 8, 1, 2, 3, 6, 7, 8, 10, 1, 2, 3, 4, 5, 6, 7, 8, 9, 10, 1, 5, 8, 1, 3, 4, 1, 2, 3, 4, 6, 8, 1, 1, 1, 2, 6, 8, 6, 3, 7, 9, 1, 2, 3, 4, 8, 1, 9, 10, 1, 8, 9, 5, 1, 10, 2, 1, 3, 4, 10, 8, 1, 3, 1, 2, 3, 1, 2, 3, 5, 7, 8, 9, 10, 1, 2, 3, 4, 5, 6, 7, 8, 9, 10, 1, 2, 3, 5, 6, 8, 9, 10, 2, 6, 8, 10, 10, 1, 3, 5, 7, 1, 3, 5, 7, 9, 10, 4, 2, 3, 4, 8, 9, 10, 1, 10, 1, 3, 1, 5, 6, 8, 1, 2, 1, 2, 3, 5, 7, 8, 9, 10, 9, 10, 1, 5, 6, 8, 10, 1, 2, 3, 7, 9, 1, 3, 8, 6, 1, 2, 7, 1, 3, 10, 5, 1, 2, 9, 1, 2, 6, 8, 1, 2, 3, 4, 8, 9, 3, 7, 9, 2, 3, 4, 1, 2, 3, 5, 7, 2, 3, 4, 1, 5, 8, 7, 10, 1, 3, 8, 3, 1, 3, 4, 5, 8, 1, 2, 3, 4, 6, 8, 9, 1, 3, 7, 8, 1, 3, 5, 6, 8, 7, 9, 1, 9, 10, 1, 3, 6, 8, 9, 7, 8, 9, 1, 2, 3, 7, 9, 10, 1, 2, 3, 4, 5, 6, 8, 9, 10, 7, 1, 3, 1, 3, 8, 10, 1, 2, 3, 6, 7, 8, 9, 3, 9, 7, 9, 9, 10, 6, 8, 1, 2, 3, 4, 1, 10, 1, 2, 9, 3, 4, 1, 3, 7, 10, 1, 9, 10, 1, 2, 3, 4, 5, 6, 8, 9, 10, 1, 2, 2, 1, 10, 7, 1, 7, 9, 1, 2, 3, 5, 6, 8, 9, 6, 9, 10, 7, 9, 9, 10, 1, 2, 3, 4, 1, 2, 7, 8, 9, 1, 5, 7, 9, 1, 2, 3, 5, 6, 7, 9, 1, 3, 5, 3, 4, 1, 2, 3, 6, 1, 2, 5, 8, 9, 5, 7, 8, 9, 3, 4, 5, 7, 8, 9, 7, 5, 1, 8, 9, 7, 7, 5, 3, 1, 2, 1, 1, 3, 1, 2, 8, 9, 8, 1, 3, 5, 7, 3, 4, 1, 2, 7, 8, 1, 8, 9, 3, 4, 1, 3, 4, 3, 10, 1, 3, 1, 2, 3, 4, 5, 9, 10, 1, 2, 3, 5, 7, 8, 9, 10, 1, 2, 3, 4, 8, 9, 5, 1, 2, 3, 5, 8, 2, 3, 5, 6, 8, 3, 6, 8, 1, 2, 3, 4, 5, 6, 8, 9, 1, 2, 1, 2, 3, 4, 5, 6, 8, 10, 1, 3, 1, 2, 3, 6, 8, 6, 9, 10, 1, 3, 7, 9, 7, 8, 1, 2, 6, 1, 2, 6, 8, 1, 3, 5, 6, 7, 8, 9, 10, 1, 2, 7, 10, 3, 4, 1, 9, 10, 1, 2, 8, 9, 1, 3, 4, 1, 2, 3, 4, 5, 8, 9, 10, 1, 3, 5, 7, 4, 7, 3, 8, 9, 6, 8, 1, 3, 7, 8, 1, 1, 3, 4, 6, 1, 2, 3, 5, 8, 9, 7, 1, 7, 9, 7, 6, 1, 8, 7, 7, 7, 1, 3, 5, 10, 1, 2, 3, 5, 6, 7, 8, 9, 3, 7, 9, 1, 2, 3, 6, 3, 1, 3, 7, 9, 1, 3, 7, 8, 10, 6, 6, 8, 7, 9, 2, 1, 2, 3, 5, 6, 8, 9, 5, 2, 8, 3, 10, 2, 8, 9, 1, 2, 3, 5, 6, 8, 9, 10, 1, 3, 2, 5, 8, 1, 3, 3, 9, 1, 2, 3, 4, 10, 1, 2, 8, 9, 2, 6, 9, 10, 1, 3, 7, 9, 8, 2, 3, 4, 1, 2, 3, 4, 5, 6, 7, 8, 9, 10, 3, 7, 8, 10, 8, 1, 2, 3, 6, 8, 1, 3, 7, 8, 1, 2, 3, 6, 8, 9, 10, 1, 2, 6, 1, 2, 3, 4, 5, 7, 8, 9, 10, 1, 2, 3, 4, 5, 7, 8, 9, 1, 3, 7, 1, 2, 3, 8, 1, 2, 3, 4, 5, 9, 10, 9, 10, 1, 2, 3, 4, 5, 7, 9, 10, 1, 2, 7, 8, 9, 5, 7, 3, 8, 1, 2, 7, 8, 1, 2, 1, 3, 6, 8, 1, 2, 3, 6, 1, 3, 1, 7, 8, 9, 1, 9, 10, 1, 2, 10, 1, 3, 1, 5, 3, 4, 1, 2, 4, 6, 1, 8, 9, 6, 3, 3, 8, 1, 2, 3, 4, 5, 6, 1, 2, 8, 9, 3, 9, 1, 2, 3, 6, 1, 9, 10, 1, 2, 3, 6, 7, 8, 9, 10, 3, 6, 10, 1, 2, 3, 6, 1, 2, 3, 4, 5, 8, 9, 3, 1, 8, 9, 1, 2, 5, 1, 2, 3, 4, 8, 10, 2, 3, 4, 1, 2, 3, 6, 8, 1, 3, 5, 7, 9, 7, 1, 3, 4, 5, 7, 1, 3, 3, 8, 10, 8, 1, 2, 8, 1, 5, 8, 9, 1, 2, 3, 4, 5, 7, 9, 7, 9, 1, 2, 3, 4, 5, 7, 8, 9, 10, 1, 2, 3, 4, 6, 8, 9, 10, 4, 6, 1, 3, 7, 8, 10, 1, 3, 1, 2, 5, 8, 3, 4, 2, 7, 9, 1, 2, 6, 3, 4, 1, 2, 3, 6, 8, 9, 8, 1, 2, 6, 8, 10, 3, 4, 1, 2, 1, 2, 3, 4, 5, 6, 7, 8, 9, 10, 1, 3, 7, 8, 1, 9, 10, 1, 3, 1, 9, 1, 2, 3, 4, 1, 6, 7, 1, 2, 3, 7, 8, 9, 1, 9, 10, 1, 2, 3, 8, 9, 10, 1, 3, 6, 8, 9, 7, 8, 1, 8, 9, 1, 3, 1, 2, 3, 4, 5, 6, 8, 1, 2, 3, 4, 4, 1, 10, 1, 3, 5, 8, 9, 1, 3, 6, 8, 7, 3, 4, 1, 1, 3, 1, 2, 3, 5, 1, 1, 2, 3, 4, 8, 9, 1, 2, 3, 4, 5, 6, 8, 10, 1, 2, 3, 4, 5, 6, 10, 1, 9, 10, 1, 2, 3, 9, 1, 2, 1, 2, 3, 5, 6, 1, 3, 5, 7, 9, 1, 3, 5, 9, 6, 1, 3, 10, 9, 10, 2, 9, 10, 7, 7, 7, 6, 1, 2, 1, 7, 8, 9, 1, 2, 3, 5, 9, 1, 2, 3, 7, 8, 9, 1, 10, 7, 9, 1, 3, 8, 9, 10, 1, 9, 10, 1, 8, 9, 1, 3, 6, 7, 8, 9, 10, 6, 8, 6, 1, 3, 7, 8, 10, 1, 8, 9, 1, 3, 7, 7, 6, 8, 1, 3, 4, 7, 8, 10, 1, 3, 8, 1, 3, 4, 5, 1, 2, 7, 8, 9, 1, 8, 1, 2, 7, 2, 7, 3, 7, 8, 1, 5, 1, 2, 3, 4, 5, 7, 1, 2, 3, 7, 2, 1, 2, 1, 2, 3, 4, 5, 6, 8, 1, 3, 4, 5, 1, 1, 2, 3, 5, 6, 8, 9, 10, 3, 7, 8, 9, 10, 1, 3, 2, 3, 4, 5, 6, 7, 9, 3, 4, 4, 1, 2, 8, 6, 1, 3, 6, 8, 9, 5, 1, 2, 3, 5, 6, 8, 3, 10, 1, 5, 8, 1, 2, 3, 8, 9, 1, 2, 3, 4, 5, 6, 7, 8, 9, 10, 3, 3, 1, 2, 3, 6, 8, 10, 1, 5, 7, 1, 2, 3, 4, 5, 1, 2, 3, 4, 5, 6, 7, 8, 9, 10, 1, 2, 3, 4, 5, 6, 7, 6, 8, 9, 10, 6, 1, 2, 3, 4, 6, 9, 10, 5, 1, 8, 9, 1, 2, 6, 7, 1, 3, 7, 1, 2, 3, 5, 9, 3, 7, 10, 4, 3, 4, 7, 1, 3, 8, 1, 1, 6, 1, 3, 5, 7, 10, 1, 3, 5, 10, 1, 3, 8, 9, 10, 9, 10, 1, 2, 6, 6, 8, 6, 4, 1, 8, 9, 2, 8, 9, 2, 3, 4, 6, 7, 8, 9, 4, 1, 2, 3, 4, 5, 8, 9, 1, 2, 6, 8, 9, 2, 6, 1, 3, 7, 10, 3, 4, 5, 2, 3, 7, 9, 6, 1, 3, 3, 3, 4, 6, 1, 3, 4, 7, 1, 2, 3, 5, 7, 8, 9, 1, 3, 5, 8, 10, 1, 8, 9, 1, 2, 3, 6, 10, 9, 10, 9, 10, 1, 5, 5, 10, 1, 5, 8, 1, 2, 3, 4, 5, 6, 8, 9, 10, 1, 2, 8, 1, 2, 3, 8, 1, 2, 3, 4, 5, 6, 10, 1, 10, 1, 3, 3, 10, 1, 2, 1, 5, 9, 10, 3, 10, 6, 7, 6, 3, 4, 1, 2, 3, 4, 5, 6, 7, 9, 10, 3, 3, 9, 1, 3, 8, 9, 9, 10, 1, 2, 8, 9, 1, 2, 4, 8, 9, 9, 10, 5, 1, 2, 3, 4, 5, 8, 9, 10, 5, 1, 2, 7, 2, 3, 3, 5, 7, 8, 1, 1, 2, 1, 8, 9, 6, 1, 2, 5, 6, 8, 9, 10, 4, 9, 10, 1, 3, 10, 4, 7, 10, 9, 3, 3, 4, 8, 4, 1, 2, 6, 8, 8, 5, 1, 2, 3, 9, 10, 1, 2, 7, 9, 5, 1, 2, 3, 5, 7, 9, 5, 8, 1, 2, 6, 2, 3, 4, 5, 1, 7, 8, 9, 1, 2, 3, 4, 5, 6, 7, 8, 9, 10, 1, 2, 3, 6, 8, 1, 3, 4, 1, 3, 4, 1, 2, 3, 4, 5, 9, 10, 1, 3, 4, 8, 9, 3, 4], \"Freq\": [0.1404687815253011, 0.8536179800383682, 0.0021610581773123245, 0.029033317258834103, 0.006311590708442196, 0.3862693513566624, 0.5730924363265514, 0.006311590708442196, 0.703329925382596, 0.2790991767391254, 0.01594852438509288, 0.0044624397808486795, 0.9683494324441634, 0.022312198904243394, 0.9978142993576293, 0.8730031094872294, 0.9774611382278054, 0.008223983903065035, 0.9868780683678042, 0.9969405024363364, 0.9866006159034543, 0.08930217054784083, 0.8958123983080284, 0.011162771318480104, 0.9610966681104117, 0.02864937254220292, 0.9454292938926964, 0.026504685527848154, 0.9674210217664576, 0.004537482211256743, 0.9755586754201997, 0.01814992884502697, 0.21229021468847548, 0.004770566622212933, 0.16696983177745264, 0.6106325276432554, 0.0023852833111064663, 0.26808492921491084, 0.0016005070400890201, 0.16125108428896878, 0.19606211241090496, 0.18565881665032632, 0.14284525332794504, 0.00040012676002225503, 0.03961254924220325, 0.004401394360244805, 0.9942512720342781, 0.9622283424016264, 0.031377011165270426, 0.0023056456619229247, 0.9960389259507035, 0.9917504856479543, 0.004351746422609629, 0.9921981843549954, 0.49195968923483774, 0.0037801512894005095, 0.2732509360623797, 0.2311292502662026, 0.027028440059647444, 0.06006320013254988, 0.9129606420147581, 0.9956178478207242, 0.002633909650319376, 0.103320779757516, 0.015654663599623635, 0.07514238527819346, 0.8015187763007302, 0.29528968632905755, 0.31469443714496703, 0.38978238595435594, 0.0028779695060964458, 0.3223325846828019, 0.6734448644265684, 0.008104187766519576, 0.8071771015453497, 0.10859611607136231, 0.07455852745198009, 0.8730383403695331, 0.0019992219347068447, 0.9936133015493018, 0.0019992219347068447, 0.003819969730584619, 0.08174735223451085, 0.912972765609724, 0.0007639939461169239, 0.994547882881145, 0.9787186140917965, 0.01957437228183593, 0.9706636856082214, 0.16912807891886475, 0.8279702967968304, 0.9978972016045919, 0.0015258366997012108, 0.008733146084871054, 0.969379215420687, 0.017466292169742107, 0.2617885127479242, 0.0014874347315222964, 0.7109938016676577, 0.0014874347315222964, 0.019336651509789853, 0.004462304194566889, 0.00857887431920387, 0.986570546708445, 0.9640599732033375, 0.9938931852900764, 0.9950227844768817, 0.26309144429557213, 0.7252791167067124, 0.007110579575556004, 0.15083175195976686, 0.0025564703721994387, 0.8436352228258147, 0.9749920045369791, 0.11822360109593706, 0.22698931410419915, 0.002364472021918741, 0.007093416065756223, 0.6431363899618976, 0.3462522022715654, 0.012919858293715126, 0.6162772406102115, 0.011627872464343613, 0.011627872464343613, 0.9929555804728508, 0.14787022446029305, 0.031240188266259093, 0.8184929325759883, 0.9874706719985724, 0.0065831378133238165, 0.0016457844533309541, 0.0016457844533309541, 0.9305788896275066, 0.001723294240050938, 0.06548518112193565, 0.001723294240050938, 0.009710670338875913, 0.001213833792359489, 0.0886098668422427, 0.8970231725536624, 0.001213833792359489, 0.001213833792359489, 0.2845084045087095, 0.003270211546077121, 0.021256375049501286, 0.6851093189031568, 0.006540423092154242, 0.0031008026304782613, 0.9767528286006523, 0.0031008026304782613, 0.012403210521913045, 0.9573647433466975, 0.6614249967260827, 0.2966931688518347, 0.008923102822611571, 0.03234624773196695, 0.06351374845219693, 0.14158273092468898, 0.0529281237101641, 0.15679956649136115, 0.30896792215808294, 0.2672870247363287, 0.007939218556524616, 0.009111908131364112, 0.9719368673455054, 0.015186513552273522, 0.0030373027104547046, 0.9820956152240294, 0.014784235067888615, 0.1573941297186809, 0.7750050130007562, 0.025772138199550088, 0.03957864080645192, 0.0009204335071267888, 0.9518767671025031, 0.13226759134235452, 0.004286449719428155, 0.08695369430839973, 0.2908662309611963, 0.00306174979959154, 0.31903432911743845, 0.16288508933826992, 0.9966962332887469, 0.07908533589045423, 0.16513018133926843, 0.35113889135361676, 0.15057847953542483, 0.024674624797821718, 0.0006326826871236338, 0.22207162318039547, 0.006326826871236338, 0.047077905731277375, 0.13200275528573852, 0.03692384763237441, 0.22200463388965117, 0.21831224912641373, 0.26400551057147703, 0.012461798575926364, 0.06600137764286926, 0.0009230961908093603, 0.9816235297234615, 0.9967587401819555, 0.01578153099295069, 0.003945382748237672, 0.9784549215629427, 0.040854381607552386, 0.9532689041762225, 0.009104337126692976, 0.009104337126692976, 0.9741640725561485, 0.9980725279686543, 0.9946961623633892, 0.0849173195251954, 0.0018460286853303348, 0.8824017115879, 0.02215234422396402, 0.007384114741321339, 0.9960536682820963, 0.9961965711789496, 0.9874358792489804, 0.21908120828785815, 0.24839892356318052, 0.00034356697588268397, 0.027943447371791632, 0.10707837415010318, 0.09539709697009192, 0.004466370686474892, 0.29718543413852166, 0.000114522325294228, 0.06023511164324683, 0.9376599045798757, 0.9633345640609025, 0.021407434756908945, 0.24365781420257643, 0.07078327563426802, 0.31716352351508553, 0.0013612168391205388, 0.3580000286887017, 0.008167301034723233, 0.056491281854835665, 0.9401763337269079, 0.01612483702999707, 0.008062418514998535, 0.9594278032848258, 0.028489484805028286, 0.25556743722157726, 0.15389907968206457, 0.0670340818941842, 0.24020546012082672, 0.0689892426160979, 0.08965808453347136, 0.09636149272288978, 0.9960239927546033, 0.9976409115286049, 0.03007888612394463, 0.953930388502244, 0.012890951195976271, 0.004541011052619141, 0.9808583873657344, 0.013623033157857423, 0.004451358688220799, 0.9926529874732382, 0.01838638465177635, 0.9790749827070906, 0.0015321987209813625, 0.9941826039044056, 0.07124161923264671, 0.003957867735147039, 0.8509415630566135, 0.06332588376235262, 0.007915735470294078, 0.007758565925965848, 0.003879282962982924, 0.9814585896346798, 0.0021197234479558833, 0.9962700205392652, 0.008551026070036497, 0.9876435110892154, 0.004275513035018249, 0.24107249145388598, 0.7545899218796295, 0.0016511814483142876, 0.0016511814483142876, 0.9983548042883627, 0.0016128510570086634, 0.11110226065250234, 0.003471945645390698, 0.8818741939292374, 0.8202511746289418, 0.13437561905184028, 0.04385870899608676, 0.0009331640211933354, 0.733037589530298, 0.21513059692737005, 0.04647883266949353, 0.003983899943099445, 0.09690960638656189, 0.9016273505585188, 0.05801801630090633, 0.001813063009403323, 0.021756756112839875, 0.915596819748678, 0.9964960759378063, 0.0025164042321661776, 0.02156525168242612, 0.18484501442079532, 0.7917528117690732, 0.9791371891730705, 0.27956938340229265, 0.7161808278515521, 0.0017257369345820533, 0.0026279564006962933, 0.9933675194631989, 0.0013139782003481466, 0.0026279564006962933, 0.9939041113854231, 0.22968605511617574, 0.0006735661440357059, 0.22362395981985436, 0.4768848299772798, 0.0680301805476063, 0.0006735661440357059, 0.0762071533574002, 0.3379107885304877, 0.03130991572048226, 0.544674382911031, 0.00295376563400776, 0.00590753126801552, 0.04186654757229373, 0.018045925677712814, 0.13137433893374928, 0.6085086138524761, 0.0007218370271085126, 0.005052859189759588, 0.1956178343464069, 0.23051284692706783, 0.12009496007825708, 0.26177723736066366, 0.06153626053596644, 0.11662113891896865, 0.09081561030711176, 0.00024813008280631627, 0.009428943146640018, 0.038956423000591656, 0.0699726833513812, 0.0021312362329348328, 0.9952873207805669, 0.0021312362329348328, 0.021686236920154683, 0.5148124068871502, 0.4620111343859041, 0.013154731235549477, 0.31571354965318743, 0.3274835723376264, 0.337868886470955, 0.0006923542755552356, 0.005538834204441885, 0.9964923247436096, 0.9962850181343442, 0.15966451338167095, 0.8382386952537725, 0.9951124667663563, 0.0029616442463284414, 0.9908802831799359, 0.08963437637449005, 0.8560997580257418, 0.05304891662980024, 0.00550081155922525, 0.00550081155922525, 0.088012984947604, 0.8984658880067908, 0.0018336038530750833, 0.008034614265898942, 0.27049868028526436, 0.7177588744203055, 0.1555258820474868, 0.7993306961045251, 0.03978569075633383, 0.9975870727867592, 0.9911983278731428, 0.92917991747688, 0.9905842573361915, 0.017593275736787473, 0.11259696471543983, 0.0035186551473574946, 0.8655891662499436, 0.9518793189552396, 0.033271888926147984, 0.9565668066267545, 0.190397193545576, 0.8077005944941231, 0.9859310373508523, 0.14143947930445358, 0.0014888366242574063, 0.10198530876163232, 0.3476433517641043, 0.0014888366242574063, 0.23076967675989796, 0.0007444183121287031, 0.17493830335024524, 0.19504242857001755, 0.15583212511765632, 0.21536835793319012, 0.10393613525423699, 0.06645569813065638, 0.13406464048049987, 0.09485433702813861, 0.0002883110547967739, 0.03373239341122255, 0.0004324665821951609, 0.1584154700312463, 0.3846582533804688, 0.02002954218785873, 0.10583792178811716, 0.2972566147425398, 0.0034141265092941016, 0.029589096413882215, 0.0009104337358117605, 0.04816097680212664, 0.9481692307918682, 0.008119595717899962, 0.9824710818658954, 0.9936202898987471, 0.7439839167580101, 0.011289589025159487, 0.0011289589025159487, 0.24272616404092895, 0.2223768006956391, 0.09965775142286047, 0.38710035676648286, 0.0008236177803542188, 0.2882662231239766, 0.0008236177803542188, 0.9942918589009097, 0.0015595454578365233, 0.5926272739778788, 0.366493182591583, 0.038988636445913084, 0.9599214129999571, 0.029688291123710013, 0.06623919679793082, 0.9273487551710314, 0.06675045814319036, 0.9261626067367662, 0.9951507055483823, 0.714903273269408, 0.27213396204699686, 0.011767955115545809, 0.2658673446035226, 0.7326954520294262, 0.5278198545615597, 0.08950255373517738, 0.016551842129108145, 0.0006130311899669683, 0.154483859871676, 0.03555580901808416, 0.011647592609372398, 0.16367932772118055, 0.9674768754040297, 0.021032105987044126, 0.08951525772330224, 0.0013562917836863976, 0.47198954072286636, 0.009494042485804783, 0.4258756200775289, 0.13912203417396743, 0.18998385311928886, 0.0014959358513329832, 0.6641955179918445, 0.0029918717026659663, 0.012369369813192697, 0.7875165447732684, 0.19790991701108315, 0.9890010134929275, 0.008808133384959515, 0.9850429168846391, 0.0044040666924797574, 0.9944419348789898, 0.012130986374643472, 0.9826098963461213, 0.9971382136071849, 0.012132958617770013, 0.9797364083849285, 0.0030332396544425033, 0.003091761730577915, 0.17004689518178534, 0.8193168586031475, 0.003091761730577915, 0.08029773152263603, 0.3211909260905441, 0.08029773152263603, 0.24390435950000694, 0.2609676274485671, 0.011040938084362455, 0.001578084095823845, 0.9910368121773746, 0.004734252287471535, 0.0018940969721440266, 0.024623260637872346, 0.9716717467098857, 0.7946434022237246, 0.0036243712758208648, 0.19843432735119235, 0.0009060928189552162, 0.0018121856379104324, 0.003928075811953102, 0.007856151623906203, 0.9820189529882755, 0.0021120944915580054, 0.9947965055238206, 0.0021120944915580054, 0.004038228698099964, 0.9893660310344912, 0.006076132971781205, 0.07898972863315566, 0.9053438127953994, 0.9768092324870286, 0.22200201636207276, 0.7749888571185085, 0.9926986717850089, 0.9544798500816939, 0.04255642643676342, 0.06466107278475124, 0.053884227320626026, 0.13819719477525264, 0.14960797232550285, 0.5096813972445097, 0.08304510328237658, 0.0006339320861250121, 0.14798653964488168, 0.8362960263652615, 0.0034415474336018993, 0.013766189734407597, 0.9897687579594677, 0.0029633795148487057, 0.0029633795148487057, 0.992609361826249, 0.005737626368937856, 0.9899699928975517, 0.007714051892708195, 0.20331388480397042, 0.7417191723404106, 0.05271100717139974, 0.009244591343236533, 0.009244591343236533, 0.9568152040249811, 0.0138668870148548, 0.0138668870148548, 0.4460199095053826, 0.06565775317591926, 0.4867729976835394, 0.01984051117865487, 0.23649889324956608, 0.08809186963322763, 0.37855695328873495, 0.08015566516176569, 0.19523062999796392, 0.11818822628405948, 0.00241200461804203, 0.2478334745038186, 0.30210357840976426, 0.0006030011545105075, 0.23637645256811896, 0.004221008081573553, 0.08502316278598156, 0.0030150057725525374, 0.9956334623217166, 0.015282987959770967, 0.962828241465571, 0.24556033336753283, 0.7343198430509876, 0.014166942309665356, 0.004722314103221785, 0.09110190210096922, 0.6498989194464047, 0.0005802668923628613, 0.0005802668923628613, 0.002901334461814306, 0.25415689885493326, 0.0005802668923628613, 0.958068271263613, 0.01545271405263892, 0.9964005292117946, 0.9491603691161588, 0.9646245070120117, 0.020744613054021758, 0.9893547987772568, 0.0051261906672396725, 0.11375197829765755, 0.1060280785367055, 0.26612345540007537, 0.5139904204560823, 0.027234792823569626, 0.9532177488249369, 0.2680390683769192, 0.2983530106338327, 0.4323725448222923, 0.007680668872212076, 0.9869659500792518, 0.0037004958678205748, 0.05550743801730862, 0.0037004958678205748, 0.9362254545586054, 0.035493973479107474, 0.9139698170870175, 0.035493973479107474, 0.20891798278804957, 0.08498702406620658, 0.30201832657418043, 0.24380525758372387, 0.0002028329929981064, 0.15760123555952865, 0.002028329929981064, 0.0002028329929981064, 0.0002028329929981064, 0.9934390258818149, 0.0032678915325059696, 0.9910379283066476, 0.9939577479518235, 0.9117813458186379, 0.9977097429082766, 0.003949821069617499, 0.9914050884739922, 0.0019749105348087497, 0.022878973997322312, 0.032684248567603304, 0.05474611635073553, 0.37913728338419833, 0.2582055636840661, 0.24513186425702477, 0.005719743499330578, 0.9934570497372426, 0.9699887284991574, 0.02526012313799889, 0.9901560380245461, 0.006667717427774721, 0.9654975070488165, 0.02986074764068505, 0.15226580081375624, 0.00146409423859381, 0.10834297365594195, 0.7379034962512803, 0.018467554952193297, 0.963390783339417, 0.0030779258253655494, 0.006155851650731099, 0.006155851650731099, 0.26626340258599235, 0.32856641550636007, 0.1783833633088422, 0.22625831007922997, 0.6066388770426174, 0.0010670868549562313, 0.0037348039923468094, 0.0016006302824343468, 0.2715736045863609, 0.11417829348031674, 0.0005335434274781157, 0.930631842307124, 0.05647633871520806, 0.009821971950470966, 0.00844334144933206, 0.9878709495718511, 0.09207853019848201, 0.018415706039696403, 0.034200596930864746, 0.8523841081230906, 0.10726152403752316, 0.0017876920672920526, 0.8527291160983091, 0.03217845721125695, 0.005363076201876158, 0.46098234727434895, 0.4347238591384683, 0.006807756183376461, 0.09628112316489566, 0.006131496744216193, 0.9912586403149513, 0.12884108827226629, 0.2238971800642494, 0.007157838237348127, 0.6399107384189225, 0.9955176122756833, 0.9974631299769704, 0.004539456450612167, 0.975983136881616, 0.01815782580244867, 0.9935159859842683, 0.9934890886839683, 0.9973406794709269, 0.987391840222451, 0.04448029672710834, 0.9518783499601184, 0.99656096001251, 0.9851822097824885, 0.01186966517810227, 0.10420709969627644, 0.017129934196648183, 0.8522142262832471, 0.024267406778584924, 0.9774260230565154, 0.4493172540731065, 0.10129697022630303, 0.001002940299270327, 0.4483143137738362, 0.0866529790727225, 0.9098562802635863, 0.020907520664059612, 0.9527855845478596, 0.017920731997765383, 0.005973577332588461, 0.057500553917529326, 0.9353423437251437, 0.003833370261168622, 0.004140986594255451, 0.9938367826213083, 0.9955139759069606, 0.0016433531518015893, 0.9979262014315151, 0.003960669629426394, 0.9901674073565985, 0.03663354808506017, 0.9524722502115643, 0.016787396423777672, 0.2810334512425003, 0.019896173539292055, 0.1523300786602048, 0.29035978258904344, 0.06279729773339054, 0.176578540161217, 0.036998393197422784, 0.0006270914101258098, 0.16931468073396866, 0.29598714557938227, 0.1724501377845977, 0.004389639870880669, 0.0018812742303774296, 0.3179353449337856, 0.10278794660774389, 0.2839517025038925, 0.0815879326198967, 0.15482434457791422, 0.1908001258906246, 0.18566072856023738, 0.9978040027712977, 0.026441394797480818, 0.15247870999880606, 0.11369799762916752, 0.40631610005462193, 0.2996691410381159, 0.0014371537063831562, 0.0014371537063831562, 0.6970195475958307, 0.2974908172213133, 0.0014371537063831562, 0.005153988466506404, 0.9895657855692296, 0.005153988466506404, 0.06303698812032205, 0.32779233822567466, 0.006537169138403768, 0.11393351926932282, 0.21852822548378312, 0.21432575960909497, 0.0009338813054862526, 0.05416511571820265, 0.08104454810211559, 0.9171870809605276, 0.18955519232421345, 0.0006698063333011076, 0.3322239413173494, 0.15606487565915808, 0.0006698063333011076, 0.12056513999419936, 0.0013396126666022153, 0.19826267465712785, 0.013491500461226606, 0.9713880332083157, 0.021594492103919314, 0.00239938801154659, 0.12956695262351586, 0.007198164034639771, 0.8397858040413066, 0.9956552558918919, 0.9638486502292197, 0.03212828834097399, 0.07254711692971537, 0.924975740853871, 0.9862792604459397, 0.008218993837049498, 0.9922956689543989, 0.9690838503176908, 0.03651957572965779, 0.14303500494115967, 0.8156038579623572, 0.9913814299007175, 0.005152463442917359, 0.9841205175972156, 0.005152463442917359, 0.415865840387636, 0.16104868213737752, 0.2500492696343493, 0.0005297654017676892, 0.0010595308035353784, 0.03708357812373825, 0.0010595308035353784, 0.1335008812454577, 0.0015310588562308211, 0.24037624042823894, 0.4685040100066313, 0.2893701238276252, 0.004342330917174761, 0.9900514491158454, 0.06315870113907852, 0.9236960041590234, 0.007894837642384816, 0.08579333145001967, 0.29481708443734034, 0.588074290121044, 0.029637696319097705, 0.12762229878449038, 0.05317595782687099, 0.817137218606251, 0.06456025235156375, 0.1482803215300432, 0.10579551030514317, 0.21409012715292752, 0.397774458037054, 0.0008330355142137257, 0.06789239440841865, 0.00041651775710686286, 0.9894340852441097, 0.00804417955483016, 0.00100552244435377, 0.00100552244435377, 0.9929971800083784, 0.9921223481187648, 0.9582953243786551, 0.015456376199655727, 0.015456376199655727, 0.9956981630755899, 0.0029113981376479234, 0.0714138436950988, 0.29681378785775436, 0.004463365230943675, 0.6248711323321144, 0.9961456797906177, 0.037005257593092596, 0.10925361765579718, 0.8528830797646102, 0.9930881521315758, 0.08598944555062621, 0.6074937807965104, 0.0018558873140422925, 0.2913743083046399, 0.009279436570211462, 0.003711774628084585, 0.995115090713762, 0.018639723778814853, 0.9775499581778456, 0.002071080419868317, 0.9950493639737997, 0.9913048450580126, 0.9964547399356366, 0.9637019275099361, 0.9971403320325286, 0.9935069696453511, 0.9959771930785744, 0.9865306153462856, 0.003587384055804675, 0.003587384055804675, 0.00717476811160935, 0.3341934171807243, 0.1618930048626346, 0.12720164667778436, 0.18617695559202982, 0.001156378606161676, 0.17191495278270247, 0.016960219557037914, 0.0007709190707744505, 0.010846827095616234, 0.9834456566692052, 0.003615609031872078, 0.052896406968275626, 0.016704128516297566, 0.0027840214193829275, 0.9270791326545149, 0.9707119098059301, 0.08772432460046144, 0.0020886743952490817, 0.9043960131428525, 0.0041773487904981635, 0.484306998099495, 0.02859377110550524, 0.0017871106940940775, 0.003574221388188155, 0.4807327767113069, 0.989318799929764, 0.9906129648063977, 0.0058616151763692175, 0.994834353275047, 0.0025772910706607435, 0.9772218441808663, 0.3830979416836321, 0.16681599933202113, 0.05525451081975463, 0.24154114729778453, 0.09630071885728664, 0.053149577074240166, 0.0036836340546503085, 0.9978301277591347, 0.9964643911713983, 0.9671938494866112, 0.0038850465494416303, 0.9906868701076157, 0.9900784322474352, 0.006226908378914687, 0.0031134541894573434, 0.020766701678776353, 0.0021299181209001386, 0.043130841948227805, 0.7630431668124746, 0.09850871309163141, 0.001597438590675104, 0.06283258456655409, 0.00798719295337552, 0.9842906528080511, 0.011018178949343855, 0.0003685664956533484, 0.9988152032205743, 0.0003685664956533484, 0.056523703285226386, 0.9397065671168886, 0.9744639221163868, 0.01546768130343471, 0.0010479037845514726, 0.2986525785971697, 0.13308378063803702, 0.2525448120769049, 0.31541903914999325, 0.03609669599412688, 0.020959371867557544, 0.8779647993410216, 0.06404252515087026, 0.0006479117899623674, 0.5572041393676359, 0.35440774910941497, 0.0874680916449196, 0.15459741474546682, 0.8273050843135792, 0.004178308506634238, 0.008356617013268477, 0.9608394575997755, 0.001529131201767917, 0.19725792502806128, 0.7997356185246206, 0.042050691681457336, 0.20212365801553828, 0.1494201244414451, 0.19427419556833292, 0.00028033794454304894, 0.0011213517781721958, 0.063076037522186, 0.05718894068678198, 0.059711982187669425, 0.23071812835892927, 0.046179019309304695, 0.0035522322545618996, 0.0035522322545618996, 0.9484460119680271, 0.9679327512899115, 0.6981432411845527, 0.13521002012814756, 0.002651176865257795, 0.1617217887807255, 0.0008837256217525983, 0.16258171529257973, 0.043217924318280684, 0.5649200107318119, 0.22740860177000077, 0.1590050339189125, 0.0012422268274915038, 0.19751406557114912, 0.2273275094309452, 0.07826029013196474, 0.0024844536549830077, 0.3341590165952145, 0.019531956313273594, 0.9700871635592552, 0.006510652104424532, 0.2438706416143637, 0.016402968601290265, 0.04407062648298469, 0.23734897939939287, 0.00019762612772638872, 0.1298403659162374, 0.00019762612772638872, 0.22845580365170537, 0.09940594224637353, 0.11893258722249501, 0.03072645905970918, 0.03602412441483145, 0.06516128386800395, 0.0002648832677561136, 0.613204764855403, 0.0029137159453172497, 0.1327065171458129, 0.9953304776045295, 0.08833156330494266, 0.907747767580581, 0.0030360226167547313, 0.9927793956787971, 0.08819895753680183, 0.9040393147522189, 0.030832831340417945, 0.10710351939303075, 0.012441317909291452, 0.13847727759907008, 0.512257741743435, 0.05084712536840854, 0.14767303431463333, 0.9628028957879792, 0.021395619906399536, 0.028504847590248687, 0.1933213381441225, 0.007674382043528492, 0.09245803128631945, 0.3435199581388944, 0.1501986199947719, 0.09172713775836436, 0.09245803128631945, 0.0012477954552890787, 0.9882540005889504, 0.0012477954552890787, 0.0024955909105781574, 0.006862875004089933, 0.9976875639669799, 0.9950264820663374, 0.017983073171985466, 0.9710859512872151, 0.0015300158821337372, 0.8690490210519628, 0.0015300158821337372, 0.1285213340992339, 0.05364287345086904, 0.944581032504433, 0.04622798991429182, 0.8481831192970064, 0.008039650419876839, 0.09446589243355286, 0.1817037290815474, 0.6222425661200744, 0.0007416478738022342, 0.19431174293618536, 0.9932893415530526, 0.005133278250920168, 0.004313594281962484, 0.004313594281962484, 0.9791859020054838, 0.008627188563924968, 0.039402291501772116, 0.9456549960425307, 0.009850572875443029, 0.0036829480416637125, 0.9943959712492024, 0.9934908942852095, 0.33432546011754605, 0.663344166899893, 0.006380350318343667, 0.9910810827827163, 0.020224432798837996, 0.9768401041838752, 0.004117505210435981, 0.5311581721462416, 0.11683421034612096, 0.34741450213053593, 0.21360481726786912, 0.7796575830277224, 0.0071201605755956375, 0.9919416394652397, 0.9875826991497972, 0.9680534825944556, 0.02127590071636166, 0.014375936815308023, 0.11380949978785518, 0.06948369460732211, 0.4181001623785417, 0.27913277316389745, 0.10422554191098317, 0.1583434380918462, 0.003104773295918553, 0.8041362836429052, 0.03104773295918553, 0.9746552063628916, 0.015470717561315739, 0.1890933586831724, 0.23508904052502513, 0.02810847223668779, 0.5455598929575312, 0.008582544894608484, 0.9612450281961502, 0.034330179578433935, 0.09379285269000136, 0.48666102810849765, 0.013095605847283209, 0.009556252915585045, 0.08529840565392577, 0.07963544096320871, 0.024421535228717334, 0.20776001709068226, 0.004075182964911969, 0.008150365929823938, 0.9861942775086966, 0.33350692625984524, 0.5070008632948437, 0.0005861281656587789, 0.1582546047278703, 0.23826778607748986, 0.3335749005084858, 0.05718426865859757, 0.18718317274247603, 0.17955860358799636, 0.003431056119515854, 0.00038122845772398377, 0.9649529177659474, 0.15207814265247188, 0.8410852379350996, 0.003103635564336161, 0.08330843621214162, 0.010866317766801081, 0.9037154276056233, 0.005351991508451247, 0.23414962849474205, 0.2067206720139294, 0.32647148201552606, 0.032780947989263884, 0.1940096921813577, 0.0018777074622071527, 0.050698101479593125, 0.9444868534901978, 0.06121974395679033, 0.021480611914663272, 0.3737626473151409, 0.5391633590580481, 0.004296122382932655, 0.2386345341239456, 0.33704052757711905, 0.2866074559323677, 0.1371533533753605, 0.000615037459082334, 0.9970159559255886, 0.05004254591962425, 0.03278649560251244, 0.20534699877363055, 0.509916286870654, 0.2010329861943526, 0.00824532253564004, 0.9811933817411648, 0.014709290182242771, 0.06251448327453178, 0.9193306363901732, 0.9751802741520745, 0.01851139346131202, 0.9687629244753291, 0.006170464487104007, 0.020031528003527498, 0.8190669228109022, 0.13354352002351666, 0.026152272671272014, 0.12574925881795446, 0.0005539614925901078, 0.013295075822162584, 0.13405868120680606, 0.2587000170395803, 0.3789096609316337, 0.08863383881441723, 0.9960062804794848, 0.002477627563381803, 0.05220729578810329, 0.0025030895240871444, 0.19130755648380315, 0.18594379321790214, 0.16770699811383866, 0.08295953851260249, 0.0017879210886336744, 0.046485948304475534, 0.26926091594823137, 0.0979088536818908, 0.2520510723064419, 0.17155458035806523, 0.13301902570192745, 0.10276147908303408, 0.08278008037244412, 0.15985118968471967, 0.000285448553008428, 0.9947720607775762, 0.9917833979398233, 0.12463720841219102, 0.0027095045306998046, 0.0027095045306998046, 0.0027095045306998046, 0.8670414498239375, 0.9837001191731369, 0.011572942578507493, 0.05838437710371751, 0.9409822480014045, 0.9935443987949245, 0.004329169493659801, 0.04850028317244843, 0.9476209173693769, 0.2845678575854439, 0.5915322595178903, 0.122522272015955, 0.08984246893555459, 0.9048420085652283, 0.00213910640322749, 0.004484945355228457, 0.9911729235054888, 0.03883641848019628, 0.010591750494598986, 0.8720541240553165, 0.003530583498199662, 0.06001991946939425, 0.014122333992798648, 0.958914046092124, 0.9951928881982788, 0.003275047811020752, 0.8826253850700927, 0.001637523905510376, 0.11135162557470557, 0.0022801673388674077, 0.9964331270850572, 0.021259115010900612, 0.9779192905014281, 0.11397254994770974, 0.25955093307419613, 0.034957967000768114, 0.11253592116685625, 0.0019155050411379787, 0.007183143904267421, 0.0004788762602844947, 0.21597319338830712, 0.0009577525205689894, 0.2528466654302132, 0.9751093376426964, 0.01946326023238915, 0.0019463260232389149, 0.0019463260232389149, 0.5998645776627254, 0.39758466193924824, 0.0017437923769265274, 0.2642546499258776, 0.7327060747944788, 0.09692808270025763, 0.8885074247523617, 0.055433599430381744, 0.0017322999821994295, 0.540477594446222, 0.4001612958880682, 0.18521777241534285, 0.8064096860544926, 0.002849504191005274, 0.10837812020823388, 0.13827553267947082, 0.05605764838356925, 0.0012457255196348723, 0.6540058978083079, 0.03986321662831591, 0.026957082403361195, 0.9524835782520955, 0.008985694134453732, 0.35570460667999526, 0.13613386181580067, 0.0014638049657612973, 0.19322225548049127, 0.312522360190037, 0.0007319024828806486, 0.92840204319764, 0.013416214497075722, 0.0026832428994151445, 0.045615129290057455, 0.005366485798830289, 0.9968355248671107, 0.9703341547536035, 0.004352864916132635, 0.9706888762975775, 0.021764324580663172, 0.9764493882116256, 0.01703109398043533, 0.2751238892649341, 0.014292150091684889, 0.2319226173968866, 0.14876828959071997, 0.00032482159299283836, 0.3287194521087524, 0.00032482159299283836, 0.03466469385772238, 0.5566349879076575, 0.08866162082840533, 0.3186485319998327, 0.9940687508196707, 0.1081319285763341, 0.8785719196827145, 0.14233659268240778, 0.01352785798221231, 0.8269638401300221, 0.016468696673997595, 0.0005881677383570569, 0.04531278806951452, 0.0026654581217361484, 0.8929284707816096, 0.05864007867819526, 0.9942714566907946, 0.012604709643243794, 0.983167352173016, 0.9964972527640543, 0.9445332107512859, 0.05117109945379427, 0.8466635284873806, 0.001343910362678382, 0.15051796061997877, 0.001343910362678382, 0.994823630872281, 0.4387816127851722, 0.014561336707472528, 0.016502848268468866, 0.26016254917350917, 0.2504549913685275, 0.01941511560996337, 0.07844247469862863, 0.20253589778744277, 0.05883185602397147, 0.41182299216780033, 0.00032148555204355994, 0.1668510015106076, 0.0006429711040871199, 0.08037138801088999, 0.16164374129050602, 0.017015130662158526, 0.20985327816662183, 0.28561112182908954, 0.00202561079311411, 0.1964842469320687, 0.12720835780756612, 0.02481281059150049, 0.9594286762046856, 0.008270936863833497, 0.3278353650644191, 0.003092786462871878, 0.21649505240103148, 0.44845403711642234, 0.007841044082697729, 0.9879715544199139, 0.1366889976273544, 0.5508103251848052, 0.0011583813358250373, 0.2675860885755836, 0.043439300093438896, 0.8236081478346517, 0.000430307287269933, 0.000430307287269933, 0.16480769102438433, 0.010327374894478391, 0.9953047441092131, 0.001233339212031243, 0.001233339212031243, 0.001233339212031243, 0.9936941610735679, 0.06310375776850115, 0.014847943004353213, 0.9168604805188109, 0.25337437491109177, 0.7434171219918847, 0.004416994567491841, 0.9849897885506805, 0.004416994567491841, 0.9969877051304192, 0.9934984174937095, 0.9934934087618863, 0.9939441466925307, 0.008364172732820231, 0.9897604400503939, 0.0032301123037734958, 0.0016150561518867479, 0.9787240280433692, 0.01615056151886748, 0.19136347458216707, 0.0016496851257083369, 0.01484716613137503, 0.7868998049628767, 0.0016496851257083369, 0.4963657048704706, 0.12073760388741177, 0.04730654655237771, 0.326203350853709, 0.0021182035769721362, 0.006354610730916409, 0.05368831590869424, 0.9261234494249756, 0.9914002568615399, 0.00429177600372961, 0.010797682567410148, 0.12957219080892177, 0.8530169228254016, 0.9912215562766904, 0.005461275792158074, 0.02028561525898153, 0.9686381286163681, 0.005071403814745383, 0.016531062190777032, 0.9629343726127622, 0.012398296643082774, 0.022486489744694037, 0.029981986326258717, 0.21986789972589726, 0.37602407850849473, 0.00124924943026078, 0.3223063530072812, 0.028732736895997937, 0.9953030410116475, 0.002901758137060197, 0.9939286058110731, 0.0032703269068248197, 0.10792078792521904, 0.0032703269068248197, 0.08829882648427013, 0.7946894383584312, 0.013186215476394205, 0.9494075143003827, 0.030767836111586476, 0.015252402661646347, 0.9710696361248174, 0.005084134220548782, 0.9944600799098643, 0.019593382387527468, 0.960075736988846, 0.1257400796372301, 0.015717509954653763, 0.0017463899949615293, 0.0017463899949615293, 0.0034927799899230586, 0.8504919275462648, 0.9252367260949063, 0.04827322049190815, 0.024136610245954076, 0.05995814825046545, 0.042550943919685155, 0.8935698223133883, 0.0019341338145311435, 0.0015587385665554432, 0.988240251196151, 0.0015587385665554432, 0.00467621569966633, 0.0031174771331108865, 0.20088932088800646, 0.7938368325413158, 0.01824355328033448, 0.9638677316443385, 0.012162368853556321, 0.7618702374493171, 0.23688402340861123, 0.06870426393978443, 0.006870426393978443, 0.9206371367931114, 0.9965502931381136, 0.001923842264745393, 0.582976465813527, 0.238117148008342, 0.010450282357732878, 0.16645806898388799, 0.0007464487398380627, 0.0007464487398380627, 0.19405144111290054, 0.6140275069031395, 0.19030165481120198, 0.0009374465754246403, 0.9870344195645082, 0.010649667236596131, 0.9850942193851421, 0.24063929216803745, 0.08107693074584646, 0.2313839347769591, 0.25470743540247653, 0.17214964747405756, 0.019251143373442997, 0.0007404285912862691, 0.7819738899006653, 0.020623487206171392, 0.19592312845862822, 0.0008593119669238079, 0.9940911582604522, 0.5229199355480221, 0.30073920717231867, 0.02506160059769322, 0.0009639077152958932, 0.08530583280368655, 0.0004819538576479466, 0.0640998630671769, 0.0004819538576479466, 0.008446494425498021, 0.3936066402282078, 0.2533948327649406, 0.34123837479012004, 0.0016892988850996042, 0.138465498168135, 0.8567552699153353, 0.004192141838352762, 0.03163161568938902, 0.4695198858955093, 0.0003811038034866147, 0.34223121553098, 0.15206041759115926, 0.0003811038034866147, 0.004325212813803189, 0.9926363407678318, 0.9927093208344242, 0.012345135252080041, 0.9814382525403632, 0.0030862838130200103, 0.9887935899765602, 0.01976651876828763, 0.1976651876828763, 0.45215911682457954, 0.321205929984674, 0.007412444538107861, 0.9970937358090735, 0.3069731275733616, 0.0028599980829816297, 0.01334665772058094, 0.00095333269432721, 0.6749595475836646, 0.00095333269432721, 0.024163432228322637, 0.9705645278376258, 0.05164285492040054, 0.9414889704719176, 0.003972527301569272, 0.041968911204003714, 0.002997779371714551, 0.8603626796820761, 0.08693560177972197, 0.002997779371714551, 0.02514313122337547, 0.49225428964997564, 0.01060833481753376, 0.15388974014526247, 0.06537214118077622, 0.10959649801750787, 0.06055017080916997, 0.007026299684340542, 0.07549827896114936, 6.888529102294649e-05, 0.9580515294528551, 0.9867657235633864, 0.2365885956347515, 0.009971166865832437, 0.04532348575378381, 0.47589660041473, 0.0018129394301513524, 0.2284303681990704, 0.9923873758665808, 0.9979274185937317, 0.9968421981264136, 0.1533837635971575, 0.0975544243568128, 0.1745401447829723, 0.28913720953946925, 0.2850234687533386, 0.12490397533222829, 0.22132761053654162, 0.1811200715324264, 0.09102540080098305, 0.08637175045328453, 0.07185236136846515, 0.1217394930957933, 0.009307300695397041, 0.09009467073144335, 0.002047606152987349, 0.22808284536160703, 0.13342284673246718, 0.1303330544923469, 0.27049726611234925, 0.1300521642886996, 0.05224557787839767, 0.05561626032216526, 0.993971144825114, 0.003086866909394764, 0.9730344313402506, 0.021385372117368146, 0.9945483018549164, 0.24234168310709536, 0.07483651492812594, 0.26718974470432466, 0.27946761043472035, 0.00438495204656988, 0.12979458057846843, 0.00146165068218996, 0.9977990902840032, 0.003035137844121247, 0.9757968168849809, 0.019728395986788105, 0.021655671096946286, 0.7625075770451087, 0.005698860814985864, 0.20857830582848264, 0.9948816792966196, 0.0022407245029203147, 0.9928431603977387, 0.6293556188801425, 0.3166569151598201, 0.04749853727397301, 0.005937317159246626, 0.905358367636887, 0.07671529022993619, 0.003835764511496809, 0.9205834827592342, 0.9941008278076344, 0.004176219807860924, 0.989764094463039, 0.99640573786086, 0.030976257285937277, 0.9478734729496807, 0.012390502914374912, 0.9946927111515893, 0.9941711183574403, 0.9938626971690315, 0.44954182443844165, 0.12350693353712394, 0.2762809129361256, 0.002926704586187771, 0.1469205702266261, 0.4320858890405972, 0.02860842644332721, 0.5297491379333349, 0.008878477172067066, 0.02202888260213002, 0.2313032673223652, 0.6677505038770662, 0.0013768051626331262, 0.07572428394482195, 0.2551988389100258, 0.742129956830305, 0.04626059831022252, 0.9483422653595617, 0.004626059831022252, 0.9909184833613554, 0.00524295493841987, 0.9948357445651377, 0.9942418733507956, 0.004370368963184958, 0.9745922787902456, 0.017481475852739833, 0.983366835801718, 0.009335761099383399, 0.003111920366461133, 0.1989503812950257, 0.16773134856684763, 0.29544557336393973, 0.2735922504542151, 0.06385711239854605, 0.00028380938843798246, 0.00028380938843798246, 0.9941439104019336, 0.15126461044444175, 0.11598204622166873, 0.09608868554287119, 0.35507772079514116, 0.17528678183015955, 0.10209422838930063, 0.004128810706920246, 0.09704357825324221, 0.01940871565064844, 0.8758182937355109, 0.00485217891266211, 0.002426089456331055, 0.005026964208428536, 0.9903119490604215, 0.06683874449505336, 0.08593552863649719, 0.00954839207072191, 0.8338929075097135, 0.004433435945551926, 0.9930896518036314, 0.9977478159873506, 0.012212857257779465, 0.10817102142604669, 0.8775810286661531, 0.001744693893968495, 0.9949849499514783, 0.01411131496050528, 0.9736807322748642, 0.989416024681866, 0.08103148841571609, 0.9075526702560202, 0.009003498712857343, 0.0013629916651960677, 0.046341716616666306, 0.32711799964705623, 0.624250182659799, 0.2436840665154947, 0.12311653151358153, 0.00509799302333671, 0.4850740361704879, 0.05862691976837216, 0.05403872604736912, 0.03033305848885342, 0.9934475034492758, 0.0017217461064978784, 0.0017217461064978784, 0.0034434922129957567, 0.9404563750504248, 0.06911583707089747, 0.9268610971302403, 0.0017722009505358324, 0.15889214731538373, 0.0020635343807192696, 0.014444740665034886, 0.7366817739167791, 0.08460490960949005, 0.9740851101887048, 0.016940610611977474, 0.9669135253945885, 0.030858942299827295, 0.001207207597020347, 0.998360682735827, 0.9973402551678962, 0.9542232266910514, 0.010440772534661658, 0.9856089272720605, 0.0020881545069323317, 0.19605414972459814, 0.07389733335773314, 0.05617705444031754, 0.09010950343111337, 0.08916693540359126, 0.32650556473365766, 0.017343251706406757, 0.04882502382564511, 0.10198586057789191, 0.8170628278761733, 0.15313091820972458, 0.029532391369018314, 0.01924916331344566, 0.9372861828777772, 0.008884229221590306, 0.03257550714583112, 0.3526414177915051, 0.0006331084700027021, 0.009496627050040531, 0.2962947639612646, 0.0056979762300243195, 0.333648163691424, 0.0012662169400054042, 0.04171604236282172, 0.9475501050983791, 0.15536589403011125, 0.839946864600289, 0.004054394952018008, 0.993326763244412, 0.007485862045042359, 0.980647927900549, 0.01477241243099319, 0.9834205989775466, 0.9664603076167387, 0.026120548854506452, 0.05615492405473856, 0.9265562469031863, 0.990700457462732, 0.005827649749780776, 0.9921527838990122, 0.004362647090338781, 0.9946835365972418, 0.02076890435577154, 0.03305158972746439, 0.10987420368859782, 0.2673158979984789, 0.1042911648832829, 0.043547702681456454, 0.20902897287099098, 0.0004466431044251944, 0.21126218839311695, 0.9749328780478497, 0.965922438587231, 0.01270950577088462, 0.0047718121430778285, 0.9782214893309549, 0.0047718121430778285, 0.009543624286155657, 0.9686360606571062, 0.02105730566645883, 0.0352268633105523, 0.10247814781251578, 0.8529170843979178, 0.008539845651042982, 0.06659085873752915, 0.5496926937824063, 0.1017949432930382, 0.27696707487647476, 0.0046656015675975845, 0.9552989923643563, 0.0322010896302592, 0.9963220754595578, 0.05280834489742015, 0.00368430313237815, 0.10408156348968274, 0.15443370629885078, 0.29105994745787384, 0.0343868292355294, 0.18605730818509658, 0.17316224722177306, 0.9973653223767271, 0.008392913916691969, 0.018884056312556928, 0.9714797858570953, 0.01881227944599774, 0.9688323914688837, 0.964516178865065, 0.9965968843402551, 0.002089301644319193, 0.002089301644319193, 0.9969524783511224, 0.022871882155256915, 0.9758669719576284, 0.18054478270320454, 0.7656436155376637, 0.050151328528667924, 0.9905131203762157, 0.09037323218638749, 0.3475893545630288, 0.20681566596500214, 0.23505730102324823, 0.000434486693203786, 0.11818038055142979, 0.001737946772815144, 0.9937239941964947, 0.9545785137782464, 0.03602183070861307, 0.00633546325371046, 0.32522044702380365, 0.6673354627241685, 0.004105260358570509, 0.0020526301792852543, 0.9914203765947778, 0.8756254057822785, 0.9958435183338793, 0.0021976431486758316, 0.9955323463501516, 0.9473409851991439, 0.9941993442711506, 0.023281757252993182, 0.9736007578524422, 0.9933475131568359, 0.00504237316323267, 0.9650955941332395, 0.9960977897163862, 0.007774911193520519, 0.007774911193520519, 0.16132940726555078, 0.18854159644287258, 0.6317115344735422, 0.002367711223757478, 0.04025109080387713, 0.9518199119505062, 0.002367711223757478, 0.9978347676195046, 0.1092777112534935, 0.38698345453072014, 0.021053504002966638, 0.4792178530199073, 0.0010025478096650782, 0.0010025478096650782, 0.9630107755806927, 0.036089161215055544, 0.005968713229853133, 0.035812279379118794, 0.9579784733914277, 0.002425217558328561, 0.0019401740466628485, 0.9953092859380414, 0.9971898785381, 0.00841973418794426, 0.00420986709397213, 0.9766891658015342, 0.012629601281916392, 0.2429606722087025, 0.21393439721031768, 0.15247753101003378, 0.08510790508785669, 0.0834953342546131, 0.1006960898092115, 0.03906004907190055, 0.006629457870001469, 0.024367737035681077, 0.05142309212676815, 0.31236843613153253, 0.34238248515484704, 0.048355967870895605, 0.2906916229480276, 0.005558157226539725, 0.00690941221298496, 0.06218470991686464, 0.929315942646477, 0.2173467742545744, 0.03595209799699727, 0.7451889403013979, 0.003948316825834393, 0.0007896633651668787, 0.1152908513143643, 0.2854633065078267, 0.37074694994584956, 0.11765984140986493, 0.1062097226149452, 0.20379291238378494, 0.47375235476230526, 0.31561434807488775, 0.005954987699526184, 0.0006616652999473537, 0.0044501578816903906, 0.9923852076169571], \"Term\": [\"00\", \"00\", \"00\", \"000\", \"000\", \"000\", \"000\", \"000\", \"100\", \"100\", \"100\", \"2009\", \"2009\", \"2009\", \"2020\", \"220\", \"25k\", \"300\", \"300\", \"38\", \"40\", \"401k\", \"401k\", \"401k\", \"45\", \"680\", \"680\", \"700\", \"700\", \"90th\", \"90th\", \"90th\", \"abilities\", \"abilities\", \"abilities\", \"abilities\", \"abilities\", \"ability\", \"ability\", \"ability\", \"ability\", \"ability\", \"ability\", \"ability\", \"ability\", \"ability\", \"abreast\", \"absolutely\", \"absolutely\", \"academia\", \"academia\", \"accept\", \"accessories\", \"accessories\", \"accounting\", \"accounting\", \"accounting\", \"accounting\", \"achievable\", \"achievable\", \"achievable\", \"activities\", \"activities\", \"add\", \"add\", \"add\", \"add\", \"administrative\", \"administrative\", \"administrative\", \"advancement\", \"advancement\", \"advancement\", \"aerotek\", \"aerotek\", \"aerotek\", \"aerotek\", \"aerotekcareers\", \"affords\", \"affords\", \"affords\", \"aflac\", \"aflac\", \"aflac\", \"aflac\", \"aflacbenefits\", \"alike\", \"alike\", \"amedisys\", \"america\", \"america\", \"analysis\", \"analysis\", \"anniversary\", \"anniversary\", \"anniversary\", \"annual\", \"annual\", \"annual\", \"annual\", \"annual\", \"annual\", \"anytime\", \"anytime\", \"apartment\", \"appeal\", \"application\", \"apply\", \"apply\", \"apply\", \"applying\", \"applying\", \"applying\", \"appraising\", \"approach\", \"approach\", \"approach\", \"approach\", \"approach\", \"areas\", \"areas\", \"areas\", \"areas\", \"areas\", \"asked\", \"aspects\", \"aspects\", \"aspects\", \"assigned\", \"assigned\", \"assigned\", \"assigned\", \"assist\", \"assist\", \"assist\", \"assist\", \"associate\", \"associate\", \"associate\", \"associate\", \"associate\", \"associate\", \"associates\", \"associates\", \"associates\", \"associates\", \"associates\", \"assortment\", \"assortment\", \"assortment\", \"assortment\", \"attract\", \"automotive\", \"automotive\", \"automotive\", \"automotive\", \"available\", \"available\", \"available\", \"available\", \"available\", \"available\", \"available\", \"aviation\", \"aviation\", \"aviation\", \"aviation\", \"backgrounds\", \"backgrounds\", \"balance\", \"balance\", \"balance\", \"balance\", \"balance\", \"barrel\", \"based\", \"based\", \"based\", \"based\", \"based\", \"based\", \"based\", \"basics\", \"benefits\", \"benefits\", \"benefits\", \"benefits\", \"benefits\", \"benefits\", \"benefits\", \"benefits\", \"best\", \"best\", \"best\", \"best\", \"best\", \"best\", \"best\", \"best\", \"best\", \"beverages\", \"bilingual\", \"bills\", \"bills\", \"bills\", \"blending\", \"blending\", \"bonus\", \"bonus\", \"bonus\", \"bookkeeping\", \"booming\", \"brand\", \"brand\", \"brand\", \"brand\", \"brand\", \"bridge\", \"budget\", \"bundled\", \"business\", \"business\", \"business\", \"business\", \"business\", \"business\", \"business\", \"business\", \"business\", \"businesses\", \"businesses\", \"businessweek\", \"businessweek\", \"calls\", \"calls\", \"calls\", \"calls\", \"calls\", \"calls\", \"card\", \"card\", \"cards\", \"cards\", \"cards\", \"career\", \"career\", \"career\", \"career\", \"career\", \"career\", \"career\", \"career\", \"careerbuilder\", \"catalog\", \"category\", \"category\", \"category\", \"celebrating\", \"celebrating\", \"celebrating\", \"cellular\", \"cellular\", \"central\", \"central\", \"central\", \"changes\", \"check\", \"check\", \"check\", \"check\", \"check\", \"choice\", \"choice\", \"choice\", \"choose\", \"choose\", \"classes\", \"classes\", \"classes\", \"classification\", \"classification\", \"classification\", \"classification\", \"cleaning\", \"cleaning\", \"clear\", \"clear\", \"clear\", \"client\", \"client\", \"client\", \"client\", \"clients\", \"clients\", \"clients\", \"clients\", \"closely\", \"closely\", \"coaching\", \"coaching\", \"coaching\", \"coaching\", \"collections\", \"collections\", \"college\", \"college\", \"college\", \"colonial\", \"com\", \"com\", \"com\", \"commercial\", \"commercial\", \"commercial\", \"commercial\", \"communicate\", \"communication\", \"communication\", \"communication\", \"communication\", \"communication\", \"communication\", \"community\", \"community\", \"community\", \"community\", \"community\", \"community\", \"companies\", \"companies\", \"companies\", \"companies\", \"companies\", \"companies\", \"companies\", \"company\", \"company\", \"company\", \"company\", \"company\", \"company\", \"company\", \"company\", \"company\", \"company\", \"compared\", \"compared\", \"compared\", \"compensation\", \"compensation\", \"compensation\", \"competitive\", \"competitive\", \"competitive\", \"competitive\", \"competitive\", \"competitive\", \"complex\", \"compliance\", \"conduct\", \"conduct\", \"connected\", \"connected\", \"connection\", \"construction\", \"construction\", \"construction\", \"continually\", \"continually\", \"continually\", \"continually\", \"continually\", \"continued\", \"continued\", \"continued\", \"controlling\", \"controlling\", \"controlling\", \"conventions\", \"coordinate\", \"corinthian\", \"costco\", \"cover\", \"cover\", \"cover\", \"cover\", \"cracker\", \"created\", \"created\", \"credit\", \"credit\", \"criminal\", \"currently\", \"currently\", \"currently\", \"currently\", \"currently\", \"currently\", \"currently\", \"currently\", \"customer\", \"customer\", \"customer\", \"customer\", \"customer\", \"customer\", \"customer\", \"customer\", \"customer\", \"customer\", \"customers\", \"customers\", \"customers\", \"customers\", \"customers\", \"customers\", \"customers\", \"customers\", \"customizing\", \"customizing\", \"cut\", \"cut\", \"cutco\", \"data\", \"data\", \"data\", \"data\", \"day\", \"day\", \"day\", \"day\", \"day\", \"day\", \"dealer\", \"dental\", \"dental\", \"dental\", \"dental\", \"depends\", \"depends\", \"deploying\", \"deploying\", \"deposits\", \"deposits\", \"design\", \"designed\", \"designed\", \"designed\", \"determine\", \"determine\", \"development\", \"development\", \"development\", \"development\", \"development\", \"development\", \"development\", \"development\", \"dictate\", \"dictate\", \"different\", \"different\", \"different\", \"different\", \"different\", \"director\", \"director\", \"director\", \"director\", \"director\", \"disability\", \"disability\", \"disability\", \"displays\", \"distributor\", \"distributor\", \"distributor\", \"documentation\", \"doesn\", \"doesn\", \"dog\", \"drawer\", \"drawer\", \"drawer\", \"dreamed\", \"dreamed\", \"dreamed\", \"dreamed\", \"drive\", \"drive\", \"drive\", \"drive\", \"drive\", \"drive\", \"driver\", \"driver\", \"driver\", \"driving\", \"driving\", \"driving\", \"duties\", \"duties\", \"duties\", \"duties\", \"duties\", \"earnings\", \"earnings\", \"earnings\", \"economic\", \"economic\", \"economic\", \"economy\", \"economy\", \"electrical\", \"electrical\", \"electrical\", \"electronically\", \"email\", \"email\", \"emerging\", \"employ\", \"employ\", \"employees\", \"employees\", \"employees\", \"employees\", \"employees\", \"employees\", \"employees\", \"employment\", \"employment\", \"employment\", \"employment\", \"end\", \"end\", \"end\", \"engaging\", \"engaging\", \"engineer\", \"engineer\", \"enterprise\", \"enterprise\", \"enterprise\", \"entire\", \"entire\", \"entire\", \"entire\", \"entire\", \"entrepreneur\", \"entrepreneur\", \"entrepreneur\", \"entry\", \"entry\", \"entry\", \"entry\", \"entry\", \"entry\", \"environment\", \"environment\", \"environment\", \"environment\", \"environment\", \"environment\", \"environment\", \"environment\", \"environment\", \"environmental\", \"environmentstrong\", \"environmentstrong\", \"equal\", \"equal\", \"equal\", \"equal\", \"equipment\", \"equipment\", \"equipment\", \"equipment\", \"equipment\", \"equipment\", \"equipment\", \"equityauto\", \"equityauto\", \"estate\", \"estimator\", \"evaluated\", \"evaluated\", \"evolving\", \"evolving\", \"excellent\", \"excellent\", \"excellent\", \"excellent\", \"executions\", \"executions\", \"existing\", \"existing\", \"existing\", \"exists\", \"exists\", \"expanding\", \"expanding\", \"expanding\", \"expanding\", \"expect\", \"expect\", \"expect\", \"experience\", \"experience\", \"experience\", \"experience\", \"experience\", \"experience\", \"experience\", \"experience\", \"experience\", \"expertise\", \"expertise\", \"explaining\", \"external\", \"externship\", \"extra\", \"facilities\", \"facilities\", \"facilities\", \"family\", \"family\", \"family\", \"family\", \"family\", \"family\", \"family\", \"fantastic\", \"far\", \"far\", \"fastest\", \"fastest\", \"feet\", \"feet\", \"field\", \"field\", \"field\", \"field\", \"finalize\", \"finalize\", \"finalize\", \"finalize\", \"finalize\", \"finance\", \"finance\", \"finance\", \"finance\", \"financial\", \"financial\", \"financial\", \"financial\", \"financial\", \"financial\", \"financial\", \"firm\", \"firm\", \"firm\", \"flex\", \"flex\", \"flexibility\", \"flexibility\", \"flexibility\", \"flexibility\", \"focused\", \"focused\", \"focused\", \"focused\", \"focused\", \"food\", \"food\", \"food\", \"food\", \"force\", \"force\", \"franchise\", \"franchise\", \"franchise\", \"franchise\", \"franchisee\", \"franchisees\", \"franchises\", \"franchises\", \"franchises\", \"franchising\", \"franchisor\", \"freedom\", \"friday\", \"fulfill\", \"fulfill\", \"functional\", \"functions\", \"functions\", \"future\", \"future\", \"future\", \"future\", \"garden\", \"general\", \"general\", \"general\", \"general\", \"generation\", \"generation\", \"getting\", \"getting\", \"getting\", \"getting\", \"given\", \"given\", \"given\", \"gives\", \"gives\", \"global\", \"gowireless\", \"gowireless\", \"graduates\", \"graduates\", \"greeting\", \"greeting\", \"grow\", \"grow\", \"grow\", \"grow\", \"grow\", \"grow\", \"grow\", \"growing\", \"growing\", \"growing\", \"growing\", \"growing\", \"growing\", \"growing\", \"growing\", \"growth\", \"growth\", \"growth\", \"growth\", \"growth\", \"growth\", \"guerrilla\", \"hands\", \"hands\", \"hands\", \"hands\", \"hands\", \"hard\", \"hard\", \"hard\", \"hard\", \"hard\", \"hear\", \"hear\", \"hear\", \"help\", \"help\", \"help\", \"help\", \"help\", \"help\", \"help\", \"help\", \"helping\", \"helping\", \"high\", \"high\", \"high\", \"high\", \"high\", \"high\", \"high\", \"high\", \"holidays\", \"holidays\", \"home\", \"home\", \"home\", \"home\", \"home\", \"hone\", \"honing\", \"honing\", \"hour\", \"hour\", \"house\", \"house\", \"housekeeping\", \"hydraulic\", \"impeccable\", \"impeccable\", \"impeccable\", \"implementation\", \"incentives\", \"incentives\", \"incentives\", \"including\", \"including\", \"including\", \"including\", \"including\", \"including\", \"including\", \"including\", \"income\", \"income\", \"income\", \"income\", \"incorporating\", \"incorporating\", \"increases\", \"increases\", \"increases\", \"independent\", \"independent\", \"independent\", \"independent\", \"independently\", \"independently\", \"independently\", \"industry\", \"industry\", \"industry\", \"industry\", \"industry\", \"industry\", \"industry\", \"industry\", \"information\", \"information\", \"information\", \"information\", \"instant\", \"instructor\", \"insurancemust\", \"insurancemust\", \"insurancemust\", \"interactive\", \"interactive\", \"interested\", \"interested\", \"interested\", \"interested\", \"internal\", \"interpersonal\", \"interpersonal\", \"interpersonal\", \"intuitive\", \"inventory\", \"inventory\", \"inventory\", \"inventory\", \"inventory\", \"inventory\", \"invest\", \"investment\", \"investment\", \"investment\", \"investor\", \"inviting\", \"issues\", \"italian\", \"jani\", \"janitor\", \"janitorial\", \"java\", \"java\", \"java\", \"java\", \"job\", \"job\", \"job\", \"job\", \"job\", \"job\", \"job\", \"job\", \"jobs\", \"jobs\", \"jobs\", \"joining\", \"joining\", \"joining\", \"joining\", \"jump\", \"keeping\", \"keeping\", \"keeping\", \"keeping\", \"key\", \"key\", \"key\", \"key\", \"key\", \"kick\", \"kinds\", \"kinds\", \"king\", \"king\", \"kiosk\", \"knowledge\", \"knowledge\", \"knowledge\", \"knowledge\", \"knowledge\", \"knowledge\", \"knowledge\", \"lady\", \"laptop\", \"lawn\", \"lay\", \"lay\", \"layaway\", \"layaway\", \"layaway\", \"learn\", \"learn\", \"learn\", \"learn\", \"learn\", \"learn\", \"learn\", \"learn\", \"levels\", \"levels\", \"liberty\", \"liberty\", \"liberty\", \"license\", \"license\", \"liens\", \"liens\", \"like\", \"like\", \"like\", \"like\", \"like\", \"list\", \"list\", \"list\", \"list\", \"ll\", \"ll\", \"ll\", \"ll\", \"loan\", \"loan\", \"loan\", \"loan\", \"lobster\", \"locations\", \"locations\", \"locations\", \"looking\", \"looking\", \"looking\", \"looking\", \"looking\", \"looking\", \"looking\", \"looking\", \"looking\", \"looking\", \"lot\", \"lot\", \"lot\", \"lot\", \"machinery\", \"maintain\", \"maintain\", \"maintain\", \"maintain\", \"maintain\", \"maintenance\", \"maintenance\", \"maintenance\", \"maintenance\", \"make\", \"make\", \"make\", \"make\", \"make\", \"make\", \"make\", \"makers\", \"makers\", \"makers\", \"management\", \"management\", \"management\", \"management\", \"management\", \"management\", \"management\", \"management\", \"management\", \"manager\", \"manager\", \"manager\", \"manager\", \"manager\", \"manager\", \"manager\", \"manager\", \"manages\", \"manufacturing\", \"manufacturing\", \"marine\", \"marine\", \"marital\", \"marital\", \"market\", \"market\", \"market\", \"market\", \"market\", \"market\", \"market\", \"marketable\", \"marketable\", \"marketing\", \"marketing\", \"marketing\", \"marketing\", \"marketing\", \"marketing\", \"marketing\", \"marketing\", \"matco\", \"matco\", \"matco\", \"matco\", \"matco\", \"mcdonald\", \"mechanic\", \"mechanical\", \"mechanical\", \"mechanics\", \"mechanics\", \"mechanics\", \"mechanics\", \"media\", \"media\", \"medical\", \"medical\", \"medical\", \"medical\", \"meet\", \"meet\", \"meet\", \"meet\", \"meetings\", \"meetings\", \"men\", \"men\", \"men\", \"men\", \"mentors\", \"mentors\", \"mentors\", \"merchant\", \"merchant\", \"merit\", \"microsoft\", \"microsoft\", \"mind\", \"mind\", \"minimal\", \"minimal\", \"mobile\", \"mobile\", \"mobile\", \"mobile\", \"model\", \"model\", \"model\", \"momentum\", \"monday\", \"money\", \"money\", \"motivated\", \"motivated\", \"motivated\", \"motivated\", \"motivated\", \"motivated\", \"motivation\", \"motivation\", \"motivation\", \"motivation\", \"mvrvalid\", \"mvrvalid\", \"nation\", \"nation\", \"nation\", \"nation\", \"nearly\", \"nearly\", \"nearly\", \"need\", \"need\", \"need\", \"need\", \"need\", \"need\", \"need\", \"need\", \"needing\", \"needing\", \"needing\", \"needs\", \"needs\", \"needs\", \"needs\", \"new\", \"new\", \"new\", \"new\", \"new\", \"new\", \"new\", \"nights\", \"north\", \"north\", \"north\", \"obtain\", \"obtain\", \"obtain\", \"offer\", \"offer\", \"offer\", \"offer\", \"offer\", \"offer\", \"offering\", \"offering\", \"offering\", \"offers\", \"offers\", \"offers\", \"offers\", \"offers\", \"office\", \"office\", \"office\", \"office\", \"office\", \"officer\", \"offices\", \"offices\", \"offices\", \"offices\", \"offices\", \"officeteam\", \"officeteam\", \"old\", \"old\", \"old\", \"olive\", \"onboard\", \"onboard\", \"onboard\", \"ongoing\", \"ongoing\", \"ongoing\", \"ongoing\", \"operations\", \"operations\", \"operations\", \"operations\", \"operations\", \"operations\", \"operations\", \"operator\", \"operator\", \"opportunities\", \"opportunities\", \"opportunities\", \"opportunities\", \"opportunities\", \"opportunities\", \"opportunities\", \"opportunities\", \"opportunities\", \"opportunity\", \"opportunity\", \"opportunity\", \"opportunity\", \"opportunity\", \"opportunity\", \"opportunity\", \"opportunity\", \"opportunityobviously\", \"opposed\", \"options\", \"options\", \"options\", \"options\", \"options\", \"order\", \"order\", \"outside\", \"outside\", \"overhead\", \"overhead\", \"overview\", \"overview\", \"owner\", \"owner\", \"owner\", \"owners\", \"owners\", \"owners\", \"paging\", \"paging\", \"paid\", \"paid\", \"paid\", \"paid\", \"paid\", \"paid\", \"painting\", \"participate\", \"passionate\", \"passionate\", \"passionate\", \"passionate\", \"patrons\", \"patrons\", \"payment\", \"payment\", \"people\", \"people\", \"people\", \"people\", \"people\", \"people\", \"people\", \"people\", \"people\", \"people\", \"perform\", \"perform\", \"perform\", \"perform\", \"performance\", \"performance\", \"performance\", \"person\", \"person\", \"philosophy\", \"philosophy\", \"phone\", \"phone\", \"phone\", \"phone\", \"physical\", \"physical\", \"physical\", \"place\", \"place\", \"place\", \"place\", \"place\", \"place\", \"places\", \"places\", \"places\", \"plan\", \"plan\", \"plan\", \"plan\", \"plan\", \"plan\", \"plans\", \"plans\", \"plans\", \"plans\", \"plans\", \"plant\", \"plc\", \"plenty\", \"plenty\", \"plenty\", \"policies\", \"policies\", \"position\", \"position\", \"position\", \"position\", \"position\", \"position\", \"position\", \"potential\", \"potential\", \"potential\", \"potential\", \"powers\", \"precise\", \"precise\", \"preparation\", \"preparation\", \"preparation\", \"preparation\", \"preparation\", \"presence\", \"presence\", \"presence\", \"presence\", \"printing\", \"prioritizes\", \"prioritizes\", \"problems\", \"procedures\", \"procedures\", \"process\", \"process\", \"process\", \"process\", \"processes\", \"product\", \"product\", \"product\", \"product\", \"product\", \"product\", \"products\", \"products\", \"products\", \"products\", \"products\", \"products\", \"products\", \"products\", \"professional\", \"professional\", \"professional\", \"professional\", \"professional\", \"professional\", \"professional\", \"profits\", \"profits\", \"profits\", \"program\", \"program\", \"program\", \"program\", \"programmed\", \"programmed\", \"programs\", \"programs\", \"programs\", \"programs\", \"programs\", \"project\", \"project\", \"project\", \"project\", \"project\", \"projects\", \"projects\", \"projects\", \"projects\", \"promise\", \"promotes\", \"promotes\", \"promotes\", \"promotion\", \"promotion\", \"promotions\", \"promotions\", \"promotions\", \"property\", \"proprietor\", \"proprietorship\", \"pros\", \"prospect\", \"prospect\", \"protected\", \"protected\", \"protected\", \"protected\", \"proven\", \"proven\", \"proven\", \"proven\", \"proven\", \"provide\", \"provide\", \"provide\", \"provide\", \"provide\", \"provide\", \"provisions\", \"provisions\", \"purchasing\", \"purchasing\", \"race\", \"race\", \"race\", \"ranked\", \"ranked\", \"rapid\", \"rapid\", \"rapid\", \"rated\", \"rated\", \"rated\", \"real\", \"real\", \"real\", \"real\", \"real\", \"real\", \"real\", \"really\", \"really\", \"reassuring\", \"recent\", \"recent\", \"recent\", \"recent\", \"recent\", \"recently\", \"recently\", \"recently\", \"receptionist\", \"receptionist\", \"receptionist\", \"recruiter\", \"red\", \"red\", \"regular\", \"regular\", \"regular\", \"regular\", \"regular\", \"regular\", \"related\", \"related\", \"related\", \"relevant\", \"relevant\", \"relevant\", \"relevant\", \"reliably\", \"reliably\", \"reliably\", \"reliably\", \"reliably\", \"relocation\", \"relocation\", \"remaining\", \"remaining\", \"remaining\", \"rep\", \"rep\", \"repair\", \"repair\", \"repair\", \"reporting\", \"reporting\", \"reports\", \"reports\", \"reports\", \"reports\", \"reports\", \"reports\", \"representative\", \"representative\", \"representative\", \"representative\", \"reprogram\", \"reps\", \"reps\", \"required\", \"required\", \"required\", \"required\", \"required\", \"required\", \"required\", \"requirements\", \"requirements\", \"requirements\", \"requirements\", \"resources\", \"responsibilities\", \"responsibilities\", \"responsibilities\", \"responsibilities\", \"responsibilities\", \"responsibilities\", \"responsibilities\", \"responsibilities\", \"restaurant\", \"restaurant\", \"restaurant\", \"restaurant\", \"restaurant\", \"resume\", \"resume\", \"retail\", \"retail\", \"retail\", \"retail\", \"retail\", \"retail\", \"retail\", \"retailer\", \"retailer\", \"retailers\", \"reverse\", \"reverse\", \"reverse\", \"reward\", \"right\", \"right\", \"right\", \"right\", \"right\", \"roadside\", \"role\", \"role\", \"role\", \"role\", \"role\", \"role\", \"rough\", \"rough\", \"running\", \"running\", \"running\", \"salary\", \"salary\", \"salary\", \"salary\", \"salary\", \"sales\", \"sales\", \"sales\", \"sales\", \"sales\", \"sales\", \"sales\", \"sales\", \"sales\", \"sales\", \"saturday\", \"saturdays\", \"schedule\", \"schedule\", \"schedule\", \"schedule\", \"schedule\", \"schedule\", \"scope\", \"seasonal\", \"secretary\", \"seeking\", \"seeking\", \"seeking\", \"seeking\", \"seeking\", \"service\", \"service\", \"service\", \"service\", \"service\", \"service\", \"service\", \"service\", \"service\", \"service\", \"services\", \"services\", \"services\", \"services\", \"services\", \"services\", \"services\", \"shine\", \"shine\", \"shoes\", \"shoes\", \"shopping\", \"skills\", \"skills\", \"skills\", \"skills\", \"skills\", \"skills\", \"skills\", \"sluggish\", \"snap\", \"snap\", \"snap\", \"social\", \"social\", \"social\", \"social\", \"software\", \"software\", \"sole\", \"solutions\", \"solutions\", \"solutions\", \"solutions\", \"sony\", \"sounds\", \"sounds\", \"sounds\", \"sourrounding\", \"southern\", \"southern\", \"spanish\", \"specialist\", \"specialist\", \"specialist\", \"specific\", \"specifications\", \"spoken\", \"staff\", \"staff\", \"staff\", \"staff\", \"staff\", \"staffing\", \"staffing\", \"staffing\", \"staffing\", \"start\", \"start\", \"start\", \"start\", \"start\", \"started\", \"started\", \"starting\", \"starting\", \"starting\", \"stay\", \"stay\", \"staying\", \"steadfast\", \"stepping\", \"stepping\", \"stepping\", \"stops\", \"stops\", \"stops\", \"store\", \"store\", \"store\", \"store\", \"store\", \"store\", \"store\", \"strived\", \"strong\", \"strong\", \"strong\", \"strong\", \"strong\", \"strong\", \"strong\", \"structure\", \"structure\", \"structure\", \"structure\", \"structure\", \"structured\", \"structured\", \"students\", \"students\", \"students\", \"students\", \"substituted\", \"substituted\", \"subway\", \"succeed\", \"succeed\", \"succeed\", \"succeed\", \"suitability\", \"sunday\", \"sunday\", \"sundays\", \"supervision\", \"supervision\", \"supervision\", \"supervisor\", \"supervisor\", \"supervisor\", \"supervisor\", \"support\", \"support\", \"support\", \"support\", \"support\", \"support\", \"support\", \"systems\", \"systems\", \"systems\", \"systems\", \"taerotek\", \"takes\", \"takes\", \"takes\", \"talent\", \"talent\", \"talent\", \"talent\", \"talent\", \"talents\", \"talents\", \"taught\", \"taught\", \"tax\", \"tax\", \"taxes\", \"tcommunicate\", \"teach\", \"teach\", \"teach\", \"team\", \"team\", \"team\", \"team\", \"team\", \"team\", \"team\", \"team\", \"team\", \"technical\", \"technical\", \"technical\", \"technicians\", \"technicians\", \"technicians\", \"technicians\", \"technology\", \"technology\", \"technology\", \"technology\", \"technology\", \"technology\", \"technology\", \"teksystems\", \"teksystems\", \"temporary\", \"temporary\", \"tenure\", \"tenure\", \"terminal\", \"terminal\", \"territories\", \"territories\", \"thanks\", \"thanks\", \"thave\", \"thave\", \"therapist\", \"therapist\", \"therapy\", \"thinker\", \"thinker\", \"time\", \"time\", \"time\", \"time\", \"time\", \"time\", \"time\", \"time\", \"time\", \"titlebucks\", \"titlemax\", \"titlemax\", \"tmx\", \"tmx\", \"tmx\", \"tmx\", \"took\", \"took\", \"tool\", \"tool\", \"tool\", \"tool\", \"tools\", \"tools\", \"tools\", \"tools\", \"tools\", \"trainees\", \"trainees\", \"trainers\", \"training\", \"training\", \"training\", \"training\", \"training\", \"training\", \"training\", \"training\", \"trainings\", \"transportation\", \"transportation\", \"transportation\", \"tremendous\", \"tremendous\", \"tuition\", \"turn\", \"turn\", \"turn\", \"understanding\", \"underwriting\", \"underwriting\", \"unique\", \"unique\", \"unique\", \"unspoken\", \"use\", \"use\", \"use\", \"use\", \"use\", \"use\", \"use\", \"usgowireless\", \"valuable\", \"valuable\", \"ve\", \"ve\", \"ve\", \"vector\", \"vector\", \"vector\", \"vegas\", \"vehicle\", \"verizon\", \"verizon\", \"vested\", \"victory\", \"visits\", \"visits\", \"visual\", \"visual\", \"vitality\", \"volunteer\", \"want\", \"want\", \"want\", \"want\", \"want\", \"warehouse\", \"warehouse\", \"warehouse\", \"warehouse\", \"wavers\", \"weekly\", \"weekly\", \"weekly\", \"weekly\", \"weekly\", \"weekly\", \"weeks\", \"weeks\", \"welcomed\", \"welcomed\", \"welcomed\", \"wireless\", \"wireless\", \"wireless\", \"wish\", \"women\", \"women\", \"women\", \"women\", \"work\", \"work\", \"work\", \"work\", \"work\", \"work\", \"work\", \"work\", \"work\", \"work\", \"working\", \"working\", \"working\", \"working\", \"working\", \"workplace\", \"workplace\", \"workplace\", \"works\", \"works\", \"works\", \"year\", \"year\", \"year\", \"year\", \"year\", \"year\", \"year\", \"years\", \"years\", \"years\", \"years\", \"years\", \"yr\", \"yr\"]}, \"R\": 30, \"lambda.step\": 0.01, \"plot.opts\": {\"xlab\": \"PC1\", \"ylab\": \"PC2\"}, \"topic.order\": [8, 7, 5, 3, 9, 10, 6, 1, 4, 2]};\n",
       "\n",
       "function LDAvis_load_lib(url, callback){\n",
       "  var s = document.createElement('script');\n",
       "  s.src = url;\n",
       "  s.async = true;\n",
       "  s.onreadystatechange = s.onload = callback;\n",
       "  s.onerror = function(){console.warn(\"failed to load library \" + url);};\n",
       "  document.getElementsByTagName(\"head\")[0].appendChild(s);\n",
       "}\n",
       "\n",
       "if(typeof(LDAvis) !== \"undefined\"){\n",
       "   // already loaded: just create the visualization\n",
       "   !function(LDAvis){\n",
       "       new LDAvis(\"#\" + \"ldavis_el6161403683902617126948708104\", ldavis_el6161403683902617126948708104_data);\n",
       "   }(LDAvis);\n",
       "}else if(typeof define === \"function\" && define.amd){\n",
       "   // require.js is available: use it to load d3/LDAvis\n",
       "   require.config({paths: {d3: \"https://cdnjs.cloudflare.com/ajax/libs/d3/3.5.5/d3.min\"}});\n",
       "   require([\"d3\"], function(d3){\n",
       "      window.d3 = d3;\n",
       "      LDAvis_load_lib(\"https://cdn.rawgit.com/bmabey/pyLDAvis/files/ldavis.v1.0.0.js\", function(){\n",
       "        new LDAvis(\"#\" + \"ldavis_el6161403683902617126948708104\", ldavis_el6161403683902617126948708104_data);\n",
       "      });\n",
       "    });\n",
       "}else{\n",
       "    // require.js not available: dynamically load d3 & LDAvis\n",
       "    LDAvis_load_lib(\"https://cdnjs.cloudflare.com/ajax/libs/d3/3.5.5/d3.min.js\", function(){\n",
       "         LDAvis_load_lib(\"https://cdn.rawgit.com/bmabey/pyLDAvis/files/ldavis.v1.0.0.js\", function(){\n",
       "                 new LDAvis(\"#\" + \"ldavis_el6161403683902617126948708104\", ldavis_el6161403683902617126948708104_data);\n",
       "            })\n",
       "         });\n",
       "}\n",
       "</script>"
      ],
      "text/plain": [
       "PreparedData(topic_coordinates=               x          y  topics  cluster       Freq\n",
       "topic                                                  \n",
       "7      32.420952   8.115230       1        1  25.357801\n",
       "6       0.648955  71.707100       2        1  14.174462\n",
       "4      71.019684   9.971006       3        1  11.549103\n",
       "2       3.785981  33.185135       4        1  11.013260\n",
       "8     -42.666500  -9.222070       5        1  10.989082\n",
       "9      -3.621689 -43.526516       6        1   8.184466\n",
       "5      -3.632402  -4.171708       7        1   6.701834\n",
       "0     -36.584400  35.804413       8        1   4.152514\n",
       "3      44.391380  50.615383       9        1   4.023279\n",
       "1      40.235809 -31.591665      10        1   3.854198, topic_info=     Category          Freq           Term         Total  loglift  logprob\n",
       "term                                                                      \n",
       "678   Default   8731.000000       business   8731.000000  30.0000  30.0000\n",
       "3963  Default  14516.000000          sales  14516.000000  29.0000  29.0000\n",
       "1970  Default   3492.000000      franchise   3492.000000  28.0000  28.0000\n",
       "4480  Default   3313.000000            tax   3313.000000  27.0000  27.0000\n",
       "2737  Default   3775.000000        manager   3775.000000  26.0000  26.0000\n",
       "2736  Default   5060.000000     management   5060.000000  25.0000  25.0000\n",
       "2615  Default   2713.000000        liberty   2713.000000  24.0000  24.0000\n",
       "277   Default   2617.000000          aflac   2617.000000  23.0000  23.0000\n",
       "2074  Default   2434.000000     gowireless   2434.000000  22.0000  22.0000\n",
       "4584  Default   4477.000000           time   4477.000000  21.0000  21.0000\n",
       "4945  Default   2061.000000       wireless   2061.000000  20.0000  20.0000\n",
       "4649  Default   3257.000000       training   3257.000000  19.0000  19.0000\n",
       "4494  Default   5304.000000           team   5304.000000  18.0000  18.0000\n",
       "4614  Default   2357.000000          tools   2357.000000  17.0000  17.0000\n",
       "2688  Default   3567.000000        looking   3567.000000  16.0000  16.0000\n",
       "2986  Default   2825.000000           need   2825.000000  15.0000  15.0000\n",
       "1219  Default   4393.000000      customers   4393.000000  14.0000  14.0000\n",
       "3101  Default   2796.000000  opportunities   2796.000000  13.0000  13.0000\n",
       "3882  Default   2623.000000         retail   2623.000000  12.0000  12.0000\n",
       "4419  Default   3923.000000        support   3923.000000  11.0000  11.0000\n",
       "3259  Default   2088.000000         people   2088.000000  10.0000  10.0000\n",
       "4155  Default   3420.000000         skills   3420.000000   9.0000   9.0000\n",
       "1782  Default   4930.000000     experience   4930.000000   8.0000   8.0000\n",
       "3102  Default   3503.000000    opportunity   3503.000000   7.0000   7.0000\n",
       "1672  Default   1723.000000      equipment   1723.000000   6.0000   6.0000\n",
       "3085  Default   1797.000000        ongoing   1797.000000   5.0000   5.0000\n",
       "2658  Default   1543.000000             ll   1543.000000   4.0000   4.0000\n",
       "727   Default   3580.000000         career   3580.000000   3.0000   3.0000\n",
       "2782  Default   1602.000000          matco   1602.000000   2.0000   2.0000\n",
       "3433  Default   1700.000000    preparation   1700.000000   1.0000   1.0000\n",
       "...       ...           ...            ...           ...      ...      ...\n",
       "3541  Topic10    266.858815      promotion    359.152341   2.9590  -4.6793\n",
       "4284  Topic10    252.551106        started    340.910642   2.9560  -4.7344\n",
       "1084  Topic10    267.857028      continued    373.384446   2.9239  -4.6755\n",
       "4821  Topic10    316.042095             ve    473.524963   2.8517  -4.5101\n",
       "4889  Topic10    325.353998           want    514.475330   2.7978  -4.4811\n",
       "3101  Topic10    753.397378  opportunities   2796.544004   1.9445  -3.6414\n",
       "4584  Topic10    945.708488           time   4477.848153   1.7010  -3.4141\n",
       "2688  Topic10    822.671333        looking   3567.123251   1.7890  -3.5534\n",
       "2105  Topic10    506.715158        growing   1594.663846   2.1095  -4.0380\n",
       "3259  Topic10    528.057477         people   2088.222121   1.8811  -3.9968\n",
       "2986  Topic10    587.303366           need   2825.375201   1.6852  -3.8904\n",
       "4649  Topic10    564.033535       training   3257.060988   1.5025  -3.9309\n",
       "2277  Topic10    377.707047         income   1306.285511   2.0152  -4.3319\n",
       "4494  Topic10    540.696707           team   5304.656910   0.9725  -3.9731\n",
       "2736  Topic10    503.475136     management   5060.059677   0.9484  -4.0445\n",
       "1389  Topic10    314.382911      different    737.304474   2.4036  -4.5154\n",
       "393   Topic10    272.401116       approach    422.927398   2.8161  -4.6587\n",
       "2633  Topic10    300.614041           like    954.286085   2.1009  -4.5602\n",
       "727   Topic10    344.823863         career   3580.268323   0.9158  -4.4230\n",
       "3510  Topic10    314.094892   professional   2468.391271   1.1944  -4.5163\n",
       "2159  Topic10    295.755000           high   1492.968863   1.6370  -4.5765\n",
       "2512  Topic10    268.541291            key    559.562429   2.5219  -4.6730\n",
       "3065  Topic10    290.023014          offer   1494.770683   1.6162  -4.5960\n",
       "2104  Topic10    283.583303           grow   1608.349462   1.5205  -4.6185\n",
       "2728  Topic10    268.889871           make    805.005960   2.1595  -4.6717\n",
       "4955  Topic10    287.404494           work   5581.150182   0.2897  -4.6051\n",
       "940   Topic10    281.727939        company   4030.144143   0.5954  -4.6250\n",
       "2762  Topic10    273.130582         market   1848.678747   1.3437  -4.6560\n",
       "939   Topic10    270.576237      companies   1385.354259   1.6228  -4.6654\n",
       "4988  Topic10    269.224186           year   2532.724814   1.0145  -4.6704\n",
       "\n",
       "[751 rows x 6 columns], token_table=      Topic      Freq       Term\n",
       "term                            \n",
       "0         1  0.140469         00\n",
       "0         3  0.853618         00\n",
       "0         7  0.002161         00\n",
       "1         1  0.029033        000\n",
       "1         2  0.006312        000\n",
       "1         3  0.386269        000\n",
       "1         7  0.573092        000\n",
       "1         9  0.006312        000\n",
       "6         7  0.703330        100\n",
       "6         9  0.279099        100\n",
       "6        10  0.015949        100\n",
       "33        1  0.004462       2009\n",
       "33        8  0.968349       2009\n",
       "33        9  0.022312       2009\n",
       "37        5  0.997814       2020\n",
       "40       10  0.873003        220\n",
       "47        3  0.977461        25k\n",
       "54        3  0.008224        300\n",
       "54        4  0.986878        300\n",
       "64        5  0.996941         38\n",
       "67        3  0.986601         40\n",
       "70        1  0.089302       401k\n",
       "70        3  0.895812       401k\n",
       "70       10  0.011163       401k\n",
       "75        3  0.961097         45\n",
       "94        8  0.028649        680\n",
       "94        9  0.945429        680\n",
       "98        1  0.026505        700\n",
       "98        3  0.967421        700\n",
       "112       1  0.004537       90th\n",
       "...     ...       ...        ...\n",
       "4955      6  0.100696       work\n",
       "4955      7  0.039060       work\n",
       "4955      8  0.006629       work\n",
       "4955      9  0.024368       work\n",
       "4955     10  0.051423       work\n",
       "4963      1  0.312368    working\n",
       "4963      2  0.342382    working\n",
       "4963      3  0.048356    working\n",
       "4963      6  0.290692    working\n",
       "4963      8  0.005558    working\n",
       "4965      1  0.006909  workplace\n",
       "4965      3  0.062185  workplace\n",
       "4965      4  0.929316  workplace\n",
       "4966      1  0.217347      works\n",
       "4966      3  0.035952      works\n",
       "4966      4  0.745189      works\n",
       "4988      1  0.003948       year\n",
       "4988      2  0.000790       year\n",
       "4988      3  0.115291       year\n",
       "4988      4  0.285463       year\n",
       "4988      5  0.370747       year\n",
       "4988      9  0.117660       year\n",
       "4988     10  0.106210       year\n",
       "4990      1  0.203793      years\n",
       "4990      3  0.473752      years\n",
       "4990      4  0.315614      years\n",
       "4990      8  0.005955      years\n",
       "4990      9  0.000662      years\n",
       "4995      3  0.004450         yr\n",
       "4995      4  0.992385         yr\n",
       "\n",
       "[1919 rows x 3 columns], R=30, lambda_step=0.01, plot_opts={'xlab': 'PC1', 'ylab': 'PC2'}, topic_order=[8, 7, 5, 3, 9, 10, 6, 1, 4, 2])"
      ]
     },
     "execution_count": 142,
     "metadata": {},
     "output_type": "execute_result"
    }
   ],
   "source": [
    "pyLDAvis.enable_notebook()\n",
    "dash = pyLDAvis.sklearn.prepare(lda, tf, tf_vectorizer, mds='tsne')\n",
    "dash"
   ]
  },
  {
   "cell_type": "markdown",
   "metadata": {},
   "source": [
    "#### Fit Model with TfIDF vectorizer\n"
   ]
  },
  {
   "cell_type": "code",
   "execution_count": 143,
   "metadata": {},
   "outputs": [
    {
     "name": "stderr",
     "output_type": "stream",
     "text": [
      "/home/etzimopoulos/anaconda3/envs/nlp_course/lib/python3.7/site-packages/ipykernel/ipkernel.py:287: DeprecationWarning: `should_run_async` will not call `transform_cell` automatically in the future. Please pass the result to `transformed_cell` argument and any exception that happen during thetransform in `preprocessing_exc_tuple` in IPython 7.17 and above.\n",
      "  and should_run_async(code)\n"
     ]
    },
    {
     "name": "stdout",
     "output_type": "stream",
     "text": [
      "Fitting LDA models with tf features, n_samples=5000 and n_features=5000...\n",
      "done in 3.274s.\n",
      "\n",
      "Topics in LDA model:\n",
      "\n",
      "The top 15 words for topic #0 are:aldi cashiers cashier riverside entrusted advantages maintenance merchandising electrical 12 project lexington lobster technician shift\n",
      "\n",
      "The top 15 words for topic #1 are:baker tilly krause virchow office needed evening shipping direct trouble wi message repairing shooting perform\n",
      "\n",
      "The top 15 words for topic #2 are:muzak project csr process accordance manager transmission engineering processes director leader business improvement channels engineer\n",
      "\n",
      "The top 15 words for topic #3 are:tcs tata consultancy accelerators estimator designers focuses junit cultural near network java project chicago global\n",
      "\n",
      "The top 15 words for topic #4 are:jewelry heartland distance ocean pacific coast oregon woodbridge administrative branch benefit office postion dunbar live\n",
      "\n",
      "The top 15 words for topic #5 are:lobster red chrysler dodge jeep metropolitan representativeall nissan chevrolet scion isuzu hyundai thirteen kia hired\n",
      "\n",
      "The top 15 words for topic #6 are:tax liberty manager preparation learn ongoing support business franchisees seasonal sales marketing franchise year community\n",
      "\n",
      "The top 15 words for topic #7 are:gowireless wireless store retail sales products experience time tmx advancement skills management communication locations excellent\n",
      "\n",
      "The top 15 words for topic #8 are:sales matco customers equipment payment mobile outside tools store inventory reliably mechanics distributor business technicians\n",
      "\n",
      "The top 15 words for topic #9 are:aflac sales business need franchise career looking experience customer team work management project position company\n",
      "\n"
     ]
    }
   ],
   "source": [
    "print(\"Fitting LDA models with tf features, \"\n",
    "      \"n_samples=%d and n_features=%d...\"\n",
    "      % (n_samples, n_features))\n",
    "lda = LatentDirichletAllocation(n_components=n_components, max_iter=5,\n",
    "                                learning_method='online',\n",
    "                                learning_offset=50.,\n",
    "                                random_state=0)\n",
    "t0 = time()\n",
    "\n",
    "# Fit using TFIDF vectorizer\n",
    "lda.fit(tfidf)\n",
    "print(\"done in %0.3fs.\" % (time() - t0))\n",
    "\n",
    "print(\"\\nTopics in LDA model:\")\n",
    "tfidf_feature_names = tfidf_vectorizer.get_feature_names()\n",
    "sf.print_top_words(lda, tfidf_feature_names, n_top_words)"
   ]
  },
  {
   "cell_type": "code",
   "execution_count": 144,
   "metadata": {},
   "outputs": [
    {
     "name": "stderr",
     "output_type": "stream",
     "text": [
      "/home/etzimopoulos/anaconda3/envs/nlp_course/lib/python3.7/site-packages/ipykernel/ipkernel.py:287: DeprecationWarning: `should_run_async` will not call `transform_cell` automatically in the future. Please pass the result to `transformed_cell` argument and any exception that happen during thetransform in `preprocessing_exc_tuple` in IPython 7.17 and above.\n",
      "  and should_run_async(code)\n",
      "/home/etzimopoulos/anaconda3/envs/nlp_course/lib/python3.7/site-packages/pyLDAvis/_prepare.py:257: FutureWarning: Sorting because non-concatenation axis is not aligned. A future version\n",
      "of pandas will change to not sort by default.\n",
      "\n",
      "To accept the future behavior, pass 'sort=False'.\n",
      "\n",
      "To retain the current behavior and silence the warning, pass 'sort=True'.\n",
      "\n",
      "  return pd.concat([default_term_info] + list(topic_dfs))\n"
     ]
    },
    {
     "data": {
      "text/html": [
       "\n",
       "<link rel=\"stylesheet\" type=\"text/css\" href=\"https://cdn.rawgit.com/bmabey/pyLDAvis/files/ldavis.v1.0.0.css\">\n",
       "\n",
       "\n",
       "<div id=\"ldavis_el6161403683900036646176258756\"></div>\n",
       "<script type=\"text/javascript\">\n",
       "\n",
       "var ldavis_el6161403683900036646176258756_data = {\"mdsDat\": {\"x\": [32.42095184326172, 0.648955225944519, 71.01968383789062, 3.7859814167022705, -42.666500091552734, -3.6216893196105957, -3.632401704788208, -36.58440017700195, 44.391380310058594, 40.235809326171875], \"y\": [8.115229606628418, 71.70709991455078, 9.971006393432617, 33.18513488769531, -9.22206974029541, -43.52651596069336, -4.171707630157471, 35.804412841796875, 50.61538314819336, -31.591665267944336], \"topics\": [1, 2, 3, 4, 5, 6, 7, 8, 9, 10], \"cluster\": [1, 1, 1, 1, 1, 1, 1, 1, 1, 1], \"Freq\": [55.889313904486315, 17.502838817014258, 13.350387149399442, 7.023228315265419, 1.0881022423140136, 1.0362898772132985, 1.0332836834158885, 1.0275984941671856, 1.0248749882492871, 1.0240825284748867]}, \"tinfo\": {\"Category\": [\"Default\", \"Default\", \"Default\", \"Default\", \"Default\", \"Default\", \"Default\", \"Default\", \"Default\", \"Default\", \"Default\", \"Default\", \"Default\", \"Default\", \"Default\", \"Default\", \"Default\", \"Default\", \"Default\", \"Default\", \"Default\", \"Default\", \"Default\", \"Default\", \"Default\", \"Default\", \"Default\", \"Default\", \"Default\", \"Default\", \"Topic1\", \"Topic1\", \"Topic1\", \"Topic1\", \"Topic1\", \"Topic1\", \"Topic1\", \"Topic1\", \"Topic1\", \"Topic1\", \"Topic1\", \"Topic1\", \"Topic1\", \"Topic1\", \"Topic1\", \"Topic1\", \"Topic1\", \"Topic1\", \"Topic1\", \"Topic1\", \"Topic1\", \"Topic1\", \"Topic1\", \"Topic1\", \"Topic1\", \"Topic1\", \"Topic1\", \"Topic1\", \"Topic1\", \"Topic1\", \"Topic1\", \"Topic1\", \"Topic1\", \"Topic1\", \"Topic1\", \"Topic1\", \"Topic1\", \"Topic1\", \"Topic1\", \"Topic1\", \"Topic1\", \"Topic1\", \"Topic1\", \"Topic1\", \"Topic1\", \"Topic1\", \"Topic1\", \"Topic1\", \"Topic1\", \"Topic1\", \"Topic1\", \"Topic1\", \"Topic1\", \"Topic1\", \"Topic1\", \"Topic1\", \"Topic1\", \"Topic1\", \"Topic1\", \"Topic2\", \"Topic2\", \"Topic2\", \"Topic2\", \"Topic2\", \"Topic2\", \"Topic2\", \"Topic2\", \"Topic2\", \"Topic2\", \"Topic2\", \"Topic2\", \"Topic2\", \"Topic2\", \"Topic2\", \"Topic2\", \"Topic2\", \"Topic2\", \"Topic2\", \"Topic2\", \"Topic2\", \"Topic2\", \"Topic2\", \"Topic2\", \"Topic2\", \"Topic2\", \"Topic2\", \"Topic2\", \"Topic2\", \"Topic2\", \"Topic2\", \"Topic2\", \"Topic2\", \"Topic2\", \"Topic2\", \"Topic2\", \"Topic2\", \"Topic2\", \"Topic2\", \"Topic2\", \"Topic2\", \"Topic2\", \"Topic2\", \"Topic2\", \"Topic2\", \"Topic2\", \"Topic2\", \"Topic2\", \"Topic2\", \"Topic2\", \"Topic2\", \"Topic2\", \"Topic2\", \"Topic2\", \"Topic2\", \"Topic2\", \"Topic2\", \"Topic2\", \"Topic2\", \"Topic2\", \"Topic2\", \"Topic3\", \"Topic3\", \"Topic3\", \"Topic3\", \"Topic3\", \"Topic3\", \"Topic3\", \"Topic3\", \"Topic3\", \"Topic3\", \"Topic3\", \"Topic3\", \"Topic3\", \"Topic3\", \"Topic3\", \"Topic3\", \"Topic3\", \"Topic3\", \"Topic3\", \"Topic3\", \"Topic3\", \"Topic3\", \"Topic3\", \"Topic3\", \"Topic3\", \"Topic3\", \"Topic3\", \"Topic3\", \"Topic3\", \"Topic3\", \"Topic3\", \"Topic3\", \"Topic3\", \"Topic3\", \"Topic3\", \"Topic3\", \"Topic3\", \"Topic3\", \"Topic3\", \"Topic3\", \"Topic3\", \"Topic3\", \"Topic3\", \"Topic3\", \"Topic3\", \"Topic3\", \"Topic3\", \"Topic3\", \"Topic3\", \"Topic3\", \"Topic3\", \"Topic3\", \"Topic3\", \"Topic3\", \"Topic3\", \"Topic4\", \"Topic4\", \"Topic4\", \"Topic4\", \"Topic4\", \"Topic4\", \"Topic4\", \"Topic4\", \"Topic4\", \"Topic4\", \"Topic4\", \"Topic4\", \"Topic4\", \"Topic4\", \"Topic4\", \"Topic4\", \"Topic4\", \"Topic4\", \"Topic4\", \"Topic4\", \"Topic4\", \"Topic4\", \"Topic4\", \"Topic4\", \"Topic4\", \"Topic4\", \"Topic4\", \"Topic4\", \"Topic4\", \"Topic4\", \"Topic4\", \"Topic4\", \"Topic4\", \"Topic4\", \"Topic4\", \"Topic4\", \"Topic4\", \"Topic4\", \"Topic4\", \"Topic4\", \"Topic4\", \"Topic4\", \"Topic4\", \"Topic4\", \"Topic4\", \"Topic4\", \"Topic4\", \"Topic4\", \"Topic4\", \"Topic4\", \"Topic4\", \"Topic4\", \"Topic4\", \"Topic4\", \"Topic4\", \"Topic4\", \"Topic4\", \"Topic4\", \"Topic4\", \"Topic4\", \"Topic4\", \"Topic5\", \"Topic5\", \"Topic5\", \"Topic5\", \"Topic5\", \"Topic5\", \"Topic5\", \"Topic5\", \"Topic5\", \"Topic5\", \"Topic5\", \"Topic5\", \"Topic5\", \"Topic5\", \"Topic5\", \"Topic5\", \"Topic5\", \"Topic5\", \"Topic5\", \"Topic5\", \"Topic5\", \"Topic5\", \"Topic5\", \"Topic5\", \"Topic5\", \"Topic5\", \"Topic5\", \"Topic5\", \"Topic5\", \"Topic5\", \"Topic6\", \"Topic6\", \"Topic6\", \"Topic6\", \"Topic6\", \"Topic6\", \"Topic6\", \"Topic6\", \"Topic6\", \"Topic6\", \"Topic6\", \"Topic6\", \"Topic6\", \"Topic6\", \"Topic6\", \"Topic6\", \"Topic6\", \"Topic6\", \"Topic6\", \"Topic6\", \"Topic6\", \"Topic6\", \"Topic6\", \"Topic6\", \"Topic6\", \"Topic6\", \"Topic6\", \"Topic6\", \"Topic6\", \"Topic6\", \"Topic6\", \"Topic6\", \"Topic6\", \"Topic6\", \"Topic6\", \"Topic6\", \"Topic6\", \"Topic6\", \"Topic6\", \"Topic6\", \"Topic6\", \"Topic6\", \"Topic6\", \"Topic6\", \"Topic6\", \"Topic6\", \"Topic6\", \"Topic6\", \"Topic6\", \"Topic6\", \"Topic6\", \"Topic6\", \"Topic6\", \"Topic6\", \"Topic6\", \"Topic6\", \"Topic6\", \"Topic6\", \"Topic6\", \"Topic6\", \"Topic6\", \"Topic6\", \"Topic6\", \"Topic6\", \"Topic7\", \"Topic7\", \"Topic7\", \"Topic7\", \"Topic7\", \"Topic7\", \"Topic7\", \"Topic7\", \"Topic7\", \"Topic7\", \"Topic7\", \"Topic7\", \"Topic7\", \"Topic7\", \"Topic7\", \"Topic7\", \"Topic7\", \"Topic7\", \"Topic7\", \"Topic7\", \"Topic7\", \"Topic7\", \"Topic7\", \"Topic7\", \"Topic7\", \"Topic7\", \"Topic7\", \"Topic7\", \"Topic7\", \"Topic7\", \"Topic7\", \"Topic7\", \"Topic7\", \"Topic7\", \"Topic7\", \"Topic7\", \"Topic7\", \"Topic7\", \"Topic7\", \"Topic7\", \"Topic7\", \"Topic7\", \"Topic7\", \"Topic7\", \"Topic7\", \"Topic7\", \"Topic7\", \"Topic7\", \"Topic7\", \"Topic7\", \"Topic7\", \"Topic7\", \"Topic7\", \"Topic7\", \"Topic7\", \"Topic7\", \"Topic7\", \"Topic7\", \"Topic7\", \"Topic7\", \"Topic7\", \"Topic7\", \"Topic7\", \"Topic7\", \"Topic7\", \"Topic7\", \"Topic7\", \"Topic7\", \"Topic7\", \"Topic7\", \"Topic7\", \"Topic8\", \"Topic8\", \"Topic8\", \"Topic8\", \"Topic8\", \"Topic8\", \"Topic8\", \"Topic8\", \"Topic8\", \"Topic8\", \"Topic8\", \"Topic8\", \"Topic8\", \"Topic8\", \"Topic8\", \"Topic8\", \"Topic8\", \"Topic8\", \"Topic8\", \"Topic8\", \"Topic8\", \"Topic8\", \"Topic8\", \"Topic8\", \"Topic8\", \"Topic8\", \"Topic8\", \"Topic8\", \"Topic8\", \"Topic8\", \"Topic8\", \"Topic8\", \"Topic8\", \"Topic8\", \"Topic8\", \"Topic8\", \"Topic8\", \"Topic8\", \"Topic8\", \"Topic8\", \"Topic8\", \"Topic8\", \"Topic8\", \"Topic8\", \"Topic8\", \"Topic8\", \"Topic8\", \"Topic8\", \"Topic8\", \"Topic8\", \"Topic8\", \"Topic8\", \"Topic8\", \"Topic8\", \"Topic8\", \"Topic8\", \"Topic8\", \"Topic8\", \"Topic8\", \"Topic8\", \"Topic8\", \"Topic8\", \"Topic8\", \"Topic8\", \"Topic8\", \"Topic8\", \"Topic8\", \"Topic8\", \"Topic8\", \"Topic8\", \"Topic8\", \"Topic8\", \"Topic8\", \"Topic8\", \"Topic8\", \"Topic8\", \"Topic8\", \"Topic8\", \"Topic9\", \"Topic9\", \"Topic9\", \"Topic9\", \"Topic9\", \"Topic9\", \"Topic9\", \"Topic9\", \"Topic9\", \"Topic9\", \"Topic9\", \"Topic9\", \"Topic9\", \"Topic9\", \"Topic9\", \"Topic9\", \"Topic9\", \"Topic9\", \"Topic9\", \"Topic9\", \"Topic9\", \"Topic9\", \"Topic9\", \"Topic9\", \"Topic9\", \"Topic9\", \"Topic9\", \"Topic9\", \"Topic9\", \"Topic9\", \"Topic9\", \"Topic9\", \"Topic9\", \"Topic9\", \"Topic9\", \"Topic9\", \"Topic9\", \"Topic9\", \"Topic9\", \"Topic9\", \"Topic9\", \"Topic9\", \"Topic9\", \"Topic9\", \"Topic9\", \"Topic9\", \"Topic9\", \"Topic9\", \"Topic9\", \"Topic9\", \"Topic9\", \"Topic9\", \"Topic9\", \"Topic9\", \"Topic9\", \"Topic9\", \"Topic9\", \"Topic9\", \"Topic9\", \"Topic9\", \"Topic9\", \"Topic9\", \"Topic9\", \"Topic9\", \"Topic9\", \"Topic9\", \"Topic9\", \"Topic9\", \"Topic9\", \"Topic9\", \"Topic9\", \"Topic9\", \"Topic9\", \"Topic9\", \"Topic9\", \"Topic10\", \"Topic10\", \"Topic10\", \"Topic10\", \"Topic10\", \"Topic10\", \"Topic10\", \"Topic10\", \"Topic10\", \"Topic10\", \"Topic10\", \"Topic10\", \"Topic10\", \"Topic10\", \"Topic10\", \"Topic10\", \"Topic10\", \"Topic10\", \"Topic10\", \"Topic10\", \"Topic10\", \"Topic10\", \"Topic10\", \"Topic10\", \"Topic10\", \"Topic10\", \"Topic10\", \"Topic10\", \"Topic10\", \"Topic10\", \"Topic10\", \"Topic10\", \"Topic10\", \"Topic10\", \"Topic10\", \"Topic10\", \"Topic10\", \"Topic10\", \"Topic10\", \"Topic10\", \"Topic10\", \"Topic10\", \"Topic10\", \"Topic10\", \"Topic10\", \"Topic10\", \"Topic10\", \"Topic10\", \"Topic10\", \"Topic10\", \"Topic10\", \"Topic10\", \"Topic10\", \"Topic10\", \"Topic10\", \"Topic10\", \"Topic10\", \"Topic10\", \"Topic10\", \"Topic10\", \"Topic10\", \"Topic10\", \"Topic10\", \"Topic10\", \"Topic10\", \"Topic10\", \"Topic10\", \"Topic10\", \"Topic10\", \"Topic10\", \"Topic10\", \"Topic10\", \"Topic10\", \"Topic10\", \"Topic10\", \"Topic10\", \"Topic10\", \"Topic10\", \"Topic10\", \"Topic10\", \"Topic10\", \"Topic10\", \"Topic10\", \"Topic10\"], \"Freq\": [194.0, 169.0, 130.0, 349.0, 91.0, 76.0, 106.0, 146.0, 93.0, 84.0, 126.0, 88.0, 109.0, 90.0, 89.0, 90.0, 133.0, 91.0, 85.0, 85.0, 52.0, 52.0, 54.0, 95.0, 53.0, 229.0, 106.0, 50.0, 132.0, 57.0, 143.58288280701632, 60.15514433432711, 56.32005678489632, 54.663144265674845, 52.4377592102682, 52.9894345812664, 50.814860052989204, 46.484253515465106, 50.44255159287302, 44.52283379740514, 50.79359697248874, 43.960156913705056, 41.64355217843598, 42.23893455327677, 45.1885502264983, 40.744600330309474, 39.886494106304546, 41.082407496590314, 39.4778479884154, 38.32423519544316, 37.908012555579646, 39.88930032280934, 37.670891015838336, 37.37339677990041, 37.45994575116169, 37.30185733319429, 35.814652339284414, 35.591919338247756, 35.39279918607801, 34.61484919565615, 36.0085289056873, 109.41725046199103, 96.32520465458062, 91.50528525056275, 77.98893634205601, 69.30932054282583, 53.725413309952806, 74.24081004460812, 56.40540151047765, 49.61806096337119, 100.62914873932664, 59.719651602184626, 86.95170284939603, 72.44173095233243, 80.71677735916856, 62.20785232934962, 81.69518426294222, 71.54802098824118, 111.46107679005667, 69.63687612289729, 78.88907058688369, 124.30769559863715, 82.16347750022939, 69.59081765860357, 56.78789503807043, 60.1703654957587, 55.608372676932845, 56.5657317004079, 55.25458062754699, 168.26848424324757, 56.277832960807515, 55.986345704428786, 28.498508612386967, 28.251533801797592, 28.142074682154195, 28.141866454406557, 28.142101025912474, 28.142052284747713, 28.156603581516865, 28.142110754240612, 28.150558495966806, 28.176983810812565, 28.198188619725027, 28.187327762589703, 28.222346068395908, 26.14859982261719, 25.97156781932672, 187.5376900402201, 28.09549545289641, 28.2745042822538, 28.03702249284585, 28.186530112456666, 27.895916679654523, 28.03637931359112, 26.451688988124356, 19.470173525199225, 27.897926185833104, 26.411542643758125, 27.948378343427034, 37.966501911371246, 27.912916140725457, 75.03740938899728, 70.81244106112852, 31.394810890659535, 70.1716887772791, 41.85237521976855, 33.5547163791681, 75.98345682355632, 32.82561544710621, 67.04762554463063, 45.73846878337886, 53.80282624712995, 35.06599408661879, 50.71258335645811, 45.927310153722345, 38.08943201662755, 41.70157247129731, 65.17090582570921, 34.41694074920551, 31.806000396044784, 51.070922740511854, 41.06924344414534, 44.597278518240294, 30.55849390864836, 54.88699981184544, 34.33914308464575, 36.893555543751816, 38.655923520159234, 36.735019814710384, 34.119809195011825, 129.65288280022824, 51.88610808457334, 51.430865007598065, 82.1088898603433, 26.02307515046803, 26.019642975031935, 25.95929871141625, 25.881617317768796, 25.89425913697359, 19.948822588019706, 25.967866733333008, 25.886980212019473, 25.892278481110022, 48.214006772488865, 25.87280847322869, 25.70472196506731, 20.2560388103068, 25.57668372521586, 25.670414990729537, 25.713244566528633, 29.96958765797121, 20.183680836097633, 50.25511133547325, 20.27587580540859, 25.281166000788264, 25.359981810806897, 25.130282080133018, 10.379864246460158, 10.348843563830098, 10.286542510234463, 80.71793114537321, 48.715464766280725, 25.350896745903466, 80.61791588682581, 87.11735103518693, 28.787339288381204, 29.22931370813684, 90.10335244553677, 70.07216070756702, 41.88569684911045, 138.3579102110468, 53.681173796657674, 33.920393720716156, 57.91585214548146, 28.474405689830956, 28.85173878592179, 39.95506563716007, 38.401673288372685, 33.10472774102348, 46.39544121811401, 49.147405171511494, 40.193843905452894, 27.461373886545655, 33.825580470165015, 30.49472860570664, 90.84340245174252, 74.71912506104172, 20.508957996262673, 17.174903121031438, 16.456132218707488, 16.382870833235966, 10.436539313240969, 16.159746423902234, 16.608457786402422, 8.927658051285153, 8.66253848634043, 8.544443382935407, 8.52993459440444, 8.529861189828981, 8.528579849439158, 8.40636004841281, 8.3679537962396, 8.36719028018422, 8.451174843571431, 8.36738612411019, 8.367256333440313, 8.365656777341973, 8.249446516624841, 8.347256437646907, 8.344267814812566, 7.576634005467637, 8.33453577879005, 8.318957578595553, 6.339225351423751, 6.325095910478975, 8.480412973773886, 16.354168214256973, 16.76075362817889, 15.636879237973982, 16.145262457647863, 15.791974490946533, 15.239867204936248, 15.673095302106764, 18.087655450141174, 19.636866990013925, 15.166791500656085, 14.744069065100167, 11.827353909564247, 31.898898744528996, 14.387328050519917, 35.01487093172475, 16.24323404023299, 14.111760148352998, 13.026398999478964, 12.999222094670914, 18.320844274091925, 22.572963514938316, 17.87024775671123, 31.423655312933704, 20.9562402463124, 20.706514679423652, 18.659075746369393, 18.60535932918811, 16.837499598413615, 16.64637509327401, 15.91326329045236, 2.991356400729604, 2.751167532324438, 1.2155930826517305, 1.1728363009854503, 1.1724776535986583, 0.9610579453928212, 0.9611621408703571, 0.9608247705311654, 0.9607890590833916, 0.9600529563008687, 0.9599470948243872, 0.9586647305644243, 0.9580783317022736, 1.0330984775220853, 0.6784871231015315, 0.6297565879503466, 0.9225780100578275, 0.6137025994868045, 0.6108041233074104, 0.5733418983698962, 0.5733128453356486, 0.5731273183620562, 0.797859400253648, 0.554617331471937, 0.5317078438871061, 0.5298949896248898, 0.5175486674217339, 0.5082044924074289, 0.5149442367621268, 0.4676396734625634, 1.9576675839015436, 1.3346728352470507, 1.2703415304916235, 0.8462788931185131, 0.4434808501796519, 0.20309000583806183, 0.08945832394555188, 0.08936988677122644, 0.08915800114316319, 0.09030741970105152, 0.0894087912444737, 0.08948000561993996, 0.08923154483635523, 0.08943247045753439, 0.08948009863338886, 0.08947772139373958, 0.08964134931178235, 0.08931385126520978, 0.08919912527426996, 0.08924568750012526, 0.08957792649930044, 0.08938761540006068, 0.08955206454542841, 0.08935058968623562, 0.0895388494841084, 0.08928548060983253, 0.08934707973823823, 0.08942528817991867, 0.08936315035228488, 0.08963044179203589, 0.12108941591311109, 0.11474424511692655, 0.08998807830897562, 0.08985679075565477, 0.09011253842610377, 0.09827652847472691, 0.09620163049987085, 0.08993810217898782, 0.09012447463655167, 0.08969011677565718, 0.09064175546991513, 0.09134501136463569, 0.09013199891913219, 0.0947911461817088, 0.09269945356161874, 0.09014785447161174, 0.09000493342843888, 0.09202795677929257, 0.09184709799037052, 0.09313945342994333, 0.09251763297495004, 0.09111713431031529, 0.09157207758020769, 0.09157393240848202, 0.09096468540604341, 0.09281241781798943, 0.0917915571939227, 0.09170351635281791, 0.09154314238805912, 0.09133280894375326, 0.0912875210135002, 0.09103050050453264, 0.09099955885598958, 0.09092839151862218, 1.4335993389930035, 1.2976266103623129, 1.0426455547215532, 0.5358548378126747, 0.3965476472771383, 0.08953380475521586, 0.08941331929727757, 0.08941041967552227, 0.08952044099441774, 0.0893187741730116, 0.08933330061389717, 0.08944571719889255, 0.0894313305104822, 0.0892543018554659, 0.08934986774829862, 0.08931927511303347, 0.08929575949143005, 0.08940591644568259, 0.08927192128186894, 0.08933305471753583, 0.08938360871758037, 0.08945207524652125, 0.08945736316300819, 0.08943954728175404, 0.08923886078918102, 0.0892381524741791, 0.08936137912193554, 0.08928442097136773, 0.08952137159483975, 0.08939932587696457, 0.14087256806420892, 0.09069546250022956, 0.08948862987240529, 0.08958586007355498, 0.08968138912548422, 0.09192717216444378, 0.09029690430788337, 0.08991282668880209, 0.09044207182598044, 0.09020202691434888, 0.0895696128032, 0.0895256710623437, 0.0922595720656659, 0.09068489389079266, 0.09136743006200207, 0.09045435190847316, 0.09162438460620992, 0.09010413475362153, 0.08977247579666336, 0.0898302176388857, 0.092190838591981, 0.0913072586174717, 0.0921510010842926, 0.09075501788863438, 0.09314080893291427, 0.09051537341779671, 0.09056738048461425, 0.08999032660846461, 0.09006065727804553, 0.09144640447239921, 0.08981166643720206, 0.09202899991238522, 0.09150562250221982, 0.09085947631324644, 0.09084366080459955, 0.09075993133578633, 0.09073537912686151, 0.09073291621162947, 0.09063441584982262, 0.09055293580147555, 0.09049554140357635, 0.6246009713707636, 0.6245134802689108, 0.356941062233674, 0.35674277206791344, 0.08940743953827303, 0.08938442794998464, 0.08936266530521392, 0.08955420441821743, 0.08941407549225582, 0.0893210940916926, 0.08938728806935711, 0.08926387840294014, 0.08924960670796983, 0.08947526133337821, 0.08962392240792821, 0.08942678153720973, 0.08941958538527597, 0.08936537583656015, 0.08942362667221641, 0.08952550679379428, 0.08946377535273145, 0.08938875991208163, 0.08932022221161541, 0.08946008488068376, 0.08941999592812441, 0.08966547515256167, 0.08941844722617827, 0.08954014318916677, 0.08941843958223912, 0.08935187277897645, 0.08940371771364541, 0.08956772681976909, 0.0897088833942921, 0.08966261087200213, 0.08950442124031051, 0.08967141573961604, 0.0895599084881288, 0.08959908830247315, 0.08954442968608561, 0.08953692455568815, 0.09008338477916937, 0.08959884383679378, 0.08965216848072073, 0.09017827416936149, 0.08981915758155808, 0.08970306386246939, 0.08957201833796319, 0.08954753892407456, 0.09019935837536328, 0.09021598602893983, 0.09017217080456118, 0.09017817761590947, 0.08976909623615169, 0.08971831391983465, 0.08962499893864642, 0.08963075424798521, 0.08963634504023102, 0.08971420104426671, 0.09034976904776369, 0.0903189087812972, 0.09020693323448584, 0.09020562647016583, 0.09019967743387897, 0.0901679298524924, 0.09014387314459346, 0.09012362726477857, 0.09011911592753918, 0.0900962310112493, 0.09009404727559799, 0.09009376098796867, 0.0900746938721352, 0.0900710690865315, 0.09005875505264718, 0.09005813658155307, 0.09004510550407156, 0.09004444127431889, 0.09003874699907773, 0.09003152757057696, 0.8572491056331957, 0.408303898333634, 0.08921811499189564, 0.08929184285795234, 0.08928222158428252, 0.08930756210396319, 0.08908782673416533, 0.08921518323949956, 0.08943299528070353, 0.08913149378586874, 0.08907400120807335, 0.08942359893892422, 0.08916504610241203, 0.08913557634384486, 0.08934041022165852, 0.08913128828826636, 0.08929637380535249, 0.08913146759140386, 0.08903861794939327, 0.089423076027903, 0.0893659876836492, 0.08921825246368421, 0.08936966303942181, 0.08918302120520973, 0.08930216331108672, 0.08944475165214386, 0.08929637157612293, 0.08929065254141362, 0.08920117626380161, 0.08908508985798401, 0.09081882014905103, 0.08932712896954972, 0.10000503124929114, 0.09878587423880528, 0.09999580720504056, 0.09682277426021621, 0.0898091362451271, 0.09011605626846396, 0.09189627967626854, 0.0969483816413148, 0.09246461732905657, 0.08973821611055874, 0.09105396526067712, 0.09145573249013508, 0.09181817630305604, 0.09593509076473591, 0.0896950506741788, 0.09250152452094754, 0.09079437690284656, 0.08997370651594114, 0.0922593917042875, 0.09113547096022238, 0.08996433453227652, 0.09013760063741887, 0.08969937074963028, 0.09199118129018304, 0.09163866950358845, 0.0933991210484613, 0.09085206366652136, 0.0924149889487627, 0.09089041395156963, 0.09030406496299892, 0.09284672149891396, 0.09201088668091321, 0.09164639363272682, 0.09161431331942073, 0.09177380070402327, 0.09101955276388765, 0.09355833438055462, 0.09262731285778619, 0.09228945905985743, 0.09171600250895275, 0.09169317797590706, 0.09141768043611605, 0.09140662675794557, 0.7856045933318209, 0.08922771147148957, 0.08929653387247231, 0.08929077355058414, 0.08930826107528385, 0.08926536547345217, 0.0893282755008244, 0.08923694961851956, 0.0893182489526927, 0.08931496687672219, 0.08978931439108377, 0.08944035682298287, 0.08925636940860164, 0.0892542835104053, 0.08909501174990259, 0.08930385610874039, 0.08921289905340109, 0.08936812827528179, 0.08917002296851294, 0.08930395517467364, 0.08942073799052153, 0.08926412443908602, 0.08924600704300222, 0.08922195818521943, 0.08954127974751676, 0.08940009984833949, 0.0893110298913904, 0.08927375687331046, 0.08933065582376173, 0.08935911589665778, 0.08940454636422789, 0.08967973886037012, 0.08945531679073071, 0.08970220215016307, 0.08943466483101244, 0.08940483907990718, 0.08939385201099374, 0.09016897755968929, 0.08938928266595006, 0.08980498062690923, 0.08978879831533357, 0.08951936144318763, 0.08953229326257152, 0.08943839675829043, 0.08975920949917704, 0.08988343985941685, 0.08947075923603595, 0.0894313024426751, 0.09114408776614845, 0.0897584151106269, 0.08956137696918208, 0.08952472857599884, 0.08956969184583219, 0.08969424890323581, 0.08945505392212723, 0.08953561876975755, 0.08943775450613288, 0.08943804049346135, 0.08956329245370022, 0.09153750113955592, 0.0910634295524058, 0.09039654827808517, 0.09028730147481205, 0.0901234363626912, 0.09009629161800908, 0.09008517353655693, 0.09005265972548991, 0.0900310310024308, 0.09002846990381609, 0.09002088843558322, 0.09001013072385204, 0.08996608167111736, 0.08994272692052092, 0.08991206565044237, 0.08990975752716701, 0.08987098022662743, 0.0898514984736872, 0.08984505469868405, 0.08984466731475639, 0.08983547943265667, 0.08981852668078943, 0.0898184506152731, 0.08981684339116748, 0.0898035538702281], \"Term\": [\"tax\", \"liberty\", \"matco\", \"sales\", \"gowireless\", \"wireless\", \"equipment\", \"customers\", \"outside\", \"payment\", \"store\", \"mobile\", \"tools\", \"preparation\", \"retail\", \"ongoing\", \"experience\", \"products\", \"learn\", \"inventory\", \"reliably\", \"mechanics\", \"distributor\", \"year\", \"technicians\", \"business\", \"skills\", \"central\", \"manager\", \"franchisees\", \"aflac\", \"snap\", \"representative\", \"provides\", \"list\", \"tool\", \"regular\", \"00\", \"duties\", \"protected\", \"vector\", \"start\", \"classification\", \"information\", \"candidates\", \"place\", \"takes\", \"senior\", \"nation\", \"consider\", \"aerotek\", \"projects\", \"future\", \"independent\", \"com\", \"determine\", \"representatives\", \"degree\", \"key\", \"preferred\", \"analysis\", \"need\", \"career\", \"looking\", \"project\", \"people\", \"companies\", \"position\", \"accountant\", \"benefits\", \"franchise\", \"financial\", \"experience\", \"company\", \"work\", \"staff\", \"team\", \"skills\", \"business\", \"opportunity\", \"management\", \"sales\", \"customer\", \"time\", \"professional\", \"opportunities\", \"level\", \"training\", \"service\", \"liberty\", \"franchisees\", \"seasonal\", \"freedom\", \"dog\", \"wavers\", \"guerrilla\", \"2020\", \"lady\", \"trainers\", \"sluggish\", \"mcdonald\", \"volunteer\", \"basics\", \"subway\", \"wish\", \"king\", \"jani\", \"tax\", \"trainings\", \"taxes\", \"conventions\", \"hot\", \"compared\", \"overhead\", \"janitorial\", \"kforce\", \"classes\", \"operator\", \"settings\", \"cleaning\", \"backgrounds\", \"preparation\", \"learn\", \"run\", \"ongoing\", \"food\", \"initial\", \"manager\", \"driver\", \"support\", \"operations\", \"marketing\", \"commercial\", \"year\", \"community\", \"day\", \"market\", \"business\", \"offices\", \"don\", \"franchise\", \"industry\", \"training\", \"class\", \"sales\", \"finance\", \"accounting\", \"time\", \"service\", \"customer\", \"matco\", \"reliably\", \"mechanics\", \"payment\", \"stops\", \"layaway\", \"laptop\", \"assortment\", \"finalize\", \"shine\", \"onboard\", \"catalog\", \"reverse\", \"central\", \"aviation\", \"paycheck\", \"connected\", \"drawer\", \"remaining\", \"marine\", \"visits\", \"interactive\", \"distributor\", \"really\", \"normal\", \"fulfill\", \"getting\", \"momentum\", \"unspoken\", \"opposed\", \"mobile\", \"technicians\", \"easy\", \"outside\", \"equipment\", \"media\", \"helping\", \"customers\", \"tools\", \"automotive\", \"sales\", \"inventory\", \"rep\", \"store\", \"conduct\", \"enjoy\", \"ll\", \"use\", \"meet\", \"customer\", \"business\", \"service\", \"businesses\", \"retail\", \"needs\", \"gowireless\", \"wireless\", \"tmx\", \"verizon\", \"patrons\", \"academia\", \"costco\", \"substituted\", \"retailer\", \"anytime\", \"dealer\", \"cellular\", \"aflacbenefits\", \"booming\", \"opportunityobviously\", \"paging\", \"sourrounding\", \"victory\", \"bridge\", \"strived\", \"steadfast\", \"powers\", \"usgowireless\", \"instant\", \"commonly\", \"titlemax\", \"accessories\", \"incorporating\", \"appraising\", \"liens\", \"flex\", \"force\", \"continually\", \"minimal\", \"driving\", \"offering\", \"relevant\", \"supervision\", \"locations\", \"advancement\", \"independently\", \"interpersonal\", \"stores\", \"retail\", \"works\", \"store\", \"package\", \"field\", \"includes\", \"united\", \"communication\", \"products\", \"excellent\", \"sales\", \"experience\", \"time\", \"skills\", \"management\", \"required\", \"strong\", \"services\", \"lobster\", \"red\", \"chrysler\", \"dodge\", \"jeep\", \"nissan\", \"representativeall\", \"chevrolet\", \"scion\", \"isuzu\", \"hyundai\", \"thirteen\", \"kia\", \"metropolitan\", \"wholesalers\", \"pleasure\", \"hired\", \"earth\", \"63\", \"freshest\", \"crewmembers\", \"outdo\", \"toyota\", \"inspiring\", \"compare\", \"passport\", \"seafood\", \"binding\", \"indiana\", \"northwest\", \"tcs\", \"tata\", \"consultancy\", \"accelerators\", \"estimator\", \"designers\", \"modality\", \"marcos\", \"accrediting\", \"3d\", \"educated\", \"capay\", \"discharged\", \"council\", \"alzheimer\", \"krause\", \"43k\", \"accessing\", \"virchow\", \"tag\", \"ticket\", \"carpet\", \"faulty\", \"spokane\", \"gowirelesslooking\", \"tactful\", \"aides\", \"benefitsabout\", \"neurological\", \"login\", \"focuses\", \"junit\", \"aps\", \"blueprint\", \"secures\", \"cultural\", \"near\", \"posted\", \"affiliate\", \"automobile\", \"retrieval\", \"modis\", \"mq\", \"network\", \"chicago\", \"maven\", \"itc\", \"address\", \"challenges\", \"java\", \"global\", \"2010\", \"innovation\", \"communicating\", \"lobster\", \"project\", \"construction\", \"database\", \"il\", \"sql\", \"solution\", \"searching\", \"testing\", \"design\", \"aldi\", \"cashiers\", \"cashier\", \"riverside\", \"entrusted\", \"modality\", \"marcos\", \"accrediting\", \"capay\", \"educated\", \"discharged\", \"3d\", \"alzheimer\", \"council\", \"virchow\", \"krause\", \"accessing\", \"43k\", \"tag\", \"ticket\", \"carpet\", \"faulty\", \"spokane\", \"aides\", \"gowirelesslooking\", \"tactful\", \"benefitsabout\", \"neurological\", \"engages\", \"installed\", \"advantages\", \"ace\", \"enforcing\", \"tprepares\", \"temple\", \"lexington\", \"counties\", \"crewmembers\", \"vegas\", \"boss\", \"viewpoint\", \"avoid\", \"merchandising\", \"50k\", \"ky\", \"courteously\", \"lobster\", \"7pm\", \"controlled\", \"nevada\", \"electrical\", \"red\", \"12\", \"2nd\", \"maintenance\", \"custom\", \"hydraulic\", \"served\", \"las\", \"shift\", \"pleasure\", \"project\", \"technician\", \"roles\", \"variety\", \"asphalt\", \"manufacturer\", \"monitoring\", \"restaurant\", \"license\", \"machine\", \"baker\", \"tilly\", \"krause\", \"virchow\", \"modality\", \"marcos\", \"accrediting\", \"educated\", \"capay\", \"discharged\", \"3d\", \"council\", \"alzheimer\", \"accessing\", \"tag\", \"43k\", \"ticket\", \"carpet\", \"faulty\", \"spokane\", \"gowirelesslooking\", \"tactful\", \"aides\", \"neurological\", \"benefitsabout\", \"advancements\", \"installed\", \"deficiencies\", \"login\", \"engages\", \"agenda\", \"ringing\", \"avoid\", \"finishes\", \"demonstration\", \"mis\", \"talphabetize\", \"anticipating\", \"merchandize\", \"treadmill\", \"stewardship\", \"approachable\", \"migration\", \"message\", \"telecom\", \"styles\", \"studying\", \"restrooms\", \"wi\", \"evening\", \"shooting\", \"repairing\", \"conam\", \"afraid\", \"workgroup\", \"arm\", \"breadth\", \"adoption\", \"office\", \"needed\", \"shipping\", \"direct\", \"trouble\", \"perform\", \"dealership\", \"assist\", \"send\", \"accurately\", \"news\", \"plc\", \"distributing\", \"collecting\", \"shop\", \"rooms\", \"atmosphere\", \"network\", \"appropriately\", \"electrical\", \"jewelry\", \"heartland\", \"modality\", \"marcos\", \"accrediting\", \"educated\", \"capay\", \"discharged\", \"3d\", \"council\", \"alzheimer\", \"accessing\", \"krause\", \"virchow\", \"tag\", \"43k\", \"ticket\", \"carpet\", \"faulty\", \"spokane\", \"tactful\", \"gowirelesslooking\", \"neurological\", \"aides\", \"benefitsabout\", \"deficiencies\", \"engages\", \"advancements\", \"login\", \"installed\", \"appraisal\", \"enforcing\", \"distance\", \"pacific\", \"ocean\", \"oregon\", \"studying\", \"gifts\", \"931\", \"coast\", \"dunbar\", \"anticipating\", \"armored\", \"po\", \"jackson\", \"woodbridge\", \"layers\", \"postion\", \"landscaping\", \"skillsstrong\", \"tasker\", \"village\", \"beneficial\", \"integrating\", \"jacobs\", \"hold\", \"tcs\", \"branch\", \"tata\", \"live\", \"consultancy\", \"2011\", \"benefit\", \"administrator\", \"jersey\", \"reputation\", \"short\", \"limitations\", \"administrative\", \"office\", \"salary\", \"requirements\", \"80\", \"solution\", \"minutes\", \"muzak\", \"modality\", \"marcos\", \"accrediting\", \"educated\", \"capay\", \"discharged\", \"3d\", \"council\", \"alzheimer\", \"tag\", \"accessing\", \"virchow\", \"krause\", \"43k\", \"ticket\", \"carpet\", \"faulty\", \"spokane\", \"tactful\", \"aides\", \"gowirelesslooking\", \"benefitsabout\", \"neurological\", \"deficiencies\", \"installed\", \"login\", \"engages\", \"advancements\", \"enforcing\", \"gained\", \"tcreate\", \"fluidotherapy\", \"workflows\", \"bath\", \"therapya\", \"ankle\", \"transmission\", \"savaseniorcare\", \"television\", \"voltage\", \"storyboards\", \"dimensions\", \"blueprint\", \"describes\", \"settlement\", \"cleans\", \"deployments\", \"csr\", \"emotional\", \"amerihealth\", \"item\", \"objections\", \"tdevelop\", \"effect\", \"pursuit\", \"specials\", \"pest\", \"convenient\", \"project\", \"process\", \"accordance\", \"manager\", \"engineering\", \"processes\", \"director\", \"leader\", \"business\", \"improvement\", \"channels\", \"engineer\", \"documented\", \"construction\", \"sales\", \"minimum\", \"performance\", \"recognize\", \"sheets\", \"environments\", \"right\", \"assignment\", \"service\", \"safety\", \"perform\"], \"Total\": [194.0, 169.0, 130.0, 349.0, 91.0, 76.0, 106.0, 146.0, 93.0, 84.0, 126.0, 88.0, 109.0, 90.0, 89.0, 90.0, 133.0, 91.0, 85.0, 85.0, 52.0, 52.0, 54.0, 95.0, 53.0, 229.0, 106.0, 50.0, 132.0, 57.0, 144.45330646718682, 61.04090356840123, 57.20496526871879, 55.54322787410184, 53.31504353012529, 53.88122835736064, 51.7051958824749, 47.35678834560477, 51.41589690270481, 45.41148156215421, 51.80937294264771, 44.85207386354542, 42.51486450883738, 43.14053766609614, 46.156519909265576, 41.629668918165166, 40.757271396827925, 41.98533751733633, 40.35071235741517, 39.19795730060222, 38.77766366890698, 40.82131363427751, 38.553861215448684, 38.25856085882474, 38.35126290821797, 38.19994298686638, 36.69082078509091, 36.479154232510666, 36.29616644038861, 35.499014194279525, 36.961205077187515, 117.19115226060991, 114.11069046640378, 117.09810707184971, 96.4544585710157, 84.23584202101495, 61.084956365573674, 93.99398088792951, 66.61672632199708, 55.951548790487415, 152.45847845071418, 74.33170883483844, 133.13060733590294, 105.2126409237639, 128.46755718815845, 83.56998228777371, 131.8247599452779, 106.26596450322467, 229.67956186300685, 102.83367993697954, 140.06622548311967, 349.51637032389465, 178.02233737157013, 138.40105230905147, 76.08311541653745, 97.53770231806413, 72.28126272968275, 111.13079508203462, 140.41703622472252, 169.10775632577648, 57.1173814696584, 57.14403079367789, 29.338627634492628, 29.091875689988218, 28.980807633768887, 28.98075240468685, 28.981371884692763, 28.981377851328062, 28.996487841862795, 28.981583997460763, 28.990681574053163, 29.019184568108, 29.04121454084364, 29.031095907446357, 29.074989812677032, 26.989315298465836, 26.81078211633107, 194.07713395995205, 29.083350958469754, 29.280500758324283, 29.145576826393214, 29.31378076384738, 29.01398628334315, 29.218034436086132, 27.60771753525896, 20.333037476789283, 29.2255959521445, 27.693306748077774, 29.349388652305286, 40.163909085035485, 29.39609100902593, 90.24787848618068, 85.8039484444455, 33.727311100353056, 90.87410181323618, 48.391571753134734, 36.96799768822805, 132.68725361780568, 37.687510768625636, 126.39487117157827, 66.63191078400565, 98.20249512542131, 44.64457164597028, 95.18032756242555, 80.00191475552809, 58.878934739902014, 73.43280951349783, 229.67956186300685, 47.7418138436689, 40.205023047766794, 152.45847845071418, 84.26409878869703, 111.13079508203462, 38.628217729967226, 349.51637032389465, 60.51259942606675, 85.3810717250788, 138.40105230905147, 140.41703622472252, 178.02233737157013, 130.7019330670874, 52.84549792469122, 52.923549756801094, 84.86310396367055, 26.90383699992377, 26.903154659380327, 26.927616738838616, 26.904111745068768, 27.0013022710876, 20.80969772636407, 27.088645767416978, 27.006711031233205, 27.02873214693883, 50.609304387064476, 27.160266596808505, 27.002502799662466, 21.33216559865314, 26.988901451365326, 27.106024379606605, 27.246412597177432, 31.878991028951155, 21.584843799319028, 54.04911167285698, 21.869215403183254, 27.277510943110833, 27.394449485177756, 27.15446546689137, 11.236927945030834, 11.20543653154748, 11.142002978771512, 88.22306460294175, 53.06580288265153, 27.472144532100845, 93.55132793379529, 106.72712102133853, 32.38248324075558, 33.23868179156981, 146.03163116040847, 109.19022720419174, 56.62723281450462, 349.51637032389465, 85.85048712787845, 44.40172647303021, 126.9632423546229, 33.80622533527545, 35.06876049247074, 80.6754725246299, 85.22674410109147, 55.54759729726544, 178.02233737157013, 229.67956186300685, 140.41703622472252, 33.72776326856281, 89.99275383261016, 63.57636586928507, 91.73847370601631, 76.30819802288151, 21.41634298883018, 18.021522310463837, 17.29705220913059, 17.222535845254068, 11.272507500274237, 17.524046100098158, 18.15583215772172, 9.783041165341448, 9.502733305957065, 9.38336157356906, 9.367669982309438, 9.367643403770684, 9.367067330979426, 9.244425512579058, 9.205222249617869, 9.204496363054194, 9.296986341899403, 9.205062393534487, 9.205329011627658, 9.20520986663453, 9.086936814116747, 9.31211219949551, 9.345859435790203, 8.500719050033798, 9.363664958677065, 9.381211243825723, 7.190467172500591, 7.186139848815503, 9.643765253037985, 18.75913494934771, 20.241720353370745, 18.976403332655938, 19.680346916255615, 20.10089246391265, 20.028713521973355, 20.89537318189849, 25.77072393048993, 28.828677435371734, 21.947703640700414, 21.676338240282938, 15.737157493681181, 89.99275383261016, 23.277845989944986, 126.9632423546229, 32.10509968287837, 26.161385568864063, 22.392447707819432, 22.57581613354038, 50.62553505492457, 91.92724794844615, 53.040180092695344, 349.51637032389465, 133.13060733590294, 138.40105230905147, 106.26596450322467, 140.06622548311967, 79.80196993893802, 82.73428364882422, 94.00172120979298, 3.8720926663432853, 4.458001458998015, 2.0941661430902787, 2.035098708465279, 2.0348431380360283, 1.8242715676417967, 1.8246130637751137, 1.824116103407346, 1.824330892801439, 1.8241979447278487, 1.82400514515198, 1.824471709451372, 1.824008751819173, 2.2476985565906227, 1.542660002672172, 1.5150994047144715, 2.2358288417965757, 1.4879360593432318, 1.4954292870824442, 1.4382087616849732, 1.4383962576364329, 1.4383774814293337, 2.0371294061232867, 1.5685966624204328, 1.5495378983130303, 1.5822305875902565, 1.5759442918187097, 1.6566858205824417, 2.46441194088124, 2.377904273284935, 2.8259189628982617, 2.200824103386198, 2.3375713302418113, 1.7199368177010972, 1.3761226444651458, 2.1023764255926634, 1.147562036478358, 1.1586279438369103, 1.1615586330369285, 1.1997934708831128, 1.1901820114733668, 1.1921220074088266, 1.1953278567890622, 1.20194363498842, 1.2042014498154046, 1.2236446322155026, 1.2267567902729284, 1.2238293893125767, 1.2234442954228553, 1.2275268533386718, 1.2328492986171615, 1.2350842273533225, 1.2411528396905305, 1.253247928477587, 1.2578856370824283, 1.2579208855351072, 1.2596300592515375, 1.2618768150879238, 1.2618505161051974, 1.2714748117262826, 2.264208764242709, 2.3956291617669363, 1.2861259294939922, 1.309532502661174, 1.3501566928030257, 3.176570349881633, 3.1070967709664155, 1.3832234384121782, 1.4970840290150689, 1.3326244279042112, 1.8221888049308173, 2.3791612459909186, 1.5447846347384973, 8.453241885391902, 5.049458474482023, 1.6105699225490941, 1.5806736152244831, 5.315546167183712, 4.776390011513178, 20.137180129603593, 13.865826846566208, 3.1417860095637686, 5.2320309130768985, 5.834092159972603, 3.8720926663432853, 96.4544585710157, 32.51938906611122, 10.942195063589269, 8.798527952024921, 6.95023492155246, 7.403880412197218, 8.000120283198031, 13.279606914382017, 20.23108366050136, 2.3033439287873625, 2.1861439067731623, 3.24664641364919, 1.7134430965926064, 2.170041263987332, 1.147562036478358, 1.1586279438369103, 1.1615586330369285, 1.1921220074088266, 1.1901820114733668, 1.1953278567890622, 1.1997934708831128, 1.2042014498154046, 1.20194363498842, 1.2234442954228553, 1.2236446322155026, 1.2238293893125767, 1.2267567902729284, 1.2275268533386718, 1.2328492986171615, 1.2350842273533225, 1.2411528396905305, 1.253247928477587, 1.2596300592515375, 1.2578856370824283, 1.2579208855351072, 1.2618768150879238, 1.2618505161051974, 1.2714902153697127, 1.2700122421550304, 2.2484989322646047, 1.2980823323807853, 1.2740847214391953, 1.2879412175976126, 1.32098103538808, 2.0077422121819657, 1.5317526862805055, 1.4383962576364329, 1.7546770521723316, 1.6228186019649042, 1.3204609861334982, 1.3011895802331426, 3.7172518083818704, 2.029120316474962, 3.028604811960353, 1.9744156638339558, 3.8720926663432853, 1.743072748746283, 1.4745762976665366, 1.5285967345410139, 11.47974147861085, 4.458001458998015, 11.574275456552911, 2.9767694373435303, 48.37994358488598, 3.013690972458387, 3.1994573362369825, 1.8238272897166308, 1.9881778674045778, 9.18529793377312, 1.5150994047144715, 96.4544585710157, 18.047201222582796, 6.338770874221119, 14.620937376733409, 6.435167891686092, 4.700687016341412, 6.592657333852776, 29.350205765520382, 11.528740391139484, 3.581321403707427, 1.4956158831629396, 1.4962385924290613, 1.2236446322155026, 1.2234442954228553, 1.147562036478358, 1.1586279438369103, 1.1615586330369285, 1.1901820114733668, 1.1921220074088266, 1.1953278567890622, 1.1997934708831128, 1.20194363498842, 1.2042014498154046, 1.2238293893125767, 1.2275268533386718, 1.2267567902729284, 1.2328492986171615, 1.2350842273533225, 1.2411528396905305, 1.253247928477587, 1.2578856370824283, 1.2579208855351072, 1.2596300592515375, 1.2618505161051974, 1.2618768150879238, 1.27265897443874, 1.2700122421550304, 1.271954916578547, 1.2714748117262826, 1.2714902153697127, 1.2724654289051385, 1.2868947614464912, 1.3011895802331426, 1.2982967799325609, 1.2817033679583394, 1.3212626398611822, 1.297420899409456, 1.3106031841541756, 1.2932826653864207, 1.2915418285069, 1.5038623559501711, 1.32485693382203, 1.3576667376405573, 1.819652319374639, 1.4912478169817938, 1.4094488276149444, 1.313593459166777, 1.302574467495786, 1.9590489495123058, 2.0267462567157737, 2.1590738771426143, 2.319402829921833, 1.5394857399028645, 1.4620574514339006, 1.3690158547856772, 1.3799820394900666, 1.391458958989721, 1.5278003790092352, 65.75434032836472, 34.69713389194553, 6.2734931474626325, 19.743960102082248, 3.148744415284136, 26.78472179042591, 2.5339078210345156, 33.93697964214009, 12.343680120386665, 6.712074123592896, 2.514748564098132, 4.296586441349743, 3.650772229512063, 7.372301028175934, 3.2784820079745285, 3.2025447302361654, 14.266496033666568, 8.453241885391902, 4.725258000286953, 11.47974147861085, 1.7198875543218417, 1.327399855187091, 1.147562036478358, 1.1586279438369103, 1.1615586330369285, 1.1901820114733668, 1.1921220074088266, 1.1953278567890622, 1.1997934708831128, 1.20194363498842, 1.2042014498154046, 1.2238293893125767, 1.2236446322155026, 1.2234442954228553, 1.2275268533386718, 1.2267567902729284, 1.2328492986171615, 1.2350842273533225, 1.2411528396905305, 1.253247928477587, 1.2579208855351072, 1.2578856370824283, 1.2618505161051974, 1.2596300592515375, 1.2618768150879238, 1.271954916578547, 1.2714902153697127, 1.27265897443874, 1.2714748117262826, 1.2700122421550304, 1.2992832620868056, 1.2740847214391953, 1.5993188831319907, 1.5693562969175945, 1.9596763813770497, 1.8398244642215846, 1.313593459166777, 1.3461736054852405, 1.5621054523358986, 2.4285649533725944, 1.6635943378600948, 1.3106031841541756, 1.5821918960478871, 1.7550824726770264, 1.8605111530044114, 3.965911072661716, 1.3346692984078519, 2.4588794464987354, 1.7156583037788309, 1.4588229644217445, 2.861464335934812, 2.0474142438198575, 1.4839413504760883, 1.5840854112159042, 1.3659341137469652, 3.302675234490707, 2.8259189628982617, 7.5327543469019975, 2.200824103386198, 5.295776472249684, 2.3375713302418113, 1.7329734435203252, 11.160802922980194, 4.932299764169881, 4.0667342220835785, 4.915965920000068, 6.693954447966918, 3.037144477966332, 69.6038503181463, 65.75434032836472, 21.41038589401375, 41.39411772172675, 7.114161580578539, 7.403880412197218, 5.014877390752816, 1.6505648560920152, 1.147562036478358, 1.1586279438369103, 1.1615586330369285, 1.1901820114733668, 1.1921220074088266, 1.1953278567890622, 1.1997934708831128, 1.20194363498842, 1.2042014498154046, 1.2275268533386718, 1.2238293893125767, 1.2234442954228553, 1.2236446322155026, 1.2267567902729284, 1.2328492986171615, 1.2350842273533225, 1.2411528396905305, 1.253247928477587, 1.2579208855351072, 1.2596300592515375, 1.2578856370824283, 1.2618768150879238, 1.2618505161051974, 1.271954916578547, 1.2700122421550304, 1.2714748117262826, 1.2714902153697127, 1.27265897443874, 1.2740847214391953, 1.2750729096235707, 1.3040596606830466, 1.291536059849042, 1.334031446227213, 1.2944002382471007, 1.2915557320442148, 1.2910644506657005, 1.538428729208235, 1.2915693274868687, 1.4532544721653666, 1.4726197943808366, 1.3437779851763847, 1.3540338564584629, 1.309532502661174, 1.5408717860963566, 1.653793276007772, 1.3347619379841098, 1.308127235383709, 4.631945089764866, 1.6178414978028406, 1.4615942363553713, 1.4039672692258653, 1.4961222587761893, 1.7254385424533851, 1.331082389705694, 1.4569727650771238, 1.3161527643813, 1.318293989848844, 1.5193723397332166, 96.4544585710157, 35.89201623983229, 10.083865876123896, 132.68725361780568, 13.726116657389605, 16.656496668304044, 35.581283501632264, 23.2297437583447, 229.67956186300685, 10.137513920195724, 2.5683750826448044, 25.154471383057523, 2.443647845523264, 32.51938906611122, 349.51637032389465, 24.996456608521918, 32.72923224337243, 3.085900239360275, 3.775792231836718, 3.0273292010737967, 43.04264750903463, 11.418102213405977, 140.41703622472252, 9.134994553557322, 26.78472179042591], \"loglift\": [30.0, 29.0, 28.0, 27.0, 26.0, 25.0, 24.0, 23.0, 22.0, 21.0, 20.0, 19.0, 18.0, 17.0, 16.0, 15.0, 14.0, 13.0, 12.0, 11.0, 10.0, 9.0, 8.0, 7.0, 6.0, 5.0, 4.0, 3.0, 2.0, 1.0, 0.5758, 0.5672, 0.5662, 0.5658, 0.5652, 0.5651, 0.5644, 0.5632, 0.5627, 0.562, 0.562, 0.5617, 0.5611, 0.5607, 0.5606, 0.5603, 0.5602, 0.5601, 0.5599, 0.5593, 0.5591, 0.5587, 0.5586, 0.5584, 0.5583, 0.558, 0.5576, 0.5572, 0.5566, 0.5566, 0.5557, 0.5132, 0.4124, 0.3352, 0.3693, 0.3868, 0.4534, 0.3459, 0.4154, 0.4617, 0.1663, 0.3629, 0.1558, 0.2086, 0.1171, 0.2866, 0.1033, 0.1862, -0.1412, 0.192, 0.0077, -0.452, -0.1914, -0.1057, 0.2893, 0.0987, 0.3196, -0.0935, -0.3509, 1.7378, 1.728, 1.7223, 1.7138, 1.7135, 1.7134, 1.7134, 1.7134, 1.7134, 1.7134, 1.7134, 1.7134, 1.7134, 1.7133, 1.7133, 1.713, 1.7112, 1.711, 1.7085, 1.7083, 1.7078, 1.704, 1.7036, 1.7035, 1.7015, 1.7, 1.6994, 1.6963, 1.6954, 1.6939, 1.6865, 1.691, 1.5582, 1.5508, 1.6711, 1.4843, 1.5976, 1.6459, 1.1853, 1.6047, 1.1088, 1.3666, 1.1411, 1.5013, 1.1132, 1.1878, 1.3073, 1.177, 0.4831, 1.4155, 1.5085, 0.6491, 1.0241, 0.8298, 1.5085, -0.1085, 1.1762, 0.9037, 0.4674, 0.4019, 0.0908, 2.0056, 1.9953, 1.985, 1.9806, 1.9803, 1.9802, 1.977, 1.9749, 1.9718, 1.9714, 1.9714, 1.9713, 1.9707, 1.9651, 1.9651, 1.9644, 1.9619, 1.9599, 1.9592, 1.9557, 1.9519, 1.9465, 1.9408, 1.938, 1.9376, 1.9365, 1.9362, 1.9343, 1.9341, 1.9337, 1.9247, 1.9281, 1.9333, 1.8648, 1.8106, 1.8959, 1.8851, 1.5308, 1.5701, 1.7121, 1.0869, 1.5441, 1.7444, 1.2287, 1.842, 1.8185, 1.3109, 1.2164, 1.4961, 0.6689, 0.4718, 0.7627, 1.8081, 1.0351, 1.2789, 2.6461, 2.6349, 2.6127, 2.6078, 2.6061, 2.606, 2.5789, 2.5749, 2.5669, 2.5645, 2.5634, 2.5623, 2.5623, 2.5623, 2.5622, 2.5609, 2.5606, 2.5606, 2.5606, 2.5605, 2.5605, 2.5603, 2.5593, 2.5466, 2.5426, 2.5409, 2.5395, 2.5358, 2.5299, 2.5283, 2.5274, 2.5187, 2.4672, 2.4624, 2.458, 2.4147, 2.3827, 2.3684, 2.3019, 2.272, 2.2864, 2.2706, 2.3703, 1.6188, 2.1748, 1.3678, 1.9746, 2.0387, 2.1142, 2.104, 1.6395, 1.2517, 1.568, 0.247, 0.8071, 0.7562, 0.9163, 0.6373, 1.1, 1.0525, 0.8798, 4.2627, 4.0381, 3.9768, 3.9696, 3.9694, 3.8798, 3.8798, 3.8797, 3.8795, 3.8788, 3.8788, 3.8772, 3.8769, 3.7434, 3.6993, 3.6428, 3.6355, 3.6351, 3.6253, 3.6011, 3.6009, 3.6006, 3.5834, 3.4811, 3.4511, 3.4268, 3.4072, 3.339, 2.9551, 2.8945, 4.2024, 4.0694, 3.9597, 3.8603, 3.4372, 2.2323, 2.0179, 2.0073, 2.0024, 1.9828, 1.9809, 1.98, 1.9746, 1.9713, 1.97, 1.9539, 1.9532, 1.9519, 1.951, 1.9482, 1.9475, 1.9436, 1.9405, 1.9286, 1.927, 1.9241, 1.9235, 1.9226, 1.9219, 1.9173, 1.6411, 1.5308, 1.9098, 1.8903, 1.8626, 1.0938, 1.0945, 1.8365, 1.7594, 1.871, 1.5686, 1.3097, 1.7282, 0.0789, 0.5718, 1.6866, 1.7038, 0.5132, 0.6182, -0.8067, -0.4403, 1.0291, 0.5241, 0.4152, 0.8184, -2.3767, -1.3005, -0.2123, 0.004, 0.2375, 0.1738, 0.0935, -0.4136, -0.8354, 4.0983, 4.0508, 3.4366, 3.41, 2.8727, 2.0216, 2.0107, 2.0081, 1.9834, 1.9828, 1.9786, 1.9762, 1.9723, 1.9722, 1.9556, 1.9551, 1.9546, 1.9535, 1.9514, 1.9477, 1.9465, 1.9423, 1.9327, 1.9274, 1.9266, 1.9265, 1.9248, 1.9239, 1.919, 1.9188, 1.8023, 1.9113, 1.9166, 1.9068, 1.8826, 1.4887, 1.7414, 1.8, 1.6071, 1.6826, 1.8817, 1.8959, 0.8763, 1.4645, 1.0715, 1.4892, 0.8286, 1.61, 1.7736, 1.7382, -0.252, 0.6842, -0.2607, 1.082, -1.6803, 1.067, 1.0078, 1.5634, 1.4779, -0.0372, 1.7469, -2.3823, -0.7119, 0.3273, -0.5086, 0.3111, 0.6249, 0.2866, -1.2078, -0.2742, 0.8942, 3.7048, 3.7042, 3.3459, 3.3455, 2.0258, 2.0159, 2.0131, 1.9909, 1.9877, 1.984, 1.981, 1.9778, 1.9758, 1.9622, 1.9608, 1.9592, 1.9542, 1.9518, 1.9475, 1.939, 1.9346, 1.9337, 1.9316, 1.9314, 1.9309, 1.9252, 1.9245, 1.9243, 1.9233, 1.9226, 1.9224, 1.913, 1.9035, 1.9052, 1.9163, 1.8878, 1.9047, 1.895, 1.9077, 1.909, 1.7629, 1.8842, 1.8604, 1.5733, 1.7684, 1.8235, 1.8925, 1.9006, 1.4998, 1.466, 1.4022, 1.3307, 1.736, 1.787, 1.8517, 1.8438, 1.8356, 1.743, -2.012, -1.3731, 0.336, -0.8106, 1.0252, -1.116, 1.2418, -1.3531, -0.3418, 0.2672, 1.2489, 0.7132, 0.8759, 0.1731, 0.9833, 1.0067, -0.4874, 0.0359, 0.6175, -0.2702, 3.8843, 3.4016, 2.0263, 2.0175, 2.0149, 1.9908, 1.9867, 1.9855, 1.9842, 1.979, 1.9765, 1.9642, 1.9615, 1.9613, 1.9603, 1.9586, 1.9555, 1.9518, 1.9459, 1.9405, 1.9361, 1.9345, 1.933, 1.9327, 1.9323, 1.9259, 1.9246, 1.9236, 1.9236, 1.9234, 1.9199, 1.9229, 1.8085, 1.8151, 1.6052, 1.6361, 1.8978, 1.8767, 1.7475, 1.3597, 1.6907, 1.8993, 1.7255, 1.6262, 1.5718, 0.8588, 1.8806, 1.3004, 1.6416, 1.7947, 1.1461, 1.4686, 1.7776, 1.7142, 1.8575, 0.9998, 1.1519, 0.1905, 1.3932, 0.5322, 1.3334, 1.6262, -0.2086, 0.5989, 0.7879, 0.5979, 0.291, 1.073, -2.0314, -1.9845, -0.8661, -1.5316, 0.2292, 0.1863, 0.5758, 3.839, 2.0272, 2.0183, 2.0158, 1.9916, 1.9895, 1.9875, 1.9828, 1.9819, 1.98, 1.9661, 1.9652, 1.9635, 1.9633, 1.9589, 1.9563, 1.9535, 1.9503, 1.9384, 1.9362, 1.9362, 1.9358, 1.9324, 1.9322, 1.9278, 1.9277, 1.9256, 1.9251, 1.9249, 1.9241, 1.9238, 1.9044, 1.9115, 1.8819, 1.9091, 1.9109, 1.9112, 1.7445, 1.9108, 1.7975, 1.784, 1.8726, 1.8651, 1.8975, 1.7384, 1.6691, 1.8788, 1.8985, 0.6531, 1.6896, 1.789, 1.8288, 1.7658, 1.6245, 1.8814, 1.7919, 1.8924, 1.8908, 1.7503, -2.3787, -1.3953, -0.1331, -2.7114, -0.4445, -0.6383, -1.3974, -0.9714, -3.2629, -0.1425, 1.2304, -1.0515, 1.2796, -1.309, -3.6841, -1.0463, -1.3163, 1.0449, 0.8431, 1.064, -1.5906, -0.2638, -2.7732, -0.0407, -1.1166], \"logprob\": [30.0, 29.0, 28.0, 27.0, 26.0, 25.0, 24.0, 23.0, 22.0, 21.0, 20.0, 19.0, 18.0, 17.0, 16.0, 15.0, 14.0, 13.0, 12.0, 11.0, 10.0, 9.0, 8.0, 7.0, 6.0, 5.0, 4.0, 3.0, 2.0, 1.0, -5.136, -6.006, -6.0718, -6.1017, -6.1433, -6.1328, -6.1747, -6.2638, -6.1821, -6.3069, -6.1751, -6.3196, -6.3737, -6.3595, -6.292, -6.3956, -6.4169, -6.3873, -6.4271, -6.4568, -6.4677, -6.4168, -6.474, -6.4819, -6.4796, -6.4838, -6.5245, -6.5308, -6.5364, -6.5586, -6.5191, -5.4077, -5.5352, -5.5865, -5.7463, -5.8643, -6.119, -5.7956, -6.0703, -6.1985, -5.4914, -6.0132, -5.6375, -5.8201, -5.7119, -5.9724, -5.6999, -5.8325, -5.3892, -5.8596, -5.7348, -5.2801, -5.6942, -5.8603, -6.0636, -6.0057, -6.0846, -6.0675, -6.0909, -3.8163, -4.9116, -4.9168, -5.592, -5.6007, -5.6046, -5.6046, -5.6046, -5.6046, -5.6041, -5.6046, -5.6043, -5.6034, -5.6026, -5.603, -5.6018, -5.6781, -5.6849, -3.7079, -5.6063, -5.5999, -5.6084, -5.603, -5.6134, -5.6084, -5.6666, -5.973, -5.6133, -5.6681, -5.6115, -5.3052, -5.6128, -4.6239, -4.6818, -5.4952, -4.6909, -5.2077, -5.4287, -4.6114, -5.4507, -4.7365, -5.1189, -4.9566, -5.3846, -5.0157, -5.1148, -5.3019, -5.2113, -4.7649, -5.4033, -5.4822, -5.0087, -5.2266, -5.1442, -5.5222, -4.9366, -5.4056, -5.3338, -5.2872, -5.3381, -5.412, -3.8062, -4.722, -4.7308, -4.263, -5.4121, -5.4122, -5.4145, -5.4175, -5.417, -5.6779, -5.4142, -5.4173, -5.4171, -4.7954, -5.4179, -5.4244, -5.6626, -5.4294, -5.4257, -5.4241, -5.2709, -5.6662, -4.7539, -5.6616, -5.441, -5.4379, -5.447, -6.3312, -6.3342, -6.3402, -4.2801, -4.7851, -5.4382, -4.2813, -4.2038, -5.3111, -5.2959, -4.1701, -4.4215, -4.9361, -3.7412, -4.688, -5.147, -4.6121, -5.3221, -5.3089, -4.9833, -5.023, -5.1714, -4.8339, -4.7762, -4.9773, -5.3583, -5.1498, -5.2535, -3.5196, -3.715, -5.0079, -5.1853, -5.228, -5.2325, -5.6834, -5.2462, -5.2188, -5.8396, -5.8697, -5.8835, -5.8852, -5.8852, -5.8853, -5.8998, -5.9043, -5.9044, -5.8944, -5.9044, -5.9044, -5.9046, -5.9186, -5.9068, -5.9072, -6.0037, -5.9083, -5.9102, -6.182, -6.1842, -5.891, -5.2343, -5.2097, -5.2791, -5.2471, -5.2692, -5.3048, -5.2768, -5.1335, -5.0513, -5.3096, -5.3379, -5.5583, -4.5662, -5.3624, -4.473, -5.2411, -5.3817, -5.4618, -5.4638, -5.1207, -4.912, -5.1456, -4.5812, -4.9863, -4.9983, -5.1024, -5.1053, -5.2051, -5.2165, -5.2616, -5.0682, -5.1519, -5.9687, -6.0045, -6.0048, -6.2037, -6.2036, -6.2039, -6.204, -6.2047, -6.2048, -6.2062, -6.2068, -6.1314, -6.5518, -6.6264, -6.2445, -6.6522, -6.6569, -6.7202, -6.7203, -6.7206, -6.3898, -6.7534, -6.7956, -6.799, -6.8226, -6.8408, -6.8276, -6.924, -5.4434, -5.8265, -5.8759, -6.2821, -6.9283, -7.7093, -8.5291, -8.5301, -8.5325, -8.5197, -8.5297, -8.5289, -8.5317, -8.5294, -8.5289, -8.5289, -8.5271, -8.5308, -8.532, -8.5315, -8.5278, -8.5299, -8.5281, -8.5304, -8.5282, -8.5311, -8.5304, -8.5295, -8.5302, -8.5272, -8.2264, -8.2802, -8.5232, -8.5247, -8.5219, -8.4351, -8.4565, -8.5238, -8.5217, -8.5266, -8.516, -8.5083, -8.5216, -8.4712, -8.4936, -8.5215, -8.5231, -8.5008, -8.5028, -8.4888, -8.4955, -8.5108, -8.5058, -8.5058, -8.5124, -8.4923, -8.5034, -8.5044, -8.5061, -8.5084, -8.5089, -8.5117, -8.5121, -8.5128, -5.7521, -5.8517, -6.0705, -6.7362, -7.0372, -8.5254, -8.5267, -8.5268, -8.5255, -8.5278, -8.5276, -8.5264, -8.5265, -8.5285, -8.5275, -8.5278, -8.5281, -8.5268, -8.5283, -8.5276, -8.5271, -8.5263, -8.5263, -8.5265, -8.5287, -8.5287, -8.5273, -8.5282, -8.5255, -8.5269, -8.0722, -8.5125, -8.5259, -8.5248, -8.5238, -8.499, -8.5169, -8.5212, -8.5153, -8.518, -8.525, -8.5255, -8.4954, -8.5126, -8.5051, -8.5152, -8.5023, -8.519, -8.5227, -8.5221, -8.4962, -8.5058, -8.4966, -8.5118, -8.4859, -8.5145, -8.5139, -8.5203, -8.5195, -8.5043, -8.5223, -8.4979, -8.5036, -8.5107, -8.5109, -8.5118, -8.5121, -8.5121, -8.5132, -8.5141, -8.5147, -6.5774, -6.5775, -7.1369, -7.1375, -8.5213, -8.5215, -8.5218, -8.5197, -8.5212, -8.5223, -8.5215, -8.5229, -8.5231, -8.5205, -8.5189, -8.5211, -8.5212, -8.5218, -8.5211, -8.52, -8.5207, -8.5215, -8.5223, -8.5207, -8.5212, -8.5184, -8.5212, -8.5198, -8.5212, -8.5219, -8.5213, -8.5195, -8.5179, -8.5184, -8.5202, -8.5183, -8.5196, -8.5192, -8.5198, -8.5198, -8.5138, -8.5192, -8.5186, -8.5127, -8.5167, -8.518, -8.5195, -8.5197, -8.5125, -8.5123, -8.5128, -8.5127, -8.5173, -8.5178, -8.5189, -8.5188, -8.5187, -8.5179, -8.5108, -8.5111, -8.5124, -8.5124, -8.5125, -8.5128, -8.5131, -8.5133, -8.5134, -8.5136, -8.5136, -8.5136, -8.5139, -8.5139, -8.514, -8.514, -8.5142, -8.5142, -8.5143, -8.5143, -6.2581, -6.9998, -8.5208, -8.5199, -8.52, -8.5198, -8.5222, -8.5208, -8.5184, -8.5217, -8.5224, -8.5185, -8.5214, -8.5217, -8.5194, -8.5217, -8.5199, -8.5217, -8.5228, -8.5185, -8.5191, -8.5208, -8.5191, -8.5212, -8.5198, -8.5182, -8.5199, -8.5199, -8.5209, -8.5223, -8.503, -8.5195, -8.4066, -8.4189, -8.4067, -8.439, -8.5142, -8.5107, -8.4912, -8.4377, -8.485, -8.5149, -8.5004, -8.496, -8.492, -8.4482, -8.5154, -8.4846, -8.5032, -8.5123, -8.4872, -8.4995, -8.5124, -8.5105, -8.5154, -8.4901, -8.494, -8.475, -8.5026, -8.4856, -8.5022, -8.5087, -8.4809, -8.4899, -8.4939, -8.4943, -8.4925, -8.5008, -8.4733, -8.4833, -8.4869, -8.4931, -8.4934, -8.4964, -8.4965, -6.3446, -8.5199, -8.5191, -8.5192, -8.519, -8.5195, -8.5188, -8.5198, -8.5189, -8.5189, -8.5136, -8.5175, -8.5196, -8.5196, -8.5214, -8.519, -8.52, -8.5183, -8.5205, -8.519, -8.5177, -8.5195, -8.5197, -8.5199, -8.5164, -8.5179, -8.5189, -8.5194, -8.5187, -8.5184, -8.5179, -8.5148, -8.5173, -8.5146, -8.5176, -8.5179, -8.518, -8.5094, -8.5181, -8.5134, -8.5136, -8.5166, -8.5165, -8.5175, -8.5139, -8.5126, -8.5172, -8.5176, -8.4986, -8.5139, -8.5161, -8.5166, -8.5161, -8.5147, -8.5173, -8.5164, -8.5175, -8.5175, -8.5161, -8.4943, -8.4995, -8.5069, -8.5081, -8.5099, -8.5102, -8.5103, -8.5107, -8.5109, -8.5109, -8.511, -8.5111, -8.5116, -8.5119, -8.5122, -8.5123, -8.5127, -8.5129, -8.513, -8.513, -8.5131, -8.5133, -8.5133, -8.5133, -8.5134]}, \"token.table\": {\"Topic\": [1, 1, 1, 1, 2, 1, 1, 5, 1, 1, 1, 4, 6, 4, 1, 1, 2, 1, 2, 1, 1, 1, 2, 1, 1, 1, 4, 1, 1, 1, 1, 4, 1, 7, 1, 1, 4, 4, 1, 1, 1, 1, 1, 2, 1, 3, 1, 3, 1, 2, 3, 1, 3, 1, 2, 8, 2, 1, 1, 1, 4, 5, 4, 1, 1, 1, 4, 1, 2, 3, 4, 1, 3, 1, 1, 2, 3, 4, 1, 7, 7, 3, 4, 1, 3, 1, 1, 5, 1, 5, 1, 2, 4, 1, 2, 1, 1, 2, 1, 1, 1, 1, 2, 4, 1, 1, 2, 4, 1, 2, 1, 3, 1, 2, 3, 4, 5, 2, 1, 1, 3, 3, 1, 1, 2, 6, 1, 4, 1, 1, 2, 4, 1, 1, 5, 1, 1, 1, 1, 2, 3, 4, 1, 2, 3, 1, 1, 2, 4, 1, 1, 1, 1, 1, 1, 1, 1, 2, 3, 1, 1, 1, 3, 1, 5, 2, 1, 2, 1, 3, 1, 2, 1, 4, 1, 1, 5, 1, 3, 1, 1, 1, 2, 1, 1, 3, 1, 1, 1, 3, 1, 1, 3, 4, 1, 3, 4, 1, 4, 3, 1, 2, 1, 2, 3, 4, 1, 1, 2, 1, 4, 1, 2, 2, 2, 5, 1, 3, 1, 1, 3, 1, 4, 2, 1, 3, 1, 5, 1, 2, 1, 5, 1, 1, 1, 4, 4, 1, 1, 4, 1, 5, 1, 2, 3, 4, 1, 1, 2, 1, 5, 4, 1, 1, 3, 1, 4, 1, 2, 3, 5, 1, 1, 1, 2, 2, 1, 5, 1, 9, 1, 1, 2, 5, 2, 1, 2, 1, 3, 1, 3, 1, 2, 1, 2, 3, 1, 2, 4, 1, 2, 1, 4, 1, 1, 1, 1, 2, 3, 5, 1, 4, 1, 2, 3, 4, 1, 1, 2, 1, 2, 3, 4, 1, 2, 3, 4, 1, 1, 3, 1, 2, 3, 4, 1, 2, 3, 4, 3, 1, 2, 1, 3, 1, 3, 1, 3, 1, 1, 5, 1, 4, 1, 4, 1, 1, 3, 4, 1, 3, 1, 1, 10, 1, 1, 1, 2, 1, 1, 3, 1, 1, 1, 5, 1, 3, 1, 1, 1, 1, 4, 1, 2, 1, 2, 4, 3, 1, 2, 1, 2, 4, 1, 2, 1, 2, 4, 1, 2, 3, 4, 4, 3, 1, 5, 1, 3, 2, 1, 1, 4, 4, 5, 4, 1, 3, 1, 3, 1, 3, 4, 1, 1, 2, 1, 1, 5, 1, 1, 3, 4, 1, 1, 4, 1, 1, 2, 1, 1, 1, 3, 4, 1, 3, 4, 1, 2, 1, 1, 1, 1, 1, 3, 1, 1, 5, 1, 1, 4, 3, 1, 3, 1, 2, 3, 1, 1, 5, 1, 1, 1, 2, 4, 1, 4, 1, 2, 1, 2, 3, 4, 1, 4, 1, 3, 1, 3, 7, 1, 1, 1, 2, 1, 1, 1, 2, 3, 4, 5, 5, 1, 2, 1, 1, 1, 1, 2, 3, 4, 1, 2, 3, 4, 1, 2, 1, 1, 1, 3, 1, 1, 1, 1, 1, 2, 4, 1, 2, 1, 1, 4, 1, 1, 2, 1, 4, 1, 3, 1, 2, 3, 4, 1, 4, 4, 1, 2, 3, 4, 1, 1, 4, 2, 1, 4, 1, 2, 3, 1, 1, 6, 1, 2, 2, 6, 1, 1, 2, 3, 4, 1, 2, 1, 3, 1, 1, 1, 5, 8, 1, 2, 3, 4, 4, 4, 1, 1, 3, 4, 5, 2, 1, 2, 4, 2, 1, 1, 1, 2, 4, 3, 1, 2, 3, 4, 1, 1, 1, 4, 4, 1, 1, 3, 1, 2, 2, 5, 1, 1, 4, 2, 1, 1, 2, 3, 4, 1, 1, 4, 1, 2, 4], \"Freq\": [0.9713496545478745, 0.9503834638540783, 0.636580592666684, 0.5770428876097613, 0.966137838864312, 0.6718693006284022, 0.4928243987706085, 0.66870430359899, 0.5736995204125914, 0.843388209846095, 0.6401616475409181, 0.9290153403518125, 0.5814167065372904, 0.8543663229413829, 0.8925148460482578, 0.8406297200693965, 0.135101205011153, 0.5621854941638202, 0.4333513184179447, 0.8939114630617739, 0.7525096902919544, 0.7327180862393166, 0.24423936207977218, 0.8109807171610971, 0.6545357716487091, 0.27750145728795356, 0.6937536432198839, 0.4447411495956714, 0.9799455770325189, 0.6679651780520962, 0.996861916987066, 0.9607511811364222, 0.6839676505319667, 0.43415140374909983, 0.6841844166638192, 0.973994217039726, 0.9199593304262542, 0.8344381326079279, 0.8465146241236119, 0.7246471123417821, 0.6320345860055737, 0.9323766063278153, 0.7882220558012796, 0.1751604568447288, 0.9723906001058319, 0.966395034571826, 0.2803771851588969, 0.7009429628972423, 0.08829673906861452, 0.15893413032350612, 0.7416926081763618, 0.03681848984934139, 0.9572807360828762, 0.03401812845432254, 0.9525075967210311, 0.6686208746895577, 0.9641470042728663, 0.6738810800569531, 0.8959928841149869, 0.893630311954845, 0.10723563743458141, 0.603614751557679, 0.9607539070474546, 0.6162118173831646, 0.9292749607424668, 0.7186701365062591, 0.8604938961721197, 0.4832820086369127, 0.2830029780306246, 0.21334070651539389, 0.013061675909105749, 0.1482458222973959, 0.800527440405938, 0.9749435201887174, 0.8412883982002028, 0.06134394570209813, 0.043817104072927236, 0.043817104072927236, 0.30801013494906965, 0.30801013494906965, 0.45742642874596523, 0.9627236715322741, 0.9591445378542262, 0.03951842500548558, 0.948442200131654, 0.8374525510601646, 0.7787024619240911, 0.5482107186774221, 0.7921641538819314, 0.4775170314444771, 0.05177562200723613, 0.80252214111216, 0.1553268660217084, 0.03421658198647007, 0.9580642956211619, 0.9878897765573179, 0.0248979748929017, 0.9461230459302646, 0.8235316075127256, 0.9495000235675334, 0.9647661431267126, 0.20159225787559684, 0.7839698917384322, 0.855994042598565, 0.8570313705883384, 0.5333276966002869, 0.09876438825931239, 0.35555179773352463, 0.4124901272781064, 0.574986238024027, 0.8840147102148603, 0.1145944994722967, 0.6843284168883331, 0.1520729815307407, 0.12355929749372681, 0.038018245382685174, 0.6453536896959359, 0.9650518107563428, 0.6495675627778768, 0.14790175331354427, 0.8282498185558479, 0.9375513192745302, 0.9694382722187461, 0.2767579668149113, 0.7072703596381067, 0.42779443222233327, 0.14820874647151352, 0.8398495633385766, 0.6781609073619749, 0.6581665164284799, 0.9606946593228576, 0.887114069319246, 0.6528469046972984, 0.5064789640384953, 0.6952187164635676, 0.8635680955801345, 0.6296098558228138, 0.6636380499121052, 0.4606163541648637, 0.19098726880006545, 0.258394540141265, 0.08425908917649946, 0.2396741015756665, 0.13695662947180942, 0.6163048326231424, 0.9138934136968119, 0.3396800585532007, 0.6453921112510813, 0.9470959260066878, 0.7892946946994553, 0.9868649851513378, 0.6489832632560554, 0.9391489017019442, 0.47565221328911084, 0.9685878330426059, 0.9623196107449696, 0.196732644556762, 0.5620932701621771, 0.22483730806487084, 0.6252661745865666, 0.8217439520736574, 0.05550507505392684, 0.925084584232114, 0.8184485353173854, 0.49137665698492144, 0.9624680202258674, 0.19898011227341814, 0.7959204490936725, 0.0370522676442398, 0.9633589587502348, 0.10613595640627844, 0.8756216403517972, 0.15243633726405775, 0.8129937987416413, 0.6011080810038788, 0.9724618845921499, 0.6720718902675129, 0.03640050738782016, 0.910012684695504, 0.958209731507917, 0.6181075224971548, 0.039754363539260755, 0.9143503614029973, 0.9470996294499149, 0.14257703807562574, 0.8269468208386292, 0.4608207302761399, 0.6606483362597626, 0.17802410313495878, 0.8151629985653377, 0.4934016760541316, 0.5279016766358253, 0.13197541915895633, 0.339365363551602, 0.6534936010656781, 0.18778551754760867, 0.15773983473999129, 0.4204670265282751, 0.5351398519450774, 0.9629165193206339, 0.4131371026383451, 0.5618664595881493, 0.8071925284714923, 0.10762567046286564, 0.08071925284714923, 0.829551507123199, 0.4416553878742986, 0.12398853318111804, 0.8679197322678263, 0.10661472426102162, 0.8529177940881729, 0.6624754557854954, 0.33451730935703233, 0.9804371026663404, 0.954373202074427, 0.6953093505204504, 0.03650374505759159, 0.9125936264397898, 0.985634092202761, 0.036826355548013646, 0.9206588887003412, 0.937556782141656, 0.991950228991352, 0.9661584906081238, 0.09025628690127169, 0.8724774400456263, 0.4472614277560088, 0.4472614277560088, 0.6055696845737278, 0.9551821454069254, 0.6251060069931375, 0.5482440675443806, 0.9092430056051427, 0.8877916292741561, 0.4019212243982244, 0.5805528796863242, 0.8527683464398298, 0.9671038107400625, 0.2733771194574287, 0.6834427986435717, 0.4057763166179164, 0.4057763166179164, 0.22548155469679826, 0.48656546013519625, 0.16614430346079873, 0.10680705222479918, 0.9735622751175751, 0.08115127103449556, 0.9197144050576164, 0.7645214767371558, 0.6375125129087956, 0.8590961780328855, 0.6312790919729669, 0.046328804104273785, 0.9265760820854757, 0.27679951906497297, 0.6919987976624324, 0.10483341796994192, 0.26790762370096266, 0.6290005078196514, 0.5481861236003035, 0.6326416727453141, 0.7122673169947835, 0.5374867000314235, 0.969759102408385, 0.941765648203055, 0.9435283330493812, 0.49143837247581207, 0.7376926634912865, 0.5814333602723836, 0.41742687723104577, 0.9642891641871495, 0.9344398259084025, 0.5482429834849483, 0.9633441868559713, 0.6603700793519646, 0.9661376399575463, 0.5828666452972865, 0.9655514727561952, 0.5029731073837109, 0.9664294142893229, 0.6887721262208243, 0.2582895473328091, 0.09323580260621303, 0.8274677481301407, 0.06992685195465978, 0.774751268657669, 0.15218328491489927, 0.06917422041586331, 0.49807191079238416, 0.9934494055752094, 0.9541371933792653, 0.8349406115425078, 0.6585132892127665, 0.9753344751677407, 0.755318888733378, 0.11155806986134896, 0.3842555739668686, 0.4958136438282176, 0.7747748461901173, 0.2716260520612749, 0.6984669910147069, 0.7856659881235324, 0.07685862927295425, 0.03415939078797967, 0.10247817236393901, 0.8376796332477626, 0.5787522251007187, 0.4133944465005133, 0.5640189112508127, 0.2356028363452762, 0.06425531900325715, 0.1356501178957651, 0.2637781629033827, 0.5727754394473452, 0.10551126516135308, 0.05275563258067654, 0.8509394448289044, 0.03670207945480478, 0.9542540658249243, 0.2859757122072246, 0.5719514244144492, 0.08170734634492131, 0.06808945528743443, 0.24439297565044465, 0.5498841952135005, 0.1527456097815279, 0.0509152032605093, 0.9946295127346961, 0.6208982211820223, 0.9658275859599028, 0.018895180020903495, 0.9636541810660781, 0.09264267899702928, 0.8955458969712831, 0.39605673459224566, 0.5940851018883685, 0.8070478285155258, 0.5495555328633718, 0.4448995160262194, 0.1580910748686179, 0.8431523992992954, 0.6400907236806196, 0.3200453618403098, 0.7976266792436043, 0.011334904364302208, 0.9181272535084788, 0.06800942618581324, 0.8406323881452608, 0.8899229441461511, 0.9101034220587308, 0.6473394268122566, 0.6058532000782236, 0.9665256874413779, 0.6436877083097512, 0.9301043457410981, 0.05973147174484117, 0.9799080265788938, 0.5033316950797875, 0.47187346413730075, 0.9463824776888081, 0.6541947770811288, 0.7953081387750043, 0.5481640002166356, 0.03666023641546952, 0.9165059103867379, 0.4205383754235652, 0.6683945741292483, 0.5102883361268596, 0.1989961394590436, 0.7959845578361744, 0.5931167403587564, 0.3954111602391709, 0.14662199519527216, 0.7121639766627506, 0.10472999656805156, 0.9598117315732914, 0.22008470621370058, 0.770296471747952, 0.22511736228943033, 0.6903599110209196, 0.07503912076314344, 0.03610980837705166, 0.9388550178033431, 0.6151467440184708, 0.27681603480831185, 0.10252445733641179, 0.6807108336772418, 0.05834664288662073, 0.18476436914096564, 0.07779552384882764, 0.9608129932230299, 0.8975046963326673, 0.543530113576945, 0.6952277916686289, 0.1282718296472734, 0.8658348501190956, 0.9583122390128412, 0.6372039300215769, 0.46721549374286764, 0.4983631933257255, 0.8653863876250887, 0.6320191303613995, 0.9250131066583752, 0.03703360415955591, 0.9628737081484536, 0.023567367991349803, 0.9662620876453419, 0.8191287502389547, 0.11871431162883402, 0.047485724651533605, 0.9707026342641945, 0.5805207973935118, 0.3971984403218765, 0.9848745153509878, 0.6982287080572667, 0.6600227000870978, 0.5697737944329764, 0.7872844548230312, 0.10638979119230152, 0.09575081207307136, 0.7229489988601655, 0.8133786318185927, 0.8690730701314081, 0.9859428717781143, 0.15512830035271985, 0.8310444661752848, 0.9751472239990144, 0.9605861495740996, 0.4895175370118391, 0.2610760197396475, 0.25019785225049557, 0.7491806781036526, 0.06571760334242567, 0.17086576869030676, 0.8086717934616947, 0.18661656772192955, 0.9798802742695705, 0.9909388210206043, 0.9902197280407765, 0.6863546278760164, 0.04572637753864921, 0.9145275507729841, 0.6481090913083476, 0.22431576328482428, 0.6729472898544728, 0.9863612182404686, 0.19971327642245365, 0.7489247865842013, 0.9840005684893702, 0.036892167807255294, 0.9591963629886376, 0.02252164677892433, 0.18017317423139464, 0.7657359904834272, 0.43114545998622467, 0.978936002092502, 0.5480614053760011, 0.9811718361620404, 0.8136752908978556, 0.5638958541303254, 0.22555834165213015, 0.21302732267145624, 0.8455307644262064, 0.14494813104449253, 0.5792122936313795, 0.4088557366809738, 0.08889604617367633, 0.17779209234735266, 0.3778081962381244, 0.3555841846947053, 0.055078720232313756, 0.936338243949334, 0.5487905519417166, 0.9619393117906443, 0.6505176056868438, 0.3484915744750949, 0.583620198411388, 0.7887964558451371, 0.6245033773041209, 0.05929912390730324, 0.9191364205632003, 0.8757531220294669, 0.9808323915297346, 0.35477594335592916, 0.1573602974562589, 0.3948312917993405, 0.08869398583898229, 0.5481461745486325, 0.6345401961169298, 0.8749868442230178, 0.9799798723018247, 0.8911442853928578, 0.9765313898708216, 0.5482975310427396, 0.39169036378163086, 0.2635007901803698, 0.28486571911391334, 0.056973143822782665, 0.4148860201502037, 0.22340016469626353, 0.19148585545394017, 0.17020964929239127, 0.034072259965846126, 0.9540232790436916, 0.6046704957066837, 0.794535243413185, 0.8709570508959827, 0.9610903657991027, 0.7970041382801689, 0.4631615483780625, 0.610038424836626, 0.8963311666726854, 0.6775452548385343, 0.14115526142469464, 0.1787966644712799, 0.685484136449953, 0.9661307678163221, 0.9829474416735197, 0.9454501707602054, 0.8690719010431388, 0.8632801722131994, 0.741893181052769, 0.2512864000340024, 0.9810025760205046, 0.8690618216790347, 0.664954472757036, 0.9664049035114831, 0.20478368004637923, 0.055134067704794405, 0.45682513241115363, 0.27567033852397205, 0.19063163097939173, 0.7625265239175669, 0.8690869934373388, 0.4593017347112794, 0.2175639796000797, 0.12086887755559984, 0.20547709184451973, 0.7094972023157381, 0.05706444700544349, 0.9130311520870958, 0.9644830525608272, 0.19142993834947017, 0.7657197533978807, 0.3402036775814142, 0.5300847999524361, 0.1265874149140146, 0.9814199682443202, 0.6989428366740834, 0.4543752490084943, 0.03091554310173451, 0.9686870171876814, 0.9562677985293594, 0.7077343781821686, 0.5795628041194149, 0.6220379239381071, 0.15171656681417248, 0.17447405183629836, 0.05310079838496037, 0.3324615227591129, 0.6095127917250402, 0.07537811137702949, 0.9233818643686114, 0.6705793554983683, 0.6881107329468513, 0.9036412054489217, 0.5481038674481311, 0.6683426059586892, 0.5057765012052728, 0.28178976495722347, 0.06502840729782079, 0.15173295036158185, 0.9410968593260582, 0.9805595666334198, 0.9836449838983625, 0.30222484964966856, 0.6410830144083879, 0.04579164388631342, 0.4908868317320241, 0.9656341882748936, 0.5129091352034663, 0.40492826463431547, 0.08098565292686309, 0.9627501328847301, 0.6500138622051463, 0.6351738141374438, 0.35436149695224445, 0.044295187119030556, 0.5758374325473973, 0.8924239561614822, 0.23466812220676944, 0.3050685588688003, 0.44586943219286196, 0.8803846844815552, 0.9575309461538685, 0.9843778664616598, 0.5699054414383412, 0.9433165360358758, 0.8691404379397762, 0.48842094511089346, 0.031368621393689726, 0.9410586418106918, 0.6790619030219204, 0.9648789384237875, 0.966156649387989, 0.6482309765391048, 0.510451768062735, 0.013104751860345902, 0.9828563895259427, 0.9630269926282717, 0.7564466134099558, 0.6305093813013377, 0.1478972622805607, 0.16346539515219866, 0.05448846505073288, 0.7304517303465068, 0.3436744105728533, 0.6014302185024933, 0.29417843704767405, 0.5358250103368349, 0.15759559127553968], \"Term\": [\"00\", \"12\", \"2010\", \"2011\", \"2020\", \"2nd\", \"50k\", \"63\", \"7pm\", \"80\", \"931\", \"academia\", \"accelerators\", \"accessories\", \"accordance\", \"accountant\", \"accountant\", \"accounting\", \"accounting\", \"accurately\", \"address\", \"administrative\", \"administrative\", \"administrator\", \"adoption\", \"advancement\", \"advancement\", \"advantages\", \"aerotek\", \"affiliate\", \"aflac\", \"aflacbenefits\", \"afraid\", \"aldi\", \"amerihealth\", \"analysis\", \"anytime\", \"appraising\", \"appropriately\", \"arm\", \"armored\", \"asphalt\", \"assignment\", \"assignment\", \"assist\", \"assortment\", \"atmosphere\", \"atmosphere\", \"automotive\", \"automotive\", \"automotive\", \"aviation\", \"aviation\", \"backgrounds\", \"backgrounds\", \"baker\", \"basics\", \"beneficial\", \"benefit\", \"benefits\", \"benefits\", \"binding\", \"booming\", \"boss\", \"branch\", \"breadth\", \"bridge\", \"business\", \"business\", \"business\", \"business\", \"businesses\", \"businesses\", \"candidates\", \"career\", \"career\", \"career\", \"career\", \"cashier\", \"cashier\", \"cashiers\", \"catalog\", \"cellular\", \"central\", \"central\", \"challenges\", \"channels\", \"chevrolet\", \"chicago\", \"chrysler\", \"class\", \"class\", \"class\", \"classes\", \"classes\", \"classification\", \"cleaning\", \"cleaning\", \"coast\", \"collecting\", \"com\", \"commercial\", \"commercial\", \"commonly\", \"communicating\", \"communication\", \"communication\", \"communication\", \"community\", \"community\", \"companies\", \"companies\", \"company\", \"company\", \"company\", \"company\", \"compare\", \"compared\", \"conam\", \"conduct\", \"conduct\", \"connected\", \"consider\", \"construction\", \"construction\", \"consultancy\", \"continually\", \"continually\", \"controlled\", \"convenient\", \"conventions\", \"costco\", \"counties\", \"courteously\", \"crewmembers\", \"csr\", \"cultural\", \"custom\", \"customer\", \"customer\", \"customer\", \"customer\", \"customers\", \"customers\", \"customers\", \"database\", \"day\", \"day\", \"dealer\", \"dealership\", \"degree\", \"describes\", \"design\", \"designers\", \"determine\", \"direct\", \"director\", \"director\", \"director\", \"distance\", \"distributing\", \"distributor\", \"distributor\", \"documented\", \"dodge\", \"dog\", \"don\", \"don\", \"drawer\", \"drawer\", \"driver\", \"driver\", \"driving\", \"driving\", \"dunbar\", \"duties\", \"earth\", \"easy\", \"easy\", \"electrical\", \"emotional\", \"engineer\", \"engineer\", \"engineering\", \"enjoy\", \"enjoy\", \"entrusted\", \"environments\", \"equipment\", \"equipment\", \"evening\", \"excellent\", \"excellent\", \"excellent\", \"experience\", \"experience\", \"experience\", \"field\", \"field\", \"finalize\", \"finance\", \"finance\", \"financial\", \"financial\", \"financial\", \"flex\", \"focuses\", \"food\", \"food\", \"force\", \"force\", \"franchise\", \"franchise\", \"franchisees\", \"freedom\", \"freshest\", \"fulfill\", \"fulfill\", \"future\", \"getting\", \"getting\", \"global\", \"gowireless\", \"guerrilla\", \"helping\", \"helping\", \"hired\", \"hired\", \"hold\", \"hot\", \"hydraulic\", \"hyundai\", \"il\", \"improvement\", \"includes\", \"includes\", \"incorporating\", \"independent\", \"independently\", \"independently\", \"indiana\", \"indiana\", \"industry\", \"industry\", \"industry\", \"industry\", \"information\", \"initial\", \"initial\", \"innovation\", \"inspiring\", \"instant\", \"integrating\", \"interactive\", \"interactive\", \"interpersonal\", \"interpersonal\", \"inventory\", \"inventory\", \"inventory\", \"isuzu\", \"itc\", \"item\", \"jackson\", \"jani\", \"janitorial\", \"java\", \"jeep\", \"jersey\", \"jewelry\", \"junit\", \"key\", \"kforce\", \"kia\", \"king\", \"ky\", \"lady\", \"landscaping\", \"laptop\", \"las\", \"layaway\", \"leader\", \"leader\", \"learn\", \"learn\", \"learn\", \"level\", \"level\", \"level\", \"lexington\", \"liberty\", \"license\", \"liens\", \"limitations\", \"list\", \"live\", \"ll\", \"ll\", \"ll\", \"lobster\", \"locations\", \"locations\", \"looking\", \"looking\", \"looking\", \"looking\", \"machine\", \"maintenance\", \"maintenance\", \"management\", \"management\", \"management\", \"management\", \"manager\", \"manager\", \"manager\", \"manager\", \"manufacturer\", \"marine\", \"marine\", \"market\", \"market\", \"market\", \"market\", \"marketing\", \"marketing\", \"marketing\", \"marketing\", \"matco\", \"maven\", \"mcdonald\", \"mechanics\", \"mechanics\", \"media\", \"media\", \"meet\", \"meet\", \"merchandising\", \"message\", \"metropolitan\", \"minimal\", \"minimal\", \"minimum\", \"minimum\", \"minutes\", \"mobile\", \"mobile\", \"mobile\", \"modis\", \"momentum\", \"monitoring\", \"mq\", \"muzak\", \"nation\", \"near\", \"need\", \"need\", \"needed\", \"needs\", \"needs\", \"network\", \"nevada\", \"news\", \"nissan\", \"normal\", \"normal\", \"northwest\", \"objections\", \"ocean\", \"offering\", \"offering\", \"office\", \"office\", \"offices\", \"offices\", \"offices\", \"onboard\", \"ongoing\", \"ongoing\", \"operations\", \"operations\", \"operations\", \"operator\", \"operator\", \"opportunities\", \"opportunities\", \"opportunities\", \"opportunity\", \"opportunity\", \"opportunity\", \"opportunity\", \"opportunityobviously\", \"opposed\", \"oregon\", \"outdo\", \"outside\", \"outside\", \"overhead\", \"pacific\", \"package\", \"package\", \"paging\", \"passport\", \"patrons\", \"paycheck\", \"paycheck\", \"payment\", \"payment\", \"people\", \"people\", \"people\", \"perform\", \"performance\", \"performance\", \"place\", \"plc\", \"pleasure\", \"po\", \"position\", \"position\", \"position\", \"posted\", \"postion\", \"powers\", \"preferred\", \"preparation\", \"preparation\", \"process\", \"processes\", \"products\", \"products\", \"products\", \"professional\", \"professional\", \"professional\", \"project\", \"project\", \"projects\", \"protected\", \"provides\", \"pursuit\", \"really\", \"really\", \"recognize\", \"red\", \"red\", \"regular\", \"relevant\", \"relevant\", \"reliably\", \"remaining\", \"remaining\", \"rep\", \"rep\", \"rep\", \"repairing\", \"representative\", \"representativeall\", \"representatives\", \"reputation\", \"required\", \"required\", \"required\", \"requirements\", \"requirements\", \"restaurant\", \"restaurant\", \"retail\", \"retail\", \"retail\", \"retail\", \"retailer\", \"retailer\", \"retrieval\", \"reverse\", \"right\", \"right\", \"riverside\", \"roles\", \"rooms\", \"run\", \"run\", \"safety\", \"salary\", \"sales\", \"sales\", \"sales\", \"sales\", \"scion\", \"seafood\", \"searching\", \"seasonal\", \"send\", \"senior\", \"served\", \"service\", \"service\", \"service\", \"service\", \"services\", \"services\", \"services\", \"services\", \"settings\", \"settings\", \"settlement\", \"sheets\", \"shift\", \"shine\", \"shipping\", \"shooting\", \"shop\", \"short\", \"skills\", \"skills\", \"skills\", \"skillsstrong\", \"sluggish\", \"snap\", \"solution\", \"sourrounding\", \"sql\", \"staff\", \"staff\", \"start\", \"steadfast\", \"stewardship\", \"stops\", \"store\", \"store\", \"store\", \"store\", \"stores\", \"stores\", \"strived\", \"strong\", \"strong\", \"strong\", \"strong\", \"styles\", \"substituted\", \"substituted\", \"subway\", \"supervision\", \"supervision\", \"support\", \"support\", \"support\", \"takes\", \"tasker\", \"tata\", \"tax\", \"tax\", \"taxes\", \"tcs\", \"tdevelop\", \"team\", \"team\", \"team\", \"team\", \"technician\", \"technician\", \"technicians\", \"technicians\", \"telecom\", \"television\", \"testing\", \"thirteen\", \"tilly\", \"time\", \"time\", \"time\", \"time\", \"titlemax\", \"tmx\", \"tool\", \"tools\", \"tools\", \"tools\", \"toyota\", \"trainers\", \"training\", \"training\", \"training\", \"trainings\", \"transmission\", \"trouble\", \"united\", \"united\", \"united\", \"unspoken\", \"use\", \"use\", \"use\", \"usgowireless\", \"variety\", \"vector\", \"vegas\", \"verizon\", \"victory\", \"village\", \"visits\", \"visits\", \"voltage\", \"volunteer\", \"wavers\", \"wholesalers\", \"wi\", \"wireless\", \"wireless\", \"wish\", \"woodbridge\", \"work\", \"work\", \"work\", \"work\", \"workgroup\", \"works\", \"works\", \"year\", \"year\", \"year\"]}, \"R\": 30, \"lambda.step\": 0.01, \"plot.opts\": {\"xlab\": \"PC1\", \"ylab\": \"PC2\"}, \"topic.order\": [10, 7, 9, 8, 6, 4, 1, 2, 5, 3]};\n",
       "\n",
       "function LDAvis_load_lib(url, callback){\n",
       "  var s = document.createElement('script');\n",
       "  s.src = url;\n",
       "  s.async = true;\n",
       "  s.onreadystatechange = s.onload = callback;\n",
       "  s.onerror = function(){console.warn(\"failed to load library \" + url);};\n",
       "  document.getElementsByTagName(\"head\")[0].appendChild(s);\n",
       "}\n",
       "\n",
       "if(typeof(LDAvis) !== \"undefined\"){\n",
       "   // already loaded: just create the visualization\n",
       "   !function(LDAvis){\n",
       "       new LDAvis(\"#\" + \"ldavis_el6161403683900036646176258756\", ldavis_el6161403683900036646176258756_data);\n",
       "   }(LDAvis);\n",
       "}else if(typeof define === \"function\" && define.amd){\n",
       "   // require.js is available: use it to load d3/LDAvis\n",
       "   require.config({paths: {d3: \"https://cdnjs.cloudflare.com/ajax/libs/d3/3.5.5/d3.min\"}});\n",
       "   require([\"d3\"], function(d3){\n",
       "      window.d3 = d3;\n",
       "      LDAvis_load_lib(\"https://cdn.rawgit.com/bmabey/pyLDAvis/files/ldavis.v1.0.0.js\", function(){\n",
       "        new LDAvis(\"#\" + \"ldavis_el6161403683900036646176258756\", ldavis_el6161403683900036646176258756_data);\n",
       "      });\n",
       "    });\n",
       "}else{\n",
       "    // require.js not available: dynamically load d3 & LDAvis\n",
       "    LDAvis_load_lib(\"https://cdnjs.cloudflare.com/ajax/libs/d3/3.5.5/d3.min.js\", function(){\n",
       "         LDAvis_load_lib(\"https://cdn.rawgit.com/bmabey/pyLDAvis/files/ldavis.v1.0.0.js\", function(){\n",
       "                 new LDAvis(\"#\" + \"ldavis_el6161403683900036646176258756\", ldavis_el6161403683900036646176258756_data);\n",
       "            })\n",
       "         });\n",
       "}\n",
       "</script>"
      ],
      "text/plain": [
       "PreparedData(topic_coordinates=               x          y  topics  cluster       Freq\n",
       "topic                                                  \n",
       "9      32.420952   8.115230       1        1  55.889314\n",
       "6       0.648955  71.707100       2        1  17.502839\n",
       "8      71.019684   9.971006       3        1  13.350387\n",
       "7       3.785981  33.185135       4        1   7.023228\n",
       "5     -42.666500  -9.222070       5        1   1.088102\n",
       "3      -3.621689 -43.526516       6        1   1.036290\n",
       "0      -3.632402  -4.171708       7        1   1.033284\n",
       "1     -36.584400  35.804413       8        1   1.027598\n",
       "4      44.391380  50.615383       9        1   1.024875\n",
       "2      40.235809 -31.591665      10        1   1.024083, topic_info=     Category        Freq          Term       Total  loglift  logprob\n",
       "term                                                                 \n",
       "4480  Default  194.000000           tax  194.000000  30.0000  30.0000\n",
       "2615  Default  169.000000       liberty  169.000000  29.0000  29.0000\n",
       "2782  Default  130.000000         matco  130.000000  28.0000  28.0000\n",
       "3963  Default  349.000000         sales  349.000000  27.0000  27.0000\n",
       "2074  Default   91.000000    gowireless   91.000000  26.0000  26.0000\n",
       "4945  Default   76.000000      wireless   76.000000  25.0000  25.0000\n",
       "1672  Default  106.000000     equipment  106.000000  24.0000  24.0000\n",
       "1219  Default  146.000000     customers  146.000000  23.0000  23.0000\n",
       "3158  Default   93.000000       outside   93.000000  22.0000  22.0000\n",
       "3246  Default   84.000000       payment   84.000000  21.0000  21.0000\n",
       "4321  Default  126.000000         store  126.000000  20.0000  20.0000\n",
       "2912  Default   88.000000        mobile   88.000000  19.0000  19.0000\n",
       "4614  Default  109.000000         tools  109.000000  18.0000  18.0000\n",
       "3433  Default   90.000000   preparation   90.000000  17.0000  17.0000\n",
       "3882  Default   89.000000        retail   89.000000  16.0000  16.0000\n",
       "3085  Default   90.000000       ongoing   90.000000  15.0000  15.0000\n",
       "1782  Default  133.000000    experience  133.000000  14.0000  14.0000\n",
       "3509  Default   91.000000      products   91.000000  13.0000  13.0000\n",
       "2579  Default   85.000000         learn   85.000000  12.0000  12.0000\n",
       "2423  Default   85.000000     inventory   85.000000  11.0000  11.0000\n",
       "3767  Default   52.000000      reliably   52.000000  10.0000  10.0000\n",
       "2816  Default   52.000000     mechanics   52.000000   9.0000   9.0000\n",
       "1452  Default   54.000000   distributor   54.000000   8.0000   8.0000\n",
       "4988  Default   95.000000          year   95.000000   7.0000   7.0000\n",
       "4504  Default   53.000000   technicians   53.000000   6.0000   6.0000\n",
       "678   Default  229.000000      business  229.000000   5.0000   5.0000\n",
       "4155  Default  106.000000        skills  106.000000   4.0000   4.0000\n",
       "768   Default   50.000000       central   50.000000   3.0000   3.0000\n",
       "2737  Default  132.000000       manager  132.000000   2.0000   2.0000\n",
       "1972  Default   57.000000   franchisees   57.000000   1.0000   1.0000\n",
       "...       ...         ...           ...         ...      ...      ...\n",
       "1548  Topic10    0.089455        effect    1.331082   1.8814  -8.5173\n",
       "3605  Topic10    0.089536       pursuit    1.456973   1.7919  -8.5164\n",
       "4229  Topic10    0.089438      specials    1.316153   1.8924  -8.5175\n",
       "3294  Topic10    0.089438          pest    1.318294   1.8908  -8.5175\n",
       "1109  Topic10    0.089563    convenient    1.519372   1.7503  -8.5161\n",
       "3532  Topic10    0.091538       project   96.454459  -2.3787  -8.4943\n",
       "3495  Topic10    0.091063       process   35.892016  -1.3953  -8.4995\n",
       "155   Topic10    0.090397    accordance   10.083866  -0.1331  -8.5069\n",
       "2737  Topic10    0.090287       manager  132.687254  -2.7114  -8.5081\n",
       "1622  Topic10    0.090123   engineering   13.726117  -0.4445  -8.5099\n",
       "3496  Topic10    0.090096     processes   16.656497  -0.6383  -8.5102\n",
       "1408  Topic10    0.090085      director   35.581284  -1.3974  -8.5103\n",
       "2573  Topic10    0.090053        leader   23.229744  -0.9714  -8.5107\n",
       "678   Topic10    0.090031      business  229.679562  -3.2629  -8.5109\n",
       "2264  Topic10    0.090028   improvement   10.137514  -0.1425  -8.5109\n",
       "791   Topic10    0.090021      channels    2.568375   1.2304  -8.5110\n",
       "1620  Topic10    0.090010      engineer   25.154471  -1.0515  -8.5111\n",
       "1466  Topic10    0.089966    documented    2.443648   1.2796  -8.5116\n",
       "1057  Topic10    0.089943  construction   32.519389  -1.3090  -8.5119\n",
       "3963  Topic10    0.089912         sales  349.516370  -3.6841  -8.5122\n",
       "2894  Topic10    0.089910       minimum   24.996457  -1.0463  -8.5123\n",
       "3264  Topic10    0.089871   performance   32.729232  -1.3163  -8.5127\n",
       "3685  Topic10    0.089851     recognize    3.085900   1.0449  -8.5129\n",
       "4100  Topic10    0.089845        sheets    3.775792   0.8431  -8.5130\n",
       "1665  Topic10    0.089845  environments    3.027329   1.0640  -8.5130\n",
       "3914  Topic10    0.089835         right   43.042648  -1.5906  -8.5131\n",
       "464   Topic10    0.089819    assignment   11.418102  -0.2638  -8.5133\n",
       "4073  Topic10    0.089818       service  140.417036  -2.7732  -8.5133\n",
       "3957  Topic10    0.089817        safety    9.134995  -0.0407  -8.5133\n",
       "3263  Topic10    0.089804       perform   26.784722  -1.1166  -8.5134\n",
       "\n",
       "[668 rows x 6 columns], token_table=      Topic      Freq            Term\n",
       "term                                 \n",
       "0         1  0.971350              00\n",
       "13        1  0.950383              12\n",
       "34        1  0.636581            2010\n",
       "35        1  0.577043            2011\n",
       "37        2  0.966138            2020\n",
       "52        1  0.671869             2nd\n",
       "84        1  0.492824             50k\n",
       "90        5  0.668704              63\n",
       "102       1  0.573700             7pm\n",
       "103       1  0.843388              80\n",
       "114       1  0.640162             931\n",
       "131       4  0.929015        academia\n",
       "135       6  0.581417    accelerators\n",
       "144       4  0.854366     accessories\n",
       "155       1  0.892515      accordance\n",
       "162       1  0.840630      accountant\n",
       "162       2  0.135101      accountant\n",
       "165       1  0.562185      accounting\n",
       "165       2  0.433351      accounting\n",
       "176       1  0.893911      accurately\n",
       "211       1  0.752510         address\n",
       "234       1  0.732718  administrative\n",
       "234       2  0.244239  administrative\n",
       "235       1  0.810981   administrator\n",
       "240       1  0.654536        adoption\n",
       "247       1  0.277501     advancement\n",
       "247       4  0.693754     advancement\n",
       "252       1  0.444741      advantages\n",
       "264       1  0.979946         aerotek\n",
       "271       1  0.667965       affiliate\n",
       "...     ...       ...             ...\n",
       "4777      2  0.305069             use\n",
       "4777      3  0.445869             use\n",
       "4782      4  0.880385    usgowireless\n",
       "4815      1  0.957531         variety\n",
       "4822      1  0.984378          vector\n",
       "4823      1  0.569905           vegas\n",
       "4837      4  0.943317         verizon\n",
       "4847      4  0.869140         victory\n",
       "4851      1  0.488421         village\n",
       "4865      1  0.031369          visits\n",
       "4865      3  0.941059          visits\n",
       "4872      1  0.679062         voltage\n",
       "4876      2  0.964879       volunteer\n",
       "4901      2  0.966157          wavers\n",
       "4932      5  0.648231     wholesalers\n",
       "4934      1  0.510452              wi\n",
       "4945      1  0.013105        wireless\n",
       "4945      4  0.982856        wireless\n",
       "4948      2  0.963027            wish\n",
       "4951      1  0.756447      woodbridge\n",
       "4955      1  0.630509            work\n",
       "4955      2  0.147897            work\n",
       "4955      3  0.163465            work\n",
       "4955      4  0.054488            work\n",
       "4962      1  0.730452       workgroup\n",
       "4966      1  0.343674           works\n",
       "4966      4  0.601430           works\n",
       "4988      1  0.294178            year\n",
       "4988      2  0.535825            year\n",
       "4988      4  0.157596            year\n",
       "\n",
       "[622 rows x 3 columns], R=30, lambda_step=0.01, plot_opts={'xlab': 'PC1', 'ylab': 'PC2'}, topic_order=[10, 7, 9, 8, 6, 4, 1, 2, 5, 3])"
      ]
     },
     "execution_count": 144,
     "metadata": {},
     "output_type": "execute_result"
    }
   ],
   "source": [
    "pyLDAvis.enable_notebook()\n",
    "dash = pyLDAvis.sklearn.prepare(lda, tfidf, tfidf_vectorizer, mds='tsne')\n",
    "dash"
   ]
  },
  {
   "cell_type": "markdown",
   "metadata": {},
   "source": [
    "<div class=\"alert alert-block alert-info\">\n",
    "<b>Credits and References</b> \n",
    "    \n",
    "This notebook has leveraged work from the following authors and adjusted it accordingly to fit the specific dataset under BSD 3 Clause License:\n",
    "\n",
    "\n",
    "**Authors** \n",
    "* Olivier Grisel olivier.grisel@ensta.org\n",
    "* Lars Buitinck\n",
    "* Chyi-Kwei Yau chyikwei.yau@gmail.com>\n",
    "* License: BSD 3 clause\n",
    "\n",
    "See link below for full Example of their work:\n",
    "\n",
    "https://scikit-learn.org/stable/auto_examples/applications/plot_topics_extraction_with_nmf_lda.html#sphx-glr-auto-examples-applications-plot-topics-extraction-with-nmf-lda-py\n",
    "\n",
    "    \n",
    "</div>"
   ]
  },
  {
   "cell_type": "code",
   "execution_count": null,
   "metadata": {},
   "outputs": [],
   "source": []
  },
  {
   "cell_type": "markdown",
   "metadata": {},
   "source": [
    "### Map topic in dataframe for Job Description"
   ]
  },
  {
   "cell_type": "code",
   "execution_count": 145,
   "metadata": {},
   "outputs": [
    {
     "name": "stderr",
     "output_type": "stream",
     "text": [
      "/home/etzimopoulos/anaconda3/envs/nlp_course/lib/python3.7/site-packages/ipykernel/ipkernel.py:287: DeprecationWarning: `should_run_async` will not call `transform_cell` automatically in the future. Please pass the result to `transformed_cell` argument and any exception that happen during thetransform in `preprocessing_exc_tuple` in IPython 7.17 and above.\n",
      "  and should_run_async(code)\n"
     ]
    },
    {
     "data": {
      "text/plain": [
       "'This Administrative Assistant position is responsible for performing a variety of clerical and administrative support functions in the areas of communications, data entry and retrieval, typing, filing, copying, and coordination of related administrative activities. JOB REQUIREMENTS:Attention to detailAbility to work in a fast paced environmentInvoicingProficient in Word, Excel and OutlookOther Administrative responsibilities as needed.QUALIFICATIONS:High School DiplomaAdministrative Assistant Experience1-2 Years work experienceWorking knowledge of all basic office machines (fax, copier, 10key, etc.)Strong verbal and written communication skillsStrong work ethic.'"
      ]
     },
     "execution_count": 145,
     "metadata": {},
     "output_type": "execute_result"
    }
   ],
   "source": [
    "k_jobs['Job Description'][0]"
   ]
  },
  {
   "cell_type": "code",
   "execution_count": 166,
   "metadata": {},
   "outputs": [
    {
     "name": "stderr",
     "output_type": "stream",
     "text": [
      "/home/etzimopoulos/anaconda3/envs/nlp_course/lib/python3.7/site-packages/ipykernel/ipkernel.py:287: DeprecationWarning: `should_run_async` will not call `transform_cell` automatically in the future. Please pass the result to `transformed_cell` argument and any exception that happen during thetransform in `preprocessing_exc_tuple` in IPython 7.17 and above.\n",
      "  and should_run_async(code)\n"
     ]
    }
   ],
   "source": [
    "# Topic distribution for Job[0] rounded to three decimal points\n",
    "topic_results = lda.transform(tfidf).round(3)"
   ]
  },
  {
   "cell_type": "code",
   "execution_count": 167,
   "metadata": {},
   "outputs": [
    {
     "name": "stderr",
     "output_type": "stream",
     "text": [
      "/home/etzimopoulos/anaconda3/envs/nlp_course/lib/python3.7/site-packages/ipykernel/ipkernel.py:287: DeprecationWarning: `should_run_async` will not call `transform_cell` automatically in the future. Please pass the result to `transformed_cell` argument and any exception that happen during thetransform in `preprocessing_exc_tuple` in IPython 7.17 and above.\n",
      "  and should_run_async(code)\n"
     ]
    },
    {
     "data": {
      "text/plain": [
       "\"Navistar International Corporation is a holding company whose subsidiaries and affiliates produce International® brand commercial and military trucks, MaxxForce® brand diesel engines, IC Bus™ brand school and commercial buses, Monaco® RV brands of recreational vehicles, and Workhorse® brand chassis for motor homes and step vans.  It also is a private-label designer and manufacturer of diesel engines for the pickup truck, van and SUV markets. The company provides truck and diesel engine service parts and also offers financing services through one of its affiliates. International Truck Formed in 1902, International is a leading producer of medium trucks, heavy trucks, severe service vehicles. Our products, parts and services are sold through a network of nearly 1,000 dealer outlets in the United States, Canada, Brazil, and Mexico and more than 60 dealers in 90 countries throughout the world.Oversees a small project or phases of a larger project. Responsible for coordinating activities of project team, identifying appropriate resources needed, and developing schedules to ensure timely completion of project. Must be familiar with system scope and project objectives, as well as the role and function of each team member, to effectively coordinate the activities of the team. Communicates with Strategy Manager regarding status of specific projects.  Basic Requirements: Bachelor's DegreeAt least 2 years of project management or operations experience Minimum work commitment to position of 18 - 24 monthsDesired Skills: Bachelor's Degree in Communications or BusinessStrong analytical skillsStrong PC Skills including Office Suite plus MS ProjectPrevious project management experience Global Experience  Strong process skills -BPMN or Six Sigma Experience with purchasing, contract negotiation, writing/reviewing supply agreement  language  Competencies: BackgroundPositive AttitudeEthics and Navistar's ValuesDrive for ResultsIntellectual HorsepowerInterpersonal SavvyCross-Cultural AgilityProblem SolvingVisit us at www.Navistar.com to discover more about our organization. We are an Equal Opportunity Employer. The Future Rides On Us \""
      ]
     },
     "execution_count": 167,
     "metadata": {},
     "output_type": "execute_result"
    }
   ],
   "source": [
    "k_jobs['Job Description'][25]"
   ]
  },
  {
   "cell_type": "code",
   "execution_count": 168,
   "metadata": {},
   "outputs": [
    {
     "name": "stderr",
     "output_type": "stream",
     "text": [
      "/home/etzimopoulos/anaconda3/envs/nlp_course/lib/python3.7/site-packages/ipykernel/ipkernel.py:287: DeprecationWarning: `should_run_async` will not call `transform_cell` automatically in the future. Please pass the result to `transformed_cell` argument and any exception that happen during thetransform in `preprocessing_exc_tuple` in IPython 7.17 and above.\n",
      "  and should_run_async(code)\n"
     ]
    },
    {
     "data": {
      "text/plain": [
       "array([0.012, 0.012, 0.012, 0.012, 0.012, 0.012, 0.012, 0.012, 0.012,\n",
       "       0.895])"
      ]
     },
     "execution_count": 168,
     "metadata": {},
     "output_type": "execute_result"
    }
   ],
   "source": [
    "topic_results[6]"
   ]
  },
  {
   "cell_type": "code",
   "execution_count": 169,
   "metadata": {},
   "outputs": [
    {
     "name": "stderr",
     "output_type": "stream",
     "text": [
      "/home/etzimopoulos/anaconda3/envs/nlp_course/lib/python3.7/site-packages/ipykernel/ipkernel.py:287: DeprecationWarning: `should_run_async` will not call `transform_cell` automatically in the future. Please pass the result to `transformed_cell` argument and any exception that happen during thetransform in `preprocessing_exc_tuple` in IPython 7.17 and above.\n",
      "  and should_run_async(code)\n"
     ]
    },
    {
     "data": {
      "text/plain": [
       "9"
      ]
     },
     "execution_count": 169,
     "metadata": {},
     "output_type": "execute_result"
    }
   ],
   "source": [
    "# Get index position of highest probability\n",
    "topic_results[0].argmax()"
   ]
  },
  {
   "cell_type": "code",
   "execution_count": 153,
   "metadata": {},
   "outputs": [
    {
     "name": "stderr",
     "output_type": "stream",
     "text": [
      "/home/etzimopoulos/anaconda3/envs/nlp_course/lib/python3.7/site-packages/ipykernel/ipkernel.py:287: DeprecationWarning: `should_run_async` will not call `transform_cell` automatically in the future. Please pass the result to `transformed_cell` argument and any exception that happen during thetransform in `preprocessing_exc_tuple` in IPython 7.17 and above.\n",
      "  and should_run_async(code)\n"
     ]
    }
   ],
   "source": [
    "# Create a new copy of the original dataframe with only the N Samples modelling took place for\n",
    "modelled_k_jobs = k_jobs.iloc[0:n_samples].copy()"
   ]
  },
  {
   "cell_type": "code",
   "execution_count": 154,
   "metadata": {},
   "outputs": [
    {
     "name": "stderr",
     "output_type": "stream",
     "text": [
      "/home/etzimopoulos/anaconda3/envs/nlp_course/lib/python3.7/site-packages/ipykernel/ipkernel.py:287: DeprecationWarning: `should_run_async` will not call `transform_cell` automatically in the future. Please pass the result to `transformed_cell` argument and any exception that happen during thetransform in `preprocessing_exc_tuple` in IPython 7.17 and above.\n",
      "  and should_run_async(code)\n"
     ]
    },
    {
     "data": {
      "text/html": [
       "<div>\n",
       "<style scoped>\n",
       "    .dataframe tbody tr th:only-of-type {\n",
       "        vertical-align: middle;\n",
       "    }\n",
       "\n",
       "    .dataframe tbody tr th {\n",
       "        vertical-align: top;\n",
       "    }\n",
       "\n",
       "    .dataframe thead th {\n",
       "        text-align: right;\n",
       "    }\n",
       "</style>\n",
       "<table border=\"1\" class=\"dataframe\">\n",
       "  <thead>\n",
       "    <tr style=\"text-align: right;\">\n",
       "      <th></th>\n",
       "      <th>Location</th>\n",
       "      <th>Company</th>\n",
       "      <th>Job Title</th>\n",
       "      <th>Job Description</th>\n",
       "      <th>Salary</th>\n",
       "      <th>E-mail</th>\n",
       "    </tr>\n",
       "  </thead>\n",
       "  <tbody>\n",
       "    <tr>\n",
       "      <th>0</th>\n",
       "      <td></td>\n",
       "      <td>None</td>\n",
       "      <td>Administrative Assistant</td>\n",
       "      <td>This Administrative Assistant position is resp...</td>\n",
       "      <td></td>\n",
       "      <td></td>\n",
       "    </tr>\n",
       "    <tr>\n",
       "      <th>1</th>\n",
       "      <td></td>\n",
       "      <td></td>\n",
       "      <td>Administrative Assistant</td>\n",
       "      <td>ADMINISTRATIVE ASSISTANT Part Time The West Or...</td>\n",
       "      <td></td>\n",
       "      <td>Kenneth.harker@healthcentral.org</td>\n",
       "    </tr>\n",
       "    <tr>\n",
       "      <th>2</th>\n",
       "      <td></td>\n",
       "      <td>americanwest</td>\n",
       "      <td>Administrative Assistant</td>\n",
       "      <td>Administrative Assistant -  In Bus 26yrs Fashi...</td>\n",
       "      <td></td>\n",
       "      <td>barnard@americanwest.cc</td>\n",
       "    </tr>\n",
       "    <tr>\n",
       "      <th>3</th>\n",
       "      <td></td>\n",
       "      <td>None</td>\n",
       "      <td>Sales Representative</td>\n",
       "      <td>Are you ready for something new? Are you tired...</td>\n",
       "      <td></td>\n",
       "      <td></td>\n",
       "    </tr>\n",
       "    <tr>\n",
       "      <th>4</th>\n",
       "      <td></td>\n",
       "      <td>None</td>\n",
       "      <td>Customer Service Representative</td>\n",
       "      <td>Superior Staff Resources is currently seeking ...</td>\n",
       "      <td></td>\n",
       "      <td></td>\n",
       "    </tr>\n",
       "  </tbody>\n",
       "</table>\n",
       "</div>"
      ],
      "text/plain": [
       "  Location       Company                        Job Title  \\\n",
       "0                   None         Administrative Assistant   \n",
       "1                                Administrative Assistant   \n",
       "2           americanwest         Administrative Assistant   \n",
       "3                   None             Sales Representative   \n",
       "4                   None  Customer Service Representative   \n",
       "\n",
       "                                     Job Description Salary  \\\n",
       "0  This Administrative Assistant position is resp...          \n",
       "1  ADMINISTRATIVE ASSISTANT Part Time The West Or...          \n",
       "2  Administrative Assistant -  In Bus 26yrs Fashi...          \n",
       "3  Are you ready for something new? Are you tired...          \n",
       "4  Superior Staff Resources is currently seeking ...          \n",
       "\n",
       "                             E-mail  \n",
       "0                                    \n",
       "1  Kenneth.harker@healthcentral.org  \n",
       "2           barnard@americanwest.cc  \n",
       "3                                    \n",
       "4                                    "
      ]
     },
     "execution_count": 154,
     "metadata": {},
     "output_type": "execute_result"
    }
   ],
   "source": [
    "modelled_k_jobs.head()"
   ]
  },
  {
   "cell_type": "code",
   "execution_count": 155,
   "metadata": {},
   "outputs": [
    {
     "name": "stderr",
     "output_type": "stream",
     "text": [
      "/home/etzimopoulos/anaconda3/envs/nlp_course/lib/python3.7/site-packages/ipykernel/ipkernel.py:287: DeprecationWarning: `should_run_async` will not call `transform_cell` automatically in the future. Please pass the result to `transformed_cell` argument and any exception that happen during thetransform in `preprocessing_exc_tuple` in IPython 7.17 and above.\n",
      "  and should_run_async(code)\n"
     ]
    }
   ],
   "source": [
    "# Map model topics to N Samples\n",
    "modelled_k_jobs['Topic'] = topic_results.argmax(axis=1)"
   ]
  },
  {
   "cell_type": "code",
   "execution_count": 159,
   "metadata": {},
   "outputs": [
    {
     "name": "stderr",
     "output_type": "stream",
     "text": [
      "/home/etzimopoulos/anaconda3/envs/nlp_course/lib/python3.7/site-packages/ipykernel/ipkernel.py:287: DeprecationWarning: `should_run_async` will not call `transform_cell` automatically in the future. Please pass the result to `transformed_cell` argument and any exception that happen during thetransform in `preprocessing_exc_tuple` in IPython 7.17 and above.\n",
      "  and should_run_async(code)\n"
     ]
    },
    {
     "data": {
      "text/html": [
       "<div>\n",
       "<style scoped>\n",
       "    .dataframe tbody tr th:only-of-type {\n",
       "        vertical-align: middle;\n",
       "    }\n",
       "\n",
       "    .dataframe tbody tr th {\n",
       "        vertical-align: top;\n",
       "    }\n",
       "\n",
       "    .dataframe thead th {\n",
       "        text-align: right;\n",
       "    }\n",
       "</style>\n",
       "<table border=\"1\" class=\"dataframe\">\n",
       "  <thead>\n",
       "    <tr style=\"text-align: right;\">\n",
       "      <th></th>\n",
       "      <th>Location</th>\n",
       "      <th>Company</th>\n",
       "      <th>Job Title</th>\n",
       "      <th>Job Description</th>\n",
       "      <th>Salary</th>\n",
       "      <th>E-mail</th>\n",
       "      <th>Topic</th>\n",
       "    </tr>\n",
       "  </thead>\n",
       "  <tbody>\n",
       "    <tr>\n",
       "      <th>4950</th>\n",
       "      <td></td>\n",
       "      <td>None</td>\n",
       "      <td>Administrative Assistant</td>\n",
       "      <td>Basic Accounting (Income statements &amp; Balance ...</td>\n",
       "      <td></td>\n",
       "      <td></td>\n",
       "      <td>9</td>\n",
       "    </tr>\n",
       "    <tr>\n",
       "      <th>4951</th>\n",
       "      <td></td>\n",
       "      <td>None</td>\n",
       "      <td>Account Executive</td>\n",
       "      <td>Range Inc. is looking for a high energy profes...</td>\n",
       "      <td></td>\n",
       "      <td></td>\n",
       "      <td>9</td>\n",
       "    </tr>\n",
       "    <tr>\n",
       "      <th>4952</th>\n",
       "      <td></td>\n",
       "      <td>None</td>\n",
       "      <td>Staff Accountant</td>\n",
       "      <td>SUMMARY  This position is a key support role i...</td>\n",
       "      <td></td>\n",
       "      <td></td>\n",
       "      <td>9</td>\n",
       "    </tr>\n",
       "    <tr>\n",
       "      <th>4953</th>\n",
       "      <td></td>\n",
       "      <td>None</td>\n",
       "      <td>Sales Representative</td>\n",
       "      <td>Sales RepresentativeSell IT (Information Techn...</td>\n",
       "      <td></td>\n",
       "      <td></td>\n",
       "      <td>9</td>\n",
       "    </tr>\n",
       "    <tr>\n",
       "      <th>4954</th>\n",
       "      <td></td>\n",
       "      <td>None</td>\n",
       "      <td>Customer Service Representative</td>\n",
       "      <td>Folsom area company is seeking Customer Servic...</td>\n",
       "      <td></td>\n",
       "      <td></td>\n",
       "      <td>9</td>\n",
       "    </tr>\n",
       "    <tr>\n",
       "      <th>4955</th>\n",
       "      <td></td>\n",
       "      <td>None</td>\n",
       "      <td>Staff Accountant</td>\n",
       "      <td>Looking to be part of a talented team with a w...</td>\n",
       "      <td></td>\n",
       "      <td></td>\n",
       "      <td>9</td>\n",
       "    </tr>\n",
       "    <tr>\n",
       "      <th>4956</th>\n",
       "      <td></td>\n",
       "      <td>None</td>\n",
       "      <td>Administrative Assistant</td>\n",
       "      <td>Key responsibilities of the Administrative Ass...</td>\n",
       "      <td></td>\n",
       "      <td></td>\n",
       "      <td>9</td>\n",
       "    </tr>\n",
       "    <tr>\n",
       "      <th>4957</th>\n",
       "      <td></td>\n",
       "      <td>None</td>\n",
       "      <td>Sales Representative</td>\n",
       "      <td>Western Services Corporation (www.ws-corp.com)...</td>\n",
       "      <td></td>\n",
       "      <td></td>\n",
       "      <td>9</td>\n",
       "    </tr>\n",
       "    <tr>\n",
       "      <th>4958</th>\n",
       "      <td></td>\n",
       "      <td>None</td>\n",
       "      <td>Sales Representative</td>\n",
       "      <td>Four Seasons, a company in the Indoor Tanning...</td>\n",
       "      <td></td>\n",
       "      <td></td>\n",
       "      <td>9</td>\n",
       "    </tr>\n",
       "    <tr>\n",
       "      <th>4959</th>\n",
       "      <td></td>\n",
       "      <td>aol</td>\n",
       "      <td>Physical Therapist</td>\n",
       "      <td>A privately owned outpatient physical therapy ...</td>\n",
       "      <td></td>\n",
       "      <td>innercirclept@aol.com</td>\n",
       "      <td>9</td>\n",
       "    </tr>\n",
       "    <tr>\n",
       "      <th>4960</th>\n",
       "      <td></td>\n",
       "      <td>None</td>\n",
       "      <td>Physical Therapist</td>\n",
       "      <td>We are excited to find a Full Time Physical Th...</td>\n",
       "      <td></td>\n",
       "      <td></td>\n",
       "      <td>9</td>\n",
       "    </tr>\n",
       "    <tr>\n",
       "      <th>4961</th>\n",
       "      <td></td>\n",
       "      <td>None</td>\n",
       "      <td>Project Manager</td>\n",
       "      <td>Candidate responsibilities require the followi...</td>\n",
       "      <td></td>\n",
       "      <td></td>\n",
       "      <td>9</td>\n",
       "    </tr>\n",
       "    <tr>\n",
       "      <th>4962</th>\n",
       "      <td></td>\n",
       "      <td>None</td>\n",
       "      <td>Project Manager</td>\n",
       "      <td>If you are looking for a company where you can...</td>\n",
       "      <td></td>\n",
       "      <td></td>\n",
       "      <td>9</td>\n",
       "    </tr>\n",
       "    <tr>\n",
       "      <th>4963</th>\n",
       "      <td></td>\n",
       "      <td></td>\n",
       "      <td>Java Developer</td>\n",
       "      <td>Linium Staffing's client is seeking a consulta...</td>\n",
       "      <td></td>\n",
       "      <td>Gary.Bernhardt@linium.com</td>\n",
       "      <td>9</td>\n",
       "    </tr>\n",
       "    <tr>\n",
       "      <th>4964</th>\n",
       "      <td></td>\n",
       "      <td>None</td>\n",
       "      <td>Sales Representative</td>\n",
       "      <td>Sales Representative OpportunityLocation – Bur...</td>\n",
       "      <td></td>\n",
       "      <td></td>\n",
       "      <td>9</td>\n",
       "    </tr>\n",
       "    <tr>\n",
       "      <th>4965</th>\n",
       "      <td></td>\n",
       "      <td>None</td>\n",
       "      <td>Customer Service Representative</td>\n",
       "      <td>Security Finance Exciting opportunities await ...</td>\n",
       "      <td></td>\n",
       "      <td></td>\n",
       "      <td>9</td>\n",
       "    </tr>\n",
       "    <tr>\n",
       "      <th>4966</th>\n",
       "      <td></td>\n",
       "      <td>None</td>\n",
       "      <td>Customer Service Representative</td>\n",
       "      <td>Security Finance Exciting opportunities await ...</td>\n",
       "      <td></td>\n",
       "      <td></td>\n",
       "      <td>9</td>\n",
       "    </tr>\n",
       "    <tr>\n",
       "      <th>4967</th>\n",
       "      <td></td>\n",
       "      <td>None</td>\n",
       "      <td>Customer Service Representative</td>\n",
       "      <td>Security Finance Exciting opportunities await ...</td>\n",
       "      <td></td>\n",
       "      <td></td>\n",
       "      <td>9</td>\n",
       "    </tr>\n",
       "    <tr>\n",
       "      <th>4968</th>\n",
       "      <td></td>\n",
       "      <td>None</td>\n",
       "      <td>Customer Service Representative</td>\n",
       "      <td>Security Finance Exciting opportunities await ...</td>\n",
       "      <td></td>\n",
       "      <td></td>\n",
       "      <td>9</td>\n",
       "    </tr>\n",
       "    <tr>\n",
       "      <th>4969</th>\n",
       "      <td></td>\n",
       "      <td>None</td>\n",
       "      <td>Customer Service Representative</td>\n",
       "      <td>Security Finance Exciting opportunities await ...</td>\n",
       "      <td></td>\n",
       "      <td></td>\n",
       "      <td>9</td>\n",
       "    </tr>\n",
       "    <tr>\n",
       "      <th>4970</th>\n",
       "      <td></td>\n",
       "      <td>None</td>\n",
       "      <td>Senior Accountant</td>\n",
       "      <td>Facilitate and complete monthly close ...</td>\n",
       "      <td></td>\n",
       "      <td></td>\n",
       "      <td>9</td>\n",
       "    </tr>\n",
       "    <tr>\n",
       "      <th>4971</th>\n",
       "      <td></td>\n",
       "      <td>None</td>\n",
       "      <td>Sales Representative</td>\n",
       "      <td>Sales RepresentativeReit Lubricants Company, l...</td>\n",
       "      <td></td>\n",
       "      <td></td>\n",
       "      <td>9</td>\n",
       "    </tr>\n",
       "    <tr>\n",
       "      <th>4972</th>\n",
       "      <td></td>\n",
       "      <td>None</td>\n",
       "      <td>Maintenance Technician</td>\n",
       "      <td>The Maintenance Technician performs work invol...</td>\n",
       "      <td></td>\n",
       "      <td></td>\n",
       "      <td>9</td>\n",
       "    </tr>\n",
       "    <tr>\n",
       "      <th>4973</th>\n",
       "      <td></td>\n",
       "      <td>None</td>\n",
       "      <td>Customer Service Representative</td>\n",
       "      <td>Security Finance Exciting opportunities await ...</td>\n",
       "      <td></td>\n",
       "      <td></td>\n",
       "      <td>9</td>\n",
       "    </tr>\n",
       "    <tr>\n",
       "      <th>4974</th>\n",
       "      <td></td>\n",
       "      <td>None</td>\n",
       "      <td>Maintenance Technician</td>\n",
       "      <td>DescriptionMaintenance Technician (Shift 7pm -...</td>\n",
       "      <td></td>\n",
       "      <td></td>\n",
       "      <td>9</td>\n",
       "    </tr>\n",
       "    <tr>\n",
       "      <th>4975</th>\n",
       "      <td></td>\n",
       "      <td>None</td>\n",
       "      <td>Inside Sales Representative</td>\n",
       "      <td>Inside Sales Representative John C. Ernst Comp...</td>\n",
       "      <td></td>\n",
       "      <td></td>\n",
       "      <td>9</td>\n",
       "    </tr>\n",
       "    <tr>\n",
       "      <th>4976</th>\n",
       "      <td></td>\n",
       "      <td>None</td>\n",
       "      <td>Java Developer</td>\n",
       "      <td>Our you an amazing Java Web Developer looking ...</td>\n",
       "      <td></td>\n",
       "      <td></td>\n",
       "      <td>9</td>\n",
       "    </tr>\n",
       "    <tr>\n",
       "      <th>4977</th>\n",
       "      <td></td>\n",
       "      <td>None</td>\n",
       "      <td>Senior Accountant</td>\n",
       "      <td>A recently released study identified a greater...</td>\n",
       "      <td></td>\n",
       "      <td></td>\n",
       "      <td>9</td>\n",
       "    </tr>\n",
       "    <tr>\n",
       "      <th>4978</th>\n",
       "      <td></td>\n",
       "      <td>None</td>\n",
       "      <td>Maintenance Technician</td>\n",
       "      <td>We currently have a position available for a M...</td>\n",
       "      <td></td>\n",
       "      <td></td>\n",
       "      <td>9</td>\n",
       "    </tr>\n",
       "    <tr>\n",
       "      <th>4979</th>\n",
       "      <td></td>\n",
       "      <td>None</td>\n",
       "      <td>Inside Sales Representative</td>\n",
       "      <td>LegalMatch is looking for experienced, enthusi...</td>\n",
       "      <td></td>\n",
       "      <td></td>\n",
       "      <td>9</td>\n",
       "    </tr>\n",
       "    <tr>\n",
       "      <th>4980</th>\n",
       "      <td></td>\n",
       "      <td>None</td>\n",
       "      <td>Customer Service Representative</td>\n",
       "      <td>Fast growing local Tampa company is searching ...</td>\n",
       "      <td></td>\n",
       "      <td></td>\n",
       "      <td>9</td>\n",
       "    </tr>\n",
       "    <tr>\n",
       "      <th>4981</th>\n",
       "      <td></td>\n",
       "      <td>None</td>\n",
       "      <td>Customer Service Representative</td>\n",
       "      <td>Customer Service Representative As America’s t...</td>\n",
       "      <td></td>\n",
       "      <td></td>\n",
       "      <td>9</td>\n",
       "    </tr>\n",
       "    <tr>\n",
       "      <th>4982</th>\n",
       "      <td></td>\n",
       "      <td>None</td>\n",
       "      <td>Customer Service Representative</td>\n",
       "      <td>Customer Service Representative As America’s t...</td>\n",
       "      <td></td>\n",
       "      <td></td>\n",
       "      <td>9</td>\n",
       "    </tr>\n",
       "    <tr>\n",
       "      <th>4983</th>\n",
       "      <td></td>\n",
       "      <td>None</td>\n",
       "      <td>Senior Accountant</td>\n",
       "      <td>A National Mortgage Lender is seeking an exper...</td>\n",
       "      <td></td>\n",
       "      <td></td>\n",
       "      <td>9</td>\n",
       "    </tr>\n",
       "    <tr>\n",
       "      <th>4984</th>\n",
       "      <td></td>\n",
       "      <td>None</td>\n",
       "      <td>Project Manager</td>\n",
       "      <td>Nationally recognized Design/Build Contractor ...</td>\n",
       "      <td></td>\n",
       "      <td></td>\n",
       "      <td>9</td>\n",
       "    </tr>\n",
       "    <tr>\n",
       "      <th>4985</th>\n",
       "      <td></td>\n",
       "      <td>None</td>\n",
       "      <td>Project Manager</td>\n",
       "      <td>Moss Home Improvements, a complete exterior re...</td>\n",
       "      <td></td>\n",
       "      <td></td>\n",
       "      <td>9</td>\n",
       "    </tr>\n",
       "    <tr>\n",
       "      <th>4986</th>\n",
       "      <td></td>\n",
       "      <td>None</td>\n",
       "      <td>Customer Service Representative</td>\n",
       "      <td>Customer Service RepresentativeStop &amp; Stor, Ne...</td>\n",
       "      <td></td>\n",
       "      <td></td>\n",
       "      <td>9</td>\n",
       "    </tr>\n",
       "    <tr>\n",
       "      <th>4987</th>\n",
       "      <td></td>\n",
       "      <td>None</td>\n",
       "      <td>Physical Therapist</td>\n",
       "      <td>Profit Sharing Company Seeking Highly Motivate...</td>\n",
       "      <td></td>\n",
       "      <td></td>\n",
       "      <td>9</td>\n",
       "    </tr>\n",
       "    <tr>\n",
       "      <th>4988</th>\n",
       "      <td></td>\n",
       "      <td>gcpersonnel</td>\n",
       "      <td>Administrative Assistant</td>\n",
       "      <td>Highly successful Commercial Property Manageme...</td>\n",
       "      <td></td>\n",
       "      <td>gina@gcpersonnel.com</td>\n",
       "      <td>9</td>\n",
       "    </tr>\n",
       "    <tr>\n",
       "      <th>4989</th>\n",
       "      <td></td>\n",
       "      <td>None</td>\n",
       "      <td>Restaurant Manager</td>\n",
       "      <td>Position Title: Restaurant ManagerPosition Sum...</td>\n",
       "      <td></td>\n",
       "      <td></td>\n",
       "      <td>9</td>\n",
       "    </tr>\n",
       "    <tr>\n",
       "      <th>4990</th>\n",
       "      <td></td>\n",
       "      <td>None</td>\n",
       "      <td>Restaurant Manager</td>\n",
       "      <td>Contours Spa &amp; Wellness is a premier salon and...</td>\n",
       "      <td></td>\n",
       "      <td></td>\n",
       "      <td>9</td>\n",
       "    </tr>\n",
       "    <tr>\n",
       "      <th>4991</th>\n",
       "      <td></td>\n",
       "      <td>None</td>\n",
       "      <td>Staff Accountant</td>\n",
       "      <td>Monthy Journal EntriesBank ReconciliationsGene...</td>\n",
       "      <td></td>\n",
       "      <td></td>\n",
       "      <td>9</td>\n",
       "    </tr>\n",
       "    <tr>\n",
       "      <th>4992</th>\n",
       "      <td></td>\n",
       "      <td>None</td>\n",
       "      <td>Business Analyst</td>\n",
       "      <td>Work with some of the best minds in the busine...</td>\n",
       "      <td></td>\n",
       "      <td></td>\n",
       "      <td>9</td>\n",
       "    </tr>\n",
       "    <tr>\n",
       "      <th>4993</th>\n",
       "      <td></td>\n",
       "      <td>None</td>\n",
       "      <td>Financial Analyst</td>\n",
       "      <td>SUMMARYUnder the guidance of the CFO and Direc...</td>\n",
       "      <td></td>\n",
       "      <td></td>\n",
       "      <td>9</td>\n",
       "    </tr>\n",
       "    <tr>\n",
       "      <th>4994</th>\n",
       "      <td></td>\n",
       "      <td>None</td>\n",
       "      <td>Store Manager</td>\n",
       "      <td>AmeriCash Loans, LLC, a fast-growing financial...</td>\n",
       "      <td></td>\n",
       "      <td></td>\n",
       "      <td>9</td>\n",
       "    </tr>\n",
       "    <tr>\n",
       "      <th>4995</th>\n",
       "      <td></td>\n",
       "      <td>None</td>\n",
       "      <td>Staff Accountant</td>\n",
       "      <td>Staff Accountant for Logistics Company – Oak B...</td>\n",
       "      <td></td>\n",
       "      <td></td>\n",
       "      <td>9</td>\n",
       "    </tr>\n",
       "    <tr>\n",
       "      <th>4996</th>\n",
       "      <td></td>\n",
       "      <td>None</td>\n",
       "      <td>Administrative Assistant</td>\n",
       "      <td>Exclusive client has a temp to hire opportunit...</td>\n",
       "      <td></td>\n",
       "      <td></td>\n",
       "      <td>9</td>\n",
       "    </tr>\n",
       "    <tr>\n",
       "      <th>4997</th>\n",
       "      <td></td>\n",
       "      <td>None</td>\n",
       "      <td>Staff Accountant</td>\n",
       "      <td>Zonar provides electronic fleet management sol...</td>\n",
       "      <td></td>\n",
       "      <td></td>\n",
       "      <td>9</td>\n",
       "    </tr>\n",
       "    <tr>\n",
       "      <th>4998</th>\n",
       "      <td></td>\n",
       "      <td>sunlandasphalt</td>\n",
       "      <td>Project Manager</td>\n",
       "      <td>Project Manager needed for fast paced Asphalt ...</td>\n",
       "      <td></td>\n",
       "      <td>resumes@sunlandasphalt.com</td>\n",
       "      <td>9</td>\n",
       "    </tr>\n",
       "    <tr>\n",
       "      <th>4999</th>\n",
       "      <td></td>\n",
       "      <td>None</td>\n",
       "      <td>Executive Assistant</td>\n",
       "      <td>Successful Baltimore area real estate firm is ...</td>\n",
       "      <td></td>\n",
       "      <td></td>\n",
       "      <td>9</td>\n",
       "    </tr>\n",
       "  </tbody>\n",
       "</table>\n",
       "</div>"
      ],
      "text/plain": [
       "     Location         Company                        Job Title  \\\n",
       "4950                     None         Administrative Assistant   \n",
       "4951                     None                Account Executive   \n",
       "4952                     None                 Staff Accountant   \n",
       "4953                     None             Sales Representative   \n",
       "4954                     None  Customer Service Representative   \n",
       "4955                     None                 Staff Accountant   \n",
       "4956                     None         Administrative Assistant   \n",
       "4957                     None             Sales Representative   \n",
       "4958                     None             Sales Representative   \n",
       "4959                      aol               Physical Therapist   \n",
       "4960                     None               Physical Therapist   \n",
       "4961                     None                  Project Manager   \n",
       "4962                     None                  Project Manager   \n",
       "4963                                            Java Developer   \n",
       "4964                     None             Sales Representative   \n",
       "4965                     None  Customer Service Representative   \n",
       "4966                     None  Customer Service Representative   \n",
       "4967                     None  Customer Service Representative   \n",
       "4968                     None  Customer Service Representative   \n",
       "4969                     None  Customer Service Representative   \n",
       "4970                     None                Senior Accountant   \n",
       "4971                     None             Sales Representative   \n",
       "4972                     None           Maintenance Technician   \n",
       "4973                     None  Customer Service Representative   \n",
       "4974                     None           Maintenance Technician   \n",
       "4975                     None      Inside Sales Representative   \n",
       "4976                     None                   Java Developer   \n",
       "4977                     None                Senior Accountant   \n",
       "4978                     None           Maintenance Technician   \n",
       "4979                     None      Inside Sales Representative   \n",
       "4980                     None  Customer Service Representative   \n",
       "4981                     None  Customer Service Representative   \n",
       "4982                     None  Customer Service Representative   \n",
       "4983                     None                Senior Accountant   \n",
       "4984                     None                  Project Manager   \n",
       "4985                     None                  Project Manager   \n",
       "4986                     None  Customer Service Representative   \n",
       "4987                     None               Physical Therapist   \n",
       "4988              gcpersonnel         Administrative Assistant   \n",
       "4989                     None               Restaurant Manager   \n",
       "4990                     None               Restaurant Manager   \n",
       "4991                     None                 Staff Accountant   \n",
       "4992                     None                 Business Analyst   \n",
       "4993                     None                Financial Analyst   \n",
       "4994                     None                    Store Manager   \n",
       "4995                     None                 Staff Accountant   \n",
       "4996                     None         Administrative Assistant   \n",
       "4997                     None                 Staff Accountant   \n",
       "4998           sunlandasphalt                  Project Manager   \n",
       "4999                     None              Executive Assistant   \n",
       "\n",
       "                                        Job Description Salary  \\\n",
       "4950  Basic Accounting (Income statements & Balance ...          \n",
       "4951  Range Inc. is looking for a high energy profes...          \n",
       "4952  SUMMARY  This position is a key support role i...          \n",
       "4953  Sales RepresentativeSell IT (Information Techn...          \n",
       "4954  Folsom area company is seeking Customer Servic...          \n",
       "4955  Looking to be part of a talented team with a w...          \n",
       "4956  Key responsibilities of the Administrative Ass...          \n",
       "4957  Western Services Corporation (www.ws-corp.com)...          \n",
       "4958   Four Seasons, a company in the Indoor Tanning...          \n",
       "4959  A privately owned outpatient physical therapy ...          \n",
       "4960  We are excited to find a Full Time Physical Th...          \n",
       "4961  Candidate responsibilities require the followi...          \n",
       "4962  If you are looking for a company where you can...          \n",
       "4963  Linium Staffing's client is seeking a consulta...          \n",
       "4964  Sales Representative OpportunityLocation – Bur...          \n",
       "4965  Security Finance Exciting opportunities await ...          \n",
       "4966  Security Finance Exciting opportunities await ...          \n",
       "4967  Security Finance Exciting opportunities await ...          \n",
       "4968  Security Finance Exciting opportunities await ...          \n",
       "4969  Security Finance Exciting opportunities await ...          \n",
       "4970          Facilitate and complete monthly close ...          \n",
       "4971  Sales RepresentativeReit Lubricants Company, l...          \n",
       "4972  The Maintenance Technician performs work invol...          \n",
       "4973  Security Finance Exciting opportunities await ...          \n",
       "4974  DescriptionMaintenance Technician (Shift 7pm -...          \n",
       "4975  Inside Sales Representative John C. Ernst Comp...          \n",
       "4976  Our you an amazing Java Web Developer looking ...          \n",
       "4977  A recently released study identified a greater...          \n",
       "4978  We currently have a position available for a M...          \n",
       "4979  LegalMatch is looking for experienced, enthusi...          \n",
       "4980  Fast growing local Tampa company is searching ...          \n",
       "4981  Customer Service Representative As America’s t...          \n",
       "4982  Customer Service Representative As America’s t...          \n",
       "4983  A National Mortgage Lender is seeking an exper...          \n",
       "4984  Nationally recognized Design/Build Contractor ...          \n",
       "4985  Moss Home Improvements, a complete exterior re...          \n",
       "4986  Customer Service RepresentativeStop & Stor, Ne...          \n",
       "4987  Profit Sharing Company Seeking Highly Motivate...          \n",
       "4988  Highly successful Commercial Property Manageme...          \n",
       "4989  Position Title: Restaurant ManagerPosition Sum...          \n",
       "4990  Contours Spa & Wellness is a premier salon and...          \n",
       "4991  Monthy Journal EntriesBank ReconciliationsGene...          \n",
       "4992  Work with some of the best minds in the busine...          \n",
       "4993  SUMMARYUnder the guidance of the CFO and Direc...          \n",
       "4994  AmeriCash Loans, LLC, a fast-growing financial...          \n",
       "4995  Staff Accountant for Logistics Company – Oak B...          \n",
       "4996  Exclusive client has a temp to hire opportunit...          \n",
       "4997  Zonar provides electronic fleet management sol...          \n",
       "4998  Project Manager needed for fast paced Asphalt ...          \n",
       "4999  Successful Baltimore area real estate firm is ...          \n",
       "\n",
       "                          E-mail  Topic  \n",
       "4950                                  9  \n",
       "4951                                  9  \n",
       "4952                                  9  \n",
       "4953                                  9  \n",
       "4954                                  9  \n",
       "4955                                  9  \n",
       "4956                                  9  \n",
       "4957                                  9  \n",
       "4958                                  9  \n",
       "4959       innercirclept@aol.com      9  \n",
       "4960                                  9  \n",
       "4961                                  9  \n",
       "4962                                  9  \n",
       "4963   Gary.Bernhardt@linium.com      9  \n",
       "4964                                  9  \n",
       "4965                                  9  \n",
       "4966                                  9  \n",
       "4967                                  9  \n",
       "4968                                  9  \n",
       "4969                                  9  \n",
       "4970                                  9  \n",
       "4971                                  9  \n",
       "4972                                  9  \n",
       "4973                                  9  \n",
       "4974                                  9  \n",
       "4975                                  9  \n",
       "4976                                  9  \n",
       "4977                                  9  \n",
       "4978                                  9  \n",
       "4979                                  9  \n",
       "4980                                  9  \n",
       "4981                                  9  \n",
       "4982                                  9  \n",
       "4983                                  9  \n",
       "4984                                  9  \n",
       "4985                                  9  \n",
       "4986                                  9  \n",
       "4987                                  9  \n",
       "4988        gina@gcpersonnel.com      9  \n",
       "4989                                  9  \n",
       "4990                                  9  \n",
       "4991                                  9  \n",
       "4992                                  9  \n",
       "4993                                  9  \n",
       "4994                                  9  \n",
       "4995                                  9  \n",
       "4996                                  9  \n",
       "4997                                  9  \n",
       "4998  resumes@sunlandasphalt.com      9  \n",
       "4999                                  9  "
      ]
     },
     "execution_count": 159,
     "metadata": {},
     "output_type": "execute_result"
    }
   ],
   "source": [
    "modelled_k_jobs.tail(50)"
   ]
  },
  {
   "cell_type": "code",
   "execution_count": 111,
   "metadata": {},
   "outputs": [
    {
     "name": "stderr",
     "output_type": "stream",
     "text": [
      "/home/etzimopoulos/anaconda3/envs/nlp_course/lib/python3.7/site-packages/ipykernel/ipkernel.py:287: DeprecationWarning: `should_run_async` will not call `transform_cell` automatically in the future. Please pass the result to `transformed_cell` argument and any exception that happen during thetransform in `preprocessing_exc_tuple` in IPython 7.17 and above.\n",
      "  and should_run_async(code)\n"
     ]
    },
    {
     "ename": "IndexError",
     "evalue": "list index out of range",
     "output_type": "error",
     "traceback": [
      "\u001b[0;31m---------------------------------------------------------------------------\u001b[0m",
      "\u001b[0;31mIndexError\u001b[0m                                Traceback (most recent call last)",
      "\u001b[0;32m<ipython-input-111-6c2e0aafec74>\u001b[0m in \u001b[0;36m<module>\u001b[0;34m\u001b[0m\n\u001b[0;32m----> 1\u001b[0;31m \u001b[0mtest_topics\u001b[0m \u001b[0;34m=\u001b[0m \u001b[0msf\u001b[0m\u001b[0;34m.\u001b[0m\u001b[0mreturn_top_words\u001b[0m\u001b[0;34m(\u001b[0m\u001b[0mlda\u001b[0m\u001b[0;34m,\u001b[0m \u001b[0mtfidf_feature_names\u001b[0m\u001b[0;34m,\u001b[0m \u001b[0mn_top_words\u001b[0m\u001b[0;34m)\u001b[0m\u001b[0;34m\u001b[0m\u001b[0;34m\u001b[0m\u001b[0m\n\u001b[0m\u001b[1;32m      2\u001b[0m \u001b[0mtest_topics\u001b[0m\u001b[0;34m\u001b[0m\u001b[0;34m\u001b[0m\u001b[0m\n",
      "\u001b[0;32m/mnt/c/Users/etzim/Google Drive/Career/Data Science/GitHub/nlp-job-skills-topic-modelling/support_functions.py\u001b[0m in \u001b[0;36mreturn_top_words\u001b[0;34m(model, feature_names, n_top_words)\u001b[0m\n\u001b[1;32m     84\u001b[0m     \u001b[0mt_topics\u001b[0m \u001b[0;34m=\u001b[0m \u001b[0;34m[\u001b[0m\u001b[0;34m]\u001b[0m\u001b[0;34m\u001b[0m\u001b[0;34m\u001b[0m\u001b[0m\n\u001b[1;32m     85\u001b[0m     \u001b[0;32mfor\u001b[0m \u001b[0mtopic_idx\u001b[0m\u001b[0;34m,\u001b[0m \u001b[0mtopic\u001b[0m \u001b[0;32min\u001b[0m \u001b[0menumerate\u001b[0m\u001b[0;34m(\u001b[0m\u001b[0mmodel\u001b[0m\u001b[0;34m.\u001b[0m\u001b[0mcomponents_\u001b[0m\u001b[0;34m)\u001b[0m\u001b[0;34m:\u001b[0m\u001b[0;34m\u001b[0m\u001b[0;34m\u001b[0m\u001b[0m\n\u001b[0;32m---> 86\u001b[0;31m         \u001b[0mt_topics\u001b[0m\u001b[0;34m[\u001b[0m\u001b[0mtopic_idx\u001b[0m\u001b[0;34m]\u001b[0m\u001b[0;34m.\u001b[0m\u001b[0mappend\u001b[0m\u001b[0;34m(\u001b[0m\u001b[0;34m[\u001b[0m\u001b[0mfeature_names\u001b[0m\u001b[0;34m[\u001b[0m\u001b[0mi\u001b[0m\u001b[0;34m]\u001b[0m \u001b[0;32mfor\u001b[0m \u001b[0mi\u001b[0m \u001b[0;32min\u001b[0m \u001b[0mtopic\u001b[0m\u001b[0;34m.\u001b[0m\u001b[0margsort\u001b[0m\u001b[0;34m(\u001b[0m\u001b[0;34m)\u001b[0m\u001b[0;34m[\u001b[0m\u001b[0;34m:\u001b[0m\u001b[0;34m-\u001b[0m\u001b[0mn_top_words\u001b[0m \u001b[0;34m-\u001b[0m \u001b[0;36m1\u001b[0m\u001b[0;34m:\u001b[0m\u001b[0;34m-\u001b[0m\u001b[0;36m1\u001b[0m\u001b[0;34m]\u001b[0m\u001b[0;34m]\u001b[0m\u001b[0;34m)\u001b[0m\u001b[0;34m\u001b[0m\u001b[0;34m\u001b[0m\u001b[0m\n\u001b[0m\u001b[1;32m     87\u001b[0m     \u001b[0mtop_topics\u001b[0m \u001b[0;34m=\u001b[0m \u001b[0mpd\u001b[0m\u001b[0;34m.\u001b[0m\u001b[0mDataFrame\u001b[0m\u001b[0;34m(\u001b[0m\u001b[0mt_topics\u001b[0m\u001b[0;34m)\u001b[0m\u001b[0;34m\u001b[0m\u001b[0;34m\u001b[0m\u001b[0m\n\u001b[1;32m     88\u001b[0m     \u001b[0;32mreturn\u001b[0m \u001b[0mtop_topics\u001b[0m\u001b[0;34m\u001b[0m\u001b[0;34m\u001b[0m\u001b[0m\n",
      "\u001b[0;31mIndexError\u001b[0m: list index out of range"
     ]
    }
   ],
   "source": [
    "test_topics = sf.return_top_words(lda, tfidf_feature_names, n_top_words)\n",
    "test_topics"
   ]
  },
  {
   "cell_type": "code",
   "execution_count": 112,
   "metadata": {},
   "outputs": [
    {
     "name": "stderr",
     "output_type": "stream",
     "text": [
      "/home/etzimopoulos/anaconda3/envs/nlp_course/lib/python3.7/site-packages/ipykernel/ipkernel.py:287: DeprecationWarning: `should_run_async` will not call `transform_cell` automatically in the future. Please pass the result to `transformed_cell` argument and any exception that happen during thetransform in `preprocessing_exc_tuple` in IPython 7.17 and above.\n",
      "  and should_run_async(code)\n"
     ]
    }
   ],
   "source": [
    "t_topics = []\n",
    "for index,topic in enumerate(LDA2.components_):\n",
    "    t_topics.append([tfidf_vectorizer.get_feature_names()[i] for i in topic.argsort()[-n_top_words:]])"
   ]
  },
  {
   "cell_type": "code",
   "execution_count": 113,
   "metadata": {},
   "outputs": [
    {
     "name": "stdout",
     "output_type": "stream",
     "text": [
      "['position', 'skills', 'work', 'looking', 'career', 'time', 'project', 'management', 'business', 'manager', 'experience', 'team', 'customer', 'aflac', 'sales']\n"
     ]
    },
    {
     "name": "stderr",
     "output_type": "stream",
     "text": [
      "/home/etzimopoulos/anaconda3/envs/nlp_course/lib/python3.7/site-packages/ipykernel/ipkernel.py:287: DeprecationWarning: `should_run_async` will not call `transform_cell` automatically in the future. Please pass the result to `transformed_cell` argument and any exception that happen during thetransform in `preprocessing_exc_tuple` in IPython 7.17 and above.\n",
      "  and should_run_async(code)\n"
     ]
    }
   ],
   "source": [
    "print(t_topics[0])"
   ]
  },
  {
   "cell_type": "code",
   "execution_count": 114,
   "metadata": {},
   "outputs": [
    {
     "name": "stderr",
     "output_type": "stream",
     "text": [
      "/home/etzimopoulos/anaconda3/envs/nlp_course/lib/python3.7/site-packages/ipykernel/ipkernel.py:287: DeprecationWarning: `should_run_async` will not call `transform_cell` automatically in the future. Please pass the result to `transformed_cell` argument and any exception that happen during thetransform in `preprocessing_exc_tuple` in IPython 7.17 and above.\n",
      "  and should_run_async(code)\n"
     ]
    },
    {
     "data": {
      "text/plain": [
       "[['position',\n",
       "  'skills',\n",
       "  'work',\n",
       "  'looking',\n",
       "  'career',\n",
       "  'time',\n",
       "  'project',\n",
       "  'management',\n",
       "  'business',\n",
       "  'manager',\n",
       "  'experience',\n",
       "  'team',\n",
       "  'customer',\n",
       "  'aflac',\n",
       "  'sales'],\n",
       " ['strong',\n",
       "  'continually',\n",
       "  'retailer',\n",
       "  'skills',\n",
       "  'verizon',\n",
       "  'excellent',\n",
       "  'management',\n",
       "  'experience',\n",
       "  'time',\n",
       "  'store',\n",
       "  'products',\n",
       "  'retail',\n",
       "  'sales',\n",
       "  'wireless',\n",
       "  'gowireless'],\n",
       " ['central',\n",
       "  'technicians',\n",
       "  'distributor',\n",
       "  'business',\n",
       "  'mechanics',\n",
       "  'reliably',\n",
       "  'inventory',\n",
       "  'mobile',\n",
       "  'customers',\n",
       "  'tools',\n",
       "  'payment',\n",
       "  'outside',\n",
       "  'equipment',\n",
       "  'sales',\n",
       "  'matco'],\n",
       " ['controlling',\n",
       "  'relocation',\n",
       "  'stepping',\n",
       "  'plenty',\n",
       "  'men',\n",
       "  'women',\n",
       "  'home',\n",
       "  'tools',\n",
       "  'growth',\n",
       "  'calls',\n",
       "  'list',\n",
       "  'protected',\n",
       "  'business',\n",
       "  'snap',\n",
       "  'franchise'],\n",
       " ['characteristic',\n",
       "  'veteran',\n",
       "  'disability',\n",
       "  'age',\n",
       "  'marital',\n",
       "  'regard',\n",
       "  'religion',\n",
       "  'sex',\n",
       "  'race',\n",
       "  'origin',\n",
       "  'color',\n",
       "  'maintenance',\n",
       "  'hands',\n",
       "  'status',\n",
       "  'aerotek'],\n",
       " ['encourage',\n",
       "  'wealth',\n",
       "  'environmentstrong',\n",
       "  'appraising',\n",
       "  'insurancemust',\n",
       "  'mvrvalid',\n",
       "  'titlebucks',\n",
       "  'equityauto',\n",
       "  'liens',\n",
       "  'competitively',\n",
       "  'titlemax',\n",
       "  'sundays',\n",
       "  'vehicles',\n",
       "  'tmx',\n",
       "  'vehicle'],\n",
       " ['taxes',\n",
       "  'training',\n",
       "  'marketing',\n",
       "  'industry',\n",
       "  'market',\n",
       "  'year',\n",
       "  'community',\n",
       "  'franchisees',\n",
       "  'seasonal',\n",
       "  'support',\n",
       "  'learn',\n",
       "  'ongoing',\n",
       "  'preparation',\n",
       "  'liberty',\n",
       "  'tax']]"
      ]
     },
     "execution_count": 114,
     "metadata": {},
     "output_type": "execute_result"
    }
   ],
   "source": [
    "t_topics"
   ]
  },
  {
   "cell_type": "code",
   "execution_count": 115,
   "metadata": {},
   "outputs": [
    {
     "name": "stderr",
     "output_type": "stream",
     "text": [
      "/home/etzimopoulos/anaconda3/envs/nlp_course/lib/python3.7/site-packages/ipykernel/ipkernel.py:287: DeprecationWarning: `should_run_async` will not call `transform_cell` automatically in the future. Please pass the result to `transformed_cell` argument and any exception that happen during thetransform in `preprocessing_exc_tuple` in IPython 7.17 and above.\n",
      "  and should_run_async(code)\n"
     ]
    }
   ],
   "source": [
    "top_topics = pd.DataFrame(t_topics)"
   ]
  },
  {
   "cell_type": "code",
   "execution_count": 116,
   "metadata": {},
   "outputs": [
    {
     "name": "stderr",
     "output_type": "stream",
     "text": [
      "/home/etzimopoulos/anaconda3/envs/nlp_course/lib/python3.7/site-packages/ipykernel/ipkernel.py:287: DeprecationWarning: `should_run_async` will not call `transform_cell` automatically in the future. Please pass the result to `transformed_cell` argument and any exception that happen during thetransform in `preprocessing_exc_tuple` in IPython 7.17 and above.\n",
      "  and should_run_async(code)\n"
     ]
    },
    {
     "data": {
      "text/html": [
       "<div>\n",
       "<style scoped>\n",
       "    .dataframe tbody tr th:only-of-type {\n",
       "        vertical-align: middle;\n",
       "    }\n",
       "\n",
       "    .dataframe tbody tr th {\n",
       "        vertical-align: top;\n",
       "    }\n",
       "\n",
       "    .dataframe thead th {\n",
       "        text-align: right;\n",
       "    }\n",
       "</style>\n",
       "<table border=\"1\" class=\"dataframe\">\n",
       "  <thead>\n",
       "    <tr style=\"text-align: right;\">\n",
       "      <th></th>\n",
       "      <th>0</th>\n",
       "      <th>1</th>\n",
       "      <th>2</th>\n",
       "      <th>3</th>\n",
       "      <th>4</th>\n",
       "      <th>5</th>\n",
       "      <th>6</th>\n",
       "      <th>7</th>\n",
       "      <th>8</th>\n",
       "      <th>9</th>\n",
       "      <th>10</th>\n",
       "      <th>11</th>\n",
       "      <th>12</th>\n",
       "      <th>13</th>\n",
       "      <th>14</th>\n",
       "    </tr>\n",
       "  </thead>\n",
       "  <tbody>\n",
       "    <tr>\n",
       "      <th>0</th>\n",
       "      <td>position</td>\n",
       "      <td>skills</td>\n",
       "      <td>work</td>\n",
       "      <td>looking</td>\n",
       "      <td>career</td>\n",
       "      <td>time</td>\n",
       "      <td>project</td>\n",
       "      <td>management</td>\n",
       "      <td>business</td>\n",
       "      <td>manager</td>\n",
       "      <td>experience</td>\n",
       "      <td>team</td>\n",
       "      <td>customer</td>\n",
       "      <td>aflac</td>\n",
       "      <td>sales</td>\n",
       "    </tr>\n",
       "    <tr>\n",
       "      <th>1</th>\n",
       "      <td>strong</td>\n",
       "      <td>continually</td>\n",
       "      <td>retailer</td>\n",
       "      <td>skills</td>\n",
       "      <td>verizon</td>\n",
       "      <td>excellent</td>\n",
       "      <td>management</td>\n",
       "      <td>experience</td>\n",
       "      <td>time</td>\n",
       "      <td>store</td>\n",
       "      <td>products</td>\n",
       "      <td>retail</td>\n",
       "      <td>sales</td>\n",
       "      <td>wireless</td>\n",
       "      <td>gowireless</td>\n",
       "    </tr>\n",
       "    <tr>\n",
       "      <th>2</th>\n",
       "      <td>central</td>\n",
       "      <td>technicians</td>\n",
       "      <td>distributor</td>\n",
       "      <td>business</td>\n",
       "      <td>mechanics</td>\n",
       "      <td>reliably</td>\n",
       "      <td>inventory</td>\n",
       "      <td>mobile</td>\n",
       "      <td>customers</td>\n",
       "      <td>tools</td>\n",
       "      <td>payment</td>\n",
       "      <td>outside</td>\n",
       "      <td>equipment</td>\n",
       "      <td>sales</td>\n",
       "      <td>matco</td>\n",
       "    </tr>\n",
       "    <tr>\n",
       "      <th>3</th>\n",
       "      <td>controlling</td>\n",
       "      <td>relocation</td>\n",
       "      <td>stepping</td>\n",
       "      <td>plenty</td>\n",
       "      <td>men</td>\n",
       "      <td>women</td>\n",
       "      <td>home</td>\n",
       "      <td>tools</td>\n",
       "      <td>growth</td>\n",
       "      <td>calls</td>\n",
       "      <td>list</td>\n",
       "      <td>protected</td>\n",
       "      <td>business</td>\n",
       "      <td>snap</td>\n",
       "      <td>franchise</td>\n",
       "    </tr>\n",
       "    <tr>\n",
       "      <th>4</th>\n",
       "      <td>characteristic</td>\n",
       "      <td>veteran</td>\n",
       "      <td>disability</td>\n",
       "      <td>age</td>\n",
       "      <td>marital</td>\n",
       "      <td>regard</td>\n",
       "      <td>religion</td>\n",
       "      <td>sex</td>\n",
       "      <td>race</td>\n",
       "      <td>origin</td>\n",
       "      <td>color</td>\n",
       "      <td>maintenance</td>\n",
       "      <td>hands</td>\n",
       "      <td>status</td>\n",
       "      <td>aerotek</td>\n",
       "    </tr>\n",
       "    <tr>\n",
       "      <th>5</th>\n",
       "      <td>encourage</td>\n",
       "      <td>wealth</td>\n",
       "      <td>environmentstrong</td>\n",
       "      <td>appraising</td>\n",
       "      <td>insurancemust</td>\n",
       "      <td>mvrvalid</td>\n",
       "      <td>titlebucks</td>\n",
       "      <td>equityauto</td>\n",
       "      <td>liens</td>\n",
       "      <td>competitively</td>\n",
       "      <td>titlemax</td>\n",
       "      <td>sundays</td>\n",
       "      <td>vehicles</td>\n",
       "      <td>tmx</td>\n",
       "      <td>vehicle</td>\n",
       "    </tr>\n",
       "    <tr>\n",
       "      <th>6</th>\n",
       "      <td>taxes</td>\n",
       "      <td>training</td>\n",
       "      <td>marketing</td>\n",
       "      <td>industry</td>\n",
       "      <td>market</td>\n",
       "      <td>year</td>\n",
       "      <td>community</td>\n",
       "      <td>franchisees</td>\n",
       "      <td>seasonal</td>\n",
       "      <td>support</td>\n",
       "      <td>learn</td>\n",
       "      <td>ongoing</td>\n",
       "      <td>preparation</td>\n",
       "      <td>liberty</td>\n",
       "      <td>tax</td>\n",
       "    </tr>\n",
       "  </tbody>\n",
       "</table>\n",
       "</div>"
      ],
      "text/plain": [
       "               0            1                  2           3              4   \\\n",
       "0        position       skills               work     looking         career   \n",
       "1          strong  continually           retailer      skills        verizon   \n",
       "2         central  technicians        distributor    business      mechanics   \n",
       "3     controlling   relocation           stepping      plenty            men   \n",
       "4  characteristic      veteran         disability         age        marital   \n",
       "5       encourage       wealth  environmentstrong  appraising  insurancemust   \n",
       "6           taxes     training          marketing    industry         market   \n",
       "\n",
       "          5           6            7          8              9           10  \\\n",
       "0       time     project   management   business        manager  experience   \n",
       "1  excellent  management   experience       time          store    products   \n",
       "2   reliably   inventory       mobile  customers          tools     payment   \n",
       "3      women        home        tools     growth          calls        list   \n",
       "4     regard    religion          sex       race         origin       color   \n",
       "5   mvrvalid  titlebucks   equityauto      liens  competitively    titlemax   \n",
       "6       year   community  franchisees   seasonal        support       learn   \n",
       "\n",
       "            11           12        13          14  \n",
       "0         team     customer     aflac       sales  \n",
       "1       retail        sales  wireless  gowireless  \n",
       "2      outside    equipment     sales       matco  \n",
       "3    protected     business      snap   franchise  \n",
       "4  maintenance        hands    status     aerotek  \n",
       "5      sundays     vehicles       tmx     vehicle  \n",
       "6      ongoing  preparation   liberty         tax  "
      ]
     },
     "execution_count": 116,
     "metadata": {},
     "output_type": "execute_result"
    }
   ],
   "source": [
    "top_topics"
   ]
  },
  {
   "cell_type": "code",
   "execution_count": 117,
   "metadata": {},
   "outputs": [
    {
     "name": "stderr",
     "output_type": "stream",
     "text": [
      "/home/etzimopoulos/anaconda3/envs/nlp_course/lib/python3.7/site-packages/ipykernel/ipkernel.py:287: DeprecationWarning: `should_run_async` will not call `transform_cell` automatically in the future. Please pass the result to `transformed_cell` argument and any exception that happen during thetransform in `preprocessing_exc_tuple` in IPython 7.17 and above.\n",
      "  and should_run_async(code)\n"
     ]
    },
    {
     "data": {
      "text/html": [
       "<div>\n",
       "<style scoped>\n",
       "    .dataframe tbody tr th:only-of-type {\n",
       "        vertical-align: middle;\n",
       "    }\n",
       "\n",
       "    .dataframe tbody tr th {\n",
       "        vertical-align: top;\n",
       "    }\n",
       "\n",
       "    .dataframe thead th {\n",
       "        text-align: right;\n",
       "    }\n",
       "</style>\n",
       "<table border=\"1\" class=\"dataframe\">\n",
       "  <thead>\n",
       "    <tr style=\"text-align: right;\">\n",
       "      <th></th>\n",
       "      <th>Word 0</th>\n",
       "      <th>Word 1</th>\n",
       "      <th>Word 2</th>\n",
       "      <th>Word 3</th>\n",
       "      <th>Word 4</th>\n",
       "      <th>Word 5</th>\n",
       "      <th>Word 6</th>\n",
       "      <th>Word 7</th>\n",
       "      <th>Word 8</th>\n",
       "      <th>Word 9</th>\n",
       "      <th>Word 10</th>\n",
       "      <th>Word 11</th>\n",
       "      <th>Word 12</th>\n",
       "      <th>Word 13</th>\n",
       "      <th>Word 14</th>\n",
       "    </tr>\n",
       "  </thead>\n",
       "  <tbody>\n",
       "    <tr>\n",
       "      <th>Topic 0</th>\n",
       "      <td>position</td>\n",
       "      <td>skills</td>\n",
       "      <td>work</td>\n",
       "      <td>looking</td>\n",
       "      <td>career</td>\n",
       "      <td>time</td>\n",
       "      <td>project</td>\n",
       "      <td>management</td>\n",
       "      <td>business</td>\n",
       "      <td>manager</td>\n",
       "      <td>experience</td>\n",
       "      <td>team</td>\n",
       "      <td>customer</td>\n",
       "      <td>aflac</td>\n",
       "      <td>sales</td>\n",
       "    </tr>\n",
       "    <tr>\n",
       "      <th>Topic 1</th>\n",
       "      <td>strong</td>\n",
       "      <td>continually</td>\n",
       "      <td>retailer</td>\n",
       "      <td>skills</td>\n",
       "      <td>verizon</td>\n",
       "      <td>excellent</td>\n",
       "      <td>management</td>\n",
       "      <td>experience</td>\n",
       "      <td>time</td>\n",
       "      <td>store</td>\n",
       "      <td>products</td>\n",
       "      <td>retail</td>\n",
       "      <td>sales</td>\n",
       "      <td>wireless</td>\n",
       "      <td>gowireless</td>\n",
       "    </tr>\n",
       "    <tr>\n",
       "      <th>Topic 2</th>\n",
       "      <td>central</td>\n",
       "      <td>technicians</td>\n",
       "      <td>distributor</td>\n",
       "      <td>business</td>\n",
       "      <td>mechanics</td>\n",
       "      <td>reliably</td>\n",
       "      <td>inventory</td>\n",
       "      <td>mobile</td>\n",
       "      <td>customers</td>\n",
       "      <td>tools</td>\n",
       "      <td>payment</td>\n",
       "      <td>outside</td>\n",
       "      <td>equipment</td>\n",
       "      <td>sales</td>\n",
       "      <td>matco</td>\n",
       "    </tr>\n",
       "    <tr>\n",
       "      <th>Topic 3</th>\n",
       "      <td>controlling</td>\n",
       "      <td>relocation</td>\n",
       "      <td>stepping</td>\n",
       "      <td>plenty</td>\n",
       "      <td>men</td>\n",
       "      <td>women</td>\n",
       "      <td>home</td>\n",
       "      <td>tools</td>\n",
       "      <td>growth</td>\n",
       "      <td>calls</td>\n",
       "      <td>list</td>\n",
       "      <td>protected</td>\n",
       "      <td>business</td>\n",
       "      <td>snap</td>\n",
       "      <td>franchise</td>\n",
       "    </tr>\n",
       "    <tr>\n",
       "      <th>Topic 4</th>\n",
       "      <td>characteristic</td>\n",
       "      <td>veteran</td>\n",
       "      <td>disability</td>\n",
       "      <td>age</td>\n",
       "      <td>marital</td>\n",
       "      <td>regard</td>\n",
       "      <td>religion</td>\n",
       "      <td>sex</td>\n",
       "      <td>race</td>\n",
       "      <td>origin</td>\n",
       "      <td>color</td>\n",
       "      <td>maintenance</td>\n",
       "      <td>hands</td>\n",
       "      <td>status</td>\n",
       "      <td>aerotek</td>\n",
       "    </tr>\n",
       "    <tr>\n",
       "      <th>Topic 5</th>\n",
       "      <td>encourage</td>\n",
       "      <td>wealth</td>\n",
       "      <td>environmentstrong</td>\n",
       "      <td>appraising</td>\n",
       "      <td>insurancemust</td>\n",
       "      <td>mvrvalid</td>\n",
       "      <td>titlebucks</td>\n",
       "      <td>equityauto</td>\n",
       "      <td>liens</td>\n",
       "      <td>competitively</td>\n",
       "      <td>titlemax</td>\n",
       "      <td>sundays</td>\n",
       "      <td>vehicles</td>\n",
       "      <td>tmx</td>\n",
       "      <td>vehicle</td>\n",
       "    </tr>\n",
       "    <tr>\n",
       "      <th>Topic 6</th>\n",
       "      <td>taxes</td>\n",
       "      <td>training</td>\n",
       "      <td>marketing</td>\n",
       "      <td>industry</td>\n",
       "      <td>market</td>\n",
       "      <td>year</td>\n",
       "      <td>community</td>\n",
       "      <td>franchisees</td>\n",
       "      <td>seasonal</td>\n",
       "      <td>support</td>\n",
       "      <td>learn</td>\n",
       "      <td>ongoing</td>\n",
       "      <td>preparation</td>\n",
       "      <td>liberty</td>\n",
       "      <td>tax</td>\n",
       "    </tr>\n",
       "  </tbody>\n",
       "</table>\n",
       "</div>"
      ],
      "text/plain": [
       "                 Word 0       Word 1             Word 2      Word 3  \\\n",
       "Topic 0        position       skills               work     looking   \n",
       "Topic 1          strong  continually           retailer      skills   \n",
       "Topic 2         central  technicians        distributor    business   \n",
       "Topic 3     controlling   relocation           stepping      plenty   \n",
       "Topic 4  characteristic      veteran         disability         age   \n",
       "Topic 5       encourage       wealth  environmentstrong  appraising   \n",
       "Topic 6           taxes     training          marketing    industry   \n",
       "\n",
       "                Word 4     Word 5      Word 6       Word 7     Word 8  \\\n",
       "Topic 0         career       time     project   management   business   \n",
       "Topic 1        verizon  excellent  management   experience       time   \n",
       "Topic 2      mechanics   reliably   inventory       mobile  customers   \n",
       "Topic 3            men      women        home        tools     growth   \n",
       "Topic 4        marital     regard    religion          sex       race   \n",
       "Topic 5  insurancemust   mvrvalid  titlebucks   equityauto      liens   \n",
       "Topic 6         market       year   community  franchisees   seasonal   \n",
       "\n",
       "                Word 9     Word 10      Word 11      Word 12   Word 13  \\\n",
       "Topic 0        manager  experience         team     customer     aflac   \n",
       "Topic 1          store    products       retail        sales  wireless   \n",
       "Topic 2          tools     payment      outside    equipment     sales   \n",
       "Topic 3          calls        list    protected     business      snap   \n",
       "Topic 4         origin       color  maintenance        hands    status   \n",
       "Topic 5  competitively    titlemax      sundays     vehicles       tmx   \n",
       "Topic 6        support       learn      ongoing  preparation   liberty   \n",
       "\n",
       "            Word 14  \n",
       "Topic 0       sales  \n",
       "Topic 1  gowireless  \n",
       "Topic 2       matco  \n",
       "Topic 3   franchise  \n",
       "Topic 4     aerotek  \n",
       "Topic 5     vehicle  \n",
       "Topic 6         tax  "
      ]
     },
     "execution_count": 117,
     "metadata": {},
     "output_type": "execute_result"
    }
   ],
   "source": [
    "\n",
    "#df_topic_keywords = pd.DataFrame(topic_keywords)\n",
    "top_topics.columns = ['Word '+str(i) for i in range(top_topics.shape[1])]\n",
    "top_topics.index = ['Topic '+str(i) for i in range(top_topics.shape[0])]\n",
    "top_topics\n"
   ]
  },
  {
   "cell_type": "code",
   "execution_count": 106,
   "metadata": {},
   "outputs": [],
   "source": [
    "pp"
   ]
  },
  {
   "cell_type": "markdown",
   "metadata": {},
   "source": [
    "### Predict topic for Unseen Job Description"
   ]
  },
  {
   "cell_type": "code",
   "execution_count": null,
   "metadata": {},
   "outputs": [],
   "source": []
  },
  {
   "cell_type": "code",
   "execution_count": null,
   "metadata": {},
   "outputs": [],
   "source": []
  },
  {
   "cell_type": "code",
   "execution_count": null,
   "metadata": {},
   "outputs": [],
   "source": []
  }
 ],
 "metadata": {
  "kernelspec": {
   "display_name": "Python 3",
   "language": "python",
   "name": "python3"
  },
  "language_info": {
   "codemirror_mode": {
    "name": "ipython",
    "version": 3
   },
   "file_extension": ".py",
   "mimetype": "text/x-python",
   "name": "python",
   "nbconvert_exporter": "python",
   "pygments_lexer": "ipython3",
   "version": "3.7.9"
  }
 },
 "nbformat": 4,
 "nbformat_minor": 4
}
